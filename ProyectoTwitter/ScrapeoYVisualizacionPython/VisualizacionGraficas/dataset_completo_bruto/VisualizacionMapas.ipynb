{
 "cells": [
  {
   "cell_type": "markdown",
   "source": [
    "### MAPBOX DENSITY HEATMAPS VISUALIZATION"
   ],
   "metadata": {
    "collapsed": false
   }
  },
  {
   "cell_type": "code",
   "execution_count": 1,
   "metadata": {
    "collapsed": true,
    "ExecuteTime": {
     "end_time": "2023-05-06T19:02:31.017976300Z",
     "start_time": "2023-05-06T19:02:30.326982200Z"
    }
   },
   "outputs": [],
   "source": [
    "# Se importa las librerias\n",
    "import pandas as pd\n",
    "import plotly.express as px\n",
    "from geopy.geocoders import Nominatim"
   ]
  },
  {
   "cell_type": "code",
   "execution_count": 2,
   "outputs": [
    {
     "data": {
      "text/plain": "                       ID  Fecha_de_creacion_usuario   \n0     1632454841023823874  2012-01-04 17:11:08+00:00  \\\n1     1632454835143360521  2022-04-26 04:09:08+00:00   \n2     1632454826435960832  2015-08-20 23:12:55+00:00   \n3     1632454822300459008  2011-01-31 03:21:31+00:00   \n4     1632454820605972482  2011-05-21 14:06:22+00:00   \n...                   ...                        ...   \n2845  1632448952799834114  2018-05-03 21:12:52+00:00   \n2846  1632448950899712003  2021-01-18 04:57:57+00:00   \n2847  1632448932549738497  2011-06-17 22:26:19+00:00   \n2848  1632448925516042240  2008-11-30 17:35:36+00:00   \n2849  1632448922999193600  2014-05-10 21:20:51+00:00   \n\n       Fecha_creacion_del_tweet  nombre_usuario   \n0     2023-03-05 18:55:38+00:00    ben_burnside  \\\n1     2023-03-05 18:55:36+00:00        cjostein   \n2     2023-03-05 18:55:34+00:00        glyphfix   \n3     2023-03-05 18:55:33+00:00       clyntonK1   \n4     2023-03-05 18:55:33+00:00    LyndonRosser   \n...                         ...             ...   \n2845  2023-03-05 18:32:14+00:00       carp40404   \n2846  2023-03-05 18:32:13+00:00     AnjaJaeger2   \n2847  2023-03-05 18:32:09+00:00    bill_fortune   \n2848  2023-03-05 18:32:07+00:00    raouldukeesq   \n2849  2023-03-05 18:32:07+00:00  SolidarityRnwd   \n\n                                                  texto         localizacion   \n0     RT @CalibreObscura: Only in #Ukraine: A PM M19...                   UK  \\\n1     RT @TruthPuke: #NATO military equipment in the...                 Oslo   \n2     RT @thedailysummary: Russian shelling hits Ukr...                  NaN   \n3     RT @intermarium24: Soldier gets awarded with g...                  NaN   \n4     RT @UAWeapons: #Ukraine: In the East, an aband...    Caerdydd/Hirwaun    \n...                                                 ...                  ...   \n2845  RT @nexta_tv: The war has caused 76.5 billion ...                  NaN   \n2846  RT @PStyle0ne1: Ukraine will receive more than...     Zürich, Schweiz    \n2847  RT @ClearBlueSee: A woman leaves her abusive e...             Scotland   \n2848  RT @GlasnostGone: Russia's killed #Ukraine's \"...                  NaN   \n2849  RT @KramarenkoMari3: Russia began using the ne...  Nottingham, England   \n\n      numero_seguidores  numero_seguidos  numero_retweets  numero_favoritos   \n0                   684               90                9             34299  \\\n1                  1042              207               90             15933   \n2                  1379              430                1             45478   \n3                   520              277               70             80587   \n4                  2340             1717               32            399708   \n...                 ...              ...              ...               ...   \n2845               4832             3251               72             56816   \n2846               2211              984               25             80875   \n2847                160              228               17             20845   \n2848                176               23              161              2229   \n2849               3194             2965               57            170589   \n\n                      menciones          retweet  \n0            ['CalibreObscura']   CalibreObscura  \n1                 ['TruthPuke']        TruthPuke  \n2     ['thedailysummary', 'AP']  thedailysummary  \n3             ['intermarium24']    intermarium24  \n4                 ['UAWeapons']        UAWeapons  \n...                         ...              ...  \n2845               ['nexta_tv']         nexta_tv  \n2846             ['PStyle0ne1']       PStyle0ne1  \n2847           ['ClearBlueSee']     ClearBlueSee  \n2848           ['GlasnostGone']     GlasnostGone  \n2849        ['KramarenkoMari3']  KramarenkoMari3  \n\n[2850 rows x 12 columns]",
      "text/html": "<div>\n<style scoped>\n    .dataframe tbody tr th:only-of-type {\n        vertical-align: middle;\n    }\n\n    .dataframe tbody tr th {\n        vertical-align: top;\n    }\n\n    .dataframe thead th {\n        text-align: right;\n    }\n</style>\n<table border=\"1\" class=\"dataframe\">\n  <thead>\n    <tr style=\"text-align: right;\">\n      <th></th>\n      <th>ID</th>\n      <th>Fecha_de_creacion_usuario</th>\n      <th>Fecha_creacion_del_tweet</th>\n      <th>nombre_usuario</th>\n      <th>texto</th>\n      <th>localizacion</th>\n      <th>numero_seguidores</th>\n      <th>numero_seguidos</th>\n      <th>numero_retweets</th>\n      <th>numero_favoritos</th>\n      <th>menciones</th>\n      <th>retweet</th>\n    </tr>\n  </thead>\n  <tbody>\n    <tr>\n      <th>0</th>\n      <td>1632454841023823874</td>\n      <td>2012-01-04 17:11:08+00:00</td>\n      <td>2023-03-05 18:55:38+00:00</td>\n      <td>ben_burnside</td>\n      <td>RT @CalibreObscura: Only in #Ukraine: A PM M19...</td>\n      <td>UK</td>\n      <td>684</td>\n      <td>90</td>\n      <td>9</td>\n      <td>34299</td>\n      <td>['CalibreObscura']</td>\n      <td>CalibreObscura</td>\n    </tr>\n    <tr>\n      <th>1</th>\n      <td>1632454835143360521</td>\n      <td>2022-04-26 04:09:08+00:00</td>\n      <td>2023-03-05 18:55:36+00:00</td>\n      <td>cjostein</td>\n      <td>RT @TruthPuke: #NATO military equipment in the...</td>\n      <td>Oslo</td>\n      <td>1042</td>\n      <td>207</td>\n      <td>90</td>\n      <td>15933</td>\n      <td>['TruthPuke']</td>\n      <td>TruthPuke</td>\n    </tr>\n    <tr>\n      <th>2</th>\n      <td>1632454826435960832</td>\n      <td>2015-08-20 23:12:55+00:00</td>\n      <td>2023-03-05 18:55:34+00:00</td>\n      <td>glyphfix</td>\n      <td>RT @thedailysummary: Russian shelling hits Ukr...</td>\n      <td>NaN</td>\n      <td>1379</td>\n      <td>430</td>\n      <td>1</td>\n      <td>45478</td>\n      <td>['thedailysummary', 'AP']</td>\n      <td>thedailysummary</td>\n    </tr>\n    <tr>\n      <th>3</th>\n      <td>1632454822300459008</td>\n      <td>2011-01-31 03:21:31+00:00</td>\n      <td>2023-03-05 18:55:33+00:00</td>\n      <td>clyntonK1</td>\n      <td>RT @intermarium24: Soldier gets awarded with g...</td>\n      <td>NaN</td>\n      <td>520</td>\n      <td>277</td>\n      <td>70</td>\n      <td>80587</td>\n      <td>['intermarium24']</td>\n      <td>intermarium24</td>\n    </tr>\n    <tr>\n      <th>4</th>\n      <td>1632454820605972482</td>\n      <td>2011-05-21 14:06:22+00:00</td>\n      <td>2023-03-05 18:55:33+00:00</td>\n      <td>LyndonRosser</td>\n      <td>RT @UAWeapons: #Ukraine: In the East, an aband...</td>\n      <td>Caerdydd/Hirwaun</td>\n      <td>2340</td>\n      <td>1717</td>\n      <td>32</td>\n      <td>399708</td>\n      <td>['UAWeapons']</td>\n      <td>UAWeapons</td>\n    </tr>\n    <tr>\n      <th>...</th>\n      <td>...</td>\n      <td>...</td>\n      <td>...</td>\n      <td>...</td>\n      <td>...</td>\n      <td>...</td>\n      <td>...</td>\n      <td>...</td>\n      <td>...</td>\n      <td>...</td>\n      <td>...</td>\n      <td>...</td>\n    </tr>\n    <tr>\n      <th>2845</th>\n      <td>1632448952799834114</td>\n      <td>2018-05-03 21:12:52+00:00</td>\n      <td>2023-03-05 18:32:14+00:00</td>\n      <td>carp40404</td>\n      <td>RT @nexta_tv: The war has caused 76.5 billion ...</td>\n      <td>NaN</td>\n      <td>4832</td>\n      <td>3251</td>\n      <td>72</td>\n      <td>56816</td>\n      <td>['nexta_tv']</td>\n      <td>nexta_tv</td>\n    </tr>\n    <tr>\n      <th>2846</th>\n      <td>1632448950899712003</td>\n      <td>2021-01-18 04:57:57+00:00</td>\n      <td>2023-03-05 18:32:13+00:00</td>\n      <td>AnjaJaeger2</td>\n      <td>RT @PStyle0ne1: Ukraine will receive more than...</td>\n      <td>Zürich, Schweiz</td>\n      <td>2211</td>\n      <td>984</td>\n      <td>25</td>\n      <td>80875</td>\n      <td>['PStyle0ne1']</td>\n      <td>PStyle0ne1</td>\n    </tr>\n    <tr>\n      <th>2847</th>\n      <td>1632448932549738497</td>\n      <td>2011-06-17 22:26:19+00:00</td>\n      <td>2023-03-05 18:32:09+00:00</td>\n      <td>bill_fortune</td>\n      <td>RT @ClearBlueSee: A woman leaves her abusive e...</td>\n      <td>Scotland</td>\n      <td>160</td>\n      <td>228</td>\n      <td>17</td>\n      <td>20845</td>\n      <td>['ClearBlueSee']</td>\n      <td>ClearBlueSee</td>\n    </tr>\n    <tr>\n      <th>2848</th>\n      <td>1632448925516042240</td>\n      <td>2008-11-30 17:35:36+00:00</td>\n      <td>2023-03-05 18:32:07+00:00</td>\n      <td>raouldukeesq</td>\n      <td>RT @GlasnostGone: Russia's killed #Ukraine's \"...</td>\n      <td>NaN</td>\n      <td>176</td>\n      <td>23</td>\n      <td>161</td>\n      <td>2229</td>\n      <td>['GlasnostGone']</td>\n      <td>GlasnostGone</td>\n    </tr>\n    <tr>\n      <th>2849</th>\n      <td>1632448922999193600</td>\n      <td>2014-05-10 21:20:51+00:00</td>\n      <td>2023-03-05 18:32:07+00:00</td>\n      <td>SolidarityRnwd</td>\n      <td>RT @KramarenkoMari3: Russia began using the ne...</td>\n      <td>Nottingham, England</td>\n      <td>3194</td>\n      <td>2965</td>\n      <td>57</td>\n      <td>170589</td>\n      <td>['KramarenkoMari3']</td>\n      <td>KramarenkoMari3</td>\n    </tr>\n  </tbody>\n</table>\n<p>2850 rows × 12 columns</p>\n</div>"
     },
     "execution_count": 2,
     "metadata": {},
     "output_type": "execute_result"
    }
   ],
   "source": [
    "df_ucraine_trolls = pd.read_csv('dataset_completo_bruto/dataset_completo_bruto_v3.0.csv')\n",
    "df_ucraine_trolls"
   ],
   "metadata": {
    "collapsed": false,
    "ExecuteTime": {
     "end_time": "2023-05-06T19:07:34.760876200Z",
     "start_time": "2023-05-06T19:07:34.681851900Z"
    }
   }
  },
  {
   "cell_type": "code",
   "execution_count": 8,
   "outputs": [
    {
     "data": {
      "text/plain": "                    ID   nombre_usuario  Fecha_de_creacion_usuario   \n0  1632454841023823874     ben_burnside  2012-01-04 17:11:08+00:00  \\\n1  1632454835143360521         cjostein  2022-04-26 04:09:08+00:00   \n2  1632454826435960832         glyphfix  2015-08-20 23:12:55+00:00   \n3  1632454822300459008        clyntonK1  2011-01-31 03:21:31+00:00   \n4  1632454820605972482     LyndonRosser  2011-05-21 14:06:22+00:00   \n5  1632454814599720972   josegregorio11  2009-08-02 17:34:58+00:00   \n6  1632454810472439808      ugis_lapins  2022-02-27 10:51:07+00:00   \n7  1632454789479972865         glyphfix  2015-08-20 23:12:55+00:00   \n8  1632454788959944707  NorwegianAidUkr  2022-08-18 17:35:52+00:00   \n9  1632454786468421634       MegafuraxI  2022-02-27 00:58:27+00:00   \n\n                                               texto   \n0  RT @CalibreObscura: Only in #Ukraine: A PM M19...  \\\n1  RT @TruthPuke: #NATO military equipment in the...   \n2  RT @thedailysummary: Russian shelling hits Ukr...   \n3  RT @intermarium24: Soldier gets awarded with g...   \n4  RT @UAWeapons: #Ukraine: In the East, an aband...   \n5  RT @WarFrontline: 🚨#Breaking,Equipment of the ...   \n6  RT @nexta_tv: The war has caused 76.5 billion ...   \n7  RT @MrFukkew: Italian company ENEL will donate...   \n8  🚒🚑🇳🇴🇺🇦\\r\\nThe Easter motorcade to #Ukraine wil...   \n9  RT @Matt_VanDyke: Sergei is a hero.\\r\\n\\r\\nDur...   \n\n    Fecha_creacion_del_tweet  numero_favoritos  numero_seguidores   \n0  2023-03-05 18:55:38+00:00             34299                684  \\\n1  2023-03-05 18:55:36+00:00             15933               1042   \n2  2023-03-05 18:55:34+00:00             45478               1379   \n3  2023-03-05 18:55:33+00:00             80587                520   \n4  2023-03-05 18:55:33+00:00            399708               2340   \n5  2023-03-05 18:55:32+00:00             26040               1615   \n6  2023-03-05 18:55:31+00:00             70980                116   \n7  2023-03-05 18:55:26+00:00             45478               1379   \n8  2023-03-05 18:55:25+00:00               680               3600   \n9  2023-03-05 18:55:25+00:00             15418                 91   \n\n   numero_seguidos  numero_retweets       localizacion  \n0               90                9                 UK  \n1              207               90               Oslo  \n2              430                1                NaN  \n3              277               70                NaN  \n4             1717               32  Caerdydd/Hirwaun   \n5             1293               27            Caracas  \n6               38               71                NaN  \n7              430               20                NaN  \n8             3048                0                NaN  \n9               69             6692                NaN  ",
      "text/html": "<div>\n<style scoped>\n    .dataframe tbody tr th:only-of-type {\n        vertical-align: middle;\n    }\n\n    .dataframe tbody tr th {\n        vertical-align: top;\n    }\n\n    .dataframe thead th {\n        text-align: right;\n    }\n</style>\n<table border=\"1\" class=\"dataframe\">\n  <thead>\n    <tr style=\"text-align: right;\">\n      <th></th>\n      <th>ID</th>\n      <th>nombre_usuario</th>\n      <th>Fecha_de_creacion_usuario</th>\n      <th>texto</th>\n      <th>Fecha_creacion_del_tweet</th>\n      <th>numero_favoritos</th>\n      <th>numero_seguidores</th>\n      <th>numero_seguidos</th>\n      <th>numero_retweets</th>\n      <th>localizacion</th>\n    </tr>\n  </thead>\n  <tbody>\n    <tr>\n      <th>0</th>\n      <td>1632454841023823874</td>\n      <td>ben_burnside</td>\n      <td>2012-01-04 17:11:08+00:00</td>\n      <td>RT @CalibreObscura: Only in #Ukraine: A PM M19...</td>\n      <td>2023-03-05 18:55:38+00:00</td>\n      <td>34299</td>\n      <td>684</td>\n      <td>90</td>\n      <td>9</td>\n      <td>UK</td>\n    </tr>\n    <tr>\n      <th>1</th>\n      <td>1632454835143360521</td>\n      <td>cjostein</td>\n      <td>2022-04-26 04:09:08+00:00</td>\n      <td>RT @TruthPuke: #NATO military equipment in the...</td>\n      <td>2023-03-05 18:55:36+00:00</td>\n      <td>15933</td>\n      <td>1042</td>\n      <td>207</td>\n      <td>90</td>\n      <td>Oslo</td>\n    </tr>\n    <tr>\n      <th>2</th>\n      <td>1632454826435960832</td>\n      <td>glyphfix</td>\n      <td>2015-08-20 23:12:55+00:00</td>\n      <td>RT @thedailysummary: Russian shelling hits Ukr...</td>\n      <td>2023-03-05 18:55:34+00:00</td>\n      <td>45478</td>\n      <td>1379</td>\n      <td>430</td>\n      <td>1</td>\n      <td>NaN</td>\n    </tr>\n    <tr>\n      <th>3</th>\n      <td>1632454822300459008</td>\n      <td>clyntonK1</td>\n      <td>2011-01-31 03:21:31+00:00</td>\n      <td>RT @intermarium24: Soldier gets awarded with g...</td>\n      <td>2023-03-05 18:55:33+00:00</td>\n      <td>80587</td>\n      <td>520</td>\n      <td>277</td>\n      <td>70</td>\n      <td>NaN</td>\n    </tr>\n    <tr>\n      <th>4</th>\n      <td>1632454820605972482</td>\n      <td>LyndonRosser</td>\n      <td>2011-05-21 14:06:22+00:00</td>\n      <td>RT @UAWeapons: #Ukraine: In the East, an aband...</td>\n      <td>2023-03-05 18:55:33+00:00</td>\n      <td>399708</td>\n      <td>2340</td>\n      <td>1717</td>\n      <td>32</td>\n      <td>Caerdydd/Hirwaun</td>\n    </tr>\n    <tr>\n      <th>5</th>\n      <td>1632454814599720972</td>\n      <td>josegregorio11</td>\n      <td>2009-08-02 17:34:58+00:00</td>\n      <td>RT @WarFrontline: 🚨#Breaking,Equipment of the ...</td>\n      <td>2023-03-05 18:55:32+00:00</td>\n      <td>26040</td>\n      <td>1615</td>\n      <td>1293</td>\n      <td>27</td>\n      <td>Caracas</td>\n    </tr>\n    <tr>\n      <th>6</th>\n      <td>1632454810472439808</td>\n      <td>ugis_lapins</td>\n      <td>2022-02-27 10:51:07+00:00</td>\n      <td>RT @nexta_tv: The war has caused 76.5 billion ...</td>\n      <td>2023-03-05 18:55:31+00:00</td>\n      <td>70980</td>\n      <td>116</td>\n      <td>38</td>\n      <td>71</td>\n      <td>NaN</td>\n    </tr>\n    <tr>\n      <th>7</th>\n      <td>1632454789479972865</td>\n      <td>glyphfix</td>\n      <td>2015-08-20 23:12:55+00:00</td>\n      <td>RT @MrFukkew: Italian company ENEL will donate...</td>\n      <td>2023-03-05 18:55:26+00:00</td>\n      <td>45478</td>\n      <td>1379</td>\n      <td>430</td>\n      <td>20</td>\n      <td>NaN</td>\n    </tr>\n    <tr>\n      <th>8</th>\n      <td>1632454788959944707</td>\n      <td>NorwegianAidUkr</td>\n      <td>2022-08-18 17:35:52+00:00</td>\n      <td>🚒🚑🇳🇴🇺🇦\\r\\nThe Easter motorcade to #Ukraine wil...</td>\n      <td>2023-03-05 18:55:25+00:00</td>\n      <td>680</td>\n      <td>3600</td>\n      <td>3048</td>\n      <td>0</td>\n      <td>NaN</td>\n    </tr>\n    <tr>\n      <th>9</th>\n      <td>1632454786468421634</td>\n      <td>MegafuraxI</td>\n      <td>2022-02-27 00:58:27+00:00</td>\n      <td>RT @Matt_VanDyke: Sergei is a hero.\\r\\n\\r\\nDur...</td>\n      <td>2023-03-05 18:55:25+00:00</td>\n      <td>15418</td>\n      <td>91</td>\n      <td>69</td>\n      <td>6692</td>\n      <td>NaN</td>\n    </tr>\n  </tbody>\n</table>\n</div>"
     },
     "execution_count": 8,
     "metadata": {},
     "output_type": "execute_result"
    }
   ],
   "source": [
    "df_ucraine_trolls = df_ucraine_trolls [:10]\n",
    "df_ucraine_trolls = df_ucraine_trolls[['ID','nombre_usuario','Fecha_de_creacion_usuario','texto','Fecha_creacion_del_tweet', 'numero_favoritos','numero_seguidores','numero_seguidos','numero_retweets','localizacion']]\n",
    "df_ucraine_trolls"
   ],
   "metadata": {
    "collapsed": false,
    "ExecuteTime": {
     "end_time": "2023-05-05T10:41:47.712167800Z",
     "start_time": "2023-05-05T10:41:47.681273200Z"
    }
   }
  },
  {
   "cell_type": "code",
   "execution_count": null,
   "outputs": [],
   "source": [
    "df_ucraine_trolls.to_csv(\"mapa.csv\")"
   ],
   "metadata": {
    "collapsed": false,
    "ExecuteTime": {
     "start_time": "2023-05-05T10:41:29.913311500Z"
    }
   }
  },
  {
   "cell_type": "code",
   "execution_count": null,
   "outputs": [],
   "source": [
    "df_ucraine_trolls.to_json(\"mapa.json\")"
   ],
   "metadata": {
    "collapsed": false,
    "ExecuteTime": {
     "start_time": "2023-05-05T10:41:29.913871700Z"
    }
   }
  },
  {
   "cell_type": "code",
   "execution_count": null,
   "outputs": [],
   "source": [
    "df_ucraine_trolls['Fecha_creacion_del_tweet'].dtype"
   ],
   "metadata": {
    "collapsed": false,
    "ExecuteTime": {
     "start_time": "2023-05-05T10:41:29.915344100Z"
    }
   }
  },
  {
   "cell_type": "code",
   "execution_count": null,
   "outputs": [],
   "source": [
    "df_ucraine_trolls_sin_nans_localizacion = df_ucraine_trolls.dropna(subset=['localizacion'])\n",
    "df_ucraine_trolls_sin_nans_localizacion = df_ucraine_trolls_sin_nans_localizacion[:200]\n",
    "df_ucraine_trolls_sin_nans_localizacion"
   ],
   "metadata": {
    "collapsed": false,
    "ExecuteTime": {
     "start_time": "2023-05-05T10:41:29.916557600Z"
    }
   }
  },
  {
   "cell_type": "code",
   "execution_count": null,
   "outputs": [],
   "source": [
    "geolocator = Nominatim(timeout=10, user_agent = \"myGeolocator\")\n",
    "df_ucraine_trolls_sin_nans_localizacion['coordenadas'] = df_ucraine_trolls_sin_nans_localizacion.localizacion.apply(geolocator.geocode)\n",
    "df_ucraine_trolls_sin_nans_localizacion"
   ],
   "metadata": {
    "collapsed": false,
    "ExecuteTime": {
     "start_time": "2023-05-05T10:41:29.919430500Z"
    }
   }
  },
  {
   "cell_type": "code",
   "execution_count": null,
   "outputs": [],
   "source": [
    "df_ucraine_trolls_sin_nans_localizacion = df_ucraine_trolls_sin_nans_localizacion.dropna(subset=['coordenadas'])\n",
    "df_ucraine_trolls_sin_nans_localizacion"
   ],
   "metadata": {
    "collapsed": false,
    "ExecuteTime": {
     "start_time": "2023-05-05T10:41:29.919430500Z"
    }
   }
  },
  {
   "cell_type": "code",
   "execution_count": null,
   "outputs": [],
   "source": [
    "df_ucraine_trolls_sin_nans_localizacion['latitud_longitud_dividido'] = df_ucraine_trolls_sin_nans_localizacion['coordenadas'].apply(lambda x:x[1])\n",
    "df_ucraine_trolls_sin_nans_localizacion['latitud_longitud_dividido']"
   ],
   "metadata": {
    "collapsed": false,
    "ExecuteTime": {
     "start_time": "2023-05-05T10:41:29.919430500Z"
    }
   }
  },
  {
   "cell_type": "code",
   "execution_count": null,
   "outputs": [],
   "source": [
    "#df_ucraine_trolls_sin_nans_localizacion['latitud_longitud'] = df_ucraine_trolls_sin_nans_localizacion['coordenadas'].apply(geolocator.geocode).apply(lambda x: (x.latitude, x.longitude))\n",
    "#df_ucraine_trolls_sin_nans_localizacion"
   ],
   "metadata": {
    "collapsed": false,
    "ExecuteTime": {
     "start_time": "2023-05-05T10:41:29.920429400Z"
    }
   }
  },
  {
   "cell_type": "code",
   "execution_count": null,
   "outputs": [],
   "source": [
    "df_ucraine_trolls_sin_nans_localizacion['latitud_longitud_dividido'] = df_ucraine_trolls_sin_nans_localizacion['latitud_longitud_dividido'].tolist()\n",
    "pd.DataFrame(df_ucraine_trolls_sin_nans_localizacion['latitud_longitud_dividido'].tolist(), index=df_ucraine_trolls_sin_nans_localizacion.index)\n",
    "\n",
    "df_ucraine_trolls_sin_nans_localizacion[['latitud', 'longitud']] = pd.DataFrame(df_ucraine_trolls_sin_nans_localizacion['latitud_longitud_dividido'].tolist(), index=df_ucraine_trolls_sin_nans_localizacion.index)\n",
    "df_ucraine_trolls_sin_nans_localizacion"
   ],
   "metadata": {
    "collapsed": false,
    "ExecuteTime": {
     "start_time": "2023-05-05T10:41:29.921429300Z"
    }
   }
  },
  {
   "cell_type": "code",
   "execution_count": 67,
   "outputs": [],
   "source": [
    "df_ucraine_trolls_sin_nans_localizacion.to_csv(\"mapa.csv\")"
   ],
   "metadata": {
    "collapsed": false,
    "ExecuteTime": {
     "start_time": "2023-04-26T11:43:39.009853Z",
     "end_time": "2023-04-26T11:43:39.028845Z"
    }
   }
  },
  {
   "cell_type": "code",
   "execution_count": 54,
   "outputs": [],
   "source": [
    "fig = px.density_mapbox(df_ucraine_trolls_sin_nans_localizacion, lat='latitud', lon='longitud', radius=10,zoom=0,mapbox_style=\"stamen-terrain\")"
   ],
   "metadata": {
    "collapsed": false,
    "ExecuteTime": {
     "start_time": "2023-04-26T11:32:41.996983Z",
     "end_time": "2023-04-26T11:32:42.125221Z"
    }
   }
  },
  {
   "cell_type": "code",
   "execution_count": 55,
   "outputs": [
    {
     "data": {
      "application/vnd.plotly.v1+json": {
       "data": [
        {
         "coloraxis": "coloraxis",
         "hovertemplate": "latitud=%{lat}<br>longitud=%{lon}<extra></extra>",
         "lat": [
          54.7023545,
          59.9133301,
          10.5060934,
          42.716293,
          42.6384261,
          1.4419683,
          48.7291272,
          38.7311123,
          44.4361414,
          51.1638175,
          53.4486075,
          39.7837304,
          51.0,
          50.4500336,
          40.3270127,
          45.7538355,
          49.4871968,
          46.603354,
          54.7023545,
          44.8178131,
          47.313494,
          34.0536909,
          41.0091982,
          55.143122399999996,
          3.04955345,
          42.4347571,
          41.3828939,
          41.3828939,
          20.521788,
          51.5073359,
          -33.8698439,
          52.5310214,
          50.4500336,
          53.2668455,
          48.8534951,
          -36.852095,
          40.0796606,
          3.1516964,
          38.5890796,
          38.9464996,
          51.1638175,
          54.7023545,
          52.865196,
          31.2638905,
          35.6165517,
          39.7837304,
          38.9464996
         ],
         "lon": [
          -3.2765753,
          10.7389701,
          -66.9146008,
          -78.828717,
          12.674297,
          38.4313975,
          -123.6677485,
          -95.2414104,
          26.1027202,
          10.4478313,
          -2.7359820790816323,
          -100.445882,
          10.0,
          30.5241361,
          -86.1746933,
          21.2257474,
          31.2718321,
          1.8883335,
          -3.2765753,
          20.4568974,
          -122.33931,
          -118.242766,
          28.9662187,
          14.922629658767558,
          101.66989188808999,
          -83.9849477,
          2.1774322,
          2.1774322,
          -100.8140458,
          -0.12765,
          151.2082848,
          -1.2649062,
          30.5241361,
          22.8525787,
          2.3483915,
          174.7631803,
          -89.4337288,
          101.6942371,
          141.248211,
          -77.1588685,
          10.4478313,
          -3.2765753,
          -7.9794599,
          -98.5456116,
          -82.3205003,
          -100.445882,
          -77.1588685
         ],
         "name": "",
         "radius": 10,
         "subplot": "mapbox",
         "type": "densitymapbox"
        }
       ],
       "layout": {
        "template": {
         "data": {
          "histogram2dcontour": [
           {
            "type": "histogram2dcontour",
            "colorbar": {
             "outlinewidth": 0,
             "ticks": ""
            },
            "colorscale": [
             [
              0.0,
              "#0d0887"
             ],
             [
              0.1111111111111111,
              "#46039f"
             ],
             [
              0.2222222222222222,
              "#7201a8"
             ],
             [
              0.3333333333333333,
              "#9c179e"
             ],
             [
              0.4444444444444444,
              "#bd3786"
             ],
             [
              0.5555555555555556,
              "#d8576b"
             ],
             [
              0.6666666666666666,
              "#ed7953"
             ],
             [
              0.7777777777777778,
              "#fb9f3a"
             ],
             [
              0.8888888888888888,
              "#fdca26"
             ],
             [
              1.0,
              "#f0f921"
             ]
            ]
           }
          ],
          "choropleth": [
           {
            "type": "choropleth",
            "colorbar": {
             "outlinewidth": 0,
             "ticks": ""
            }
           }
          ],
          "histogram2d": [
           {
            "type": "histogram2d",
            "colorbar": {
             "outlinewidth": 0,
             "ticks": ""
            },
            "colorscale": [
             [
              0.0,
              "#0d0887"
             ],
             [
              0.1111111111111111,
              "#46039f"
             ],
             [
              0.2222222222222222,
              "#7201a8"
             ],
             [
              0.3333333333333333,
              "#9c179e"
             ],
             [
              0.4444444444444444,
              "#bd3786"
             ],
             [
              0.5555555555555556,
              "#d8576b"
             ],
             [
              0.6666666666666666,
              "#ed7953"
             ],
             [
              0.7777777777777778,
              "#fb9f3a"
             ],
             [
              0.8888888888888888,
              "#fdca26"
             ],
             [
              1.0,
              "#f0f921"
             ]
            ]
           }
          ],
          "heatmap": [
           {
            "type": "heatmap",
            "colorbar": {
             "outlinewidth": 0,
             "ticks": ""
            },
            "colorscale": [
             [
              0.0,
              "#0d0887"
             ],
             [
              0.1111111111111111,
              "#46039f"
             ],
             [
              0.2222222222222222,
              "#7201a8"
             ],
             [
              0.3333333333333333,
              "#9c179e"
             ],
             [
              0.4444444444444444,
              "#bd3786"
             ],
             [
              0.5555555555555556,
              "#d8576b"
             ],
             [
              0.6666666666666666,
              "#ed7953"
             ],
             [
              0.7777777777777778,
              "#fb9f3a"
             ],
             [
              0.8888888888888888,
              "#fdca26"
             ],
             [
              1.0,
              "#f0f921"
             ]
            ]
           }
          ],
          "heatmapgl": [
           {
            "type": "heatmapgl",
            "colorbar": {
             "outlinewidth": 0,
             "ticks": ""
            },
            "colorscale": [
             [
              0.0,
              "#0d0887"
             ],
             [
              0.1111111111111111,
              "#46039f"
             ],
             [
              0.2222222222222222,
              "#7201a8"
             ],
             [
              0.3333333333333333,
              "#9c179e"
             ],
             [
              0.4444444444444444,
              "#bd3786"
             ],
             [
              0.5555555555555556,
              "#d8576b"
             ],
             [
              0.6666666666666666,
              "#ed7953"
             ],
             [
              0.7777777777777778,
              "#fb9f3a"
             ],
             [
              0.8888888888888888,
              "#fdca26"
             ],
             [
              1.0,
              "#f0f921"
             ]
            ]
           }
          ],
          "contourcarpet": [
           {
            "type": "contourcarpet",
            "colorbar": {
             "outlinewidth": 0,
             "ticks": ""
            }
           }
          ],
          "contour": [
           {
            "type": "contour",
            "colorbar": {
             "outlinewidth": 0,
             "ticks": ""
            },
            "colorscale": [
             [
              0.0,
              "#0d0887"
             ],
             [
              0.1111111111111111,
              "#46039f"
             ],
             [
              0.2222222222222222,
              "#7201a8"
             ],
             [
              0.3333333333333333,
              "#9c179e"
             ],
             [
              0.4444444444444444,
              "#bd3786"
             ],
             [
              0.5555555555555556,
              "#d8576b"
             ],
             [
              0.6666666666666666,
              "#ed7953"
             ],
             [
              0.7777777777777778,
              "#fb9f3a"
             ],
             [
              0.8888888888888888,
              "#fdca26"
             ],
             [
              1.0,
              "#f0f921"
             ]
            ]
           }
          ],
          "surface": [
           {
            "type": "surface",
            "colorbar": {
             "outlinewidth": 0,
             "ticks": ""
            },
            "colorscale": [
             [
              0.0,
              "#0d0887"
             ],
             [
              0.1111111111111111,
              "#46039f"
             ],
             [
              0.2222222222222222,
              "#7201a8"
             ],
             [
              0.3333333333333333,
              "#9c179e"
             ],
             [
              0.4444444444444444,
              "#bd3786"
             ],
             [
              0.5555555555555556,
              "#d8576b"
             ],
             [
              0.6666666666666666,
              "#ed7953"
             ],
             [
              0.7777777777777778,
              "#fb9f3a"
             ],
             [
              0.8888888888888888,
              "#fdca26"
             ],
             [
              1.0,
              "#f0f921"
             ]
            ]
           }
          ],
          "mesh3d": [
           {
            "type": "mesh3d",
            "colorbar": {
             "outlinewidth": 0,
             "ticks": ""
            }
           }
          ],
          "scatter": [
           {
            "marker": {
             "line": {
              "color": "#283442"
             }
            },
            "type": "scatter"
           }
          ],
          "parcoords": [
           {
            "type": "parcoords",
            "line": {
             "colorbar": {
              "outlinewidth": 0,
              "ticks": ""
             }
            }
           }
          ],
          "scatterpolargl": [
           {
            "type": "scatterpolargl",
            "marker": {
             "colorbar": {
              "outlinewidth": 0,
              "ticks": ""
             }
            }
           }
          ],
          "bar": [
           {
            "error_x": {
             "color": "#f2f5fa"
            },
            "error_y": {
             "color": "#f2f5fa"
            },
            "marker": {
             "line": {
              "color": "rgb(17,17,17)",
              "width": 0.5
             },
             "pattern": {
              "fillmode": "overlay",
              "size": 10,
              "solidity": 0.2
             }
            },
            "type": "bar"
           }
          ],
          "scattergeo": [
           {
            "type": "scattergeo",
            "marker": {
             "colorbar": {
              "outlinewidth": 0,
              "ticks": ""
             }
            }
           }
          ],
          "scatterpolar": [
           {
            "type": "scatterpolar",
            "marker": {
             "colorbar": {
              "outlinewidth": 0,
              "ticks": ""
             }
            }
           }
          ],
          "histogram": [
           {
            "marker": {
             "pattern": {
              "fillmode": "overlay",
              "size": 10,
              "solidity": 0.2
             }
            },
            "type": "histogram"
           }
          ],
          "scattergl": [
           {
            "marker": {
             "line": {
              "color": "#283442"
             }
            },
            "type": "scattergl"
           }
          ],
          "scatter3d": [
           {
            "type": "scatter3d",
            "line": {
             "colorbar": {
              "outlinewidth": 0,
              "ticks": ""
             }
            },
            "marker": {
             "colorbar": {
              "outlinewidth": 0,
              "ticks": ""
             }
            }
           }
          ],
          "scattermapbox": [
           {
            "type": "scattermapbox",
            "marker": {
             "colorbar": {
              "outlinewidth": 0,
              "ticks": ""
             }
            }
           }
          ],
          "scatterternary": [
           {
            "type": "scatterternary",
            "marker": {
             "colorbar": {
              "outlinewidth": 0,
              "ticks": ""
             }
            }
           }
          ],
          "scattercarpet": [
           {
            "type": "scattercarpet",
            "marker": {
             "colorbar": {
              "outlinewidth": 0,
              "ticks": ""
             }
            }
           }
          ],
          "carpet": [
           {
            "aaxis": {
             "endlinecolor": "#A2B1C6",
             "gridcolor": "#506784",
             "linecolor": "#506784",
             "minorgridcolor": "#506784",
             "startlinecolor": "#A2B1C6"
            },
            "baxis": {
             "endlinecolor": "#A2B1C6",
             "gridcolor": "#506784",
             "linecolor": "#506784",
             "minorgridcolor": "#506784",
             "startlinecolor": "#A2B1C6"
            },
            "type": "carpet"
           }
          ],
          "table": [
           {
            "cells": {
             "fill": {
              "color": "#506784"
             },
             "line": {
              "color": "rgb(17,17,17)"
             }
            },
            "header": {
             "fill": {
              "color": "#2a3f5f"
             },
             "line": {
              "color": "rgb(17,17,17)"
             }
            },
            "type": "table"
           }
          ],
          "barpolar": [
           {
            "marker": {
             "line": {
              "color": "rgb(17,17,17)",
              "width": 0.5
             },
             "pattern": {
              "fillmode": "overlay",
              "size": 10,
              "solidity": 0.2
             }
            },
            "type": "barpolar"
           }
          ],
          "pie": [
           {
            "automargin": true,
            "type": "pie"
           }
          ]
         },
         "layout": {
          "autotypenumbers": "strict",
          "colorway": [
           "#636efa",
           "#EF553B",
           "#00cc96",
           "#ab63fa",
           "#FFA15A",
           "#19d3f3",
           "#FF6692",
           "#B6E880",
           "#FF97FF",
           "#FECB52"
          ],
          "font": {
           "color": "#f2f5fa"
          },
          "hovermode": "closest",
          "hoverlabel": {
           "align": "left"
          },
          "paper_bgcolor": "rgb(17,17,17)",
          "plot_bgcolor": "rgb(17,17,17)",
          "polar": {
           "bgcolor": "rgb(17,17,17)",
           "angularaxis": {
            "gridcolor": "#506784",
            "linecolor": "#506784",
            "ticks": ""
           },
           "radialaxis": {
            "gridcolor": "#506784",
            "linecolor": "#506784",
            "ticks": ""
           }
          },
          "ternary": {
           "bgcolor": "rgb(17,17,17)",
           "aaxis": {
            "gridcolor": "#506784",
            "linecolor": "#506784",
            "ticks": ""
           },
           "baxis": {
            "gridcolor": "#506784",
            "linecolor": "#506784",
            "ticks": ""
           },
           "caxis": {
            "gridcolor": "#506784",
            "linecolor": "#506784",
            "ticks": ""
           }
          },
          "coloraxis": {
           "colorbar": {
            "outlinewidth": 0,
            "ticks": ""
           }
          },
          "colorscale": {
           "sequential": [
            [
             0.0,
             "#0d0887"
            ],
            [
             0.1111111111111111,
             "#46039f"
            ],
            [
             0.2222222222222222,
             "#7201a8"
            ],
            [
             0.3333333333333333,
             "#9c179e"
            ],
            [
             0.4444444444444444,
             "#bd3786"
            ],
            [
             0.5555555555555556,
             "#d8576b"
            ],
            [
             0.6666666666666666,
             "#ed7953"
            ],
            [
             0.7777777777777778,
             "#fb9f3a"
            ],
            [
             0.8888888888888888,
             "#fdca26"
            ],
            [
             1.0,
             "#f0f921"
            ]
           ],
           "sequentialminus": [
            [
             0.0,
             "#0d0887"
            ],
            [
             0.1111111111111111,
             "#46039f"
            ],
            [
             0.2222222222222222,
             "#7201a8"
            ],
            [
             0.3333333333333333,
             "#9c179e"
            ],
            [
             0.4444444444444444,
             "#bd3786"
            ],
            [
             0.5555555555555556,
             "#d8576b"
            ],
            [
             0.6666666666666666,
             "#ed7953"
            ],
            [
             0.7777777777777778,
             "#fb9f3a"
            ],
            [
             0.8888888888888888,
             "#fdca26"
            ],
            [
             1.0,
             "#f0f921"
            ]
           ],
           "diverging": [
            [
             0,
             "#8e0152"
            ],
            [
             0.1,
             "#c51b7d"
            ],
            [
             0.2,
             "#de77ae"
            ],
            [
             0.3,
             "#f1b6da"
            ],
            [
             0.4,
             "#fde0ef"
            ],
            [
             0.5,
             "#f7f7f7"
            ],
            [
             0.6,
             "#e6f5d0"
            ],
            [
             0.7,
             "#b8e186"
            ],
            [
             0.8,
             "#7fbc41"
            ],
            [
             0.9,
             "#4d9221"
            ],
            [
             1,
             "#276419"
            ]
           ]
          },
          "xaxis": {
           "gridcolor": "#283442",
           "linecolor": "#506784",
           "ticks": "",
           "title": {
            "standoff": 15
           },
           "zerolinecolor": "#283442",
           "automargin": true,
           "zerolinewidth": 2
          },
          "yaxis": {
           "gridcolor": "#283442",
           "linecolor": "#506784",
           "ticks": "",
           "title": {
            "standoff": 15
           },
           "zerolinecolor": "#283442",
           "automargin": true,
           "zerolinewidth": 2
          },
          "scene": {
           "xaxis": {
            "backgroundcolor": "rgb(17,17,17)",
            "gridcolor": "#506784",
            "linecolor": "#506784",
            "showbackground": true,
            "ticks": "",
            "zerolinecolor": "#C8D4E3",
            "gridwidth": 2
           },
           "yaxis": {
            "backgroundcolor": "rgb(17,17,17)",
            "gridcolor": "#506784",
            "linecolor": "#506784",
            "showbackground": true,
            "ticks": "",
            "zerolinecolor": "#C8D4E3",
            "gridwidth": 2
           },
           "zaxis": {
            "backgroundcolor": "rgb(17,17,17)",
            "gridcolor": "#506784",
            "linecolor": "#506784",
            "showbackground": true,
            "ticks": "",
            "zerolinecolor": "#C8D4E3",
            "gridwidth": 2
           }
          },
          "shapedefaults": {
           "line": {
            "color": "#f2f5fa"
           }
          },
          "annotationdefaults": {
           "arrowcolor": "#f2f5fa",
           "arrowhead": 0,
           "arrowwidth": 1
          },
          "geo": {
           "bgcolor": "rgb(17,17,17)",
           "landcolor": "rgb(17,17,17)",
           "subunitcolor": "#506784",
           "showland": true,
           "showlakes": true,
           "lakecolor": "rgb(17,17,17)"
          },
          "title": {
           "x": 0.05
          },
          "updatemenudefaults": {
           "bgcolor": "#506784",
           "borderwidth": 0
          },
          "sliderdefaults": {
           "bgcolor": "#C8D4E3",
           "borderwidth": 1,
           "bordercolor": "rgb(17,17,17)",
           "tickwidth": 0
          },
          "mapbox": {
           "style": "dark"
          }
         }
        },
        "mapbox": {
         "domain": {
          "x": [
           0.0,
           1.0
          ],
          "y": [
           0.0,
           1.0
          ]
         },
         "center": {
          "lat": 38.481697079787224,
          "lon": -11.167929515579235
         },
         "zoom": 0,
         "style": "stamen-terrain"
        },
        "coloraxis": {
         "colorscale": [
          [
           0.0,
           "#0d0887"
          ],
          [
           0.1111111111111111,
           "#46039f"
          ],
          [
           0.2222222222222222,
           "#7201a8"
          ],
          [
           0.3333333333333333,
           "#9c179e"
          ],
          [
           0.4444444444444444,
           "#bd3786"
          ],
          [
           0.5555555555555556,
           "#d8576b"
          ],
          [
           0.6666666666666666,
           "#ed7953"
          ],
          [
           0.7777777777777778,
           "#fb9f3a"
          ],
          [
           0.8888888888888888,
           "#fdca26"
          ],
          [
           1.0,
           "#f0f921"
          ]
         ]
        },
        "legend": {
         "tracegroupgap": 0
        },
        "margin": {
         "t": 60
        }
       },
       "config": {
        "plotlyServerURL": "https://plot.ly"
       }
      },
      "text/html": "<div>                            <div id=\"5eb6f388-fc77-41d1-b2d2-713e3f4605fb\" class=\"plotly-graph-div\" style=\"height:525px; width:100%;\"></div>            <script type=\"text/javascript\">                require([\"plotly\"], function(Plotly) {                    window.PLOTLYENV=window.PLOTLYENV || {};                                    if (document.getElementById(\"5eb6f388-fc77-41d1-b2d2-713e3f4605fb\")) {                    Plotly.newPlot(                        \"5eb6f388-fc77-41d1-b2d2-713e3f4605fb\",                        [{\"coloraxis\":\"coloraxis\",\"hovertemplate\":\"latitud=%{lat}<br>longitud=%{lon}<extra></extra>\",\"lat\":[54.7023545,59.9133301,10.5060934,42.716293,42.6384261,1.4419683,48.7291272,38.7311123,44.4361414,51.1638175,53.4486075,39.7837304,51.0,50.4500336,40.3270127,45.7538355,49.4871968,46.603354,54.7023545,44.8178131,47.313494,34.0536909,41.0091982,55.143122399999996,3.04955345,42.4347571,41.3828939,41.3828939,20.521788,51.5073359,-33.8698439,52.5310214,50.4500336,53.2668455,48.8534951,-36.852095,40.0796606,3.1516964,38.5890796,38.9464996,51.1638175,54.7023545,52.865196,31.2638905,35.6165517,39.7837304,38.9464996],\"lon\":[-3.2765753,10.7389701,-66.9146008,-78.828717,12.674297,38.4313975,-123.6677485,-95.2414104,26.1027202,10.4478313,-2.7359820790816323,-100.445882,10.0,30.5241361,-86.1746933,21.2257474,31.2718321,1.8883335,-3.2765753,20.4568974,-122.33931,-118.242766,28.9662187,14.922629658767558,101.66989188808999,-83.9849477,2.1774322,2.1774322,-100.8140458,-0.12765,151.2082848,-1.2649062,30.5241361,22.8525787,2.3483915,174.7631803,-89.4337288,101.6942371,141.248211,-77.1588685,10.4478313,-3.2765753,-7.9794599,-98.5456116,-82.3205003,-100.445882,-77.1588685],\"name\":\"\",\"radius\":10,\"subplot\":\"mapbox\",\"type\":\"densitymapbox\"}],                        {\"template\":{\"data\":{\"histogram2dcontour\":[{\"type\":\"histogram2dcontour\",\"colorbar\":{\"outlinewidth\":0,\"ticks\":\"\"},\"colorscale\":[[0.0,\"#0d0887\"],[0.1111111111111111,\"#46039f\"],[0.2222222222222222,\"#7201a8\"],[0.3333333333333333,\"#9c179e\"],[0.4444444444444444,\"#bd3786\"],[0.5555555555555556,\"#d8576b\"],[0.6666666666666666,\"#ed7953\"],[0.7777777777777778,\"#fb9f3a\"],[0.8888888888888888,\"#fdca26\"],[1.0,\"#f0f921\"]]}],\"choropleth\":[{\"type\":\"choropleth\",\"colorbar\":{\"outlinewidth\":0,\"ticks\":\"\"}}],\"histogram2d\":[{\"type\":\"histogram2d\",\"colorbar\":{\"outlinewidth\":0,\"ticks\":\"\"},\"colorscale\":[[0.0,\"#0d0887\"],[0.1111111111111111,\"#46039f\"],[0.2222222222222222,\"#7201a8\"],[0.3333333333333333,\"#9c179e\"],[0.4444444444444444,\"#bd3786\"],[0.5555555555555556,\"#d8576b\"],[0.6666666666666666,\"#ed7953\"],[0.7777777777777778,\"#fb9f3a\"],[0.8888888888888888,\"#fdca26\"],[1.0,\"#f0f921\"]]}],\"heatmap\":[{\"type\":\"heatmap\",\"colorbar\":{\"outlinewidth\":0,\"ticks\":\"\"},\"colorscale\":[[0.0,\"#0d0887\"],[0.1111111111111111,\"#46039f\"],[0.2222222222222222,\"#7201a8\"],[0.3333333333333333,\"#9c179e\"],[0.4444444444444444,\"#bd3786\"],[0.5555555555555556,\"#d8576b\"],[0.6666666666666666,\"#ed7953\"],[0.7777777777777778,\"#fb9f3a\"],[0.8888888888888888,\"#fdca26\"],[1.0,\"#f0f921\"]]}],\"heatmapgl\":[{\"type\":\"heatmapgl\",\"colorbar\":{\"outlinewidth\":0,\"ticks\":\"\"},\"colorscale\":[[0.0,\"#0d0887\"],[0.1111111111111111,\"#46039f\"],[0.2222222222222222,\"#7201a8\"],[0.3333333333333333,\"#9c179e\"],[0.4444444444444444,\"#bd3786\"],[0.5555555555555556,\"#d8576b\"],[0.6666666666666666,\"#ed7953\"],[0.7777777777777778,\"#fb9f3a\"],[0.8888888888888888,\"#fdca26\"],[1.0,\"#f0f921\"]]}],\"contourcarpet\":[{\"type\":\"contourcarpet\",\"colorbar\":{\"outlinewidth\":0,\"ticks\":\"\"}}],\"contour\":[{\"type\":\"contour\",\"colorbar\":{\"outlinewidth\":0,\"ticks\":\"\"},\"colorscale\":[[0.0,\"#0d0887\"],[0.1111111111111111,\"#46039f\"],[0.2222222222222222,\"#7201a8\"],[0.3333333333333333,\"#9c179e\"],[0.4444444444444444,\"#bd3786\"],[0.5555555555555556,\"#d8576b\"],[0.6666666666666666,\"#ed7953\"],[0.7777777777777778,\"#fb9f3a\"],[0.8888888888888888,\"#fdca26\"],[1.0,\"#f0f921\"]]}],\"surface\":[{\"type\":\"surface\",\"colorbar\":{\"outlinewidth\":0,\"ticks\":\"\"},\"colorscale\":[[0.0,\"#0d0887\"],[0.1111111111111111,\"#46039f\"],[0.2222222222222222,\"#7201a8\"],[0.3333333333333333,\"#9c179e\"],[0.4444444444444444,\"#bd3786\"],[0.5555555555555556,\"#d8576b\"],[0.6666666666666666,\"#ed7953\"],[0.7777777777777778,\"#fb9f3a\"],[0.8888888888888888,\"#fdca26\"],[1.0,\"#f0f921\"]]}],\"mesh3d\":[{\"type\":\"mesh3d\",\"colorbar\":{\"outlinewidth\":0,\"ticks\":\"\"}}],\"scatter\":[{\"marker\":{\"line\":{\"color\":\"#283442\"}},\"type\":\"scatter\"}],\"parcoords\":[{\"type\":\"parcoords\",\"line\":{\"colorbar\":{\"outlinewidth\":0,\"ticks\":\"\"}}}],\"scatterpolargl\":[{\"type\":\"scatterpolargl\",\"marker\":{\"colorbar\":{\"outlinewidth\":0,\"ticks\":\"\"}}}],\"bar\":[{\"error_x\":{\"color\":\"#f2f5fa\"},\"error_y\":{\"color\":\"#f2f5fa\"},\"marker\":{\"line\":{\"color\":\"rgb(17,17,17)\",\"width\":0.5},\"pattern\":{\"fillmode\":\"overlay\",\"size\":10,\"solidity\":0.2}},\"type\":\"bar\"}],\"scattergeo\":[{\"type\":\"scattergeo\",\"marker\":{\"colorbar\":{\"outlinewidth\":0,\"ticks\":\"\"}}}],\"scatterpolar\":[{\"type\":\"scatterpolar\",\"marker\":{\"colorbar\":{\"outlinewidth\":0,\"ticks\":\"\"}}}],\"histogram\":[{\"marker\":{\"pattern\":{\"fillmode\":\"overlay\",\"size\":10,\"solidity\":0.2}},\"type\":\"histogram\"}],\"scattergl\":[{\"marker\":{\"line\":{\"color\":\"#283442\"}},\"type\":\"scattergl\"}],\"scatter3d\":[{\"type\":\"scatter3d\",\"line\":{\"colorbar\":{\"outlinewidth\":0,\"ticks\":\"\"}},\"marker\":{\"colorbar\":{\"outlinewidth\":0,\"ticks\":\"\"}}}],\"scattermapbox\":[{\"type\":\"scattermapbox\",\"marker\":{\"colorbar\":{\"outlinewidth\":0,\"ticks\":\"\"}}}],\"scatterternary\":[{\"type\":\"scatterternary\",\"marker\":{\"colorbar\":{\"outlinewidth\":0,\"ticks\":\"\"}}}],\"scattercarpet\":[{\"type\":\"scattercarpet\",\"marker\":{\"colorbar\":{\"outlinewidth\":0,\"ticks\":\"\"}}}],\"carpet\":[{\"aaxis\":{\"endlinecolor\":\"#A2B1C6\",\"gridcolor\":\"#506784\",\"linecolor\":\"#506784\",\"minorgridcolor\":\"#506784\",\"startlinecolor\":\"#A2B1C6\"},\"baxis\":{\"endlinecolor\":\"#A2B1C6\",\"gridcolor\":\"#506784\",\"linecolor\":\"#506784\",\"minorgridcolor\":\"#506784\",\"startlinecolor\":\"#A2B1C6\"},\"type\":\"carpet\"}],\"table\":[{\"cells\":{\"fill\":{\"color\":\"#506784\"},\"line\":{\"color\":\"rgb(17,17,17)\"}},\"header\":{\"fill\":{\"color\":\"#2a3f5f\"},\"line\":{\"color\":\"rgb(17,17,17)\"}},\"type\":\"table\"}],\"barpolar\":[{\"marker\":{\"line\":{\"color\":\"rgb(17,17,17)\",\"width\":0.5},\"pattern\":{\"fillmode\":\"overlay\",\"size\":10,\"solidity\":0.2}},\"type\":\"barpolar\"}],\"pie\":[{\"automargin\":true,\"type\":\"pie\"}]},\"layout\":{\"autotypenumbers\":\"strict\",\"colorway\":[\"#636efa\",\"#EF553B\",\"#00cc96\",\"#ab63fa\",\"#FFA15A\",\"#19d3f3\",\"#FF6692\",\"#B6E880\",\"#FF97FF\",\"#FECB52\"],\"font\":{\"color\":\"#f2f5fa\"},\"hovermode\":\"closest\",\"hoverlabel\":{\"align\":\"left\"},\"paper_bgcolor\":\"rgb(17,17,17)\",\"plot_bgcolor\":\"rgb(17,17,17)\",\"polar\":{\"bgcolor\":\"rgb(17,17,17)\",\"angularaxis\":{\"gridcolor\":\"#506784\",\"linecolor\":\"#506784\",\"ticks\":\"\"},\"radialaxis\":{\"gridcolor\":\"#506784\",\"linecolor\":\"#506784\",\"ticks\":\"\"}},\"ternary\":{\"bgcolor\":\"rgb(17,17,17)\",\"aaxis\":{\"gridcolor\":\"#506784\",\"linecolor\":\"#506784\",\"ticks\":\"\"},\"baxis\":{\"gridcolor\":\"#506784\",\"linecolor\":\"#506784\",\"ticks\":\"\"},\"caxis\":{\"gridcolor\":\"#506784\",\"linecolor\":\"#506784\",\"ticks\":\"\"}},\"coloraxis\":{\"colorbar\":{\"outlinewidth\":0,\"ticks\":\"\"}},\"colorscale\":{\"sequential\":[[0.0,\"#0d0887\"],[0.1111111111111111,\"#46039f\"],[0.2222222222222222,\"#7201a8\"],[0.3333333333333333,\"#9c179e\"],[0.4444444444444444,\"#bd3786\"],[0.5555555555555556,\"#d8576b\"],[0.6666666666666666,\"#ed7953\"],[0.7777777777777778,\"#fb9f3a\"],[0.8888888888888888,\"#fdca26\"],[1.0,\"#f0f921\"]],\"sequentialminus\":[[0.0,\"#0d0887\"],[0.1111111111111111,\"#46039f\"],[0.2222222222222222,\"#7201a8\"],[0.3333333333333333,\"#9c179e\"],[0.4444444444444444,\"#bd3786\"],[0.5555555555555556,\"#d8576b\"],[0.6666666666666666,\"#ed7953\"],[0.7777777777777778,\"#fb9f3a\"],[0.8888888888888888,\"#fdca26\"],[1.0,\"#f0f921\"]],\"diverging\":[[0,\"#8e0152\"],[0.1,\"#c51b7d\"],[0.2,\"#de77ae\"],[0.3,\"#f1b6da\"],[0.4,\"#fde0ef\"],[0.5,\"#f7f7f7\"],[0.6,\"#e6f5d0\"],[0.7,\"#b8e186\"],[0.8,\"#7fbc41\"],[0.9,\"#4d9221\"],[1,\"#276419\"]]},\"xaxis\":{\"gridcolor\":\"#283442\",\"linecolor\":\"#506784\",\"ticks\":\"\",\"title\":{\"standoff\":15},\"zerolinecolor\":\"#283442\",\"automargin\":true,\"zerolinewidth\":2},\"yaxis\":{\"gridcolor\":\"#283442\",\"linecolor\":\"#506784\",\"ticks\":\"\",\"title\":{\"standoff\":15},\"zerolinecolor\":\"#283442\",\"automargin\":true,\"zerolinewidth\":2},\"scene\":{\"xaxis\":{\"backgroundcolor\":\"rgb(17,17,17)\",\"gridcolor\":\"#506784\",\"linecolor\":\"#506784\",\"showbackground\":true,\"ticks\":\"\",\"zerolinecolor\":\"#C8D4E3\",\"gridwidth\":2},\"yaxis\":{\"backgroundcolor\":\"rgb(17,17,17)\",\"gridcolor\":\"#506784\",\"linecolor\":\"#506784\",\"showbackground\":true,\"ticks\":\"\",\"zerolinecolor\":\"#C8D4E3\",\"gridwidth\":2},\"zaxis\":{\"backgroundcolor\":\"rgb(17,17,17)\",\"gridcolor\":\"#506784\",\"linecolor\":\"#506784\",\"showbackground\":true,\"ticks\":\"\",\"zerolinecolor\":\"#C8D4E3\",\"gridwidth\":2}},\"shapedefaults\":{\"line\":{\"color\":\"#f2f5fa\"}},\"annotationdefaults\":{\"arrowcolor\":\"#f2f5fa\",\"arrowhead\":0,\"arrowwidth\":1},\"geo\":{\"bgcolor\":\"rgb(17,17,17)\",\"landcolor\":\"rgb(17,17,17)\",\"subunitcolor\":\"#506784\",\"showland\":true,\"showlakes\":true,\"lakecolor\":\"rgb(17,17,17)\"},\"title\":{\"x\":0.05},\"updatemenudefaults\":{\"bgcolor\":\"#506784\",\"borderwidth\":0},\"sliderdefaults\":{\"bgcolor\":\"#C8D4E3\",\"borderwidth\":1,\"bordercolor\":\"rgb(17,17,17)\",\"tickwidth\":0},\"mapbox\":{\"style\":\"dark\"}}},\"mapbox\":{\"domain\":{\"x\":[0.0,1.0],\"y\":[0.0,1.0]},\"center\":{\"lat\":38.481697079787224,\"lon\":-11.167929515579235},\"zoom\":0,\"style\":\"stamen-terrain\"},\"coloraxis\":{\"colorscale\":[[0.0,\"#0d0887\"],[0.1111111111111111,\"#46039f\"],[0.2222222222222222,\"#7201a8\"],[0.3333333333333333,\"#9c179e\"],[0.4444444444444444,\"#bd3786\"],[0.5555555555555556,\"#d8576b\"],[0.6666666666666666,\"#ed7953\"],[0.7777777777777778,\"#fb9f3a\"],[0.8888888888888888,\"#fdca26\"],[1.0,\"#f0f921\"]]},\"legend\":{\"tracegroupgap\":0},\"margin\":{\"t\":60}},                        {\"responsive\": true}                    ).then(function(){\n                            \nvar gd = document.getElementById('5eb6f388-fc77-41d1-b2d2-713e3f4605fb');\nvar x = new MutationObserver(function (mutations, observer) {{\n        var display = window.getComputedStyle(gd).display;\n        if (!display || display === 'none') {{\n            console.log([gd, 'removed!']);\n            Plotly.purge(gd);\n            observer.disconnect();\n        }}\n}});\n\n// Listen for the removal of the full notebook cells\nvar notebookContainer = gd.closest('#notebook-container');\nif (notebookContainer) {{\n    x.observe(notebookContainer, {childList: true});\n}}\n\n// Listen for the clearing of the current output cell\nvar outputEl = gd.closest('.output');\nif (outputEl) {{\n    x.observe(outputEl, {childList: true});\n}}\n\n                        })                };                });            </script>        </div>"
     },
     "metadata": {},
     "output_type": "display_data"
    }
   ],
   "source": [
    "fig.show()"
   ],
   "metadata": {
    "collapsed": false,
    "ExecuteTime": {
     "start_time": "2023-04-26T11:32:42.034981Z",
     "end_time": "2023-04-26T11:32:42.126223Z"
    }
   }
  },
  {
   "cell_type": "markdown",
   "source": [
    "### BUBBLE CHART VISUALIZATIONS"
   ],
   "metadata": {
    "collapsed": false
   }
  },
  {
   "cell_type": "code",
   "execution_count": 56,
   "outputs": [
    {
     "data": {
      "text/plain": "                     ID  Fecha_de_creacion_usuario   Fecha_creacion_del_tweet   \n0   1632454841023823874  2012-01-04 17:11:08+00:00  2023-03-05 18:55:38+00:00  \\\n1   1632454835143360521  2022-04-26 04:09:08+00:00  2023-03-05 18:55:36+00:00   \n5   1632454814599720972  2009-08-02 17:34:58+00:00  2023-03-05 18:55:32+00:00   \n13  1632454773533298695  2014-06-06 20:06:29+00:00  2023-03-05 18:55:22+00:00   \n14  1632454772354588674  2022-02-28 11:14:27+00:00  2023-03-05 18:55:21+00:00   \n20  1632454741979549696  2017-03-03 08:44:19+00:00  2023-03-05 18:55:14+00:00   \n21  1632454734413201408  2018-12-03 23:35:36+00:00  2023-03-05 18:55:12+00:00   \n22  1632454731997106176  2011-04-19 06:31:53+00:00  2023-03-05 18:55:12+00:00   \n25  1632454715622522884  2022-02-26 16:16:04+00:00  2023-03-05 18:55:08+00:00   \n26  1632454713747689474  2011-01-19 21:04:01+00:00  2023-03-05 18:55:07+00:00   \n27  1632454699906392065  2010-12-21 13:04:34+00:00  2023-03-05 18:55:04+00:00   \n31  1632454639621746690  2022-09-16 13:11:51+00:00  2023-03-05 18:54:50+00:00   \n34  1632454627416322048  2022-02-15 23:14:01+00:00  2023-03-05 18:54:47+00:00   \n35  1632454614183231489  2014-07-07 22:15:00+00:00  2023-03-05 18:54:44+00:00   \n36  1632454613663199234  2016-11-19 00:20:08+00:00  2023-03-05 18:54:44+00:00   \n37  1632454609242320896  2022-02-26 16:47:09+00:00  2023-03-05 18:54:43+00:00   \n39  1632454589839552514  2022-09-15 14:46:14+00:00  2023-03-05 18:54:38+00:00   \n41  1632454586853208065  2012-05-06 09:37:00+00:00  2023-03-05 18:54:37+00:00   \n44  1632454557081956353  2012-01-25 12:49:44+00:00  2023-03-05 18:54:30+00:00   \n45  1632454553214808064  2020-04-09 08:07:16+00:00  2023-03-05 18:54:29+00:00   \n47  1632454551629611008  2014-08-12 07:16:09+00:00  2023-03-05 18:54:29+00:00   \n49  1632454540611182592  2018-08-29 21:30:49+00:00  2023-03-05 18:54:26+00:00   \n50  1632454540539711490  2016-10-21 13:00:46+00:00  2023-03-05 18:54:26+00:00   \n52  1632454536144076803  2018-02-01 08:52:28+00:00  2023-03-05 18:54:25+00:00   \n53  1632454515914932224  2014-03-05 19:35:29+00:00  2023-03-05 18:54:20+00:00   \n54  1632454515382272001  2023-01-17 18:04:48+00:00  2023-03-05 18:54:20+00:00   \n55  1632454498290479115  2012-02-27 00:01:11+00:00  2023-03-05 18:54:16+00:00   \n56  1632454485678215168  2012-02-27 00:01:11+00:00  2023-03-05 18:54:13+00:00   \n58  1632454475414745089  2021-09-24 21:42:12+00:00  2023-03-05 18:54:11+00:00   \n59  1632454473330094082  2009-05-25 08:27:04+00:00  2023-03-05 18:54:10+00:00   \n63  1632454454355312640  2010-01-22 04:31:17+00:00  2023-03-05 18:54:06+00:00   \n66  1632454441461768192  2018-08-10 20:31:07+00:00  2023-03-05 18:54:03+00:00   \n67  1632454408784031749  2010-06-30 19:04:59+00:00  2023-03-05 18:53:55+00:00   \n68  1632454399481004032  2021-08-16 09:18:23+00:00  2023-03-05 18:53:53+00:00   \n70  1632454378203369474  2013-02-19 10:04:00+00:00  2023-03-05 18:53:47+00:00   \n73  1632454333387378690  2010-03-28 02:58:53+00:00  2023-03-05 18:53:37+00:00   \n78  1632454280975200256  2009-04-02 14:45:30+00:00  2023-03-05 18:53:24+00:00   \n80  1632454262696607744  2019-11-27 19:13:27+00:00  2023-03-05 18:53:20+00:00   \n82  1632454219725692935  2022-02-27 09:10:05+00:00  2023-03-05 18:53:10+00:00   \n83  1632454218081599489  2022-08-30 15:57:06+00:00  2023-03-05 18:53:09+00:00   \n85  1632454176805470211  2015-09-17 14:43:05+00:00  2023-03-05 18:52:59+00:00   \n86  1632454157377388544  2017-07-01 01:53:10+00:00  2023-03-05 18:52:55+00:00   \n87  1632454145960554497  2018-03-30 16:48:50+00:00  2023-03-05 18:52:52+00:00   \n89  1632454124561113089  2013-01-29 21:58:30+00:00  2023-03-05 18:52:47+00:00   \n92  1632454109713268736  2011-07-29 08:24:51+00:00  2023-03-05 18:52:43+00:00   \n94  1632454101844779008  2022-12-31 01:47:31+00:00  2023-03-05 18:52:42+00:00   \n95  1632454089425518592  2022-08-16 10:30:42+00:00  2023-03-05 18:52:39+00:00   \n\n     nombre_usuario                                              texto   \n0      ben_burnside  RT @CalibreObscura: Only in #Ukraine: A PM M19...  \\\n1          cjostein  RT @TruthPuke: #NATO military equipment in the...   \n5    josegregorio11  RT @WarFrontline: 🚨#Breaking,Equipment of the ...   \n13         RACZPATT  RT @ClearBlueSee: A woman leaves her abusive e...   \n14       itas1000xr  RT @UAWeapons: #Ukraine: In the East, an aband...   \n20         RomacLtd  RT @yingying_Xauusd: Every time gold falls, it...   \n21   alwaysbeenleft  RT @dimitrilascaris: The Western punditry has ...   \n22        _murithi_  RT @CalibreObscura: Only in #Ukraine: A PM M19...   \n25  RazvanAngelesc2  RT @GlasnostGone: As the #RussianArmy is trend...   \n26      _Bartotten_  RT @CalibreObscura: Only in #Ukraine: A PM M19...   \n27         DianeLBW  RT @GlasnostGone: Goodnight #Ukraine. What cou...   \n31       PippaPoops  RT @Toddy_xgp: In partnership between @MarkHam...   \n34          OlliWse  RT @CalibreObscura: #Ukraine: Two FV103 Sparta...   \n35       HopkoHanna  RT @OstapYarysh: When I first saw these images...   \n36       gunzgal0r3  RT @Mrgunsngear: Check out this modified Maxim...   \n37      lpauladrian  RT @Tendar: The first 2 Ukrainian pilots are i...   \n39  YaroslavaSlava_  RT @GlasnostGone: Russia's killed #Ukraine's \"...   \n41  CigalamProvence  RT @HeliosRunner: 9/  As for the #Svatove to #...   \n44     JackNowicki1  Countries attacked by #Russian vs. those attac...   \n45           Zdep11  RT @CNoodles918: To put it into perspective, t...   \n47           klp723  RT @UA_patriot_news: 📍#Crimea. The first army ...   \n49    BragoVictoria  RT @TheStudyofWar: Latest on #Ukraine:\\r\\n\\r\\n...   \n50            anews  Battle for eastern Donbas is \"painful and diff...   \n52     JohnKStreet1  RT @GlasnostGone: 720,000 reasons to laugh som...   \n53          atollun  RT @Ukrainianfree66: Instead of a thousand wor...   \n54       Naru1Nolan  RT @UAWeapons: #Ukraine: A Ukrainian Panthera ...   \n55    BetiBarrera71  RT @javierespinosa2: #Wagner’s penal battalion...   \n56    BetiBarrera71  RT @OstapYarysh: When I first saw these images...   \n58        5conejo21  RT @UAWeapons: #Ukraine: In the East, an aband...   \n59       glenmexted  RT @WarWritings: Ukrainian athlete and defende...   \n63      DipDevotion  RT @mog7546: @TreasChest Two Ukrainian pilots ...   \n66       samchurms1  RT @Ukrainianfree66: Instead of a thousand wor...   \n67         SkA4live  RT @Tendar: The state of the Russian defense i...   \n68   Twiter__Trends  The construction of a railway line from the bo...   \n70        MARIDJE17  RT @KramarenkoMari3: Russia began using the ne...   \n73       jerrygarry  RT @GlasnostGone: When cartoons nail it. The c...   \n78       tommy15616  RT @NTDNews: Amid rising tensions as Kyiv alle...   \n80         kk131066  RT @kk131066: Who cares what people say if wha...   \n82          Kodjo61  RT @Beefeater_Fella: The American shoe brand #...   \n83   Iseabail_lassy  RT @AnnaYurchenko16: My book \"Pysanka: Ukraini...   \n85     holzmueller2  RT @holzmueller2: @JDVance1 @JDVance1 supports...   \n86   Shane2020Wales  RT @PStyle0ne1: Ukraine will receive more than...   \n87     ger_cosgrove  RT @UAWeapons: #Ukraine: In the East, an aband...   \n89       katsmith71  RT @KramarenkoMari3: Russia began using the ne...   \n92    ElEuropeoReal  +++ TOPINFO News Ticker: Mientras que esté Ucr...   \n94  VindiceLibertas  RT @UAWeapons: #Ukraine: In the East, an aband...   \n95  DenisProkopenk9  RT @UAWeapons: #Ukraine: In the East, an aband...   \n\n                  localizacion  numero_seguidores  numero_seguidos   \n0                           UK                684               90  \\\n1                         Oslo               1042              207   \n5                      Caracas               1615             1293   \n13                 Hamburg, NY               9386             8538   \n14                      Italia                199               70   \n20                       Kenya                392               42   \n21  Cowichan, British Columbia               3377             3239   \n22                     Nowhere               1637              302   \n25          Bucharest, Romania                399              192   \n26                   Duitsland               4985             1442   \n27                   St Helens                881             1624   \n31                         USA                240               56   \n34                   Europe 🇪🇺                 93               49   \n35               Kyiv, Ukraine                636            16958   \n36                Indiana, USA                589               22   \n37          Timişoara, România                 70               41   \n39                     Україна                 19               11   \n41                      France                172              175   \n44              United Kingdom               1642              804   \n45                     Beograd                803             1025   \n47             Federal Way, WA               1476              704   \n49                 Los Angeles                590              604   \n50            Istanbul, Turkey                275            35217   \n52           Bornholm, Danmark                214              165   \n53                   The Earth               2215              369   \n54                    Hell, MI                 22                2   \n55                   Barcelona                528              823   \n56                   Barcelona                528              823   \n58          Celaya, Guanajuato                332               66   \n59                      london               1219             1209   \n63           Sydney, Australia               1147              351   \n66     England, United Kingdom                450              272   \n67               Kyiv, Ukraine                340               70   \n68           Podlaskie, Polska                120              728   \n70               Paris, France               1044              360   \n73       Auckland, New Zealand                774              132   \n78                    Illinois                595              463   \n80      Kuala Lumpur, Malaysia              26123            31482   \n82                       WORLD                527             1032   \n83           Langley, Virginia               1703             3004   \n85                 Deutschland                 48               76   \n86              United Kingdom               4996              746   \n87                     Ireland                625             1205   \n89                       Texas               5006             2666   \n92    Estados Unidos de Europa               1415              419   \n94    United States of America               1646              297   \n95                 Langley, VA                105              158   \n\n    numero_retweets  numero_favoritos   \n0                 9             34299  \\\n1                90             15933   \n5                27             26040   \n13               17            449472   \n14               32              3632   \n20                2               119   \n21                7            124664   \n22                9              1016   \n25               28            134777   \n26                9            222102   \n27               23            166324   \n31               17              1510   \n34              143              8771   \n35             1259             16967   \n36                2              1682   \n37              139             78388   \n39              154             36466   \n41                3            146506   \n44                0             84166   \n45                8            125994   \n47                3             22898   \n49              102            275641   \n50                0                 1   \n52               29             52144   \n53                5             30604   \n54              108              2001   \n55                0            512499   \n56             1259            512499   \n58               32              1000   \n59              935            270323   \n63                8             49348   \n66                5             11983   \n67              294             25035   \n68                0               342   \n70               54             44138   \n73              297              8471   \n78                1              2808   \n80                1             30791   \n82              137             40290   \n83               26             19138   \n85                1             11956   \n86               22            137640   \n87               32            103921   \n89               54             28834   \n92                0              2987   \n94               32             10523   \n95               32             18548   \n\n                                            menciones          retweet   \n0                                  ['CalibreObscura']   CalibreObscura  \\\n1                                       ['TruthPuke']        TruthPuke   \n5                                    ['WarFrontline']     WarFrontline   \n13                                   ['ClearBlueSee']     ClearBlueSee   \n14                                      ['UAWeapons']        UAWeapons   \n20                                ['yingying_Xauusd']  yingying_Xauusd   \n21                                ['dimitrilascaris']  dimitrilascaris   \n22                                 ['CalibreObscura']   CalibreObscura   \n25                                   ['GlasnostGone']     GlasnostGone   \n26                                 ['CalibreObscura']   CalibreObscura   \n27                                   ['GlasnostGone']     GlasnostGone   \n31  ['Toddy_xgp', 'MarkHamill', 'U24_gov_ua', 'geo...        Toddy_xgp   \n34                                 ['CalibreObscura']   CalibreObscura   \n35                                    ['OstapYarysh']      OstapYarysh   \n36                                    ['Mrgunsngear']      Mrgunsngear   \n37                                         ['Tendar']           Tendar   \n39                                   ['GlasnostGone']     GlasnostGone   \n41                                   ['HeliosRunner']     HeliosRunner   \n44                                                 []              NaN   \n45                                    ['CNoodles918']      CNoodles918   \n47                                ['UA_patriot_news']  UA_patriot_news   \n49                                  ['TheStudyofWar']    TheStudyofWar   \n50                                                 []              NaN   \n52                                   ['GlasnostGone']     GlasnostGone   \n53                                ['Ukrainianfree66']  Ukrainianfree66   \n54                                      ['UAWeapons']        UAWeapons   \n55                                ['javierespinosa2']  javierespinosa2   \n56                                    ['OstapYarysh']      OstapYarysh   \n58                                      ['UAWeapons']        UAWeapons   \n59                                    ['WarWritings']      WarWritings   \n63                          ['mog7546', 'TreasChest']          mog7546   \n66                                ['Ukrainianfree66']  Ukrainianfree66   \n67                                         ['Tendar']           Tendar   \n68                                                 []              NaN   \n70                                ['KramarenkoMari3']  KramarenkoMari3   \n73                                   ['GlasnostGone']     GlasnostGone   \n78                                        ['NTDNews']          NTDNews   \n80                                       ['kk131066']         kk131066   \n82                                ['Beefeater_Fella']  Beefeater_Fella   \n83                                ['AnnaYurchenko16']  AnnaYurchenko16   \n85           ['holzmueller2', 'JDVance1', 'JDVance1']     holzmueller2   \n86                                     ['PStyle0ne1']       PStyle0ne1   \n87                                      ['UAWeapons']        UAWeapons   \n89                                ['KramarenkoMari3']  KramarenkoMari3   \n92                                                 []              NaN   \n94                                      ['UAWeapons']        UAWeapons   \n95                                      ['UAWeapons']        UAWeapons   \n\n                                          coordenadas   \n0          (United Kingdom, (54.7023545, -3.2765753))  \\\n1             (Oslo, Norge, (59.9133301, 10.7389701))   \n5   (Caracas, Parroquia Catedral, Municipio Libert...   \n13  (Town of Hamburg, Erie County, New York, Unite...   \n14                  (Italia, (42.6384261, 12.674297))   \n20                   (Kenya, (1.4419683, 38.4313975))   \n21  (Cowichan, Uphill Bypass, Area E (Cowichan Sta...   \n22  (Nowhere, Franklin County, Kansas, United Stat...   \n25     (București, România, (44.4361414, 26.1027202))   \n26            (Deutschland, (51.1638175, 10.4478313))   \n27  (St Helens, Liverpool City Region, England, Un...   \n31         (United States, (39.7837304, -100.445882))   \n34                                 (Ōu, (51.0, 10.0))   \n35          (Київ, Україна, (50.4500336, 30.5241361))   \n36  (Indiana, United States, (40.3270127, -86.1746...   \n37  (Timișoara, Timiș, România, (45.7538355, 21.22...   \n39                (Україна, (49.4871968, 31.2718321))   \n41                   (France, (46.603354, 1.8883335))   \n44         (United Kingdom, (54.7023545, -3.2765753))   \n45  (Београд, Град Београд, Централна Србија, 1100...   \n47  (Federal Way, King County, Washington, United ...   \n49  (Los Angeles, Los Angeles County, California, ...   \n50  (İstanbul, Fatih, İstanbul, Marmara Bölgesi, 3...   \n52  (Bornholm, Region Hovedstaden, Danmark, (55.14...   \n53  (The Earth, Bukit Jalil, Kuala Lumpur, Malaysi...   \n54  (Hell, Putnam Township, Livingston County, Mic...   \n55  (Barcelona, Barcelonès, Barcelona, Catalunya, ...   \n56  (Barcelona, Barcelonès, Barcelona, Catalunya, ...   \n58  (Celaya, Guanajuato, México, (20.521788, -100....   \n59  (London, Greater London, England, United Kingd...   \n63  (Sydney, Council of the City of Sydney, New So...   \n66  (England, United Kingdom, (52.5310214, -1.2649...   \n67          (Київ, Україна, (50.4500336, 30.5241361))   \n68  (województwo podlaskie, Polska, (53.2668455, 2...   \n70  (Paris, Quartier Les Îles, Paris, Île-de-Franc...   \n73  (Auckland, Waitematā, Auckland, 1010, New Zeal...   \n78  (Illinois, United States, (40.0796606, -89.433...   \n80  (Kuala Lumpur, Malaysia, (3.1516964, 101.69423...   \n82  (WORLD, 河南米山線, 豊里町上町裏, 登米市, 宮城県, 987-0362, 日本,...   \n83  (Langley, Fairfax County, Virginia, 22101, Uni...   \n85            (Deutschland, (51.1638175, 10.4478313))   \n86         (United Kingdom, (54.7023545, -3.2765753))   \n87          (Éire / Ireland, (52.865196, -7.9794599))   \n89  (Texas, United States, (31.2638905, -98.5456116))   \n92  (Europa, 125, Cherry Street, Black Mountain, B...   \n94         (United States, (39.7837304, -100.445882))   \n95  (Langley, Fairfax County, Virginia, 22101, Uni...   \n\n                   latitud_longitud_dividido    latitud    longitud  \n0                   (54.7023545, -3.2765753)  54.702354   -3.276575  \n1                   (59.9133301, 10.7389701)  59.913330   10.738970  \n5                  (10.5060934, -66.9146008)  10.506093  -66.914601  \n13                   (42.716293, -78.828717)  42.716293  -78.828717  \n14                   (42.6384261, 12.674297)  42.638426   12.674297  \n20                   (1.4419683, 38.4313975)   1.441968   38.431398  \n21                (48.7291272, -123.6677485)  48.729127 -123.667749  \n22                 (38.7311123, -95.2414104)  38.731112  -95.241410  \n25                  (44.4361414, 26.1027202)  44.436141   26.102720  \n26                  (51.1638175, 10.4478313)  51.163818   10.447831  \n27         (53.4486075, -2.7359820790816323)  53.448608   -2.735982  \n31                 (39.7837304, -100.445882)  39.783730 -100.445882  \n34                              (51.0, 10.0)  51.000000   10.000000  \n35                  (50.4500336, 30.5241361)  50.450034   30.524136  \n36                 (40.3270127, -86.1746933)  40.327013  -86.174693  \n37                  (45.7538355, 21.2257474)  45.753836   21.225747  \n39                  (49.4871968, 31.2718321)  49.487197   31.271832  \n41                    (46.603354, 1.8883335)  46.603354    1.888334  \n44                  (54.7023545, -3.2765753)  54.702354   -3.276575  \n45                  (44.8178131, 20.4568974)  44.817813   20.456897  \n47                   (47.313494, -122.33931)  47.313494 -122.339310  \n49                 (34.0536909, -118.242766)  34.053691 -118.242766  \n50                  (41.0091982, 28.9662187)  41.009198   28.966219  \n52  (55.143122399999996, 14.922629658767558)  55.143122   14.922630  \n53          (3.04955345, 101.66989188808999)   3.049553  101.669892  \n54                 (42.4347571, -83.9849477)  42.434757  -83.984948  \n55                   (41.3828939, 2.1774322)  41.382894    2.177432  \n56                   (41.3828939, 2.1774322)  41.382894    2.177432  \n58                 (20.521788, -100.8140458)  20.521788 -100.814046  \n59                    (51.5073359, -0.12765)  51.507336   -0.127650  \n63                (-33.8698439, 151.2082848) -33.869844  151.208285  \n66                  (52.5310214, -1.2649062)  52.531021   -1.264906  \n67                  (50.4500336, 30.5241361)  50.450034   30.524136  \n68                  (53.2668455, 22.8525787)  53.266846   22.852579  \n70                   (48.8534951, 2.3483915)  48.853495    2.348391  \n73                 (-36.852095, 174.7631803) -36.852095  174.763180  \n78                 (40.0796606, -89.4337288)  40.079661  -89.433729  \n80                  (3.1516964, 101.6942371)   3.151696  101.694237  \n82                  (38.5890796, 141.248211)  38.589080  141.248211  \n83                 (38.9464996, -77.1588685)  38.946500  -77.158868  \n85                  (51.1638175, 10.4478313)  51.163818   10.447831  \n86                  (54.7023545, -3.2765753)  54.702354   -3.276575  \n87                   (52.865196, -7.9794599)  52.865196   -7.979460  \n89                 (31.2638905, -98.5456116)  31.263890  -98.545612  \n92                 (35.6165517, -82.3205003)  35.616552  -82.320500  \n94                 (39.7837304, -100.445882)  39.783730 -100.445882  \n95                 (38.9464996, -77.1588685)  38.946500  -77.158868  ",
      "text/html": "<div>\n<style scoped>\n    .dataframe tbody tr th:only-of-type {\n        vertical-align: middle;\n    }\n\n    .dataframe tbody tr th {\n        vertical-align: top;\n    }\n\n    .dataframe thead th {\n        text-align: right;\n    }\n</style>\n<table border=\"1\" class=\"dataframe\">\n  <thead>\n    <tr style=\"text-align: right;\">\n      <th></th>\n      <th>ID</th>\n      <th>Fecha_de_creacion_usuario</th>\n      <th>Fecha_creacion_del_tweet</th>\n      <th>nombre_usuario</th>\n      <th>texto</th>\n      <th>localizacion</th>\n      <th>numero_seguidores</th>\n      <th>numero_seguidos</th>\n      <th>numero_retweets</th>\n      <th>numero_favoritos</th>\n      <th>menciones</th>\n      <th>retweet</th>\n      <th>coordenadas</th>\n      <th>latitud_longitud_dividido</th>\n      <th>latitud</th>\n      <th>longitud</th>\n    </tr>\n  </thead>\n  <tbody>\n    <tr>\n      <th>0</th>\n      <td>1632454841023823874</td>\n      <td>2012-01-04 17:11:08+00:00</td>\n      <td>2023-03-05 18:55:38+00:00</td>\n      <td>ben_burnside</td>\n      <td>RT @CalibreObscura: Only in #Ukraine: A PM M19...</td>\n      <td>UK</td>\n      <td>684</td>\n      <td>90</td>\n      <td>9</td>\n      <td>34299</td>\n      <td>['CalibreObscura']</td>\n      <td>CalibreObscura</td>\n      <td>(United Kingdom, (54.7023545, -3.2765753))</td>\n      <td>(54.7023545, -3.2765753)</td>\n      <td>54.702354</td>\n      <td>-3.276575</td>\n    </tr>\n    <tr>\n      <th>1</th>\n      <td>1632454835143360521</td>\n      <td>2022-04-26 04:09:08+00:00</td>\n      <td>2023-03-05 18:55:36+00:00</td>\n      <td>cjostein</td>\n      <td>RT @TruthPuke: #NATO military equipment in the...</td>\n      <td>Oslo</td>\n      <td>1042</td>\n      <td>207</td>\n      <td>90</td>\n      <td>15933</td>\n      <td>['TruthPuke']</td>\n      <td>TruthPuke</td>\n      <td>(Oslo, Norge, (59.9133301, 10.7389701))</td>\n      <td>(59.9133301, 10.7389701)</td>\n      <td>59.913330</td>\n      <td>10.738970</td>\n    </tr>\n    <tr>\n      <th>5</th>\n      <td>1632454814599720972</td>\n      <td>2009-08-02 17:34:58+00:00</td>\n      <td>2023-03-05 18:55:32+00:00</td>\n      <td>josegregorio11</td>\n      <td>RT @WarFrontline: 🚨#Breaking,Equipment of the ...</td>\n      <td>Caracas</td>\n      <td>1615</td>\n      <td>1293</td>\n      <td>27</td>\n      <td>26040</td>\n      <td>['WarFrontline']</td>\n      <td>WarFrontline</td>\n      <td>(Caracas, Parroquia Catedral, Municipio Libert...</td>\n      <td>(10.5060934, -66.9146008)</td>\n      <td>10.506093</td>\n      <td>-66.914601</td>\n    </tr>\n    <tr>\n      <th>13</th>\n      <td>1632454773533298695</td>\n      <td>2014-06-06 20:06:29+00:00</td>\n      <td>2023-03-05 18:55:22+00:00</td>\n      <td>RACZPATT</td>\n      <td>RT @ClearBlueSee: A woman leaves her abusive e...</td>\n      <td>Hamburg, NY</td>\n      <td>9386</td>\n      <td>8538</td>\n      <td>17</td>\n      <td>449472</td>\n      <td>['ClearBlueSee']</td>\n      <td>ClearBlueSee</td>\n      <td>(Town of Hamburg, Erie County, New York, Unite...</td>\n      <td>(42.716293, -78.828717)</td>\n      <td>42.716293</td>\n      <td>-78.828717</td>\n    </tr>\n    <tr>\n      <th>14</th>\n      <td>1632454772354588674</td>\n      <td>2022-02-28 11:14:27+00:00</td>\n      <td>2023-03-05 18:55:21+00:00</td>\n      <td>itas1000xr</td>\n      <td>RT @UAWeapons: #Ukraine: In the East, an aband...</td>\n      <td>Italia</td>\n      <td>199</td>\n      <td>70</td>\n      <td>32</td>\n      <td>3632</td>\n      <td>['UAWeapons']</td>\n      <td>UAWeapons</td>\n      <td>(Italia, (42.6384261, 12.674297))</td>\n      <td>(42.6384261, 12.674297)</td>\n      <td>42.638426</td>\n      <td>12.674297</td>\n    </tr>\n    <tr>\n      <th>20</th>\n      <td>1632454741979549696</td>\n      <td>2017-03-03 08:44:19+00:00</td>\n      <td>2023-03-05 18:55:14+00:00</td>\n      <td>RomacLtd</td>\n      <td>RT @yingying_Xauusd: Every time gold falls, it...</td>\n      <td>Kenya</td>\n      <td>392</td>\n      <td>42</td>\n      <td>2</td>\n      <td>119</td>\n      <td>['yingying_Xauusd']</td>\n      <td>yingying_Xauusd</td>\n      <td>(Kenya, (1.4419683, 38.4313975))</td>\n      <td>(1.4419683, 38.4313975)</td>\n      <td>1.441968</td>\n      <td>38.431398</td>\n    </tr>\n    <tr>\n      <th>21</th>\n      <td>1632454734413201408</td>\n      <td>2018-12-03 23:35:36+00:00</td>\n      <td>2023-03-05 18:55:12+00:00</td>\n      <td>alwaysbeenleft</td>\n      <td>RT @dimitrilascaris: The Western punditry has ...</td>\n      <td>Cowichan, British Columbia</td>\n      <td>3377</td>\n      <td>3239</td>\n      <td>7</td>\n      <td>124664</td>\n      <td>['dimitrilascaris']</td>\n      <td>dimitrilascaris</td>\n      <td>(Cowichan, Uphill Bypass, Area E (Cowichan Sta...</td>\n      <td>(48.7291272, -123.6677485)</td>\n      <td>48.729127</td>\n      <td>-123.667749</td>\n    </tr>\n    <tr>\n      <th>22</th>\n      <td>1632454731997106176</td>\n      <td>2011-04-19 06:31:53+00:00</td>\n      <td>2023-03-05 18:55:12+00:00</td>\n      <td>_murithi_</td>\n      <td>RT @CalibreObscura: Only in #Ukraine: A PM M19...</td>\n      <td>Nowhere</td>\n      <td>1637</td>\n      <td>302</td>\n      <td>9</td>\n      <td>1016</td>\n      <td>['CalibreObscura']</td>\n      <td>CalibreObscura</td>\n      <td>(Nowhere, Franklin County, Kansas, United Stat...</td>\n      <td>(38.7311123, -95.2414104)</td>\n      <td>38.731112</td>\n      <td>-95.241410</td>\n    </tr>\n    <tr>\n      <th>25</th>\n      <td>1632454715622522884</td>\n      <td>2022-02-26 16:16:04+00:00</td>\n      <td>2023-03-05 18:55:08+00:00</td>\n      <td>RazvanAngelesc2</td>\n      <td>RT @GlasnostGone: As the #RussianArmy is trend...</td>\n      <td>Bucharest, Romania</td>\n      <td>399</td>\n      <td>192</td>\n      <td>28</td>\n      <td>134777</td>\n      <td>['GlasnostGone']</td>\n      <td>GlasnostGone</td>\n      <td>(București, România, (44.4361414, 26.1027202))</td>\n      <td>(44.4361414, 26.1027202)</td>\n      <td>44.436141</td>\n      <td>26.102720</td>\n    </tr>\n    <tr>\n      <th>26</th>\n      <td>1632454713747689474</td>\n      <td>2011-01-19 21:04:01+00:00</td>\n      <td>2023-03-05 18:55:07+00:00</td>\n      <td>_Bartotten_</td>\n      <td>RT @CalibreObscura: Only in #Ukraine: A PM M19...</td>\n      <td>Duitsland</td>\n      <td>4985</td>\n      <td>1442</td>\n      <td>9</td>\n      <td>222102</td>\n      <td>['CalibreObscura']</td>\n      <td>CalibreObscura</td>\n      <td>(Deutschland, (51.1638175, 10.4478313))</td>\n      <td>(51.1638175, 10.4478313)</td>\n      <td>51.163818</td>\n      <td>10.447831</td>\n    </tr>\n    <tr>\n      <th>27</th>\n      <td>1632454699906392065</td>\n      <td>2010-12-21 13:04:34+00:00</td>\n      <td>2023-03-05 18:55:04+00:00</td>\n      <td>DianeLBW</td>\n      <td>RT @GlasnostGone: Goodnight #Ukraine. What cou...</td>\n      <td>St Helens</td>\n      <td>881</td>\n      <td>1624</td>\n      <td>23</td>\n      <td>166324</td>\n      <td>['GlasnostGone']</td>\n      <td>GlasnostGone</td>\n      <td>(St Helens, Liverpool City Region, England, Un...</td>\n      <td>(53.4486075, -2.7359820790816323)</td>\n      <td>53.448608</td>\n      <td>-2.735982</td>\n    </tr>\n    <tr>\n      <th>31</th>\n      <td>1632454639621746690</td>\n      <td>2022-09-16 13:11:51+00:00</td>\n      <td>2023-03-05 18:54:50+00:00</td>\n      <td>PippaPoops</td>\n      <td>RT @Toddy_xgp: In partnership between @MarkHam...</td>\n      <td>USA</td>\n      <td>240</td>\n      <td>56</td>\n      <td>17</td>\n      <td>1510</td>\n      <td>['Toddy_xgp', 'MarkHamill', 'U24_gov_ua', 'geo...</td>\n      <td>Toddy_xgp</td>\n      <td>(United States, (39.7837304, -100.445882))</td>\n      <td>(39.7837304, -100.445882)</td>\n      <td>39.783730</td>\n      <td>-100.445882</td>\n    </tr>\n    <tr>\n      <th>34</th>\n      <td>1632454627416322048</td>\n      <td>2022-02-15 23:14:01+00:00</td>\n      <td>2023-03-05 18:54:47+00:00</td>\n      <td>OlliWse</td>\n      <td>RT @CalibreObscura: #Ukraine: Two FV103 Sparta...</td>\n      <td>Europe 🇪🇺</td>\n      <td>93</td>\n      <td>49</td>\n      <td>143</td>\n      <td>8771</td>\n      <td>['CalibreObscura']</td>\n      <td>CalibreObscura</td>\n      <td>(Ōu, (51.0, 10.0))</td>\n      <td>(51.0, 10.0)</td>\n      <td>51.000000</td>\n      <td>10.000000</td>\n    </tr>\n    <tr>\n      <th>35</th>\n      <td>1632454614183231489</td>\n      <td>2014-07-07 22:15:00+00:00</td>\n      <td>2023-03-05 18:54:44+00:00</td>\n      <td>HopkoHanna</td>\n      <td>RT @OstapYarysh: When I first saw these images...</td>\n      <td>Kyiv, Ukraine</td>\n      <td>636</td>\n      <td>16958</td>\n      <td>1259</td>\n      <td>16967</td>\n      <td>['OstapYarysh']</td>\n      <td>OstapYarysh</td>\n      <td>(Київ, Україна, (50.4500336, 30.5241361))</td>\n      <td>(50.4500336, 30.5241361)</td>\n      <td>50.450034</td>\n      <td>30.524136</td>\n    </tr>\n    <tr>\n      <th>36</th>\n      <td>1632454613663199234</td>\n      <td>2016-11-19 00:20:08+00:00</td>\n      <td>2023-03-05 18:54:44+00:00</td>\n      <td>gunzgal0r3</td>\n      <td>RT @Mrgunsngear: Check out this modified Maxim...</td>\n      <td>Indiana, USA</td>\n      <td>589</td>\n      <td>22</td>\n      <td>2</td>\n      <td>1682</td>\n      <td>['Mrgunsngear']</td>\n      <td>Mrgunsngear</td>\n      <td>(Indiana, United States, (40.3270127, -86.1746...</td>\n      <td>(40.3270127, -86.1746933)</td>\n      <td>40.327013</td>\n      <td>-86.174693</td>\n    </tr>\n    <tr>\n      <th>37</th>\n      <td>1632454609242320896</td>\n      <td>2022-02-26 16:47:09+00:00</td>\n      <td>2023-03-05 18:54:43+00:00</td>\n      <td>lpauladrian</td>\n      <td>RT @Tendar: The first 2 Ukrainian pilots are i...</td>\n      <td>Timişoara, România</td>\n      <td>70</td>\n      <td>41</td>\n      <td>139</td>\n      <td>78388</td>\n      <td>['Tendar']</td>\n      <td>Tendar</td>\n      <td>(Timișoara, Timiș, România, (45.7538355, 21.22...</td>\n      <td>(45.7538355, 21.2257474)</td>\n      <td>45.753836</td>\n      <td>21.225747</td>\n    </tr>\n    <tr>\n      <th>39</th>\n      <td>1632454589839552514</td>\n      <td>2022-09-15 14:46:14+00:00</td>\n      <td>2023-03-05 18:54:38+00:00</td>\n      <td>YaroslavaSlava_</td>\n      <td>RT @GlasnostGone: Russia's killed #Ukraine's \"...</td>\n      <td>Україна</td>\n      <td>19</td>\n      <td>11</td>\n      <td>154</td>\n      <td>36466</td>\n      <td>['GlasnostGone']</td>\n      <td>GlasnostGone</td>\n      <td>(Україна, (49.4871968, 31.2718321))</td>\n      <td>(49.4871968, 31.2718321)</td>\n      <td>49.487197</td>\n      <td>31.271832</td>\n    </tr>\n    <tr>\n      <th>41</th>\n      <td>1632454586853208065</td>\n      <td>2012-05-06 09:37:00+00:00</td>\n      <td>2023-03-05 18:54:37+00:00</td>\n      <td>CigalamProvence</td>\n      <td>RT @HeliosRunner: 9/  As for the #Svatove to #...</td>\n      <td>France</td>\n      <td>172</td>\n      <td>175</td>\n      <td>3</td>\n      <td>146506</td>\n      <td>['HeliosRunner']</td>\n      <td>HeliosRunner</td>\n      <td>(France, (46.603354, 1.8883335))</td>\n      <td>(46.603354, 1.8883335)</td>\n      <td>46.603354</td>\n      <td>1.888334</td>\n    </tr>\n    <tr>\n      <th>44</th>\n      <td>1632454557081956353</td>\n      <td>2012-01-25 12:49:44+00:00</td>\n      <td>2023-03-05 18:54:30+00:00</td>\n      <td>JackNowicki1</td>\n      <td>Countries attacked by #Russian vs. those attac...</td>\n      <td>United Kingdom</td>\n      <td>1642</td>\n      <td>804</td>\n      <td>0</td>\n      <td>84166</td>\n      <td>[]</td>\n      <td>NaN</td>\n      <td>(United Kingdom, (54.7023545, -3.2765753))</td>\n      <td>(54.7023545, -3.2765753)</td>\n      <td>54.702354</td>\n      <td>-3.276575</td>\n    </tr>\n    <tr>\n      <th>45</th>\n      <td>1632454553214808064</td>\n      <td>2020-04-09 08:07:16+00:00</td>\n      <td>2023-03-05 18:54:29+00:00</td>\n      <td>Zdep11</td>\n      <td>RT @CNoodles918: To put it into perspective, t...</td>\n      <td>Beograd</td>\n      <td>803</td>\n      <td>1025</td>\n      <td>8</td>\n      <td>125994</td>\n      <td>['CNoodles918']</td>\n      <td>CNoodles918</td>\n      <td>(Београд, Град Београд, Централна Србија, 1100...</td>\n      <td>(44.8178131, 20.4568974)</td>\n      <td>44.817813</td>\n      <td>20.456897</td>\n    </tr>\n    <tr>\n      <th>47</th>\n      <td>1632454551629611008</td>\n      <td>2014-08-12 07:16:09+00:00</td>\n      <td>2023-03-05 18:54:29+00:00</td>\n      <td>klp723</td>\n      <td>RT @UA_patriot_news: 📍#Crimea. The first army ...</td>\n      <td>Federal Way, WA</td>\n      <td>1476</td>\n      <td>704</td>\n      <td>3</td>\n      <td>22898</td>\n      <td>['UA_patriot_news']</td>\n      <td>UA_patriot_news</td>\n      <td>(Federal Way, King County, Washington, United ...</td>\n      <td>(47.313494, -122.33931)</td>\n      <td>47.313494</td>\n      <td>-122.339310</td>\n    </tr>\n    <tr>\n      <th>49</th>\n      <td>1632454540611182592</td>\n      <td>2018-08-29 21:30:49+00:00</td>\n      <td>2023-03-05 18:54:26+00:00</td>\n      <td>BragoVictoria</td>\n      <td>RT @TheStudyofWar: Latest on #Ukraine:\\r\\n\\r\\n...</td>\n      <td>Los Angeles</td>\n      <td>590</td>\n      <td>604</td>\n      <td>102</td>\n      <td>275641</td>\n      <td>['TheStudyofWar']</td>\n      <td>TheStudyofWar</td>\n      <td>(Los Angeles, Los Angeles County, California, ...</td>\n      <td>(34.0536909, -118.242766)</td>\n      <td>34.053691</td>\n      <td>-118.242766</td>\n    </tr>\n    <tr>\n      <th>50</th>\n      <td>1632454540539711490</td>\n      <td>2016-10-21 13:00:46+00:00</td>\n      <td>2023-03-05 18:54:26+00:00</td>\n      <td>anews</td>\n      <td>Battle for eastern Donbas is \"painful and diff...</td>\n      <td>Istanbul, Turkey</td>\n      <td>275</td>\n      <td>35217</td>\n      <td>0</td>\n      <td>1</td>\n      <td>[]</td>\n      <td>NaN</td>\n      <td>(İstanbul, Fatih, İstanbul, Marmara Bölgesi, 3...</td>\n      <td>(41.0091982, 28.9662187)</td>\n      <td>41.009198</td>\n      <td>28.966219</td>\n    </tr>\n    <tr>\n      <th>52</th>\n      <td>1632454536144076803</td>\n      <td>2018-02-01 08:52:28+00:00</td>\n      <td>2023-03-05 18:54:25+00:00</td>\n      <td>JohnKStreet1</td>\n      <td>RT @GlasnostGone: 720,000 reasons to laugh som...</td>\n      <td>Bornholm, Danmark</td>\n      <td>214</td>\n      <td>165</td>\n      <td>29</td>\n      <td>52144</td>\n      <td>['GlasnostGone']</td>\n      <td>GlasnostGone</td>\n      <td>(Bornholm, Region Hovedstaden, Danmark, (55.14...</td>\n      <td>(55.143122399999996, 14.922629658767558)</td>\n      <td>55.143122</td>\n      <td>14.922630</td>\n    </tr>\n    <tr>\n      <th>53</th>\n      <td>1632454515914932224</td>\n      <td>2014-03-05 19:35:29+00:00</td>\n      <td>2023-03-05 18:54:20+00:00</td>\n      <td>atollun</td>\n      <td>RT @Ukrainianfree66: Instead of a thousand wor...</td>\n      <td>The Earth</td>\n      <td>2215</td>\n      <td>369</td>\n      <td>5</td>\n      <td>30604</td>\n      <td>['Ukrainianfree66']</td>\n      <td>Ukrainianfree66</td>\n      <td>(The Earth, Bukit Jalil, Kuala Lumpur, Malaysi...</td>\n      <td>(3.04955345, 101.66989188808999)</td>\n      <td>3.049553</td>\n      <td>101.669892</td>\n    </tr>\n    <tr>\n      <th>54</th>\n      <td>1632454515382272001</td>\n      <td>2023-01-17 18:04:48+00:00</td>\n      <td>2023-03-05 18:54:20+00:00</td>\n      <td>Naru1Nolan</td>\n      <td>RT @UAWeapons: #Ukraine: A Ukrainian Panthera ...</td>\n      <td>Hell, MI</td>\n      <td>22</td>\n      <td>2</td>\n      <td>108</td>\n      <td>2001</td>\n      <td>['UAWeapons']</td>\n      <td>UAWeapons</td>\n      <td>(Hell, Putnam Township, Livingston County, Mic...</td>\n      <td>(42.4347571, -83.9849477)</td>\n      <td>42.434757</td>\n      <td>-83.984948</td>\n    </tr>\n    <tr>\n      <th>55</th>\n      <td>1632454498290479115</td>\n      <td>2012-02-27 00:01:11+00:00</td>\n      <td>2023-03-05 18:54:16+00:00</td>\n      <td>BetiBarrera71</td>\n      <td>RT @javierespinosa2: #Wagner’s penal battalion...</td>\n      <td>Barcelona</td>\n      <td>528</td>\n      <td>823</td>\n      <td>0</td>\n      <td>512499</td>\n      <td>['javierespinosa2']</td>\n      <td>javierespinosa2</td>\n      <td>(Barcelona, Barcelonès, Barcelona, Catalunya, ...</td>\n      <td>(41.3828939, 2.1774322)</td>\n      <td>41.382894</td>\n      <td>2.177432</td>\n    </tr>\n    <tr>\n      <th>56</th>\n      <td>1632454485678215168</td>\n      <td>2012-02-27 00:01:11+00:00</td>\n      <td>2023-03-05 18:54:13+00:00</td>\n      <td>BetiBarrera71</td>\n      <td>RT @OstapYarysh: When I first saw these images...</td>\n      <td>Barcelona</td>\n      <td>528</td>\n      <td>823</td>\n      <td>1259</td>\n      <td>512499</td>\n      <td>['OstapYarysh']</td>\n      <td>OstapYarysh</td>\n      <td>(Barcelona, Barcelonès, Barcelona, Catalunya, ...</td>\n      <td>(41.3828939, 2.1774322)</td>\n      <td>41.382894</td>\n      <td>2.177432</td>\n    </tr>\n    <tr>\n      <th>58</th>\n      <td>1632454475414745089</td>\n      <td>2021-09-24 21:42:12+00:00</td>\n      <td>2023-03-05 18:54:11+00:00</td>\n      <td>5conejo21</td>\n      <td>RT @UAWeapons: #Ukraine: In the East, an aband...</td>\n      <td>Celaya, Guanajuato</td>\n      <td>332</td>\n      <td>66</td>\n      <td>32</td>\n      <td>1000</td>\n      <td>['UAWeapons']</td>\n      <td>UAWeapons</td>\n      <td>(Celaya, Guanajuato, México, (20.521788, -100....</td>\n      <td>(20.521788, -100.8140458)</td>\n      <td>20.521788</td>\n      <td>-100.814046</td>\n    </tr>\n    <tr>\n      <th>59</th>\n      <td>1632454473330094082</td>\n      <td>2009-05-25 08:27:04+00:00</td>\n      <td>2023-03-05 18:54:10+00:00</td>\n      <td>glenmexted</td>\n      <td>RT @WarWritings: Ukrainian athlete and defende...</td>\n      <td>london</td>\n      <td>1219</td>\n      <td>1209</td>\n      <td>935</td>\n      <td>270323</td>\n      <td>['WarWritings']</td>\n      <td>WarWritings</td>\n      <td>(London, Greater London, England, United Kingd...</td>\n      <td>(51.5073359, -0.12765)</td>\n      <td>51.507336</td>\n      <td>-0.127650</td>\n    </tr>\n    <tr>\n      <th>63</th>\n      <td>1632454454355312640</td>\n      <td>2010-01-22 04:31:17+00:00</td>\n      <td>2023-03-05 18:54:06+00:00</td>\n      <td>DipDevotion</td>\n      <td>RT @mog7546: @TreasChest Two Ukrainian pilots ...</td>\n      <td>Sydney, Australia</td>\n      <td>1147</td>\n      <td>351</td>\n      <td>8</td>\n      <td>49348</td>\n      <td>['mog7546', 'TreasChest']</td>\n      <td>mog7546</td>\n      <td>(Sydney, Council of the City of Sydney, New So...</td>\n      <td>(-33.8698439, 151.2082848)</td>\n      <td>-33.869844</td>\n      <td>151.208285</td>\n    </tr>\n    <tr>\n      <th>66</th>\n      <td>1632454441461768192</td>\n      <td>2018-08-10 20:31:07+00:00</td>\n      <td>2023-03-05 18:54:03+00:00</td>\n      <td>samchurms1</td>\n      <td>RT @Ukrainianfree66: Instead of a thousand wor...</td>\n      <td>England, United Kingdom</td>\n      <td>450</td>\n      <td>272</td>\n      <td>5</td>\n      <td>11983</td>\n      <td>['Ukrainianfree66']</td>\n      <td>Ukrainianfree66</td>\n      <td>(England, United Kingdom, (52.5310214, -1.2649...</td>\n      <td>(52.5310214, -1.2649062)</td>\n      <td>52.531021</td>\n      <td>-1.264906</td>\n    </tr>\n    <tr>\n      <th>67</th>\n      <td>1632454408784031749</td>\n      <td>2010-06-30 19:04:59+00:00</td>\n      <td>2023-03-05 18:53:55+00:00</td>\n      <td>SkA4live</td>\n      <td>RT @Tendar: The state of the Russian defense i...</td>\n      <td>Kyiv, Ukraine</td>\n      <td>340</td>\n      <td>70</td>\n      <td>294</td>\n      <td>25035</td>\n      <td>['Tendar']</td>\n      <td>Tendar</td>\n      <td>(Київ, Україна, (50.4500336, 30.5241361))</td>\n      <td>(50.4500336, 30.5241361)</td>\n      <td>50.450034</td>\n      <td>30.524136</td>\n    </tr>\n    <tr>\n      <th>68</th>\n      <td>1632454399481004032</td>\n      <td>2021-08-16 09:18:23+00:00</td>\n      <td>2023-03-05 18:53:53+00:00</td>\n      <td>Twiter__Trends</td>\n      <td>The construction of a railway line from the bo...</td>\n      <td>Podlaskie, Polska</td>\n      <td>120</td>\n      <td>728</td>\n      <td>0</td>\n      <td>342</td>\n      <td>[]</td>\n      <td>NaN</td>\n      <td>(województwo podlaskie, Polska, (53.2668455, 2...</td>\n      <td>(53.2668455, 22.8525787)</td>\n      <td>53.266846</td>\n      <td>22.852579</td>\n    </tr>\n    <tr>\n      <th>70</th>\n      <td>1632454378203369474</td>\n      <td>2013-02-19 10:04:00+00:00</td>\n      <td>2023-03-05 18:53:47+00:00</td>\n      <td>MARIDJE17</td>\n      <td>RT @KramarenkoMari3: Russia began using the ne...</td>\n      <td>Paris, France</td>\n      <td>1044</td>\n      <td>360</td>\n      <td>54</td>\n      <td>44138</td>\n      <td>['KramarenkoMari3']</td>\n      <td>KramarenkoMari3</td>\n      <td>(Paris, Quartier Les Îles, Paris, Île-de-Franc...</td>\n      <td>(48.8534951, 2.3483915)</td>\n      <td>48.853495</td>\n      <td>2.348391</td>\n    </tr>\n    <tr>\n      <th>73</th>\n      <td>1632454333387378690</td>\n      <td>2010-03-28 02:58:53+00:00</td>\n      <td>2023-03-05 18:53:37+00:00</td>\n      <td>jerrygarry</td>\n      <td>RT @GlasnostGone: When cartoons nail it. The c...</td>\n      <td>Auckland, New Zealand</td>\n      <td>774</td>\n      <td>132</td>\n      <td>297</td>\n      <td>8471</td>\n      <td>['GlasnostGone']</td>\n      <td>GlasnostGone</td>\n      <td>(Auckland, Waitematā, Auckland, 1010, New Zeal...</td>\n      <td>(-36.852095, 174.7631803)</td>\n      <td>-36.852095</td>\n      <td>174.763180</td>\n    </tr>\n    <tr>\n      <th>78</th>\n      <td>1632454280975200256</td>\n      <td>2009-04-02 14:45:30+00:00</td>\n      <td>2023-03-05 18:53:24+00:00</td>\n      <td>tommy15616</td>\n      <td>RT @NTDNews: Amid rising tensions as Kyiv alle...</td>\n      <td>Illinois</td>\n      <td>595</td>\n      <td>463</td>\n      <td>1</td>\n      <td>2808</td>\n      <td>['NTDNews']</td>\n      <td>NTDNews</td>\n      <td>(Illinois, United States, (40.0796606, -89.433...</td>\n      <td>(40.0796606, -89.4337288)</td>\n      <td>40.079661</td>\n      <td>-89.433729</td>\n    </tr>\n    <tr>\n      <th>80</th>\n      <td>1632454262696607744</td>\n      <td>2019-11-27 19:13:27+00:00</td>\n      <td>2023-03-05 18:53:20+00:00</td>\n      <td>kk131066</td>\n      <td>RT @kk131066: Who cares what people say if wha...</td>\n      <td>Kuala Lumpur, Malaysia</td>\n      <td>26123</td>\n      <td>31482</td>\n      <td>1</td>\n      <td>30791</td>\n      <td>['kk131066']</td>\n      <td>kk131066</td>\n      <td>(Kuala Lumpur, Malaysia, (3.1516964, 101.69423...</td>\n      <td>(3.1516964, 101.6942371)</td>\n      <td>3.151696</td>\n      <td>101.694237</td>\n    </tr>\n    <tr>\n      <th>82</th>\n      <td>1632454219725692935</td>\n      <td>2022-02-27 09:10:05+00:00</td>\n      <td>2023-03-05 18:53:10+00:00</td>\n      <td>Kodjo61</td>\n      <td>RT @Beefeater_Fella: The American shoe brand #...</td>\n      <td>WORLD</td>\n      <td>527</td>\n      <td>1032</td>\n      <td>137</td>\n      <td>40290</td>\n      <td>['Beefeater_Fella']</td>\n      <td>Beefeater_Fella</td>\n      <td>(WORLD, 河南米山線, 豊里町上町裏, 登米市, 宮城県, 987-0362, 日本,...</td>\n      <td>(38.5890796, 141.248211)</td>\n      <td>38.589080</td>\n      <td>141.248211</td>\n    </tr>\n    <tr>\n      <th>83</th>\n      <td>1632454218081599489</td>\n      <td>2022-08-30 15:57:06+00:00</td>\n      <td>2023-03-05 18:53:09+00:00</td>\n      <td>Iseabail_lassy</td>\n      <td>RT @AnnaYurchenko16: My book \"Pysanka: Ukraini...</td>\n      <td>Langley, Virginia</td>\n      <td>1703</td>\n      <td>3004</td>\n      <td>26</td>\n      <td>19138</td>\n      <td>['AnnaYurchenko16']</td>\n      <td>AnnaYurchenko16</td>\n      <td>(Langley, Fairfax County, Virginia, 22101, Uni...</td>\n      <td>(38.9464996, -77.1588685)</td>\n      <td>38.946500</td>\n      <td>-77.158868</td>\n    </tr>\n    <tr>\n      <th>85</th>\n      <td>1632454176805470211</td>\n      <td>2015-09-17 14:43:05+00:00</td>\n      <td>2023-03-05 18:52:59+00:00</td>\n      <td>holzmueller2</td>\n      <td>RT @holzmueller2: @JDVance1 @JDVance1 supports...</td>\n      <td>Deutschland</td>\n      <td>48</td>\n      <td>76</td>\n      <td>1</td>\n      <td>11956</td>\n      <td>['holzmueller2', 'JDVance1', 'JDVance1']</td>\n      <td>holzmueller2</td>\n      <td>(Deutschland, (51.1638175, 10.4478313))</td>\n      <td>(51.1638175, 10.4478313)</td>\n      <td>51.163818</td>\n      <td>10.447831</td>\n    </tr>\n    <tr>\n      <th>86</th>\n      <td>1632454157377388544</td>\n      <td>2017-07-01 01:53:10+00:00</td>\n      <td>2023-03-05 18:52:55+00:00</td>\n      <td>Shane2020Wales</td>\n      <td>RT @PStyle0ne1: Ukraine will receive more than...</td>\n      <td>United Kingdom</td>\n      <td>4996</td>\n      <td>746</td>\n      <td>22</td>\n      <td>137640</td>\n      <td>['PStyle0ne1']</td>\n      <td>PStyle0ne1</td>\n      <td>(United Kingdom, (54.7023545, -3.2765753))</td>\n      <td>(54.7023545, -3.2765753)</td>\n      <td>54.702354</td>\n      <td>-3.276575</td>\n    </tr>\n    <tr>\n      <th>87</th>\n      <td>1632454145960554497</td>\n      <td>2018-03-30 16:48:50+00:00</td>\n      <td>2023-03-05 18:52:52+00:00</td>\n      <td>ger_cosgrove</td>\n      <td>RT @UAWeapons: #Ukraine: In the East, an aband...</td>\n      <td>Ireland</td>\n      <td>625</td>\n      <td>1205</td>\n      <td>32</td>\n      <td>103921</td>\n      <td>['UAWeapons']</td>\n      <td>UAWeapons</td>\n      <td>(Éire / Ireland, (52.865196, -7.9794599))</td>\n      <td>(52.865196, -7.9794599)</td>\n      <td>52.865196</td>\n      <td>-7.979460</td>\n    </tr>\n    <tr>\n      <th>89</th>\n      <td>1632454124561113089</td>\n      <td>2013-01-29 21:58:30+00:00</td>\n      <td>2023-03-05 18:52:47+00:00</td>\n      <td>katsmith71</td>\n      <td>RT @KramarenkoMari3: Russia began using the ne...</td>\n      <td>Texas</td>\n      <td>5006</td>\n      <td>2666</td>\n      <td>54</td>\n      <td>28834</td>\n      <td>['KramarenkoMari3']</td>\n      <td>KramarenkoMari3</td>\n      <td>(Texas, United States, (31.2638905, -98.5456116))</td>\n      <td>(31.2638905, -98.5456116)</td>\n      <td>31.263890</td>\n      <td>-98.545612</td>\n    </tr>\n    <tr>\n      <th>92</th>\n      <td>1632454109713268736</td>\n      <td>2011-07-29 08:24:51+00:00</td>\n      <td>2023-03-05 18:52:43+00:00</td>\n      <td>ElEuropeoReal</td>\n      <td>+++ TOPINFO News Ticker: Mientras que esté Ucr...</td>\n      <td>Estados Unidos de Europa</td>\n      <td>1415</td>\n      <td>419</td>\n      <td>0</td>\n      <td>2987</td>\n      <td>[]</td>\n      <td>NaN</td>\n      <td>(Europa, 125, Cherry Street, Black Mountain, B...</td>\n      <td>(35.6165517, -82.3205003)</td>\n      <td>35.616552</td>\n      <td>-82.320500</td>\n    </tr>\n    <tr>\n      <th>94</th>\n      <td>1632454101844779008</td>\n      <td>2022-12-31 01:47:31+00:00</td>\n      <td>2023-03-05 18:52:42+00:00</td>\n      <td>VindiceLibertas</td>\n      <td>RT @UAWeapons: #Ukraine: In the East, an aband...</td>\n      <td>United States of America</td>\n      <td>1646</td>\n      <td>297</td>\n      <td>32</td>\n      <td>10523</td>\n      <td>['UAWeapons']</td>\n      <td>UAWeapons</td>\n      <td>(United States, (39.7837304, -100.445882))</td>\n      <td>(39.7837304, -100.445882)</td>\n      <td>39.783730</td>\n      <td>-100.445882</td>\n    </tr>\n    <tr>\n      <th>95</th>\n      <td>1632454089425518592</td>\n      <td>2022-08-16 10:30:42+00:00</td>\n      <td>2023-03-05 18:52:39+00:00</td>\n      <td>DenisProkopenk9</td>\n      <td>RT @UAWeapons: #Ukraine: In the East, an aband...</td>\n      <td>Langley, VA</td>\n      <td>105</td>\n      <td>158</td>\n      <td>32</td>\n      <td>18548</td>\n      <td>['UAWeapons']</td>\n      <td>UAWeapons</td>\n      <td>(Langley, Fairfax County, Virginia, 22101, Uni...</td>\n      <td>(38.9464996, -77.1588685)</td>\n      <td>38.946500</td>\n      <td>-77.158868</td>\n    </tr>\n  </tbody>\n</table>\n</div>"
     },
     "execution_count": 56,
     "metadata": {},
     "output_type": "execute_result"
    }
   ],
   "source": [
    "df_ucraine_trolls_sin_nans_localizacion"
   ],
   "metadata": {
    "collapsed": false,
    "ExecuteTime": {
     "start_time": "2023-04-26T11:32:42.042608Z",
     "end_time": "2023-04-26T11:32:42.126223Z"
    }
   }
  },
  {
   "cell_type": "code",
   "execution_count": 57,
   "outputs": [
    {
     "name": "stderr",
     "output_type": "stream",
     "text": [
      "C:\\Users\\EVEN\\AppData\\Local\\Temp\\ipykernel_10732\\2081589250.py:9: SettingWithCopyWarning:\n",
      "\n",
      "\n",
      "A value is trying to be set on a copy of a slice from a DataFrame.\n",
      "Try using .loc[row_indexer,col_indexer] = value instead\n",
      "\n",
      "See the caveats in the documentation: https://pandas.pydata.org/pandas-docs/stable/user_guide/indexing.html#returning-a-view-versus-a-copy\n",
      "\n"
     ]
    },
    {
     "data": {
      "text/plain": "                     ID  Fecha_de_creacion_usuario   Fecha_creacion_del_tweet   \n0   1632454841023823874  2012-01-04 17:11:08+00:00  2023-03-05 18:55:38+00:00  \\\n1   1632454835143360521  2022-04-26 04:09:08+00:00  2023-03-05 18:55:36+00:00   \n5   1632454814599720972  2009-08-02 17:34:58+00:00  2023-03-05 18:55:32+00:00   \n13  1632454773533298695  2014-06-06 20:06:29+00:00  2023-03-05 18:55:22+00:00   \n14  1632454772354588674  2022-02-28 11:14:27+00:00  2023-03-05 18:55:21+00:00   \n20  1632454741979549696  2017-03-03 08:44:19+00:00  2023-03-05 18:55:14+00:00   \n21  1632454734413201408  2018-12-03 23:35:36+00:00  2023-03-05 18:55:12+00:00   \n22  1632454731997106176  2011-04-19 06:31:53+00:00  2023-03-05 18:55:12+00:00   \n25  1632454715622522884  2022-02-26 16:16:04+00:00  2023-03-05 18:55:08+00:00   \n26  1632454713747689474  2011-01-19 21:04:01+00:00  2023-03-05 18:55:07+00:00   \n27  1632454699906392065  2010-12-21 13:04:34+00:00  2023-03-05 18:55:04+00:00   \n31  1632454639621746690  2022-09-16 13:11:51+00:00  2023-03-05 18:54:50+00:00   \n34  1632454627416322048  2022-02-15 23:14:01+00:00  2023-03-05 18:54:47+00:00   \n35  1632454614183231489  2014-07-07 22:15:00+00:00  2023-03-05 18:54:44+00:00   \n36  1632454613663199234  2016-11-19 00:20:08+00:00  2023-03-05 18:54:44+00:00   \n37  1632454609242320896  2022-02-26 16:47:09+00:00  2023-03-05 18:54:43+00:00   \n39  1632454589839552514  2022-09-15 14:46:14+00:00  2023-03-05 18:54:38+00:00   \n41  1632454586853208065  2012-05-06 09:37:00+00:00  2023-03-05 18:54:37+00:00   \n44  1632454557081956353  2012-01-25 12:49:44+00:00  2023-03-05 18:54:30+00:00   \n45  1632454553214808064  2020-04-09 08:07:16+00:00  2023-03-05 18:54:29+00:00   \n47  1632454551629611008  2014-08-12 07:16:09+00:00  2023-03-05 18:54:29+00:00   \n49  1632454540611182592  2018-08-29 21:30:49+00:00  2023-03-05 18:54:26+00:00   \n50  1632454540539711490  2016-10-21 13:00:46+00:00  2023-03-05 18:54:26+00:00   \n52  1632454536144076803  2018-02-01 08:52:28+00:00  2023-03-05 18:54:25+00:00   \n53  1632454515914932224  2014-03-05 19:35:29+00:00  2023-03-05 18:54:20+00:00   \n54  1632454515382272001  2023-01-17 18:04:48+00:00  2023-03-05 18:54:20+00:00   \n55  1632454498290479115  2012-02-27 00:01:11+00:00  2023-03-05 18:54:16+00:00   \n56  1632454485678215168  2012-02-27 00:01:11+00:00  2023-03-05 18:54:13+00:00   \n58  1632454475414745089  2021-09-24 21:42:12+00:00  2023-03-05 18:54:11+00:00   \n59  1632454473330094082  2009-05-25 08:27:04+00:00  2023-03-05 18:54:10+00:00   \n63  1632454454355312640  2010-01-22 04:31:17+00:00  2023-03-05 18:54:06+00:00   \n66  1632454441461768192  2018-08-10 20:31:07+00:00  2023-03-05 18:54:03+00:00   \n67  1632454408784031749  2010-06-30 19:04:59+00:00  2023-03-05 18:53:55+00:00   \n68  1632454399481004032  2021-08-16 09:18:23+00:00  2023-03-05 18:53:53+00:00   \n70  1632454378203369474  2013-02-19 10:04:00+00:00  2023-03-05 18:53:47+00:00   \n73  1632454333387378690  2010-03-28 02:58:53+00:00  2023-03-05 18:53:37+00:00   \n78  1632454280975200256  2009-04-02 14:45:30+00:00  2023-03-05 18:53:24+00:00   \n80  1632454262696607744  2019-11-27 19:13:27+00:00  2023-03-05 18:53:20+00:00   \n82  1632454219725692935  2022-02-27 09:10:05+00:00  2023-03-05 18:53:10+00:00   \n83  1632454218081599489  2022-08-30 15:57:06+00:00  2023-03-05 18:53:09+00:00   \n85  1632454176805470211  2015-09-17 14:43:05+00:00  2023-03-05 18:52:59+00:00   \n86  1632454157377388544  2017-07-01 01:53:10+00:00  2023-03-05 18:52:55+00:00   \n87  1632454145960554497  2018-03-30 16:48:50+00:00  2023-03-05 18:52:52+00:00   \n89  1632454124561113089  2013-01-29 21:58:30+00:00  2023-03-05 18:52:47+00:00   \n92  1632454109713268736  2011-07-29 08:24:51+00:00  2023-03-05 18:52:43+00:00   \n94  1632454101844779008  2022-12-31 01:47:31+00:00  2023-03-05 18:52:42+00:00   \n95  1632454089425518592  2022-08-16 10:30:42+00:00  2023-03-05 18:52:39+00:00   \n\n     nombre_usuario                                              texto   \n0      ben_burnside  RT @CalibreObscura: Only in #Ukraine: A PM M19...  \\\n1          cjostein  RT @TruthPuke: #NATO military equipment in the...   \n5    josegregorio11  RT @WarFrontline: 🚨#Breaking,Equipment of the ...   \n13         RACZPATT  RT @ClearBlueSee: A woman leaves her abusive e...   \n14       itas1000xr  RT @UAWeapons: #Ukraine: In the East, an aband...   \n20         RomacLtd  RT @yingying_Xauusd: Every time gold falls, it...   \n21   alwaysbeenleft  RT @dimitrilascaris: The Western punditry has ...   \n22        _murithi_  RT @CalibreObscura: Only in #Ukraine: A PM M19...   \n25  RazvanAngelesc2  RT @GlasnostGone: As the #RussianArmy is trend...   \n26      _Bartotten_  RT @CalibreObscura: Only in #Ukraine: A PM M19...   \n27         DianeLBW  RT @GlasnostGone: Goodnight #Ukraine. What cou...   \n31       PippaPoops  RT @Toddy_xgp: In partnership between @MarkHam...   \n34          OlliWse  RT @CalibreObscura: #Ukraine: Two FV103 Sparta...   \n35       HopkoHanna  RT @OstapYarysh: When I first saw these images...   \n36       gunzgal0r3  RT @Mrgunsngear: Check out this modified Maxim...   \n37      lpauladrian  RT @Tendar: The first 2 Ukrainian pilots are i...   \n39  YaroslavaSlava_  RT @GlasnostGone: Russia's killed #Ukraine's \"...   \n41  CigalamProvence  RT @HeliosRunner: 9/  As for the #Svatove to #...   \n44     JackNowicki1  Countries attacked by #Russian vs. those attac...   \n45           Zdep11  RT @CNoodles918: To put it into perspective, t...   \n47           klp723  RT @UA_patriot_news: 📍#Crimea. The first army ...   \n49    BragoVictoria  RT @TheStudyofWar: Latest on #Ukraine:\\r\\n\\r\\n...   \n50            anews  Battle for eastern Donbas is \"painful and diff...   \n52     JohnKStreet1  RT @GlasnostGone: 720,000 reasons to laugh som...   \n53          atollun  RT @Ukrainianfree66: Instead of a thousand wor...   \n54       Naru1Nolan  RT @UAWeapons: #Ukraine: A Ukrainian Panthera ...   \n55    BetiBarrera71  RT @javierespinosa2: #Wagner’s penal battalion...   \n56    BetiBarrera71  RT @OstapYarysh: When I first saw these images...   \n58        5conejo21  RT @UAWeapons: #Ukraine: In the East, an aband...   \n59       glenmexted  RT @WarWritings: Ukrainian athlete and defende...   \n63      DipDevotion  RT @mog7546: @TreasChest Two Ukrainian pilots ...   \n66       samchurms1  RT @Ukrainianfree66: Instead of a thousand wor...   \n67         SkA4live  RT @Tendar: The state of the Russian defense i...   \n68   Twiter__Trends  The construction of a railway line from the bo...   \n70        MARIDJE17  RT @KramarenkoMari3: Russia began using the ne...   \n73       jerrygarry  RT @GlasnostGone: When cartoons nail it. The c...   \n78       tommy15616  RT @NTDNews: Amid rising tensions as Kyiv alle...   \n80         kk131066  RT @kk131066: Who cares what people say if wha...   \n82          Kodjo61  RT @Beefeater_Fella: The American shoe brand #...   \n83   Iseabail_lassy  RT @AnnaYurchenko16: My book \"Pysanka: Ukraini...   \n85     holzmueller2  RT @holzmueller2: @JDVance1 @JDVance1 supports...   \n86   Shane2020Wales  RT @PStyle0ne1: Ukraine will receive more than...   \n87     ger_cosgrove  RT @UAWeapons: #Ukraine: In the East, an aband...   \n89       katsmith71  RT @KramarenkoMari3: Russia began using the ne...   \n92    ElEuropeoReal  +++ TOPINFO News Ticker: Mientras que esté Ucr...   \n94  VindiceLibertas  RT @UAWeapons: #Ukraine: In the East, an aband...   \n95  DenisProkopenk9  RT @UAWeapons: #Ukraine: In the East, an aband...   \n\n                  localizacion  numero_seguidores  numero_seguidos   \n0                           UK                684               90  \\\n1                         Oslo               1042              207   \n5                      Caracas               1615             1293   \n13                 Hamburg, NY               9386             8538   \n14                      Italia                199               70   \n20                       Kenya                392               42   \n21  Cowichan, British Columbia               3377             3239   \n22                     Nowhere               1637              302   \n25          Bucharest, Romania                399              192   \n26                   Duitsland               4985             1442   \n27                   St Helens                881             1624   \n31                         USA                240               56   \n34                   Europe 🇪🇺                 93               49   \n35               Kyiv, Ukraine                636            16958   \n36                Indiana, USA                589               22   \n37          Timişoara, România                 70               41   \n39                     Україна                 19               11   \n41                      France                172              175   \n44              United Kingdom               1642              804   \n45                     Beograd                803             1025   \n47             Federal Way, WA               1476              704   \n49                 Los Angeles                590              604   \n50            Istanbul, Turkey                275            35217   \n52           Bornholm, Danmark                214              165   \n53                   The Earth               2215              369   \n54                    Hell, MI                 22                2   \n55                   Barcelona                528              823   \n56                   Barcelona                528              823   \n58          Celaya, Guanajuato                332               66   \n59                      london               1219             1209   \n63           Sydney, Australia               1147              351   \n66     England, United Kingdom                450              272   \n67               Kyiv, Ukraine                340               70   \n68           Podlaskie, Polska                120              728   \n70               Paris, France               1044              360   \n73       Auckland, New Zealand                774              132   \n78                    Illinois                595              463   \n80      Kuala Lumpur, Malaysia              26123            31482   \n82                       WORLD                527             1032   \n83           Langley, Virginia               1703             3004   \n85                 Deutschland                 48               76   \n86              United Kingdom               4996              746   \n87                     Ireland                625             1205   \n89                       Texas               5006             2666   \n92    Estados Unidos de Europa               1415              419   \n94    United States of America               1646              297   \n95                 Langley, VA                105              158   \n\n    numero_retweets  numero_favoritos   \n0                 9             34299  \\\n1                90             15933   \n5                27             26040   \n13               17            449472   \n14               32              3632   \n20                2               119   \n21                7            124664   \n22                9              1016   \n25               28            134777   \n26                9            222102   \n27               23            166324   \n31               17              1510   \n34              143              8771   \n35             1259             16967   \n36                2              1682   \n37              139             78388   \n39              154             36466   \n41                3            146506   \n44                0             84166   \n45                8            125994   \n47                3             22898   \n49              102            275641   \n50                0                 1   \n52               29             52144   \n53                5             30604   \n54              108              2001   \n55                0            512499   \n56             1259            512499   \n58               32              1000   \n59              935            270323   \n63                8             49348   \n66                5             11983   \n67              294             25035   \n68                0               342   \n70               54             44138   \n73              297              8471   \n78                1              2808   \n80                1             30791   \n82              137             40290   \n83               26             19138   \n85                1             11956   \n86               22            137640   \n87               32            103921   \n89               54             28834   \n92                0              2987   \n94               32             10523   \n95               32             18548   \n\n                                            menciones          retweet   \n0                                  ['CalibreObscura']   CalibreObscura  \\\n1                                       ['TruthPuke']        TruthPuke   \n5                                    ['WarFrontline']     WarFrontline   \n13                                   ['ClearBlueSee']     ClearBlueSee   \n14                                      ['UAWeapons']        UAWeapons   \n20                                ['yingying_Xauusd']  yingying_Xauusd   \n21                                ['dimitrilascaris']  dimitrilascaris   \n22                                 ['CalibreObscura']   CalibreObscura   \n25                                   ['GlasnostGone']     GlasnostGone   \n26                                 ['CalibreObscura']   CalibreObscura   \n27                                   ['GlasnostGone']     GlasnostGone   \n31  ['Toddy_xgp', 'MarkHamill', 'U24_gov_ua', 'geo...        Toddy_xgp   \n34                                 ['CalibreObscura']   CalibreObscura   \n35                                    ['OstapYarysh']      OstapYarysh   \n36                                    ['Mrgunsngear']      Mrgunsngear   \n37                                         ['Tendar']           Tendar   \n39                                   ['GlasnostGone']     GlasnostGone   \n41                                   ['HeliosRunner']     HeliosRunner   \n44                                                 []              NaN   \n45                                    ['CNoodles918']      CNoodles918   \n47                                ['UA_patriot_news']  UA_patriot_news   \n49                                  ['TheStudyofWar']    TheStudyofWar   \n50                                                 []              NaN   \n52                                   ['GlasnostGone']     GlasnostGone   \n53                                ['Ukrainianfree66']  Ukrainianfree66   \n54                                      ['UAWeapons']        UAWeapons   \n55                                ['javierespinosa2']  javierespinosa2   \n56                                    ['OstapYarysh']      OstapYarysh   \n58                                      ['UAWeapons']        UAWeapons   \n59                                    ['WarWritings']      WarWritings   \n63                          ['mog7546', 'TreasChest']          mog7546   \n66                                ['Ukrainianfree66']  Ukrainianfree66   \n67                                         ['Tendar']           Tendar   \n68                                                 []              NaN   \n70                                ['KramarenkoMari3']  KramarenkoMari3   \n73                                   ['GlasnostGone']     GlasnostGone   \n78                                        ['NTDNews']          NTDNews   \n80                                       ['kk131066']         kk131066   \n82                                ['Beefeater_Fella']  Beefeater_Fella   \n83                                ['AnnaYurchenko16']  AnnaYurchenko16   \n85           ['holzmueller2', 'JDVance1', 'JDVance1']     holzmueller2   \n86                                     ['PStyle0ne1']       PStyle0ne1   \n87                                      ['UAWeapons']        UAWeapons   \n89                                ['KramarenkoMari3']  KramarenkoMari3   \n92                                                 []              NaN   \n94                                      ['UAWeapons']        UAWeapons   \n95                                      ['UAWeapons']        UAWeapons   \n\n                                          coordenadas   \n0          (United Kingdom, (54.7023545, -3.2765753))  \\\n1             (Oslo, Norge, (59.9133301, 10.7389701))   \n5   (Caracas, Parroquia Catedral, Municipio Libert...   \n13  (Town of Hamburg, Erie County, New York, Unite...   \n14                  (Italia, (42.6384261, 12.674297))   \n20                   (Kenya, (1.4419683, 38.4313975))   \n21  (Cowichan, Uphill Bypass, Area E (Cowichan Sta...   \n22  (Nowhere, Franklin County, Kansas, United Stat...   \n25     (București, România, (44.4361414, 26.1027202))   \n26            (Deutschland, (51.1638175, 10.4478313))   \n27  (St Helens, Liverpool City Region, England, Un...   \n31         (United States, (39.7837304, -100.445882))   \n34                                 (Ōu, (51.0, 10.0))   \n35          (Київ, Україна, (50.4500336, 30.5241361))   \n36  (Indiana, United States, (40.3270127, -86.1746...   \n37  (Timișoara, Timiș, România, (45.7538355, 21.22...   \n39                (Україна, (49.4871968, 31.2718321))   \n41                   (France, (46.603354, 1.8883335))   \n44         (United Kingdom, (54.7023545, -3.2765753))   \n45  (Београд, Град Београд, Централна Србија, 1100...   \n47  (Federal Way, King County, Washington, United ...   \n49  (Los Angeles, Los Angeles County, California, ...   \n50  (İstanbul, Fatih, İstanbul, Marmara Bölgesi, 3...   \n52  (Bornholm, Region Hovedstaden, Danmark, (55.14...   \n53  (The Earth, Bukit Jalil, Kuala Lumpur, Malaysi...   \n54  (Hell, Putnam Township, Livingston County, Mic...   \n55  (Barcelona, Barcelonès, Barcelona, Catalunya, ...   \n56  (Barcelona, Barcelonès, Barcelona, Catalunya, ...   \n58  (Celaya, Guanajuato, México, (20.521788, -100....   \n59  (London, Greater London, England, United Kingd...   \n63  (Sydney, Council of the City of Sydney, New So...   \n66  (England, United Kingdom, (52.5310214, -1.2649...   \n67          (Київ, Україна, (50.4500336, 30.5241361))   \n68  (województwo podlaskie, Polska, (53.2668455, 2...   \n70  (Paris, Quartier Les Îles, Paris, Île-de-Franc...   \n73  (Auckland, Waitematā, Auckland, 1010, New Zeal...   \n78  (Illinois, United States, (40.0796606, -89.433...   \n80  (Kuala Lumpur, Malaysia, (3.1516964, 101.69423...   \n82  (WORLD, 河南米山線, 豊里町上町裏, 登米市, 宮城県, 987-0362, 日本,...   \n83  (Langley, Fairfax County, Virginia, 22101, Uni...   \n85            (Deutschland, (51.1638175, 10.4478313))   \n86         (United Kingdom, (54.7023545, -3.2765753))   \n87          (Éire / Ireland, (52.865196, -7.9794599))   \n89  (Texas, United States, (31.2638905, -98.5456116))   \n92  (Europa, 125, Cherry Street, Black Mountain, B...   \n94         (United States, (39.7837304, -100.445882))   \n95  (Langley, Fairfax County, Virginia, 22101, Uni...   \n\n                   latitud_longitud_dividido    latitud    longitud   \n0                   (54.7023545, -3.2765753)  54.702354   -3.276575  \\\n1                   (59.9133301, 10.7389701)  59.913330   10.738970   \n5                  (10.5060934, -66.9146008)  10.506093  -66.914601   \n13                   (42.716293, -78.828717)  42.716293  -78.828717   \n14                   (42.6384261, 12.674297)  42.638426   12.674297   \n20                   (1.4419683, 38.4313975)   1.441968   38.431398   \n21                (48.7291272, -123.6677485)  48.729127 -123.667749   \n22                 (38.7311123, -95.2414104)  38.731112  -95.241410   \n25                  (44.4361414, 26.1027202)  44.436141   26.102720   \n26                  (51.1638175, 10.4478313)  51.163818   10.447831   \n27         (53.4486075, -2.7359820790816323)  53.448608   -2.735982   \n31                 (39.7837304, -100.445882)  39.783730 -100.445882   \n34                              (51.0, 10.0)  51.000000   10.000000   \n35                  (50.4500336, 30.5241361)  50.450034   30.524136   \n36                 (40.3270127, -86.1746933)  40.327013  -86.174693   \n37                  (45.7538355, 21.2257474)  45.753836   21.225747   \n39                  (49.4871968, 31.2718321)  49.487197   31.271832   \n41                    (46.603354, 1.8883335)  46.603354    1.888334   \n44                  (54.7023545, -3.2765753)  54.702354   -3.276575   \n45                  (44.8178131, 20.4568974)  44.817813   20.456897   \n47                   (47.313494, -122.33931)  47.313494 -122.339310   \n49                 (34.0536909, -118.242766)  34.053691 -118.242766   \n50                  (41.0091982, 28.9662187)  41.009198   28.966219   \n52  (55.143122399999996, 14.922629658767558)  55.143122   14.922630   \n53          (3.04955345, 101.66989188808999)   3.049553  101.669892   \n54                 (42.4347571, -83.9849477)  42.434757  -83.984948   \n55                   (41.3828939, 2.1774322)  41.382894    2.177432   \n56                   (41.3828939, 2.1774322)  41.382894    2.177432   \n58                 (20.521788, -100.8140458)  20.521788 -100.814046   \n59                    (51.5073359, -0.12765)  51.507336   -0.127650   \n63                (-33.8698439, 151.2082848) -33.869844  151.208285   \n66                  (52.5310214, -1.2649062)  52.531021   -1.264906   \n67                  (50.4500336, 30.5241361)  50.450034   30.524136   \n68                  (53.2668455, 22.8525787)  53.266846   22.852579   \n70                   (48.8534951, 2.3483915)  48.853495    2.348391   \n73                 (-36.852095, 174.7631803) -36.852095  174.763180   \n78                 (40.0796606, -89.4337288)  40.079661  -89.433729   \n80                  (3.1516964, 101.6942371)   3.151696  101.694237   \n82                  (38.5890796, 141.248211)  38.589080  141.248211   \n83                 (38.9464996, -77.1588685)  38.946500  -77.158868   \n85                  (51.1638175, 10.4478313)  51.163818   10.447831   \n86                  (54.7023545, -3.2765753)  54.702354   -3.276575   \n87                   (52.865196, -7.9794599)  52.865196   -7.979460   \n89                 (31.2638905, -98.5456116)  31.263890  -98.545612   \n92                 (35.6165517, -82.3205003)  35.616552  -82.320500   \n94                 (39.7837304, -100.445882)  39.783730 -100.445882   \n95                 (38.9464996, -77.1588685)  38.946500  -77.158868   \n\n                    pais  \n0         United Kingdom  \n1                  Norge  \n5              Venezuela  \n13         United States  \n14                Italia  \n20                 Kenya  \n21                Canada  \n22         United States  \n25               România  \n26           Deutschland  \n27        United Kingdom  \n31         United States  \n34           Deutschland  \n35               Україна  \n36         United States  \n37               România  \n39               Україна  \n41                France  \n44        United Kingdom  \n45                Србија  \n47         United States  \n49         United States  \n50               Türkiye  \n52               Danmark  \n53              Malaysia  \n54         United States  \n55                España  \n56                España  \n58                México  \n59        United Kingdom  \n63             Australia  \n66        United Kingdom  \n67               Україна  \n68                Polska  \n70                France  \n73  New Zealand/Aotearoa  \n78         United States  \n80              Malaysia  \n82                    日本  \n83         United States  \n85           Deutschland  \n86        United Kingdom  \n87        Éire / Ireland  \n89         United States  \n92         United States  \n94         United States  \n95         United States  ",
      "text/html": "<div>\n<style scoped>\n    .dataframe tbody tr th:only-of-type {\n        vertical-align: middle;\n    }\n\n    .dataframe tbody tr th {\n        vertical-align: top;\n    }\n\n    .dataframe thead th {\n        text-align: right;\n    }\n</style>\n<table border=\"1\" class=\"dataframe\">\n  <thead>\n    <tr style=\"text-align: right;\">\n      <th></th>\n      <th>ID</th>\n      <th>Fecha_de_creacion_usuario</th>\n      <th>Fecha_creacion_del_tweet</th>\n      <th>nombre_usuario</th>\n      <th>texto</th>\n      <th>localizacion</th>\n      <th>numero_seguidores</th>\n      <th>numero_seguidos</th>\n      <th>numero_retweets</th>\n      <th>numero_favoritos</th>\n      <th>menciones</th>\n      <th>retweet</th>\n      <th>coordenadas</th>\n      <th>latitud_longitud_dividido</th>\n      <th>latitud</th>\n      <th>longitud</th>\n      <th>pais</th>\n    </tr>\n  </thead>\n  <tbody>\n    <tr>\n      <th>0</th>\n      <td>1632454841023823874</td>\n      <td>2012-01-04 17:11:08+00:00</td>\n      <td>2023-03-05 18:55:38+00:00</td>\n      <td>ben_burnside</td>\n      <td>RT @CalibreObscura: Only in #Ukraine: A PM M19...</td>\n      <td>UK</td>\n      <td>684</td>\n      <td>90</td>\n      <td>9</td>\n      <td>34299</td>\n      <td>['CalibreObscura']</td>\n      <td>CalibreObscura</td>\n      <td>(United Kingdom, (54.7023545, -3.2765753))</td>\n      <td>(54.7023545, -3.2765753)</td>\n      <td>54.702354</td>\n      <td>-3.276575</td>\n      <td>United Kingdom</td>\n    </tr>\n    <tr>\n      <th>1</th>\n      <td>1632454835143360521</td>\n      <td>2022-04-26 04:09:08+00:00</td>\n      <td>2023-03-05 18:55:36+00:00</td>\n      <td>cjostein</td>\n      <td>RT @TruthPuke: #NATO military equipment in the...</td>\n      <td>Oslo</td>\n      <td>1042</td>\n      <td>207</td>\n      <td>90</td>\n      <td>15933</td>\n      <td>['TruthPuke']</td>\n      <td>TruthPuke</td>\n      <td>(Oslo, Norge, (59.9133301, 10.7389701))</td>\n      <td>(59.9133301, 10.7389701)</td>\n      <td>59.913330</td>\n      <td>10.738970</td>\n      <td>Norge</td>\n    </tr>\n    <tr>\n      <th>5</th>\n      <td>1632454814599720972</td>\n      <td>2009-08-02 17:34:58+00:00</td>\n      <td>2023-03-05 18:55:32+00:00</td>\n      <td>josegregorio11</td>\n      <td>RT @WarFrontline: 🚨#Breaking,Equipment of the ...</td>\n      <td>Caracas</td>\n      <td>1615</td>\n      <td>1293</td>\n      <td>27</td>\n      <td>26040</td>\n      <td>['WarFrontline']</td>\n      <td>WarFrontline</td>\n      <td>(Caracas, Parroquia Catedral, Municipio Libert...</td>\n      <td>(10.5060934, -66.9146008)</td>\n      <td>10.506093</td>\n      <td>-66.914601</td>\n      <td>Venezuela</td>\n    </tr>\n    <tr>\n      <th>13</th>\n      <td>1632454773533298695</td>\n      <td>2014-06-06 20:06:29+00:00</td>\n      <td>2023-03-05 18:55:22+00:00</td>\n      <td>RACZPATT</td>\n      <td>RT @ClearBlueSee: A woman leaves her abusive e...</td>\n      <td>Hamburg, NY</td>\n      <td>9386</td>\n      <td>8538</td>\n      <td>17</td>\n      <td>449472</td>\n      <td>['ClearBlueSee']</td>\n      <td>ClearBlueSee</td>\n      <td>(Town of Hamburg, Erie County, New York, Unite...</td>\n      <td>(42.716293, -78.828717)</td>\n      <td>42.716293</td>\n      <td>-78.828717</td>\n      <td>United States</td>\n    </tr>\n    <tr>\n      <th>14</th>\n      <td>1632454772354588674</td>\n      <td>2022-02-28 11:14:27+00:00</td>\n      <td>2023-03-05 18:55:21+00:00</td>\n      <td>itas1000xr</td>\n      <td>RT @UAWeapons: #Ukraine: In the East, an aband...</td>\n      <td>Italia</td>\n      <td>199</td>\n      <td>70</td>\n      <td>32</td>\n      <td>3632</td>\n      <td>['UAWeapons']</td>\n      <td>UAWeapons</td>\n      <td>(Italia, (42.6384261, 12.674297))</td>\n      <td>(42.6384261, 12.674297)</td>\n      <td>42.638426</td>\n      <td>12.674297</td>\n      <td>Italia</td>\n    </tr>\n    <tr>\n      <th>20</th>\n      <td>1632454741979549696</td>\n      <td>2017-03-03 08:44:19+00:00</td>\n      <td>2023-03-05 18:55:14+00:00</td>\n      <td>RomacLtd</td>\n      <td>RT @yingying_Xauusd: Every time gold falls, it...</td>\n      <td>Kenya</td>\n      <td>392</td>\n      <td>42</td>\n      <td>2</td>\n      <td>119</td>\n      <td>['yingying_Xauusd']</td>\n      <td>yingying_Xauusd</td>\n      <td>(Kenya, (1.4419683, 38.4313975))</td>\n      <td>(1.4419683, 38.4313975)</td>\n      <td>1.441968</td>\n      <td>38.431398</td>\n      <td>Kenya</td>\n    </tr>\n    <tr>\n      <th>21</th>\n      <td>1632454734413201408</td>\n      <td>2018-12-03 23:35:36+00:00</td>\n      <td>2023-03-05 18:55:12+00:00</td>\n      <td>alwaysbeenleft</td>\n      <td>RT @dimitrilascaris: The Western punditry has ...</td>\n      <td>Cowichan, British Columbia</td>\n      <td>3377</td>\n      <td>3239</td>\n      <td>7</td>\n      <td>124664</td>\n      <td>['dimitrilascaris']</td>\n      <td>dimitrilascaris</td>\n      <td>(Cowichan, Uphill Bypass, Area E (Cowichan Sta...</td>\n      <td>(48.7291272, -123.6677485)</td>\n      <td>48.729127</td>\n      <td>-123.667749</td>\n      <td>Canada</td>\n    </tr>\n    <tr>\n      <th>22</th>\n      <td>1632454731997106176</td>\n      <td>2011-04-19 06:31:53+00:00</td>\n      <td>2023-03-05 18:55:12+00:00</td>\n      <td>_murithi_</td>\n      <td>RT @CalibreObscura: Only in #Ukraine: A PM M19...</td>\n      <td>Nowhere</td>\n      <td>1637</td>\n      <td>302</td>\n      <td>9</td>\n      <td>1016</td>\n      <td>['CalibreObscura']</td>\n      <td>CalibreObscura</td>\n      <td>(Nowhere, Franklin County, Kansas, United Stat...</td>\n      <td>(38.7311123, -95.2414104)</td>\n      <td>38.731112</td>\n      <td>-95.241410</td>\n      <td>United States</td>\n    </tr>\n    <tr>\n      <th>25</th>\n      <td>1632454715622522884</td>\n      <td>2022-02-26 16:16:04+00:00</td>\n      <td>2023-03-05 18:55:08+00:00</td>\n      <td>RazvanAngelesc2</td>\n      <td>RT @GlasnostGone: As the #RussianArmy is trend...</td>\n      <td>Bucharest, Romania</td>\n      <td>399</td>\n      <td>192</td>\n      <td>28</td>\n      <td>134777</td>\n      <td>['GlasnostGone']</td>\n      <td>GlasnostGone</td>\n      <td>(București, România, (44.4361414, 26.1027202))</td>\n      <td>(44.4361414, 26.1027202)</td>\n      <td>44.436141</td>\n      <td>26.102720</td>\n      <td>România</td>\n    </tr>\n    <tr>\n      <th>26</th>\n      <td>1632454713747689474</td>\n      <td>2011-01-19 21:04:01+00:00</td>\n      <td>2023-03-05 18:55:07+00:00</td>\n      <td>_Bartotten_</td>\n      <td>RT @CalibreObscura: Only in #Ukraine: A PM M19...</td>\n      <td>Duitsland</td>\n      <td>4985</td>\n      <td>1442</td>\n      <td>9</td>\n      <td>222102</td>\n      <td>['CalibreObscura']</td>\n      <td>CalibreObscura</td>\n      <td>(Deutschland, (51.1638175, 10.4478313))</td>\n      <td>(51.1638175, 10.4478313)</td>\n      <td>51.163818</td>\n      <td>10.447831</td>\n      <td>Deutschland</td>\n    </tr>\n    <tr>\n      <th>27</th>\n      <td>1632454699906392065</td>\n      <td>2010-12-21 13:04:34+00:00</td>\n      <td>2023-03-05 18:55:04+00:00</td>\n      <td>DianeLBW</td>\n      <td>RT @GlasnostGone: Goodnight #Ukraine. What cou...</td>\n      <td>St Helens</td>\n      <td>881</td>\n      <td>1624</td>\n      <td>23</td>\n      <td>166324</td>\n      <td>['GlasnostGone']</td>\n      <td>GlasnostGone</td>\n      <td>(St Helens, Liverpool City Region, England, Un...</td>\n      <td>(53.4486075, -2.7359820790816323)</td>\n      <td>53.448608</td>\n      <td>-2.735982</td>\n      <td>United Kingdom</td>\n    </tr>\n    <tr>\n      <th>31</th>\n      <td>1632454639621746690</td>\n      <td>2022-09-16 13:11:51+00:00</td>\n      <td>2023-03-05 18:54:50+00:00</td>\n      <td>PippaPoops</td>\n      <td>RT @Toddy_xgp: In partnership between @MarkHam...</td>\n      <td>USA</td>\n      <td>240</td>\n      <td>56</td>\n      <td>17</td>\n      <td>1510</td>\n      <td>['Toddy_xgp', 'MarkHamill', 'U24_gov_ua', 'geo...</td>\n      <td>Toddy_xgp</td>\n      <td>(United States, (39.7837304, -100.445882))</td>\n      <td>(39.7837304, -100.445882)</td>\n      <td>39.783730</td>\n      <td>-100.445882</td>\n      <td>United States</td>\n    </tr>\n    <tr>\n      <th>34</th>\n      <td>1632454627416322048</td>\n      <td>2022-02-15 23:14:01+00:00</td>\n      <td>2023-03-05 18:54:47+00:00</td>\n      <td>OlliWse</td>\n      <td>RT @CalibreObscura: #Ukraine: Two FV103 Sparta...</td>\n      <td>Europe 🇪🇺</td>\n      <td>93</td>\n      <td>49</td>\n      <td>143</td>\n      <td>8771</td>\n      <td>['CalibreObscura']</td>\n      <td>CalibreObscura</td>\n      <td>(Ōu, (51.0, 10.0))</td>\n      <td>(51.0, 10.0)</td>\n      <td>51.000000</td>\n      <td>10.000000</td>\n      <td>Deutschland</td>\n    </tr>\n    <tr>\n      <th>35</th>\n      <td>1632454614183231489</td>\n      <td>2014-07-07 22:15:00+00:00</td>\n      <td>2023-03-05 18:54:44+00:00</td>\n      <td>HopkoHanna</td>\n      <td>RT @OstapYarysh: When I first saw these images...</td>\n      <td>Kyiv, Ukraine</td>\n      <td>636</td>\n      <td>16958</td>\n      <td>1259</td>\n      <td>16967</td>\n      <td>['OstapYarysh']</td>\n      <td>OstapYarysh</td>\n      <td>(Київ, Україна, (50.4500336, 30.5241361))</td>\n      <td>(50.4500336, 30.5241361)</td>\n      <td>50.450034</td>\n      <td>30.524136</td>\n      <td>Україна</td>\n    </tr>\n    <tr>\n      <th>36</th>\n      <td>1632454613663199234</td>\n      <td>2016-11-19 00:20:08+00:00</td>\n      <td>2023-03-05 18:54:44+00:00</td>\n      <td>gunzgal0r3</td>\n      <td>RT @Mrgunsngear: Check out this modified Maxim...</td>\n      <td>Indiana, USA</td>\n      <td>589</td>\n      <td>22</td>\n      <td>2</td>\n      <td>1682</td>\n      <td>['Mrgunsngear']</td>\n      <td>Mrgunsngear</td>\n      <td>(Indiana, United States, (40.3270127, -86.1746...</td>\n      <td>(40.3270127, -86.1746933)</td>\n      <td>40.327013</td>\n      <td>-86.174693</td>\n      <td>United States</td>\n    </tr>\n    <tr>\n      <th>37</th>\n      <td>1632454609242320896</td>\n      <td>2022-02-26 16:47:09+00:00</td>\n      <td>2023-03-05 18:54:43+00:00</td>\n      <td>lpauladrian</td>\n      <td>RT @Tendar: The first 2 Ukrainian pilots are i...</td>\n      <td>Timişoara, România</td>\n      <td>70</td>\n      <td>41</td>\n      <td>139</td>\n      <td>78388</td>\n      <td>['Tendar']</td>\n      <td>Tendar</td>\n      <td>(Timișoara, Timiș, România, (45.7538355, 21.22...</td>\n      <td>(45.7538355, 21.2257474)</td>\n      <td>45.753836</td>\n      <td>21.225747</td>\n      <td>România</td>\n    </tr>\n    <tr>\n      <th>39</th>\n      <td>1632454589839552514</td>\n      <td>2022-09-15 14:46:14+00:00</td>\n      <td>2023-03-05 18:54:38+00:00</td>\n      <td>YaroslavaSlava_</td>\n      <td>RT @GlasnostGone: Russia's killed #Ukraine's \"...</td>\n      <td>Україна</td>\n      <td>19</td>\n      <td>11</td>\n      <td>154</td>\n      <td>36466</td>\n      <td>['GlasnostGone']</td>\n      <td>GlasnostGone</td>\n      <td>(Україна, (49.4871968, 31.2718321))</td>\n      <td>(49.4871968, 31.2718321)</td>\n      <td>49.487197</td>\n      <td>31.271832</td>\n      <td>Україна</td>\n    </tr>\n    <tr>\n      <th>41</th>\n      <td>1632454586853208065</td>\n      <td>2012-05-06 09:37:00+00:00</td>\n      <td>2023-03-05 18:54:37+00:00</td>\n      <td>CigalamProvence</td>\n      <td>RT @HeliosRunner: 9/  As for the #Svatove to #...</td>\n      <td>France</td>\n      <td>172</td>\n      <td>175</td>\n      <td>3</td>\n      <td>146506</td>\n      <td>['HeliosRunner']</td>\n      <td>HeliosRunner</td>\n      <td>(France, (46.603354, 1.8883335))</td>\n      <td>(46.603354, 1.8883335)</td>\n      <td>46.603354</td>\n      <td>1.888334</td>\n      <td>France</td>\n    </tr>\n    <tr>\n      <th>44</th>\n      <td>1632454557081956353</td>\n      <td>2012-01-25 12:49:44+00:00</td>\n      <td>2023-03-05 18:54:30+00:00</td>\n      <td>JackNowicki1</td>\n      <td>Countries attacked by #Russian vs. those attac...</td>\n      <td>United Kingdom</td>\n      <td>1642</td>\n      <td>804</td>\n      <td>0</td>\n      <td>84166</td>\n      <td>[]</td>\n      <td>NaN</td>\n      <td>(United Kingdom, (54.7023545, -3.2765753))</td>\n      <td>(54.7023545, -3.2765753)</td>\n      <td>54.702354</td>\n      <td>-3.276575</td>\n      <td>United Kingdom</td>\n    </tr>\n    <tr>\n      <th>45</th>\n      <td>1632454553214808064</td>\n      <td>2020-04-09 08:07:16+00:00</td>\n      <td>2023-03-05 18:54:29+00:00</td>\n      <td>Zdep11</td>\n      <td>RT @CNoodles918: To put it into perspective, t...</td>\n      <td>Beograd</td>\n      <td>803</td>\n      <td>1025</td>\n      <td>8</td>\n      <td>125994</td>\n      <td>['CNoodles918']</td>\n      <td>CNoodles918</td>\n      <td>(Београд, Град Београд, Централна Србија, 1100...</td>\n      <td>(44.8178131, 20.4568974)</td>\n      <td>44.817813</td>\n      <td>20.456897</td>\n      <td>Србија</td>\n    </tr>\n    <tr>\n      <th>47</th>\n      <td>1632454551629611008</td>\n      <td>2014-08-12 07:16:09+00:00</td>\n      <td>2023-03-05 18:54:29+00:00</td>\n      <td>klp723</td>\n      <td>RT @UA_patriot_news: 📍#Crimea. The first army ...</td>\n      <td>Federal Way, WA</td>\n      <td>1476</td>\n      <td>704</td>\n      <td>3</td>\n      <td>22898</td>\n      <td>['UA_patriot_news']</td>\n      <td>UA_patriot_news</td>\n      <td>(Federal Way, King County, Washington, United ...</td>\n      <td>(47.313494, -122.33931)</td>\n      <td>47.313494</td>\n      <td>-122.339310</td>\n      <td>United States</td>\n    </tr>\n    <tr>\n      <th>49</th>\n      <td>1632454540611182592</td>\n      <td>2018-08-29 21:30:49+00:00</td>\n      <td>2023-03-05 18:54:26+00:00</td>\n      <td>BragoVictoria</td>\n      <td>RT @TheStudyofWar: Latest on #Ukraine:\\r\\n\\r\\n...</td>\n      <td>Los Angeles</td>\n      <td>590</td>\n      <td>604</td>\n      <td>102</td>\n      <td>275641</td>\n      <td>['TheStudyofWar']</td>\n      <td>TheStudyofWar</td>\n      <td>(Los Angeles, Los Angeles County, California, ...</td>\n      <td>(34.0536909, -118.242766)</td>\n      <td>34.053691</td>\n      <td>-118.242766</td>\n      <td>United States</td>\n    </tr>\n    <tr>\n      <th>50</th>\n      <td>1632454540539711490</td>\n      <td>2016-10-21 13:00:46+00:00</td>\n      <td>2023-03-05 18:54:26+00:00</td>\n      <td>anews</td>\n      <td>Battle for eastern Donbas is \"painful and diff...</td>\n      <td>Istanbul, Turkey</td>\n      <td>275</td>\n      <td>35217</td>\n      <td>0</td>\n      <td>1</td>\n      <td>[]</td>\n      <td>NaN</td>\n      <td>(İstanbul, Fatih, İstanbul, Marmara Bölgesi, 3...</td>\n      <td>(41.0091982, 28.9662187)</td>\n      <td>41.009198</td>\n      <td>28.966219</td>\n      <td>Türkiye</td>\n    </tr>\n    <tr>\n      <th>52</th>\n      <td>1632454536144076803</td>\n      <td>2018-02-01 08:52:28+00:00</td>\n      <td>2023-03-05 18:54:25+00:00</td>\n      <td>JohnKStreet1</td>\n      <td>RT @GlasnostGone: 720,000 reasons to laugh som...</td>\n      <td>Bornholm, Danmark</td>\n      <td>214</td>\n      <td>165</td>\n      <td>29</td>\n      <td>52144</td>\n      <td>['GlasnostGone']</td>\n      <td>GlasnostGone</td>\n      <td>(Bornholm, Region Hovedstaden, Danmark, (55.14...</td>\n      <td>(55.143122399999996, 14.922629658767558)</td>\n      <td>55.143122</td>\n      <td>14.922630</td>\n      <td>Danmark</td>\n    </tr>\n    <tr>\n      <th>53</th>\n      <td>1632454515914932224</td>\n      <td>2014-03-05 19:35:29+00:00</td>\n      <td>2023-03-05 18:54:20+00:00</td>\n      <td>atollun</td>\n      <td>RT @Ukrainianfree66: Instead of a thousand wor...</td>\n      <td>The Earth</td>\n      <td>2215</td>\n      <td>369</td>\n      <td>5</td>\n      <td>30604</td>\n      <td>['Ukrainianfree66']</td>\n      <td>Ukrainianfree66</td>\n      <td>(The Earth, Bukit Jalil, Kuala Lumpur, Malaysi...</td>\n      <td>(3.04955345, 101.66989188808999)</td>\n      <td>3.049553</td>\n      <td>101.669892</td>\n      <td>Malaysia</td>\n    </tr>\n    <tr>\n      <th>54</th>\n      <td>1632454515382272001</td>\n      <td>2023-01-17 18:04:48+00:00</td>\n      <td>2023-03-05 18:54:20+00:00</td>\n      <td>Naru1Nolan</td>\n      <td>RT @UAWeapons: #Ukraine: A Ukrainian Panthera ...</td>\n      <td>Hell, MI</td>\n      <td>22</td>\n      <td>2</td>\n      <td>108</td>\n      <td>2001</td>\n      <td>['UAWeapons']</td>\n      <td>UAWeapons</td>\n      <td>(Hell, Putnam Township, Livingston County, Mic...</td>\n      <td>(42.4347571, -83.9849477)</td>\n      <td>42.434757</td>\n      <td>-83.984948</td>\n      <td>United States</td>\n    </tr>\n    <tr>\n      <th>55</th>\n      <td>1632454498290479115</td>\n      <td>2012-02-27 00:01:11+00:00</td>\n      <td>2023-03-05 18:54:16+00:00</td>\n      <td>BetiBarrera71</td>\n      <td>RT @javierespinosa2: #Wagner’s penal battalion...</td>\n      <td>Barcelona</td>\n      <td>528</td>\n      <td>823</td>\n      <td>0</td>\n      <td>512499</td>\n      <td>['javierespinosa2']</td>\n      <td>javierespinosa2</td>\n      <td>(Barcelona, Barcelonès, Barcelona, Catalunya, ...</td>\n      <td>(41.3828939, 2.1774322)</td>\n      <td>41.382894</td>\n      <td>2.177432</td>\n      <td>España</td>\n    </tr>\n    <tr>\n      <th>56</th>\n      <td>1632454485678215168</td>\n      <td>2012-02-27 00:01:11+00:00</td>\n      <td>2023-03-05 18:54:13+00:00</td>\n      <td>BetiBarrera71</td>\n      <td>RT @OstapYarysh: When I first saw these images...</td>\n      <td>Barcelona</td>\n      <td>528</td>\n      <td>823</td>\n      <td>1259</td>\n      <td>512499</td>\n      <td>['OstapYarysh']</td>\n      <td>OstapYarysh</td>\n      <td>(Barcelona, Barcelonès, Barcelona, Catalunya, ...</td>\n      <td>(41.3828939, 2.1774322)</td>\n      <td>41.382894</td>\n      <td>2.177432</td>\n      <td>España</td>\n    </tr>\n    <tr>\n      <th>58</th>\n      <td>1632454475414745089</td>\n      <td>2021-09-24 21:42:12+00:00</td>\n      <td>2023-03-05 18:54:11+00:00</td>\n      <td>5conejo21</td>\n      <td>RT @UAWeapons: #Ukraine: In the East, an aband...</td>\n      <td>Celaya, Guanajuato</td>\n      <td>332</td>\n      <td>66</td>\n      <td>32</td>\n      <td>1000</td>\n      <td>['UAWeapons']</td>\n      <td>UAWeapons</td>\n      <td>(Celaya, Guanajuato, México, (20.521788, -100....</td>\n      <td>(20.521788, -100.8140458)</td>\n      <td>20.521788</td>\n      <td>-100.814046</td>\n      <td>México</td>\n    </tr>\n    <tr>\n      <th>59</th>\n      <td>1632454473330094082</td>\n      <td>2009-05-25 08:27:04+00:00</td>\n      <td>2023-03-05 18:54:10+00:00</td>\n      <td>glenmexted</td>\n      <td>RT @WarWritings: Ukrainian athlete and defende...</td>\n      <td>london</td>\n      <td>1219</td>\n      <td>1209</td>\n      <td>935</td>\n      <td>270323</td>\n      <td>['WarWritings']</td>\n      <td>WarWritings</td>\n      <td>(London, Greater London, England, United Kingd...</td>\n      <td>(51.5073359, -0.12765)</td>\n      <td>51.507336</td>\n      <td>-0.127650</td>\n      <td>United Kingdom</td>\n    </tr>\n    <tr>\n      <th>63</th>\n      <td>1632454454355312640</td>\n      <td>2010-01-22 04:31:17+00:00</td>\n      <td>2023-03-05 18:54:06+00:00</td>\n      <td>DipDevotion</td>\n      <td>RT @mog7546: @TreasChest Two Ukrainian pilots ...</td>\n      <td>Sydney, Australia</td>\n      <td>1147</td>\n      <td>351</td>\n      <td>8</td>\n      <td>49348</td>\n      <td>['mog7546', 'TreasChest']</td>\n      <td>mog7546</td>\n      <td>(Sydney, Council of the City of Sydney, New So...</td>\n      <td>(-33.8698439, 151.2082848)</td>\n      <td>-33.869844</td>\n      <td>151.208285</td>\n      <td>Australia</td>\n    </tr>\n    <tr>\n      <th>66</th>\n      <td>1632454441461768192</td>\n      <td>2018-08-10 20:31:07+00:00</td>\n      <td>2023-03-05 18:54:03+00:00</td>\n      <td>samchurms1</td>\n      <td>RT @Ukrainianfree66: Instead of a thousand wor...</td>\n      <td>England, United Kingdom</td>\n      <td>450</td>\n      <td>272</td>\n      <td>5</td>\n      <td>11983</td>\n      <td>['Ukrainianfree66']</td>\n      <td>Ukrainianfree66</td>\n      <td>(England, United Kingdom, (52.5310214, -1.2649...</td>\n      <td>(52.5310214, -1.2649062)</td>\n      <td>52.531021</td>\n      <td>-1.264906</td>\n      <td>United Kingdom</td>\n    </tr>\n    <tr>\n      <th>67</th>\n      <td>1632454408784031749</td>\n      <td>2010-06-30 19:04:59+00:00</td>\n      <td>2023-03-05 18:53:55+00:00</td>\n      <td>SkA4live</td>\n      <td>RT @Tendar: The state of the Russian defense i...</td>\n      <td>Kyiv, Ukraine</td>\n      <td>340</td>\n      <td>70</td>\n      <td>294</td>\n      <td>25035</td>\n      <td>['Tendar']</td>\n      <td>Tendar</td>\n      <td>(Київ, Україна, (50.4500336, 30.5241361))</td>\n      <td>(50.4500336, 30.5241361)</td>\n      <td>50.450034</td>\n      <td>30.524136</td>\n      <td>Україна</td>\n    </tr>\n    <tr>\n      <th>68</th>\n      <td>1632454399481004032</td>\n      <td>2021-08-16 09:18:23+00:00</td>\n      <td>2023-03-05 18:53:53+00:00</td>\n      <td>Twiter__Trends</td>\n      <td>The construction of a railway line from the bo...</td>\n      <td>Podlaskie, Polska</td>\n      <td>120</td>\n      <td>728</td>\n      <td>0</td>\n      <td>342</td>\n      <td>[]</td>\n      <td>NaN</td>\n      <td>(województwo podlaskie, Polska, (53.2668455, 2...</td>\n      <td>(53.2668455, 22.8525787)</td>\n      <td>53.266846</td>\n      <td>22.852579</td>\n      <td>Polska</td>\n    </tr>\n    <tr>\n      <th>70</th>\n      <td>1632454378203369474</td>\n      <td>2013-02-19 10:04:00+00:00</td>\n      <td>2023-03-05 18:53:47+00:00</td>\n      <td>MARIDJE17</td>\n      <td>RT @KramarenkoMari3: Russia began using the ne...</td>\n      <td>Paris, France</td>\n      <td>1044</td>\n      <td>360</td>\n      <td>54</td>\n      <td>44138</td>\n      <td>['KramarenkoMari3']</td>\n      <td>KramarenkoMari3</td>\n      <td>(Paris, Quartier Les Îles, Paris, Île-de-Franc...</td>\n      <td>(48.8534951, 2.3483915)</td>\n      <td>48.853495</td>\n      <td>2.348391</td>\n      <td>France</td>\n    </tr>\n    <tr>\n      <th>73</th>\n      <td>1632454333387378690</td>\n      <td>2010-03-28 02:58:53+00:00</td>\n      <td>2023-03-05 18:53:37+00:00</td>\n      <td>jerrygarry</td>\n      <td>RT @GlasnostGone: When cartoons nail it. The c...</td>\n      <td>Auckland, New Zealand</td>\n      <td>774</td>\n      <td>132</td>\n      <td>297</td>\n      <td>8471</td>\n      <td>['GlasnostGone']</td>\n      <td>GlasnostGone</td>\n      <td>(Auckland, Waitematā, Auckland, 1010, New Zeal...</td>\n      <td>(-36.852095, 174.7631803)</td>\n      <td>-36.852095</td>\n      <td>174.763180</td>\n      <td>New Zealand/Aotearoa</td>\n    </tr>\n    <tr>\n      <th>78</th>\n      <td>1632454280975200256</td>\n      <td>2009-04-02 14:45:30+00:00</td>\n      <td>2023-03-05 18:53:24+00:00</td>\n      <td>tommy15616</td>\n      <td>RT @NTDNews: Amid rising tensions as Kyiv alle...</td>\n      <td>Illinois</td>\n      <td>595</td>\n      <td>463</td>\n      <td>1</td>\n      <td>2808</td>\n      <td>['NTDNews']</td>\n      <td>NTDNews</td>\n      <td>(Illinois, United States, (40.0796606, -89.433...</td>\n      <td>(40.0796606, -89.4337288)</td>\n      <td>40.079661</td>\n      <td>-89.433729</td>\n      <td>United States</td>\n    </tr>\n    <tr>\n      <th>80</th>\n      <td>1632454262696607744</td>\n      <td>2019-11-27 19:13:27+00:00</td>\n      <td>2023-03-05 18:53:20+00:00</td>\n      <td>kk131066</td>\n      <td>RT @kk131066: Who cares what people say if wha...</td>\n      <td>Kuala Lumpur, Malaysia</td>\n      <td>26123</td>\n      <td>31482</td>\n      <td>1</td>\n      <td>30791</td>\n      <td>['kk131066']</td>\n      <td>kk131066</td>\n      <td>(Kuala Lumpur, Malaysia, (3.1516964, 101.69423...</td>\n      <td>(3.1516964, 101.6942371)</td>\n      <td>3.151696</td>\n      <td>101.694237</td>\n      <td>Malaysia</td>\n    </tr>\n    <tr>\n      <th>82</th>\n      <td>1632454219725692935</td>\n      <td>2022-02-27 09:10:05+00:00</td>\n      <td>2023-03-05 18:53:10+00:00</td>\n      <td>Kodjo61</td>\n      <td>RT @Beefeater_Fella: The American shoe brand #...</td>\n      <td>WORLD</td>\n      <td>527</td>\n      <td>1032</td>\n      <td>137</td>\n      <td>40290</td>\n      <td>['Beefeater_Fella']</td>\n      <td>Beefeater_Fella</td>\n      <td>(WORLD, 河南米山線, 豊里町上町裏, 登米市, 宮城県, 987-0362, 日本,...</td>\n      <td>(38.5890796, 141.248211)</td>\n      <td>38.589080</td>\n      <td>141.248211</td>\n      <td>日本</td>\n    </tr>\n    <tr>\n      <th>83</th>\n      <td>1632454218081599489</td>\n      <td>2022-08-30 15:57:06+00:00</td>\n      <td>2023-03-05 18:53:09+00:00</td>\n      <td>Iseabail_lassy</td>\n      <td>RT @AnnaYurchenko16: My book \"Pysanka: Ukraini...</td>\n      <td>Langley, Virginia</td>\n      <td>1703</td>\n      <td>3004</td>\n      <td>26</td>\n      <td>19138</td>\n      <td>['AnnaYurchenko16']</td>\n      <td>AnnaYurchenko16</td>\n      <td>(Langley, Fairfax County, Virginia, 22101, Uni...</td>\n      <td>(38.9464996, -77.1588685)</td>\n      <td>38.946500</td>\n      <td>-77.158868</td>\n      <td>United States</td>\n    </tr>\n    <tr>\n      <th>85</th>\n      <td>1632454176805470211</td>\n      <td>2015-09-17 14:43:05+00:00</td>\n      <td>2023-03-05 18:52:59+00:00</td>\n      <td>holzmueller2</td>\n      <td>RT @holzmueller2: @JDVance1 @JDVance1 supports...</td>\n      <td>Deutschland</td>\n      <td>48</td>\n      <td>76</td>\n      <td>1</td>\n      <td>11956</td>\n      <td>['holzmueller2', 'JDVance1', 'JDVance1']</td>\n      <td>holzmueller2</td>\n      <td>(Deutschland, (51.1638175, 10.4478313))</td>\n      <td>(51.1638175, 10.4478313)</td>\n      <td>51.163818</td>\n      <td>10.447831</td>\n      <td>Deutschland</td>\n    </tr>\n    <tr>\n      <th>86</th>\n      <td>1632454157377388544</td>\n      <td>2017-07-01 01:53:10+00:00</td>\n      <td>2023-03-05 18:52:55+00:00</td>\n      <td>Shane2020Wales</td>\n      <td>RT @PStyle0ne1: Ukraine will receive more than...</td>\n      <td>United Kingdom</td>\n      <td>4996</td>\n      <td>746</td>\n      <td>22</td>\n      <td>137640</td>\n      <td>['PStyle0ne1']</td>\n      <td>PStyle0ne1</td>\n      <td>(United Kingdom, (54.7023545, -3.2765753))</td>\n      <td>(54.7023545, -3.2765753)</td>\n      <td>54.702354</td>\n      <td>-3.276575</td>\n      <td>United Kingdom</td>\n    </tr>\n    <tr>\n      <th>87</th>\n      <td>1632454145960554497</td>\n      <td>2018-03-30 16:48:50+00:00</td>\n      <td>2023-03-05 18:52:52+00:00</td>\n      <td>ger_cosgrove</td>\n      <td>RT @UAWeapons: #Ukraine: In the East, an aband...</td>\n      <td>Ireland</td>\n      <td>625</td>\n      <td>1205</td>\n      <td>32</td>\n      <td>103921</td>\n      <td>['UAWeapons']</td>\n      <td>UAWeapons</td>\n      <td>(Éire / Ireland, (52.865196, -7.9794599))</td>\n      <td>(52.865196, -7.9794599)</td>\n      <td>52.865196</td>\n      <td>-7.979460</td>\n      <td>Éire / Ireland</td>\n    </tr>\n    <tr>\n      <th>89</th>\n      <td>1632454124561113089</td>\n      <td>2013-01-29 21:58:30+00:00</td>\n      <td>2023-03-05 18:52:47+00:00</td>\n      <td>katsmith71</td>\n      <td>RT @KramarenkoMari3: Russia began using the ne...</td>\n      <td>Texas</td>\n      <td>5006</td>\n      <td>2666</td>\n      <td>54</td>\n      <td>28834</td>\n      <td>['KramarenkoMari3']</td>\n      <td>KramarenkoMari3</td>\n      <td>(Texas, United States, (31.2638905, -98.5456116))</td>\n      <td>(31.2638905, -98.5456116)</td>\n      <td>31.263890</td>\n      <td>-98.545612</td>\n      <td>United States</td>\n    </tr>\n    <tr>\n      <th>92</th>\n      <td>1632454109713268736</td>\n      <td>2011-07-29 08:24:51+00:00</td>\n      <td>2023-03-05 18:52:43+00:00</td>\n      <td>ElEuropeoReal</td>\n      <td>+++ TOPINFO News Ticker: Mientras que esté Ucr...</td>\n      <td>Estados Unidos de Europa</td>\n      <td>1415</td>\n      <td>419</td>\n      <td>0</td>\n      <td>2987</td>\n      <td>[]</td>\n      <td>NaN</td>\n      <td>(Europa, 125, Cherry Street, Black Mountain, B...</td>\n      <td>(35.6165517, -82.3205003)</td>\n      <td>35.616552</td>\n      <td>-82.320500</td>\n      <td>United States</td>\n    </tr>\n    <tr>\n      <th>94</th>\n      <td>1632454101844779008</td>\n      <td>2022-12-31 01:47:31+00:00</td>\n      <td>2023-03-05 18:52:42+00:00</td>\n      <td>VindiceLibertas</td>\n      <td>RT @UAWeapons: #Ukraine: In the East, an aband...</td>\n      <td>United States of America</td>\n      <td>1646</td>\n      <td>297</td>\n      <td>32</td>\n      <td>10523</td>\n      <td>['UAWeapons']</td>\n      <td>UAWeapons</td>\n      <td>(United States, (39.7837304, -100.445882))</td>\n      <td>(39.7837304, -100.445882)</td>\n      <td>39.783730</td>\n      <td>-100.445882</td>\n      <td>United States</td>\n    </tr>\n    <tr>\n      <th>95</th>\n      <td>1632454089425518592</td>\n      <td>2022-08-16 10:30:42+00:00</td>\n      <td>2023-03-05 18:52:39+00:00</td>\n      <td>DenisProkopenk9</td>\n      <td>RT @UAWeapons: #Ukraine: In the East, an aband...</td>\n      <td>Langley, VA</td>\n      <td>105</td>\n      <td>158</td>\n      <td>32</td>\n      <td>18548</td>\n      <td>['UAWeapons']</td>\n      <td>UAWeapons</td>\n      <td>(Langley, Fairfax County, Virginia, 22101, Uni...</td>\n      <td>(38.9464996, -77.1588685)</td>\n      <td>38.946500</td>\n      <td>-77.158868</td>\n      <td>United States</td>\n    </tr>\n  </tbody>\n</table>\n</div>"
     },
     "execution_count": 57,
     "metadata": {},
     "output_type": "execute_result"
    }
   ],
   "source": [
    "# Creamos un objeto geolocalizador de Nominatim\n",
    "geolocator = Nominatim(user_agent=\"my_app\")\n",
    "# Función para obtener el país a partir de las coordenadas\n",
    "def get_country(lat, lon):\n",
    "    location = geolocator.reverse(f\"{lat}, {lon}\")\n",
    "    return location.raw['address']['country']\n",
    "\n",
    "# Aplicamos la función a la columna 'coordenadas' y la almacenamos en una nueva columna 'pais'\n",
    "df_ucraine_trolls_sin_nans_localizacion['pais'] = df_ucraine_trolls_sin_nans_localizacion['latitud_longitud_dividido'].apply(lambda x: get_country(x[0], x[1]))\n",
    "df_ucraine_trolls_sin_nans_localizacion"
   ],
   "metadata": {
    "collapsed": false,
    "ExecuteTime": {
     "start_time": "2023-04-26T11:32:42.082222Z",
     "end_time": "2023-04-26T11:33:05.388922Z"
    }
   }
  },
  {
   "cell_type": "code",
   "execution_count": 57,
   "outputs": [],
   "source": [],
   "metadata": {
    "collapsed": false,
    "ExecuteTime": {
     "start_time": "2023-04-26T11:33:05.389430Z",
     "end_time": "2023-04-26T11:33:05.391440Z"
    }
   }
  },
  {
   "cell_type": "code",
   "execution_count": 58,
   "outputs": [
    {
     "data": {
      "text/plain": "     nombre_usuario                  pais  numero_seguidores  numero_retweets   \n0         5conejo21                México              332.0             32.0  \\\n1     BetiBarrera71                España              528.0            629.5   \n2     BragoVictoria         United States              590.0            102.0   \n3   CigalamProvence                France              172.0              3.0   \n4   DenisProkopenk9         United States              105.0             32.0   \n5          DianeLBW        United Kingdom              881.0             23.0   \n6       DipDevotion             Australia             1147.0              8.0   \n7     ElEuropeoReal         United States             1415.0              0.0   \n8        HopkoHanna               Україна              636.0           1259.0   \n9    Iseabail_lassy         United States             1703.0             26.0   \n10     JackNowicki1        United Kingdom             1642.0              0.0   \n11     JohnKStreet1               Danmark              214.0             29.0   \n12          Kodjo61                    日本              527.0            137.0   \n13        MARIDJE17                France             1044.0             54.0   \n14       Naru1Nolan         United States               22.0            108.0   \n15          OlliWse           Deutschland               93.0            143.0   \n16       PippaPoops         United States              240.0             17.0   \n17         RACZPATT         United States             9386.0             17.0   \n18  RazvanAngelesc2               România              399.0             28.0   \n19         RomacLtd                 Kenya              392.0              2.0   \n20   Shane2020Wales        United Kingdom             4996.0             22.0   \n21         SkA4live               Україна              340.0            294.0   \n22   Twiter__Trends                Polska              120.0              0.0   \n23  VindiceLibertas         United States             1646.0             32.0   \n24  YaroslavaSlava_               Україна               19.0            154.0   \n25           Zdep11                Србија              803.0              8.0   \n26      _Bartotten_           Deutschland             4985.0              9.0   \n27        _murithi_         United States             1637.0              9.0   \n28   alwaysbeenleft                Canada             3377.0              7.0   \n29            anews               Türkiye              275.0              0.0   \n30          atollun              Malaysia             2215.0              5.0   \n31     ben_burnside        United Kingdom              684.0              9.0   \n32         cjostein                 Norge             1042.0             90.0   \n33     ger_cosgrove        Éire / Ireland              625.0             32.0   \n34       glenmexted        United Kingdom             1219.0            935.0   \n35       gunzgal0r3         United States              589.0              2.0   \n36     holzmueller2           Deutschland               48.0              1.0   \n37       itas1000xr                Italia              199.0             32.0   \n38       jerrygarry  New Zealand/Aotearoa              774.0            297.0   \n39   josegregorio11             Venezuela             1615.0             27.0   \n40       katsmith71         United States             5006.0             54.0   \n41         kk131066              Malaysia            26123.0              1.0   \n42           klp723         United States             1476.0              3.0   \n43      lpauladrian               România               70.0            139.0   \n44       samchurms1        United Kingdom              450.0              5.0   \n45       tommy15616         United States              595.0              1.0   \n\n    numero_favoritos  \n0             1000.0  \n1           512499.0  \n2           275641.0  \n3           146506.0  \n4            18548.0  \n5           166324.0  \n6            49348.0  \n7             2987.0  \n8            16967.0  \n9            19138.0  \n10           84166.0  \n11           52144.0  \n12           40290.0  \n13           44138.0  \n14            2001.0  \n15            8771.0  \n16            1510.0  \n17          449472.0  \n18          134777.0  \n19             119.0  \n20          137640.0  \n21           25035.0  \n22             342.0  \n23           10523.0  \n24           36466.0  \n25          125994.0  \n26          222102.0  \n27            1016.0  \n28          124664.0  \n29               1.0  \n30           30604.0  \n31           34299.0  \n32           15933.0  \n33          103921.0  \n34          270323.0  \n35            1682.0  \n36           11956.0  \n37            3632.0  \n38            8471.0  \n39           26040.0  \n40           28834.0  \n41           30791.0  \n42           22898.0  \n43           78388.0  \n44           11983.0  \n45            2808.0  ",
      "text/html": "<div>\n<style scoped>\n    .dataframe tbody tr th:only-of-type {\n        vertical-align: middle;\n    }\n\n    .dataframe tbody tr th {\n        vertical-align: top;\n    }\n\n    .dataframe thead th {\n        text-align: right;\n    }\n</style>\n<table border=\"1\" class=\"dataframe\">\n  <thead>\n    <tr style=\"text-align: right;\">\n      <th></th>\n      <th>nombre_usuario</th>\n      <th>pais</th>\n      <th>numero_seguidores</th>\n      <th>numero_retweets</th>\n      <th>numero_favoritos</th>\n    </tr>\n  </thead>\n  <tbody>\n    <tr>\n      <th>0</th>\n      <td>5conejo21</td>\n      <td>México</td>\n      <td>332.0</td>\n      <td>32.0</td>\n      <td>1000.0</td>\n    </tr>\n    <tr>\n      <th>1</th>\n      <td>BetiBarrera71</td>\n      <td>España</td>\n      <td>528.0</td>\n      <td>629.5</td>\n      <td>512499.0</td>\n    </tr>\n    <tr>\n      <th>2</th>\n      <td>BragoVictoria</td>\n      <td>United States</td>\n      <td>590.0</td>\n      <td>102.0</td>\n      <td>275641.0</td>\n    </tr>\n    <tr>\n      <th>3</th>\n      <td>CigalamProvence</td>\n      <td>France</td>\n      <td>172.0</td>\n      <td>3.0</td>\n      <td>146506.0</td>\n    </tr>\n    <tr>\n      <th>4</th>\n      <td>DenisProkopenk9</td>\n      <td>United States</td>\n      <td>105.0</td>\n      <td>32.0</td>\n      <td>18548.0</td>\n    </tr>\n    <tr>\n      <th>5</th>\n      <td>DianeLBW</td>\n      <td>United Kingdom</td>\n      <td>881.0</td>\n      <td>23.0</td>\n      <td>166324.0</td>\n    </tr>\n    <tr>\n      <th>6</th>\n      <td>DipDevotion</td>\n      <td>Australia</td>\n      <td>1147.0</td>\n      <td>8.0</td>\n      <td>49348.0</td>\n    </tr>\n    <tr>\n      <th>7</th>\n      <td>ElEuropeoReal</td>\n      <td>United States</td>\n      <td>1415.0</td>\n      <td>0.0</td>\n      <td>2987.0</td>\n    </tr>\n    <tr>\n      <th>8</th>\n      <td>HopkoHanna</td>\n      <td>Україна</td>\n      <td>636.0</td>\n      <td>1259.0</td>\n      <td>16967.0</td>\n    </tr>\n    <tr>\n      <th>9</th>\n      <td>Iseabail_lassy</td>\n      <td>United States</td>\n      <td>1703.0</td>\n      <td>26.0</td>\n      <td>19138.0</td>\n    </tr>\n    <tr>\n      <th>10</th>\n      <td>JackNowicki1</td>\n      <td>United Kingdom</td>\n      <td>1642.0</td>\n      <td>0.0</td>\n      <td>84166.0</td>\n    </tr>\n    <tr>\n      <th>11</th>\n      <td>JohnKStreet1</td>\n      <td>Danmark</td>\n      <td>214.0</td>\n      <td>29.0</td>\n      <td>52144.0</td>\n    </tr>\n    <tr>\n      <th>12</th>\n      <td>Kodjo61</td>\n      <td>日本</td>\n      <td>527.0</td>\n      <td>137.0</td>\n      <td>40290.0</td>\n    </tr>\n    <tr>\n      <th>13</th>\n      <td>MARIDJE17</td>\n      <td>France</td>\n      <td>1044.0</td>\n      <td>54.0</td>\n      <td>44138.0</td>\n    </tr>\n    <tr>\n      <th>14</th>\n      <td>Naru1Nolan</td>\n      <td>United States</td>\n      <td>22.0</td>\n      <td>108.0</td>\n      <td>2001.0</td>\n    </tr>\n    <tr>\n      <th>15</th>\n      <td>OlliWse</td>\n      <td>Deutschland</td>\n      <td>93.0</td>\n      <td>143.0</td>\n      <td>8771.0</td>\n    </tr>\n    <tr>\n      <th>16</th>\n      <td>PippaPoops</td>\n      <td>United States</td>\n      <td>240.0</td>\n      <td>17.0</td>\n      <td>1510.0</td>\n    </tr>\n    <tr>\n      <th>17</th>\n      <td>RACZPATT</td>\n      <td>United States</td>\n      <td>9386.0</td>\n      <td>17.0</td>\n      <td>449472.0</td>\n    </tr>\n    <tr>\n      <th>18</th>\n      <td>RazvanAngelesc2</td>\n      <td>România</td>\n      <td>399.0</td>\n      <td>28.0</td>\n      <td>134777.0</td>\n    </tr>\n    <tr>\n      <th>19</th>\n      <td>RomacLtd</td>\n      <td>Kenya</td>\n      <td>392.0</td>\n      <td>2.0</td>\n      <td>119.0</td>\n    </tr>\n    <tr>\n      <th>20</th>\n      <td>Shane2020Wales</td>\n      <td>United Kingdom</td>\n      <td>4996.0</td>\n      <td>22.0</td>\n      <td>137640.0</td>\n    </tr>\n    <tr>\n      <th>21</th>\n      <td>SkA4live</td>\n      <td>Україна</td>\n      <td>340.0</td>\n      <td>294.0</td>\n      <td>25035.0</td>\n    </tr>\n    <tr>\n      <th>22</th>\n      <td>Twiter__Trends</td>\n      <td>Polska</td>\n      <td>120.0</td>\n      <td>0.0</td>\n      <td>342.0</td>\n    </tr>\n    <tr>\n      <th>23</th>\n      <td>VindiceLibertas</td>\n      <td>United States</td>\n      <td>1646.0</td>\n      <td>32.0</td>\n      <td>10523.0</td>\n    </tr>\n    <tr>\n      <th>24</th>\n      <td>YaroslavaSlava_</td>\n      <td>Україна</td>\n      <td>19.0</td>\n      <td>154.0</td>\n      <td>36466.0</td>\n    </tr>\n    <tr>\n      <th>25</th>\n      <td>Zdep11</td>\n      <td>Србија</td>\n      <td>803.0</td>\n      <td>8.0</td>\n      <td>125994.0</td>\n    </tr>\n    <tr>\n      <th>26</th>\n      <td>_Bartotten_</td>\n      <td>Deutschland</td>\n      <td>4985.0</td>\n      <td>9.0</td>\n      <td>222102.0</td>\n    </tr>\n    <tr>\n      <th>27</th>\n      <td>_murithi_</td>\n      <td>United States</td>\n      <td>1637.0</td>\n      <td>9.0</td>\n      <td>1016.0</td>\n    </tr>\n    <tr>\n      <th>28</th>\n      <td>alwaysbeenleft</td>\n      <td>Canada</td>\n      <td>3377.0</td>\n      <td>7.0</td>\n      <td>124664.0</td>\n    </tr>\n    <tr>\n      <th>29</th>\n      <td>anews</td>\n      <td>Türkiye</td>\n      <td>275.0</td>\n      <td>0.0</td>\n      <td>1.0</td>\n    </tr>\n    <tr>\n      <th>30</th>\n      <td>atollun</td>\n      <td>Malaysia</td>\n      <td>2215.0</td>\n      <td>5.0</td>\n      <td>30604.0</td>\n    </tr>\n    <tr>\n      <th>31</th>\n      <td>ben_burnside</td>\n      <td>United Kingdom</td>\n      <td>684.0</td>\n      <td>9.0</td>\n      <td>34299.0</td>\n    </tr>\n    <tr>\n      <th>32</th>\n      <td>cjostein</td>\n      <td>Norge</td>\n      <td>1042.0</td>\n      <td>90.0</td>\n      <td>15933.0</td>\n    </tr>\n    <tr>\n      <th>33</th>\n      <td>ger_cosgrove</td>\n      <td>Éire / Ireland</td>\n      <td>625.0</td>\n      <td>32.0</td>\n      <td>103921.0</td>\n    </tr>\n    <tr>\n      <th>34</th>\n      <td>glenmexted</td>\n      <td>United Kingdom</td>\n      <td>1219.0</td>\n      <td>935.0</td>\n      <td>270323.0</td>\n    </tr>\n    <tr>\n      <th>35</th>\n      <td>gunzgal0r3</td>\n      <td>United States</td>\n      <td>589.0</td>\n      <td>2.0</td>\n      <td>1682.0</td>\n    </tr>\n    <tr>\n      <th>36</th>\n      <td>holzmueller2</td>\n      <td>Deutschland</td>\n      <td>48.0</td>\n      <td>1.0</td>\n      <td>11956.0</td>\n    </tr>\n    <tr>\n      <th>37</th>\n      <td>itas1000xr</td>\n      <td>Italia</td>\n      <td>199.0</td>\n      <td>32.0</td>\n      <td>3632.0</td>\n    </tr>\n    <tr>\n      <th>38</th>\n      <td>jerrygarry</td>\n      <td>New Zealand/Aotearoa</td>\n      <td>774.0</td>\n      <td>297.0</td>\n      <td>8471.0</td>\n    </tr>\n    <tr>\n      <th>39</th>\n      <td>josegregorio11</td>\n      <td>Venezuela</td>\n      <td>1615.0</td>\n      <td>27.0</td>\n      <td>26040.0</td>\n    </tr>\n    <tr>\n      <th>40</th>\n      <td>katsmith71</td>\n      <td>United States</td>\n      <td>5006.0</td>\n      <td>54.0</td>\n      <td>28834.0</td>\n    </tr>\n    <tr>\n      <th>41</th>\n      <td>kk131066</td>\n      <td>Malaysia</td>\n      <td>26123.0</td>\n      <td>1.0</td>\n      <td>30791.0</td>\n    </tr>\n    <tr>\n      <th>42</th>\n      <td>klp723</td>\n      <td>United States</td>\n      <td>1476.0</td>\n      <td>3.0</td>\n      <td>22898.0</td>\n    </tr>\n    <tr>\n      <th>43</th>\n      <td>lpauladrian</td>\n      <td>România</td>\n      <td>70.0</td>\n      <td>139.0</td>\n      <td>78388.0</td>\n    </tr>\n    <tr>\n      <th>44</th>\n      <td>samchurms1</td>\n      <td>United Kingdom</td>\n      <td>450.0</td>\n      <td>5.0</td>\n      <td>11983.0</td>\n    </tr>\n    <tr>\n      <th>45</th>\n      <td>tommy15616</td>\n      <td>United States</td>\n      <td>595.0</td>\n      <td>1.0</td>\n      <td>2808.0</td>\n    </tr>\n  </tbody>\n</table>\n</div>"
     },
     "execution_count": 58,
     "metadata": {},
     "output_type": "execute_result"
    }
   ],
   "source": [
    "df_ucraine_trolls_sin_nans_localizacion_agrupado = df_ucraine_trolls_sin_nans_localizacion.groupby(['nombre_usuario','pais']).agg({'numero_seguidores': 'mean', 'numero_retweets': 'mean', 'numero_favoritos': 'mean'}).reset_index()\n",
    "df_ucraine_trolls_sin_nans_localizacion_agrupado"
   ],
   "metadata": {
    "collapsed": false,
    "ExecuteTime": {
     "start_time": "2023-04-26T11:33:05.404449Z",
     "end_time": "2023-04-26T11:33:05.409400Z"
    }
   }
  },
  {
   "cell_type": "code",
   "execution_count": 59,
   "outputs": [],
   "source": [
    "fig = px.scatter(df_ucraine_trolls_sin_nans_localizacion_agrupado, x=\"numero_retweets\", y=\"numero_favoritos\",\n",
    "\t         size=\"numero_retweets\", color=\"pais\",\n",
    "                 hover_name=\"nombre_usuario\", log_x=True, size_max=60)"
   ],
   "metadata": {
    "collapsed": false,
    "ExecuteTime": {
     "start_time": "2023-04-26T11:33:05.412912Z",
     "end_time": "2023-04-26T11:33:05.568877Z"
    }
   }
  },
  {
   "cell_type": "code",
   "execution_count": 60,
   "outputs": [
    {
     "data": {
      "application/vnd.plotly.v1+json": {
       "data": [
        {
         "hovertemplate": "<b>%{hovertext}</b><br><br>pais=México<br>numero_retweets=%{marker.size}<br>numero_favoritos=%{y}<extra></extra>",
         "hovertext": [
          "5conejo21"
         ],
         "legendgroup": "México",
         "marker": {
          "color": "#636efa",
          "size": [
           32.0
          ],
          "sizemode": "area",
          "sizeref": 0.3497222222222222,
          "symbol": "circle"
         },
         "mode": "markers",
         "name": "México",
         "orientation": "v",
         "showlegend": true,
         "x": [
          32.0
         ],
         "xaxis": "x",
         "y": [
          1000.0
         ],
         "yaxis": "y",
         "type": "scatter"
        },
        {
         "hovertemplate": "<b>%{hovertext}</b><br><br>pais=España<br>numero_retweets=%{marker.size}<br>numero_favoritos=%{y}<extra></extra>",
         "hovertext": [
          "BetiBarrera71"
         ],
         "legendgroup": "España",
         "marker": {
          "color": "#EF553B",
          "size": [
           629.5
          ],
          "sizemode": "area",
          "sizeref": 0.3497222222222222,
          "symbol": "circle"
         },
         "mode": "markers",
         "name": "España",
         "orientation": "v",
         "showlegend": true,
         "x": [
          629.5
         ],
         "xaxis": "x",
         "y": [
          512499.0
         ],
         "yaxis": "y",
         "type": "scatter"
        },
        {
         "hovertemplate": "<b>%{hovertext}</b><br><br>pais=United States<br>numero_retweets=%{marker.size}<br>numero_favoritos=%{y}<extra></extra>",
         "hovertext": [
          "BragoVictoria",
          "DenisProkopenk9",
          "ElEuropeoReal",
          "Iseabail_lassy",
          "Naru1Nolan",
          "PippaPoops",
          "RACZPATT",
          "VindiceLibertas",
          "_murithi_",
          "gunzgal0r3",
          "katsmith71",
          "klp723",
          "tommy15616"
         ],
         "legendgroup": "United States",
         "marker": {
          "color": "#00cc96",
          "size": [
           102.0,
           32.0,
           0.0,
           26.0,
           108.0,
           17.0,
           17.0,
           32.0,
           9.0,
           2.0,
           54.0,
           3.0,
           1.0
          ],
          "sizemode": "area",
          "sizeref": 0.3497222222222222,
          "symbol": "circle"
         },
         "mode": "markers",
         "name": "United States",
         "orientation": "v",
         "showlegend": true,
         "x": [
          102.0,
          32.0,
          0.0,
          26.0,
          108.0,
          17.0,
          17.0,
          32.0,
          9.0,
          2.0,
          54.0,
          3.0,
          1.0
         ],
         "xaxis": "x",
         "y": [
          275641.0,
          18548.0,
          2987.0,
          19138.0,
          2001.0,
          1510.0,
          449472.0,
          10523.0,
          1016.0,
          1682.0,
          28834.0,
          22898.0,
          2808.0
         ],
         "yaxis": "y",
         "type": "scatter"
        },
        {
         "hovertemplate": "<b>%{hovertext}</b><br><br>pais=France<br>numero_retweets=%{marker.size}<br>numero_favoritos=%{y}<extra></extra>",
         "hovertext": [
          "CigalamProvence",
          "MARIDJE17"
         ],
         "legendgroup": "France",
         "marker": {
          "color": "#ab63fa",
          "size": [
           3.0,
           54.0
          ],
          "sizemode": "area",
          "sizeref": 0.3497222222222222,
          "symbol": "circle"
         },
         "mode": "markers",
         "name": "France",
         "orientation": "v",
         "showlegend": true,
         "x": [
          3.0,
          54.0
         ],
         "xaxis": "x",
         "y": [
          146506.0,
          44138.0
         ],
         "yaxis": "y",
         "type": "scatter"
        },
        {
         "hovertemplate": "<b>%{hovertext}</b><br><br>pais=United Kingdom<br>numero_retweets=%{marker.size}<br>numero_favoritos=%{y}<extra></extra>",
         "hovertext": [
          "DianeLBW",
          "JackNowicki1",
          "Shane2020Wales",
          "ben_burnside",
          "glenmexted",
          "samchurms1"
         ],
         "legendgroup": "United Kingdom",
         "marker": {
          "color": "#FFA15A",
          "size": [
           23.0,
           0.0,
           22.0,
           9.0,
           935.0,
           5.0
          ],
          "sizemode": "area",
          "sizeref": 0.3497222222222222,
          "symbol": "circle"
         },
         "mode": "markers",
         "name": "United Kingdom",
         "orientation": "v",
         "showlegend": true,
         "x": [
          23.0,
          0.0,
          22.0,
          9.0,
          935.0,
          5.0
         ],
         "xaxis": "x",
         "y": [
          166324.0,
          84166.0,
          137640.0,
          34299.0,
          270323.0,
          11983.0
         ],
         "yaxis": "y",
         "type": "scatter"
        },
        {
         "hovertemplate": "<b>%{hovertext}</b><br><br>pais=Australia<br>numero_retweets=%{marker.size}<br>numero_favoritos=%{y}<extra></extra>",
         "hovertext": [
          "DipDevotion"
         ],
         "legendgroup": "Australia",
         "marker": {
          "color": "#19d3f3",
          "size": [
           8.0
          ],
          "sizemode": "area",
          "sizeref": 0.3497222222222222,
          "symbol": "circle"
         },
         "mode": "markers",
         "name": "Australia",
         "orientation": "v",
         "showlegend": true,
         "x": [
          8.0
         ],
         "xaxis": "x",
         "y": [
          49348.0
         ],
         "yaxis": "y",
         "type": "scatter"
        },
        {
         "hovertemplate": "<b>%{hovertext}</b><br><br>pais=Україна<br>numero_retweets=%{marker.size}<br>numero_favoritos=%{y}<extra></extra>",
         "hovertext": [
          "HopkoHanna",
          "SkA4live",
          "YaroslavaSlava_"
         ],
         "legendgroup": "Україна",
         "marker": {
          "color": "#FF6692",
          "size": [
           1259.0,
           294.0,
           154.0
          ],
          "sizemode": "area",
          "sizeref": 0.3497222222222222,
          "symbol": "circle"
         },
         "mode": "markers",
         "name": "Україна",
         "orientation": "v",
         "showlegend": true,
         "x": [
          1259.0,
          294.0,
          154.0
         ],
         "xaxis": "x",
         "y": [
          16967.0,
          25035.0,
          36466.0
         ],
         "yaxis": "y",
         "type": "scatter"
        },
        {
         "hovertemplate": "<b>%{hovertext}</b><br><br>pais=Danmark<br>numero_retweets=%{marker.size}<br>numero_favoritos=%{y}<extra></extra>",
         "hovertext": [
          "JohnKStreet1"
         ],
         "legendgroup": "Danmark",
         "marker": {
          "color": "#B6E880",
          "size": [
           29.0
          ],
          "sizemode": "area",
          "sizeref": 0.3497222222222222,
          "symbol": "circle"
         },
         "mode": "markers",
         "name": "Danmark",
         "orientation": "v",
         "showlegend": true,
         "x": [
          29.0
         ],
         "xaxis": "x",
         "y": [
          52144.0
         ],
         "yaxis": "y",
         "type": "scatter"
        },
        {
         "hovertemplate": "<b>%{hovertext}</b><br><br>pais=日本<br>numero_retweets=%{marker.size}<br>numero_favoritos=%{y}<extra></extra>",
         "hovertext": [
          "Kodjo61"
         ],
         "legendgroup": "日本",
         "marker": {
          "color": "#FF97FF",
          "size": [
           137.0
          ],
          "sizemode": "area",
          "sizeref": 0.3497222222222222,
          "symbol": "circle"
         },
         "mode": "markers",
         "name": "日本",
         "orientation": "v",
         "showlegend": true,
         "x": [
          137.0
         ],
         "xaxis": "x",
         "y": [
          40290.0
         ],
         "yaxis": "y",
         "type": "scatter"
        },
        {
         "hovertemplate": "<b>%{hovertext}</b><br><br>pais=Deutschland<br>numero_retweets=%{marker.size}<br>numero_favoritos=%{y}<extra></extra>",
         "hovertext": [
          "OlliWse",
          "_Bartotten_",
          "holzmueller2"
         ],
         "legendgroup": "Deutschland",
         "marker": {
          "color": "#FECB52",
          "size": [
           143.0,
           9.0,
           1.0
          ],
          "sizemode": "area",
          "sizeref": 0.3497222222222222,
          "symbol": "circle"
         },
         "mode": "markers",
         "name": "Deutschland",
         "orientation": "v",
         "showlegend": true,
         "x": [
          143.0,
          9.0,
          1.0
         ],
         "xaxis": "x",
         "y": [
          8771.0,
          222102.0,
          11956.0
         ],
         "yaxis": "y",
         "type": "scatter"
        },
        {
         "hovertemplate": "<b>%{hovertext}</b><br><br>pais=România<br>numero_retweets=%{marker.size}<br>numero_favoritos=%{y}<extra></extra>",
         "hovertext": [
          "RazvanAngelesc2",
          "lpauladrian"
         ],
         "legendgroup": "România",
         "marker": {
          "color": "#636efa",
          "size": [
           28.0,
           139.0
          ],
          "sizemode": "area",
          "sizeref": 0.3497222222222222,
          "symbol": "circle"
         },
         "mode": "markers",
         "name": "România",
         "orientation": "v",
         "showlegend": true,
         "x": [
          28.0,
          139.0
         ],
         "xaxis": "x",
         "y": [
          134777.0,
          78388.0
         ],
         "yaxis": "y",
         "type": "scatter"
        },
        {
         "hovertemplate": "<b>%{hovertext}</b><br><br>pais=Kenya<br>numero_retweets=%{marker.size}<br>numero_favoritos=%{y}<extra></extra>",
         "hovertext": [
          "RomacLtd"
         ],
         "legendgroup": "Kenya",
         "marker": {
          "color": "#EF553B",
          "size": [
           2.0
          ],
          "sizemode": "area",
          "sizeref": 0.3497222222222222,
          "symbol": "circle"
         },
         "mode": "markers",
         "name": "Kenya",
         "orientation": "v",
         "showlegend": true,
         "x": [
          2.0
         ],
         "xaxis": "x",
         "y": [
          119.0
         ],
         "yaxis": "y",
         "type": "scatter"
        },
        {
         "hovertemplate": "<b>%{hovertext}</b><br><br>pais=Polska<br>numero_retweets=%{marker.size}<br>numero_favoritos=%{y}<extra></extra>",
         "hovertext": [
          "Twiter__Trends"
         ],
         "legendgroup": "Polska",
         "marker": {
          "color": "#00cc96",
          "size": [
           0.0
          ],
          "sizemode": "area",
          "sizeref": 0.3497222222222222,
          "symbol": "circle"
         },
         "mode": "markers",
         "name": "Polska",
         "orientation": "v",
         "showlegend": true,
         "x": [
          0.0
         ],
         "xaxis": "x",
         "y": [
          342.0
         ],
         "yaxis": "y",
         "type": "scatter"
        },
        {
         "hovertemplate": "<b>%{hovertext}</b><br><br>pais=Србија<br>numero_retweets=%{marker.size}<br>numero_favoritos=%{y}<extra></extra>",
         "hovertext": [
          "Zdep11"
         ],
         "legendgroup": "Србија",
         "marker": {
          "color": "#ab63fa",
          "size": [
           8.0
          ],
          "sizemode": "area",
          "sizeref": 0.3497222222222222,
          "symbol": "circle"
         },
         "mode": "markers",
         "name": "Србија",
         "orientation": "v",
         "showlegend": true,
         "x": [
          8.0
         ],
         "xaxis": "x",
         "y": [
          125994.0
         ],
         "yaxis": "y",
         "type": "scatter"
        },
        {
         "hovertemplate": "<b>%{hovertext}</b><br><br>pais=Canada<br>numero_retweets=%{marker.size}<br>numero_favoritos=%{y}<extra></extra>",
         "hovertext": [
          "alwaysbeenleft"
         ],
         "legendgroup": "Canada",
         "marker": {
          "color": "#FFA15A",
          "size": [
           7.0
          ],
          "sizemode": "area",
          "sizeref": 0.3497222222222222,
          "symbol": "circle"
         },
         "mode": "markers",
         "name": "Canada",
         "orientation": "v",
         "showlegend": true,
         "x": [
          7.0
         ],
         "xaxis": "x",
         "y": [
          124664.0
         ],
         "yaxis": "y",
         "type": "scatter"
        },
        {
         "hovertemplate": "<b>%{hovertext}</b><br><br>pais=Türkiye<br>numero_retweets=%{marker.size}<br>numero_favoritos=%{y}<extra></extra>",
         "hovertext": [
          "anews"
         ],
         "legendgroup": "Türkiye",
         "marker": {
          "color": "#19d3f3",
          "size": [
           0.0
          ],
          "sizemode": "area",
          "sizeref": 0.3497222222222222,
          "symbol": "circle"
         },
         "mode": "markers",
         "name": "Türkiye",
         "orientation": "v",
         "showlegend": true,
         "x": [
          0.0
         ],
         "xaxis": "x",
         "y": [
          1.0
         ],
         "yaxis": "y",
         "type": "scatter"
        },
        {
         "hovertemplate": "<b>%{hovertext}</b><br><br>pais=Malaysia<br>numero_retweets=%{marker.size}<br>numero_favoritos=%{y}<extra></extra>",
         "hovertext": [
          "atollun",
          "kk131066"
         ],
         "legendgroup": "Malaysia",
         "marker": {
          "color": "#FF6692",
          "size": [
           5.0,
           1.0
          ],
          "sizemode": "area",
          "sizeref": 0.3497222222222222,
          "symbol": "circle"
         },
         "mode": "markers",
         "name": "Malaysia",
         "orientation": "v",
         "showlegend": true,
         "x": [
          5.0,
          1.0
         ],
         "xaxis": "x",
         "y": [
          30604.0,
          30791.0
         ],
         "yaxis": "y",
         "type": "scatter"
        },
        {
         "hovertemplate": "<b>%{hovertext}</b><br><br>pais=Norge<br>numero_retweets=%{marker.size}<br>numero_favoritos=%{y}<extra></extra>",
         "hovertext": [
          "cjostein"
         ],
         "legendgroup": "Norge",
         "marker": {
          "color": "#B6E880",
          "size": [
           90.0
          ],
          "sizemode": "area",
          "sizeref": 0.3497222222222222,
          "symbol": "circle"
         },
         "mode": "markers",
         "name": "Norge",
         "orientation": "v",
         "showlegend": true,
         "x": [
          90.0
         ],
         "xaxis": "x",
         "y": [
          15933.0
         ],
         "yaxis": "y",
         "type": "scatter"
        },
        {
         "hovertemplate": "<b>%{hovertext}</b><br><br>pais=Éire / Ireland<br>numero_retweets=%{marker.size}<br>numero_favoritos=%{y}<extra></extra>",
         "hovertext": [
          "ger_cosgrove"
         ],
         "legendgroup": "Éire / Ireland",
         "marker": {
          "color": "#FF97FF",
          "size": [
           32.0
          ],
          "sizemode": "area",
          "sizeref": 0.3497222222222222,
          "symbol": "circle"
         },
         "mode": "markers",
         "name": "Éire / Ireland",
         "orientation": "v",
         "showlegend": true,
         "x": [
          32.0
         ],
         "xaxis": "x",
         "y": [
          103921.0
         ],
         "yaxis": "y",
         "type": "scatter"
        },
        {
         "hovertemplate": "<b>%{hovertext}</b><br><br>pais=Italia<br>numero_retweets=%{marker.size}<br>numero_favoritos=%{y}<extra></extra>",
         "hovertext": [
          "itas1000xr"
         ],
         "legendgroup": "Italia",
         "marker": {
          "color": "#FECB52",
          "size": [
           32.0
          ],
          "sizemode": "area",
          "sizeref": 0.3497222222222222,
          "symbol": "circle"
         },
         "mode": "markers",
         "name": "Italia",
         "orientation": "v",
         "showlegend": true,
         "x": [
          32.0
         ],
         "xaxis": "x",
         "y": [
          3632.0
         ],
         "yaxis": "y",
         "type": "scatter"
        },
        {
         "hovertemplate": "<b>%{hovertext}</b><br><br>pais=New Zealand/Aotearoa<br>numero_retweets=%{marker.size}<br>numero_favoritos=%{y}<extra></extra>",
         "hovertext": [
          "jerrygarry"
         ],
         "legendgroup": "New Zealand/Aotearoa",
         "marker": {
          "color": "#636efa",
          "size": [
           297.0
          ],
          "sizemode": "area",
          "sizeref": 0.3497222222222222,
          "symbol": "circle"
         },
         "mode": "markers",
         "name": "New Zealand/Aotearoa",
         "orientation": "v",
         "showlegend": true,
         "x": [
          297.0
         ],
         "xaxis": "x",
         "y": [
          8471.0
         ],
         "yaxis": "y",
         "type": "scatter"
        },
        {
         "hovertemplate": "<b>%{hovertext}</b><br><br>pais=Venezuela<br>numero_retweets=%{marker.size}<br>numero_favoritos=%{y}<extra></extra>",
         "hovertext": [
          "josegregorio11"
         ],
         "legendgroup": "Venezuela",
         "marker": {
          "color": "#EF553B",
          "size": [
           27.0
          ],
          "sizemode": "area",
          "sizeref": 0.3497222222222222,
          "symbol": "circle"
         },
         "mode": "markers",
         "name": "Venezuela",
         "orientation": "v",
         "showlegend": true,
         "x": [
          27.0
         ],
         "xaxis": "x",
         "y": [
          26040.0
         ],
         "yaxis": "y",
         "type": "scatter"
        }
       ],
       "layout": {
        "template": {
         "data": {
          "histogram2dcontour": [
           {
            "type": "histogram2dcontour",
            "colorbar": {
             "outlinewidth": 0,
             "ticks": ""
            },
            "colorscale": [
             [
              0.0,
              "#0d0887"
             ],
             [
              0.1111111111111111,
              "#46039f"
             ],
             [
              0.2222222222222222,
              "#7201a8"
             ],
             [
              0.3333333333333333,
              "#9c179e"
             ],
             [
              0.4444444444444444,
              "#bd3786"
             ],
             [
              0.5555555555555556,
              "#d8576b"
             ],
             [
              0.6666666666666666,
              "#ed7953"
             ],
             [
              0.7777777777777778,
              "#fb9f3a"
             ],
             [
              0.8888888888888888,
              "#fdca26"
             ],
             [
              1.0,
              "#f0f921"
             ]
            ]
           }
          ],
          "choropleth": [
           {
            "type": "choropleth",
            "colorbar": {
             "outlinewidth": 0,
             "ticks": ""
            }
           }
          ],
          "histogram2d": [
           {
            "type": "histogram2d",
            "colorbar": {
             "outlinewidth": 0,
             "ticks": ""
            },
            "colorscale": [
             [
              0.0,
              "#0d0887"
             ],
             [
              0.1111111111111111,
              "#46039f"
             ],
             [
              0.2222222222222222,
              "#7201a8"
             ],
             [
              0.3333333333333333,
              "#9c179e"
             ],
             [
              0.4444444444444444,
              "#bd3786"
             ],
             [
              0.5555555555555556,
              "#d8576b"
             ],
             [
              0.6666666666666666,
              "#ed7953"
             ],
             [
              0.7777777777777778,
              "#fb9f3a"
             ],
             [
              0.8888888888888888,
              "#fdca26"
             ],
             [
              1.0,
              "#f0f921"
             ]
            ]
           }
          ],
          "heatmap": [
           {
            "type": "heatmap",
            "colorbar": {
             "outlinewidth": 0,
             "ticks": ""
            },
            "colorscale": [
             [
              0.0,
              "#0d0887"
             ],
             [
              0.1111111111111111,
              "#46039f"
             ],
             [
              0.2222222222222222,
              "#7201a8"
             ],
             [
              0.3333333333333333,
              "#9c179e"
             ],
             [
              0.4444444444444444,
              "#bd3786"
             ],
             [
              0.5555555555555556,
              "#d8576b"
             ],
             [
              0.6666666666666666,
              "#ed7953"
             ],
             [
              0.7777777777777778,
              "#fb9f3a"
             ],
             [
              0.8888888888888888,
              "#fdca26"
             ],
             [
              1.0,
              "#f0f921"
             ]
            ]
           }
          ],
          "heatmapgl": [
           {
            "type": "heatmapgl",
            "colorbar": {
             "outlinewidth": 0,
             "ticks": ""
            },
            "colorscale": [
             [
              0.0,
              "#0d0887"
             ],
             [
              0.1111111111111111,
              "#46039f"
             ],
             [
              0.2222222222222222,
              "#7201a8"
             ],
             [
              0.3333333333333333,
              "#9c179e"
             ],
             [
              0.4444444444444444,
              "#bd3786"
             ],
             [
              0.5555555555555556,
              "#d8576b"
             ],
             [
              0.6666666666666666,
              "#ed7953"
             ],
             [
              0.7777777777777778,
              "#fb9f3a"
             ],
             [
              0.8888888888888888,
              "#fdca26"
             ],
             [
              1.0,
              "#f0f921"
             ]
            ]
           }
          ],
          "contourcarpet": [
           {
            "type": "contourcarpet",
            "colorbar": {
             "outlinewidth": 0,
             "ticks": ""
            }
           }
          ],
          "contour": [
           {
            "type": "contour",
            "colorbar": {
             "outlinewidth": 0,
             "ticks": ""
            },
            "colorscale": [
             [
              0.0,
              "#0d0887"
             ],
             [
              0.1111111111111111,
              "#46039f"
             ],
             [
              0.2222222222222222,
              "#7201a8"
             ],
             [
              0.3333333333333333,
              "#9c179e"
             ],
             [
              0.4444444444444444,
              "#bd3786"
             ],
             [
              0.5555555555555556,
              "#d8576b"
             ],
             [
              0.6666666666666666,
              "#ed7953"
             ],
             [
              0.7777777777777778,
              "#fb9f3a"
             ],
             [
              0.8888888888888888,
              "#fdca26"
             ],
             [
              1.0,
              "#f0f921"
             ]
            ]
           }
          ],
          "surface": [
           {
            "type": "surface",
            "colorbar": {
             "outlinewidth": 0,
             "ticks": ""
            },
            "colorscale": [
             [
              0.0,
              "#0d0887"
             ],
             [
              0.1111111111111111,
              "#46039f"
             ],
             [
              0.2222222222222222,
              "#7201a8"
             ],
             [
              0.3333333333333333,
              "#9c179e"
             ],
             [
              0.4444444444444444,
              "#bd3786"
             ],
             [
              0.5555555555555556,
              "#d8576b"
             ],
             [
              0.6666666666666666,
              "#ed7953"
             ],
             [
              0.7777777777777778,
              "#fb9f3a"
             ],
             [
              0.8888888888888888,
              "#fdca26"
             ],
             [
              1.0,
              "#f0f921"
             ]
            ]
           }
          ],
          "mesh3d": [
           {
            "type": "mesh3d",
            "colorbar": {
             "outlinewidth": 0,
             "ticks": ""
            }
           }
          ],
          "scatter": [
           {
            "marker": {
             "line": {
              "color": "#283442"
             }
            },
            "type": "scatter"
           }
          ],
          "parcoords": [
           {
            "type": "parcoords",
            "line": {
             "colorbar": {
              "outlinewidth": 0,
              "ticks": ""
             }
            }
           }
          ],
          "scatterpolargl": [
           {
            "type": "scatterpolargl",
            "marker": {
             "colorbar": {
              "outlinewidth": 0,
              "ticks": ""
             }
            }
           }
          ],
          "bar": [
           {
            "error_x": {
             "color": "#f2f5fa"
            },
            "error_y": {
             "color": "#f2f5fa"
            },
            "marker": {
             "line": {
              "color": "rgb(17,17,17)",
              "width": 0.5
             },
             "pattern": {
              "fillmode": "overlay",
              "size": 10,
              "solidity": 0.2
             }
            },
            "type": "bar"
           }
          ],
          "scattergeo": [
           {
            "type": "scattergeo",
            "marker": {
             "colorbar": {
              "outlinewidth": 0,
              "ticks": ""
             }
            }
           }
          ],
          "scatterpolar": [
           {
            "type": "scatterpolar",
            "marker": {
             "colorbar": {
              "outlinewidth": 0,
              "ticks": ""
             }
            }
           }
          ],
          "histogram": [
           {
            "marker": {
             "pattern": {
              "fillmode": "overlay",
              "size": 10,
              "solidity": 0.2
             }
            },
            "type": "histogram"
           }
          ],
          "scattergl": [
           {
            "marker": {
             "line": {
              "color": "#283442"
             }
            },
            "type": "scattergl"
           }
          ],
          "scatter3d": [
           {
            "type": "scatter3d",
            "line": {
             "colorbar": {
              "outlinewidth": 0,
              "ticks": ""
             }
            },
            "marker": {
             "colorbar": {
              "outlinewidth": 0,
              "ticks": ""
             }
            }
           }
          ],
          "scattermapbox": [
           {
            "type": "scattermapbox",
            "marker": {
             "colorbar": {
              "outlinewidth": 0,
              "ticks": ""
             }
            }
           }
          ],
          "scatterternary": [
           {
            "type": "scatterternary",
            "marker": {
             "colorbar": {
              "outlinewidth": 0,
              "ticks": ""
             }
            }
           }
          ],
          "scattercarpet": [
           {
            "type": "scattercarpet",
            "marker": {
             "colorbar": {
              "outlinewidth": 0,
              "ticks": ""
             }
            }
           }
          ],
          "carpet": [
           {
            "aaxis": {
             "endlinecolor": "#A2B1C6",
             "gridcolor": "#506784",
             "linecolor": "#506784",
             "minorgridcolor": "#506784",
             "startlinecolor": "#A2B1C6"
            },
            "baxis": {
             "endlinecolor": "#A2B1C6",
             "gridcolor": "#506784",
             "linecolor": "#506784",
             "minorgridcolor": "#506784",
             "startlinecolor": "#A2B1C6"
            },
            "type": "carpet"
           }
          ],
          "table": [
           {
            "cells": {
             "fill": {
              "color": "#506784"
             },
             "line": {
              "color": "rgb(17,17,17)"
             }
            },
            "header": {
             "fill": {
              "color": "#2a3f5f"
             },
             "line": {
              "color": "rgb(17,17,17)"
             }
            },
            "type": "table"
           }
          ],
          "barpolar": [
           {
            "marker": {
             "line": {
              "color": "rgb(17,17,17)",
              "width": 0.5
             },
             "pattern": {
              "fillmode": "overlay",
              "size": 10,
              "solidity": 0.2
             }
            },
            "type": "barpolar"
           }
          ],
          "pie": [
           {
            "automargin": true,
            "type": "pie"
           }
          ]
         },
         "layout": {
          "autotypenumbers": "strict",
          "colorway": [
           "#636efa",
           "#EF553B",
           "#00cc96",
           "#ab63fa",
           "#FFA15A",
           "#19d3f3",
           "#FF6692",
           "#B6E880",
           "#FF97FF",
           "#FECB52"
          ],
          "font": {
           "color": "#f2f5fa"
          },
          "hovermode": "closest",
          "hoverlabel": {
           "align": "left"
          },
          "paper_bgcolor": "rgb(17,17,17)",
          "plot_bgcolor": "rgb(17,17,17)",
          "polar": {
           "bgcolor": "rgb(17,17,17)",
           "angularaxis": {
            "gridcolor": "#506784",
            "linecolor": "#506784",
            "ticks": ""
           },
           "radialaxis": {
            "gridcolor": "#506784",
            "linecolor": "#506784",
            "ticks": ""
           }
          },
          "ternary": {
           "bgcolor": "rgb(17,17,17)",
           "aaxis": {
            "gridcolor": "#506784",
            "linecolor": "#506784",
            "ticks": ""
           },
           "baxis": {
            "gridcolor": "#506784",
            "linecolor": "#506784",
            "ticks": ""
           },
           "caxis": {
            "gridcolor": "#506784",
            "linecolor": "#506784",
            "ticks": ""
           }
          },
          "coloraxis": {
           "colorbar": {
            "outlinewidth": 0,
            "ticks": ""
           }
          },
          "colorscale": {
           "sequential": [
            [
             0.0,
             "#0d0887"
            ],
            [
             0.1111111111111111,
             "#46039f"
            ],
            [
             0.2222222222222222,
             "#7201a8"
            ],
            [
             0.3333333333333333,
             "#9c179e"
            ],
            [
             0.4444444444444444,
             "#bd3786"
            ],
            [
             0.5555555555555556,
             "#d8576b"
            ],
            [
             0.6666666666666666,
             "#ed7953"
            ],
            [
             0.7777777777777778,
             "#fb9f3a"
            ],
            [
             0.8888888888888888,
             "#fdca26"
            ],
            [
             1.0,
             "#f0f921"
            ]
           ],
           "sequentialminus": [
            [
             0.0,
             "#0d0887"
            ],
            [
             0.1111111111111111,
             "#46039f"
            ],
            [
             0.2222222222222222,
             "#7201a8"
            ],
            [
             0.3333333333333333,
             "#9c179e"
            ],
            [
             0.4444444444444444,
             "#bd3786"
            ],
            [
             0.5555555555555556,
             "#d8576b"
            ],
            [
             0.6666666666666666,
             "#ed7953"
            ],
            [
             0.7777777777777778,
             "#fb9f3a"
            ],
            [
             0.8888888888888888,
             "#fdca26"
            ],
            [
             1.0,
             "#f0f921"
            ]
           ],
           "diverging": [
            [
             0,
             "#8e0152"
            ],
            [
             0.1,
             "#c51b7d"
            ],
            [
             0.2,
             "#de77ae"
            ],
            [
             0.3,
             "#f1b6da"
            ],
            [
             0.4,
             "#fde0ef"
            ],
            [
             0.5,
             "#f7f7f7"
            ],
            [
             0.6,
             "#e6f5d0"
            ],
            [
             0.7,
             "#b8e186"
            ],
            [
             0.8,
             "#7fbc41"
            ],
            [
             0.9,
             "#4d9221"
            ],
            [
             1,
             "#276419"
            ]
           ]
          },
          "xaxis": {
           "gridcolor": "#283442",
           "linecolor": "#506784",
           "ticks": "",
           "title": {
            "standoff": 15
           },
           "zerolinecolor": "#283442",
           "automargin": true,
           "zerolinewidth": 2
          },
          "yaxis": {
           "gridcolor": "#283442",
           "linecolor": "#506784",
           "ticks": "",
           "title": {
            "standoff": 15
           },
           "zerolinecolor": "#283442",
           "automargin": true,
           "zerolinewidth": 2
          },
          "scene": {
           "xaxis": {
            "backgroundcolor": "rgb(17,17,17)",
            "gridcolor": "#506784",
            "linecolor": "#506784",
            "showbackground": true,
            "ticks": "",
            "zerolinecolor": "#C8D4E3",
            "gridwidth": 2
           },
           "yaxis": {
            "backgroundcolor": "rgb(17,17,17)",
            "gridcolor": "#506784",
            "linecolor": "#506784",
            "showbackground": true,
            "ticks": "",
            "zerolinecolor": "#C8D4E3",
            "gridwidth": 2
           },
           "zaxis": {
            "backgroundcolor": "rgb(17,17,17)",
            "gridcolor": "#506784",
            "linecolor": "#506784",
            "showbackground": true,
            "ticks": "",
            "zerolinecolor": "#C8D4E3",
            "gridwidth": 2
           }
          },
          "shapedefaults": {
           "line": {
            "color": "#f2f5fa"
           }
          },
          "annotationdefaults": {
           "arrowcolor": "#f2f5fa",
           "arrowhead": 0,
           "arrowwidth": 1
          },
          "geo": {
           "bgcolor": "rgb(17,17,17)",
           "landcolor": "rgb(17,17,17)",
           "subunitcolor": "#506784",
           "showland": true,
           "showlakes": true,
           "lakecolor": "rgb(17,17,17)"
          },
          "title": {
           "x": 0.05
          },
          "updatemenudefaults": {
           "bgcolor": "#506784",
           "borderwidth": 0
          },
          "sliderdefaults": {
           "bgcolor": "#C8D4E3",
           "borderwidth": 1,
           "bordercolor": "rgb(17,17,17)",
           "tickwidth": 0
          },
          "mapbox": {
           "style": "dark"
          }
         }
        },
        "xaxis": {
         "anchor": "y",
         "domain": [
          0.0,
          1.0
         ],
         "title": {
          "text": "numero_retweets"
         },
         "type": "log"
        },
        "yaxis": {
         "anchor": "x",
         "domain": [
          0.0,
          1.0
         ],
         "title": {
          "text": "numero_favoritos"
         }
        },
        "legend": {
         "title": {
          "text": "pais"
         },
         "tracegroupgap": 0,
         "itemsizing": "constant"
        },
        "margin": {
         "t": 60
        }
       },
       "config": {
        "plotlyServerURL": "https://plot.ly"
       }
      },
      "text/html": "<div>                            <div id=\"501aa6d6-f681-4f94-bd00-bac2852f24ca\" class=\"plotly-graph-div\" style=\"height:525px; width:100%;\"></div>            <script type=\"text/javascript\">                require([\"plotly\"], function(Plotly) {                    window.PLOTLYENV=window.PLOTLYENV || {};                                    if (document.getElementById(\"501aa6d6-f681-4f94-bd00-bac2852f24ca\")) {                    Plotly.newPlot(                        \"501aa6d6-f681-4f94-bd00-bac2852f24ca\",                        [{\"hovertemplate\":\"<b>%{hovertext}</b><br><br>pais=M\\u00e9xico<br>numero_retweets=%{marker.size}<br>numero_favoritos=%{y}<extra></extra>\",\"hovertext\":[\"5conejo21\"],\"legendgroup\":\"M\\u00e9xico\",\"marker\":{\"color\":\"#636efa\",\"size\":[32.0],\"sizemode\":\"area\",\"sizeref\":0.3497222222222222,\"symbol\":\"circle\"},\"mode\":\"markers\",\"name\":\"M\\u00e9xico\",\"orientation\":\"v\",\"showlegend\":true,\"x\":[32.0],\"xaxis\":\"x\",\"y\":[1000.0],\"yaxis\":\"y\",\"type\":\"scatter\"},{\"hovertemplate\":\"<b>%{hovertext}</b><br><br>pais=Espa\\u00f1a<br>numero_retweets=%{marker.size}<br>numero_favoritos=%{y}<extra></extra>\",\"hovertext\":[\"BetiBarrera71\"],\"legendgroup\":\"Espa\\u00f1a\",\"marker\":{\"color\":\"#EF553B\",\"size\":[629.5],\"sizemode\":\"area\",\"sizeref\":0.3497222222222222,\"symbol\":\"circle\"},\"mode\":\"markers\",\"name\":\"Espa\\u00f1a\",\"orientation\":\"v\",\"showlegend\":true,\"x\":[629.5],\"xaxis\":\"x\",\"y\":[512499.0],\"yaxis\":\"y\",\"type\":\"scatter\"},{\"hovertemplate\":\"<b>%{hovertext}</b><br><br>pais=United States<br>numero_retweets=%{marker.size}<br>numero_favoritos=%{y}<extra></extra>\",\"hovertext\":[\"BragoVictoria\",\"DenisProkopenk9\",\"ElEuropeoReal\",\"Iseabail_lassy\",\"Naru1Nolan\",\"PippaPoops\",\"RACZPATT\",\"VindiceLibertas\",\"_murithi_\",\"gunzgal0r3\",\"katsmith71\",\"klp723\",\"tommy15616\"],\"legendgroup\":\"United States\",\"marker\":{\"color\":\"#00cc96\",\"size\":[102.0,32.0,0.0,26.0,108.0,17.0,17.0,32.0,9.0,2.0,54.0,3.0,1.0],\"sizemode\":\"area\",\"sizeref\":0.3497222222222222,\"symbol\":\"circle\"},\"mode\":\"markers\",\"name\":\"United States\",\"orientation\":\"v\",\"showlegend\":true,\"x\":[102.0,32.0,0.0,26.0,108.0,17.0,17.0,32.0,9.0,2.0,54.0,3.0,1.0],\"xaxis\":\"x\",\"y\":[275641.0,18548.0,2987.0,19138.0,2001.0,1510.0,449472.0,10523.0,1016.0,1682.0,28834.0,22898.0,2808.0],\"yaxis\":\"y\",\"type\":\"scatter\"},{\"hovertemplate\":\"<b>%{hovertext}</b><br><br>pais=France<br>numero_retweets=%{marker.size}<br>numero_favoritos=%{y}<extra></extra>\",\"hovertext\":[\"CigalamProvence\",\"MARIDJE17\"],\"legendgroup\":\"France\",\"marker\":{\"color\":\"#ab63fa\",\"size\":[3.0,54.0],\"sizemode\":\"area\",\"sizeref\":0.3497222222222222,\"symbol\":\"circle\"},\"mode\":\"markers\",\"name\":\"France\",\"orientation\":\"v\",\"showlegend\":true,\"x\":[3.0,54.0],\"xaxis\":\"x\",\"y\":[146506.0,44138.0],\"yaxis\":\"y\",\"type\":\"scatter\"},{\"hovertemplate\":\"<b>%{hovertext}</b><br><br>pais=United Kingdom<br>numero_retweets=%{marker.size}<br>numero_favoritos=%{y}<extra></extra>\",\"hovertext\":[\"DianeLBW\",\"JackNowicki1\",\"Shane2020Wales\",\"ben_burnside\",\"glenmexted\",\"samchurms1\"],\"legendgroup\":\"United Kingdom\",\"marker\":{\"color\":\"#FFA15A\",\"size\":[23.0,0.0,22.0,9.0,935.0,5.0],\"sizemode\":\"area\",\"sizeref\":0.3497222222222222,\"symbol\":\"circle\"},\"mode\":\"markers\",\"name\":\"United Kingdom\",\"orientation\":\"v\",\"showlegend\":true,\"x\":[23.0,0.0,22.0,9.0,935.0,5.0],\"xaxis\":\"x\",\"y\":[166324.0,84166.0,137640.0,34299.0,270323.0,11983.0],\"yaxis\":\"y\",\"type\":\"scatter\"},{\"hovertemplate\":\"<b>%{hovertext}</b><br><br>pais=Australia<br>numero_retweets=%{marker.size}<br>numero_favoritos=%{y}<extra></extra>\",\"hovertext\":[\"DipDevotion\"],\"legendgroup\":\"Australia\",\"marker\":{\"color\":\"#19d3f3\",\"size\":[8.0],\"sizemode\":\"area\",\"sizeref\":0.3497222222222222,\"symbol\":\"circle\"},\"mode\":\"markers\",\"name\":\"Australia\",\"orientation\":\"v\",\"showlegend\":true,\"x\":[8.0],\"xaxis\":\"x\",\"y\":[49348.0],\"yaxis\":\"y\",\"type\":\"scatter\"},{\"hovertemplate\":\"<b>%{hovertext}</b><br><br>pais=\\u0423\\u043a\\u0440\\u0430\\u0457\\u043d\\u0430<br>numero_retweets=%{marker.size}<br>numero_favoritos=%{y}<extra></extra>\",\"hovertext\":[\"HopkoHanna\",\"SkA4live\",\"YaroslavaSlava_\"],\"legendgroup\":\"\\u0423\\u043a\\u0440\\u0430\\u0457\\u043d\\u0430\",\"marker\":{\"color\":\"#FF6692\",\"size\":[1259.0,294.0,154.0],\"sizemode\":\"area\",\"sizeref\":0.3497222222222222,\"symbol\":\"circle\"},\"mode\":\"markers\",\"name\":\"\\u0423\\u043a\\u0440\\u0430\\u0457\\u043d\\u0430\",\"orientation\":\"v\",\"showlegend\":true,\"x\":[1259.0,294.0,154.0],\"xaxis\":\"x\",\"y\":[16967.0,25035.0,36466.0],\"yaxis\":\"y\",\"type\":\"scatter\"},{\"hovertemplate\":\"<b>%{hovertext}</b><br><br>pais=Danmark<br>numero_retweets=%{marker.size}<br>numero_favoritos=%{y}<extra></extra>\",\"hovertext\":[\"JohnKStreet1\"],\"legendgroup\":\"Danmark\",\"marker\":{\"color\":\"#B6E880\",\"size\":[29.0],\"sizemode\":\"area\",\"sizeref\":0.3497222222222222,\"symbol\":\"circle\"},\"mode\":\"markers\",\"name\":\"Danmark\",\"orientation\":\"v\",\"showlegend\":true,\"x\":[29.0],\"xaxis\":\"x\",\"y\":[52144.0],\"yaxis\":\"y\",\"type\":\"scatter\"},{\"hovertemplate\":\"<b>%{hovertext}</b><br><br>pais=\\u65e5\\u672c<br>numero_retweets=%{marker.size}<br>numero_favoritos=%{y}<extra></extra>\",\"hovertext\":[\"Kodjo61\"],\"legendgroup\":\"\\u65e5\\u672c\",\"marker\":{\"color\":\"#FF97FF\",\"size\":[137.0],\"sizemode\":\"area\",\"sizeref\":0.3497222222222222,\"symbol\":\"circle\"},\"mode\":\"markers\",\"name\":\"\\u65e5\\u672c\",\"orientation\":\"v\",\"showlegend\":true,\"x\":[137.0],\"xaxis\":\"x\",\"y\":[40290.0],\"yaxis\":\"y\",\"type\":\"scatter\"},{\"hovertemplate\":\"<b>%{hovertext}</b><br><br>pais=Deutschland<br>numero_retweets=%{marker.size}<br>numero_favoritos=%{y}<extra></extra>\",\"hovertext\":[\"OlliWse\",\"_Bartotten_\",\"holzmueller2\"],\"legendgroup\":\"Deutschland\",\"marker\":{\"color\":\"#FECB52\",\"size\":[143.0,9.0,1.0],\"sizemode\":\"area\",\"sizeref\":0.3497222222222222,\"symbol\":\"circle\"},\"mode\":\"markers\",\"name\":\"Deutschland\",\"orientation\":\"v\",\"showlegend\":true,\"x\":[143.0,9.0,1.0],\"xaxis\":\"x\",\"y\":[8771.0,222102.0,11956.0],\"yaxis\":\"y\",\"type\":\"scatter\"},{\"hovertemplate\":\"<b>%{hovertext}</b><br><br>pais=Rom\\u00e2nia<br>numero_retweets=%{marker.size}<br>numero_favoritos=%{y}<extra></extra>\",\"hovertext\":[\"RazvanAngelesc2\",\"lpauladrian\"],\"legendgroup\":\"Rom\\u00e2nia\",\"marker\":{\"color\":\"#636efa\",\"size\":[28.0,139.0],\"sizemode\":\"area\",\"sizeref\":0.3497222222222222,\"symbol\":\"circle\"},\"mode\":\"markers\",\"name\":\"Rom\\u00e2nia\",\"orientation\":\"v\",\"showlegend\":true,\"x\":[28.0,139.0],\"xaxis\":\"x\",\"y\":[134777.0,78388.0],\"yaxis\":\"y\",\"type\":\"scatter\"},{\"hovertemplate\":\"<b>%{hovertext}</b><br><br>pais=Kenya<br>numero_retweets=%{marker.size}<br>numero_favoritos=%{y}<extra></extra>\",\"hovertext\":[\"RomacLtd\"],\"legendgroup\":\"Kenya\",\"marker\":{\"color\":\"#EF553B\",\"size\":[2.0],\"sizemode\":\"area\",\"sizeref\":0.3497222222222222,\"symbol\":\"circle\"},\"mode\":\"markers\",\"name\":\"Kenya\",\"orientation\":\"v\",\"showlegend\":true,\"x\":[2.0],\"xaxis\":\"x\",\"y\":[119.0],\"yaxis\":\"y\",\"type\":\"scatter\"},{\"hovertemplate\":\"<b>%{hovertext}</b><br><br>pais=Polska<br>numero_retweets=%{marker.size}<br>numero_favoritos=%{y}<extra></extra>\",\"hovertext\":[\"Twiter__Trends\"],\"legendgroup\":\"Polska\",\"marker\":{\"color\":\"#00cc96\",\"size\":[0.0],\"sizemode\":\"area\",\"sizeref\":0.3497222222222222,\"symbol\":\"circle\"},\"mode\":\"markers\",\"name\":\"Polska\",\"orientation\":\"v\",\"showlegend\":true,\"x\":[0.0],\"xaxis\":\"x\",\"y\":[342.0],\"yaxis\":\"y\",\"type\":\"scatter\"},{\"hovertemplate\":\"<b>%{hovertext}</b><br><br>pais=\\u0421\\u0440\\u0431\\u0438\\u0458\\u0430<br>numero_retweets=%{marker.size}<br>numero_favoritos=%{y}<extra></extra>\",\"hovertext\":[\"Zdep11\"],\"legendgroup\":\"\\u0421\\u0440\\u0431\\u0438\\u0458\\u0430\",\"marker\":{\"color\":\"#ab63fa\",\"size\":[8.0],\"sizemode\":\"area\",\"sizeref\":0.3497222222222222,\"symbol\":\"circle\"},\"mode\":\"markers\",\"name\":\"\\u0421\\u0440\\u0431\\u0438\\u0458\\u0430\",\"orientation\":\"v\",\"showlegend\":true,\"x\":[8.0],\"xaxis\":\"x\",\"y\":[125994.0],\"yaxis\":\"y\",\"type\":\"scatter\"},{\"hovertemplate\":\"<b>%{hovertext}</b><br><br>pais=Canada<br>numero_retweets=%{marker.size}<br>numero_favoritos=%{y}<extra></extra>\",\"hovertext\":[\"alwaysbeenleft\"],\"legendgroup\":\"Canada\",\"marker\":{\"color\":\"#FFA15A\",\"size\":[7.0],\"sizemode\":\"area\",\"sizeref\":0.3497222222222222,\"symbol\":\"circle\"},\"mode\":\"markers\",\"name\":\"Canada\",\"orientation\":\"v\",\"showlegend\":true,\"x\":[7.0],\"xaxis\":\"x\",\"y\":[124664.0],\"yaxis\":\"y\",\"type\":\"scatter\"},{\"hovertemplate\":\"<b>%{hovertext}</b><br><br>pais=T\\u00fcrkiye<br>numero_retweets=%{marker.size}<br>numero_favoritos=%{y}<extra></extra>\",\"hovertext\":[\"anews\"],\"legendgroup\":\"T\\u00fcrkiye\",\"marker\":{\"color\":\"#19d3f3\",\"size\":[0.0],\"sizemode\":\"area\",\"sizeref\":0.3497222222222222,\"symbol\":\"circle\"},\"mode\":\"markers\",\"name\":\"T\\u00fcrkiye\",\"orientation\":\"v\",\"showlegend\":true,\"x\":[0.0],\"xaxis\":\"x\",\"y\":[1.0],\"yaxis\":\"y\",\"type\":\"scatter\"},{\"hovertemplate\":\"<b>%{hovertext}</b><br><br>pais=Malaysia<br>numero_retweets=%{marker.size}<br>numero_favoritos=%{y}<extra></extra>\",\"hovertext\":[\"atollun\",\"kk131066\"],\"legendgroup\":\"Malaysia\",\"marker\":{\"color\":\"#FF6692\",\"size\":[5.0,1.0],\"sizemode\":\"area\",\"sizeref\":0.3497222222222222,\"symbol\":\"circle\"},\"mode\":\"markers\",\"name\":\"Malaysia\",\"orientation\":\"v\",\"showlegend\":true,\"x\":[5.0,1.0],\"xaxis\":\"x\",\"y\":[30604.0,30791.0],\"yaxis\":\"y\",\"type\":\"scatter\"},{\"hovertemplate\":\"<b>%{hovertext}</b><br><br>pais=Norge<br>numero_retweets=%{marker.size}<br>numero_favoritos=%{y}<extra></extra>\",\"hovertext\":[\"cjostein\"],\"legendgroup\":\"Norge\",\"marker\":{\"color\":\"#B6E880\",\"size\":[90.0],\"sizemode\":\"area\",\"sizeref\":0.3497222222222222,\"symbol\":\"circle\"},\"mode\":\"markers\",\"name\":\"Norge\",\"orientation\":\"v\",\"showlegend\":true,\"x\":[90.0],\"xaxis\":\"x\",\"y\":[15933.0],\"yaxis\":\"y\",\"type\":\"scatter\"},{\"hovertemplate\":\"<b>%{hovertext}</b><br><br>pais=\\u00c9ire / Ireland<br>numero_retweets=%{marker.size}<br>numero_favoritos=%{y}<extra></extra>\",\"hovertext\":[\"ger_cosgrove\"],\"legendgroup\":\"\\u00c9ire / Ireland\",\"marker\":{\"color\":\"#FF97FF\",\"size\":[32.0],\"sizemode\":\"area\",\"sizeref\":0.3497222222222222,\"symbol\":\"circle\"},\"mode\":\"markers\",\"name\":\"\\u00c9ire / Ireland\",\"orientation\":\"v\",\"showlegend\":true,\"x\":[32.0],\"xaxis\":\"x\",\"y\":[103921.0],\"yaxis\":\"y\",\"type\":\"scatter\"},{\"hovertemplate\":\"<b>%{hovertext}</b><br><br>pais=Italia<br>numero_retweets=%{marker.size}<br>numero_favoritos=%{y}<extra></extra>\",\"hovertext\":[\"itas1000xr\"],\"legendgroup\":\"Italia\",\"marker\":{\"color\":\"#FECB52\",\"size\":[32.0],\"sizemode\":\"area\",\"sizeref\":0.3497222222222222,\"symbol\":\"circle\"},\"mode\":\"markers\",\"name\":\"Italia\",\"orientation\":\"v\",\"showlegend\":true,\"x\":[32.0],\"xaxis\":\"x\",\"y\":[3632.0],\"yaxis\":\"y\",\"type\":\"scatter\"},{\"hovertemplate\":\"<b>%{hovertext}</b><br><br>pais=New Zealand/Aotearoa<br>numero_retweets=%{marker.size}<br>numero_favoritos=%{y}<extra></extra>\",\"hovertext\":[\"jerrygarry\"],\"legendgroup\":\"New Zealand/Aotearoa\",\"marker\":{\"color\":\"#636efa\",\"size\":[297.0],\"sizemode\":\"area\",\"sizeref\":0.3497222222222222,\"symbol\":\"circle\"},\"mode\":\"markers\",\"name\":\"New Zealand/Aotearoa\",\"orientation\":\"v\",\"showlegend\":true,\"x\":[297.0],\"xaxis\":\"x\",\"y\":[8471.0],\"yaxis\":\"y\",\"type\":\"scatter\"},{\"hovertemplate\":\"<b>%{hovertext}</b><br><br>pais=Venezuela<br>numero_retweets=%{marker.size}<br>numero_favoritos=%{y}<extra></extra>\",\"hovertext\":[\"josegregorio11\"],\"legendgroup\":\"Venezuela\",\"marker\":{\"color\":\"#EF553B\",\"size\":[27.0],\"sizemode\":\"area\",\"sizeref\":0.3497222222222222,\"symbol\":\"circle\"},\"mode\":\"markers\",\"name\":\"Venezuela\",\"orientation\":\"v\",\"showlegend\":true,\"x\":[27.0],\"xaxis\":\"x\",\"y\":[26040.0],\"yaxis\":\"y\",\"type\":\"scatter\"}],                        {\"template\":{\"data\":{\"histogram2dcontour\":[{\"type\":\"histogram2dcontour\",\"colorbar\":{\"outlinewidth\":0,\"ticks\":\"\"},\"colorscale\":[[0.0,\"#0d0887\"],[0.1111111111111111,\"#46039f\"],[0.2222222222222222,\"#7201a8\"],[0.3333333333333333,\"#9c179e\"],[0.4444444444444444,\"#bd3786\"],[0.5555555555555556,\"#d8576b\"],[0.6666666666666666,\"#ed7953\"],[0.7777777777777778,\"#fb9f3a\"],[0.8888888888888888,\"#fdca26\"],[1.0,\"#f0f921\"]]}],\"choropleth\":[{\"type\":\"choropleth\",\"colorbar\":{\"outlinewidth\":0,\"ticks\":\"\"}}],\"histogram2d\":[{\"type\":\"histogram2d\",\"colorbar\":{\"outlinewidth\":0,\"ticks\":\"\"},\"colorscale\":[[0.0,\"#0d0887\"],[0.1111111111111111,\"#46039f\"],[0.2222222222222222,\"#7201a8\"],[0.3333333333333333,\"#9c179e\"],[0.4444444444444444,\"#bd3786\"],[0.5555555555555556,\"#d8576b\"],[0.6666666666666666,\"#ed7953\"],[0.7777777777777778,\"#fb9f3a\"],[0.8888888888888888,\"#fdca26\"],[1.0,\"#f0f921\"]]}],\"heatmap\":[{\"type\":\"heatmap\",\"colorbar\":{\"outlinewidth\":0,\"ticks\":\"\"},\"colorscale\":[[0.0,\"#0d0887\"],[0.1111111111111111,\"#46039f\"],[0.2222222222222222,\"#7201a8\"],[0.3333333333333333,\"#9c179e\"],[0.4444444444444444,\"#bd3786\"],[0.5555555555555556,\"#d8576b\"],[0.6666666666666666,\"#ed7953\"],[0.7777777777777778,\"#fb9f3a\"],[0.8888888888888888,\"#fdca26\"],[1.0,\"#f0f921\"]]}],\"heatmapgl\":[{\"type\":\"heatmapgl\",\"colorbar\":{\"outlinewidth\":0,\"ticks\":\"\"},\"colorscale\":[[0.0,\"#0d0887\"],[0.1111111111111111,\"#46039f\"],[0.2222222222222222,\"#7201a8\"],[0.3333333333333333,\"#9c179e\"],[0.4444444444444444,\"#bd3786\"],[0.5555555555555556,\"#d8576b\"],[0.6666666666666666,\"#ed7953\"],[0.7777777777777778,\"#fb9f3a\"],[0.8888888888888888,\"#fdca26\"],[1.0,\"#f0f921\"]]}],\"contourcarpet\":[{\"type\":\"contourcarpet\",\"colorbar\":{\"outlinewidth\":0,\"ticks\":\"\"}}],\"contour\":[{\"type\":\"contour\",\"colorbar\":{\"outlinewidth\":0,\"ticks\":\"\"},\"colorscale\":[[0.0,\"#0d0887\"],[0.1111111111111111,\"#46039f\"],[0.2222222222222222,\"#7201a8\"],[0.3333333333333333,\"#9c179e\"],[0.4444444444444444,\"#bd3786\"],[0.5555555555555556,\"#d8576b\"],[0.6666666666666666,\"#ed7953\"],[0.7777777777777778,\"#fb9f3a\"],[0.8888888888888888,\"#fdca26\"],[1.0,\"#f0f921\"]]}],\"surface\":[{\"type\":\"surface\",\"colorbar\":{\"outlinewidth\":0,\"ticks\":\"\"},\"colorscale\":[[0.0,\"#0d0887\"],[0.1111111111111111,\"#46039f\"],[0.2222222222222222,\"#7201a8\"],[0.3333333333333333,\"#9c179e\"],[0.4444444444444444,\"#bd3786\"],[0.5555555555555556,\"#d8576b\"],[0.6666666666666666,\"#ed7953\"],[0.7777777777777778,\"#fb9f3a\"],[0.8888888888888888,\"#fdca26\"],[1.0,\"#f0f921\"]]}],\"mesh3d\":[{\"type\":\"mesh3d\",\"colorbar\":{\"outlinewidth\":0,\"ticks\":\"\"}}],\"scatter\":[{\"marker\":{\"line\":{\"color\":\"#283442\"}},\"type\":\"scatter\"}],\"parcoords\":[{\"type\":\"parcoords\",\"line\":{\"colorbar\":{\"outlinewidth\":0,\"ticks\":\"\"}}}],\"scatterpolargl\":[{\"type\":\"scatterpolargl\",\"marker\":{\"colorbar\":{\"outlinewidth\":0,\"ticks\":\"\"}}}],\"bar\":[{\"error_x\":{\"color\":\"#f2f5fa\"},\"error_y\":{\"color\":\"#f2f5fa\"},\"marker\":{\"line\":{\"color\":\"rgb(17,17,17)\",\"width\":0.5},\"pattern\":{\"fillmode\":\"overlay\",\"size\":10,\"solidity\":0.2}},\"type\":\"bar\"}],\"scattergeo\":[{\"type\":\"scattergeo\",\"marker\":{\"colorbar\":{\"outlinewidth\":0,\"ticks\":\"\"}}}],\"scatterpolar\":[{\"type\":\"scatterpolar\",\"marker\":{\"colorbar\":{\"outlinewidth\":0,\"ticks\":\"\"}}}],\"histogram\":[{\"marker\":{\"pattern\":{\"fillmode\":\"overlay\",\"size\":10,\"solidity\":0.2}},\"type\":\"histogram\"}],\"scattergl\":[{\"marker\":{\"line\":{\"color\":\"#283442\"}},\"type\":\"scattergl\"}],\"scatter3d\":[{\"type\":\"scatter3d\",\"line\":{\"colorbar\":{\"outlinewidth\":0,\"ticks\":\"\"}},\"marker\":{\"colorbar\":{\"outlinewidth\":0,\"ticks\":\"\"}}}],\"scattermapbox\":[{\"type\":\"scattermapbox\",\"marker\":{\"colorbar\":{\"outlinewidth\":0,\"ticks\":\"\"}}}],\"scatterternary\":[{\"type\":\"scatterternary\",\"marker\":{\"colorbar\":{\"outlinewidth\":0,\"ticks\":\"\"}}}],\"scattercarpet\":[{\"type\":\"scattercarpet\",\"marker\":{\"colorbar\":{\"outlinewidth\":0,\"ticks\":\"\"}}}],\"carpet\":[{\"aaxis\":{\"endlinecolor\":\"#A2B1C6\",\"gridcolor\":\"#506784\",\"linecolor\":\"#506784\",\"minorgridcolor\":\"#506784\",\"startlinecolor\":\"#A2B1C6\"},\"baxis\":{\"endlinecolor\":\"#A2B1C6\",\"gridcolor\":\"#506784\",\"linecolor\":\"#506784\",\"minorgridcolor\":\"#506784\",\"startlinecolor\":\"#A2B1C6\"},\"type\":\"carpet\"}],\"table\":[{\"cells\":{\"fill\":{\"color\":\"#506784\"},\"line\":{\"color\":\"rgb(17,17,17)\"}},\"header\":{\"fill\":{\"color\":\"#2a3f5f\"},\"line\":{\"color\":\"rgb(17,17,17)\"}},\"type\":\"table\"}],\"barpolar\":[{\"marker\":{\"line\":{\"color\":\"rgb(17,17,17)\",\"width\":0.5},\"pattern\":{\"fillmode\":\"overlay\",\"size\":10,\"solidity\":0.2}},\"type\":\"barpolar\"}],\"pie\":[{\"automargin\":true,\"type\":\"pie\"}]},\"layout\":{\"autotypenumbers\":\"strict\",\"colorway\":[\"#636efa\",\"#EF553B\",\"#00cc96\",\"#ab63fa\",\"#FFA15A\",\"#19d3f3\",\"#FF6692\",\"#B6E880\",\"#FF97FF\",\"#FECB52\"],\"font\":{\"color\":\"#f2f5fa\"},\"hovermode\":\"closest\",\"hoverlabel\":{\"align\":\"left\"},\"paper_bgcolor\":\"rgb(17,17,17)\",\"plot_bgcolor\":\"rgb(17,17,17)\",\"polar\":{\"bgcolor\":\"rgb(17,17,17)\",\"angularaxis\":{\"gridcolor\":\"#506784\",\"linecolor\":\"#506784\",\"ticks\":\"\"},\"radialaxis\":{\"gridcolor\":\"#506784\",\"linecolor\":\"#506784\",\"ticks\":\"\"}},\"ternary\":{\"bgcolor\":\"rgb(17,17,17)\",\"aaxis\":{\"gridcolor\":\"#506784\",\"linecolor\":\"#506784\",\"ticks\":\"\"},\"baxis\":{\"gridcolor\":\"#506784\",\"linecolor\":\"#506784\",\"ticks\":\"\"},\"caxis\":{\"gridcolor\":\"#506784\",\"linecolor\":\"#506784\",\"ticks\":\"\"}},\"coloraxis\":{\"colorbar\":{\"outlinewidth\":0,\"ticks\":\"\"}},\"colorscale\":{\"sequential\":[[0.0,\"#0d0887\"],[0.1111111111111111,\"#46039f\"],[0.2222222222222222,\"#7201a8\"],[0.3333333333333333,\"#9c179e\"],[0.4444444444444444,\"#bd3786\"],[0.5555555555555556,\"#d8576b\"],[0.6666666666666666,\"#ed7953\"],[0.7777777777777778,\"#fb9f3a\"],[0.8888888888888888,\"#fdca26\"],[1.0,\"#f0f921\"]],\"sequentialminus\":[[0.0,\"#0d0887\"],[0.1111111111111111,\"#46039f\"],[0.2222222222222222,\"#7201a8\"],[0.3333333333333333,\"#9c179e\"],[0.4444444444444444,\"#bd3786\"],[0.5555555555555556,\"#d8576b\"],[0.6666666666666666,\"#ed7953\"],[0.7777777777777778,\"#fb9f3a\"],[0.8888888888888888,\"#fdca26\"],[1.0,\"#f0f921\"]],\"diverging\":[[0,\"#8e0152\"],[0.1,\"#c51b7d\"],[0.2,\"#de77ae\"],[0.3,\"#f1b6da\"],[0.4,\"#fde0ef\"],[0.5,\"#f7f7f7\"],[0.6,\"#e6f5d0\"],[0.7,\"#b8e186\"],[0.8,\"#7fbc41\"],[0.9,\"#4d9221\"],[1,\"#276419\"]]},\"xaxis\":{\"gridcolor\":\"#283442\",\"linecolor\":\"#506784\",\"ticks\":\"\",\"title\":{\"standoff\":15},\"zerolinecolor\":\"#283442\",\"automargin\":true,\"zerolinewidth\":2},\"yaxis\":{\"gridcolor\":\"#283442\",\"linecolor\":\"#506784\",\"ticks\":\"\",\"title\":{\"standoff\":15},\"zerolinecolor\":\"#283442\",\"automargin\":true,\"zerolinewidth\":2},\"scene\":{\"xaxis\":{\"backgroundcolor\":\"rgb(17,17,17)\",\"gridcolor\":\"#506784\",\"linecolor\":\"#506784\",\"showbackground\":true,\"ticks\":\"\",\"zerolinecolor\":\"#C8D4E3\",\"gridwidth\":2},\"yaxis\":{\"backgroundcolor\":\"rgb(17,17,17)\",\"gridcolor\":\"#506784\",\"linecolor\":\"#506784\",\"showbackground\":true,\"ticks\":\"\",\"zerolinecolor\":\"#C8D4E3\",\"gridwidth\":2},\"zaxis\":{\"backgroundcolor\":\"rgb(17,17,17)\",\"gridcolor\":\"#506784\",\"linecolor\":\"#506784\",\"showbackground\":true,\"ticks\":\"\",\"zerolinecolor\":\"#C8D4E3\",\"gridwidth\":2}},\"shapedefaults\":{\"line\":{\"color\":\"#f2f5fa\"}},\"annotationdefaults\":{\"arrowcolor\":\"#f2f5fa\",\"arrowhead\":0,\"arrowwidth\":1},\"geo\":{\"bgcolor\":\"rgb(17,17,17)\",\"landcolor\":\"rgb(17,17,17)\",\"subunitcolor\":\"#506784\",\"showland\":true,\"showlakes\":true,\"lakecolor\":\"rgb(17,17,17)\"},\"title\":{\"x\":0.05},\"updatemenudefaults\":{\"bgcolor\":\"#506784\",\"borderwidth\":0},\"sliderdefaults\":{\"bgcolor\":\"#C8D4E3\",\"borderwidth\":1,\"bordercolor\":\"rgb(17,17,17)\",\"tickwidth\":0},\"mapbox\":{\"style\":\"dark\"}}},\"xaxis\":{\"anchor\":\"y\",\"domain\":[0.0,1.0],\"title\":{\"text\":\"numero_retweets\"},\"type\":\"log\"},\"yaxis\":{\"anchor\":\"x\",\"domain\":[0.0,1.0],\"title\":{\"text\":\"numero_favoritos\"}},\"legend\":{\"title\":{\"text\":\"pais\"},\"tracegroupgap\":0,\"itemsizing\":\"constant\"},\"margin\":{\"t\":60}},                        {\"responsive\": true}                    ).then(function(){\n                            \nvar gd = document.getElementById('501aa6d6-f681-4f94-bd00-bac2852f24ca');\nvar x = new MutationObserver(function (mutations, observer) {{\n        var display = window.getComputedStyle(gd).display;\n        if (!display || display === 'none') {{\n            console.log([gd, 'removed!']);\n            Plotly.purge(gd);\n            observer.disconnect();\n        }}\n}});\n\n// Listen for the removal of the full notebook cells\nvar notebookContainer = gd.closest('#notebook-container');\nif (notebookContainer) {{\n    x.observe(notebookContainer, {childList: true});\n}}\n\n// Listen for the clearing of the current output cell\nvar outputEl = gd.closest('.output');\nif (outputEl) {{\n    x.observe(outputEl, {childList: true});\n}}\n\n                        })                };                });            </script>        </div>"
     },
     "metadata": {},
     "output_type": "display_data"
    }
   ],
   "source": [
    "fig.show()"
   ],
   "metadata": {
    "collapsed": false,
    "ExecuteTime": {
     "start_time": "2023-04-26T11:33:05.570878Z",
     "end_time": "2023-04-26T11:33:05.581206Z"
    }
   }
  },
  {
   "cell_type": "markdown",
   "source": [
    "### BUBBLE MAPS VISUALIZATIONS"
   ],
   "metadata": {
    "collapsed": false
   }
  },
  {
   "cell_type": "code",
   "execution_count": 61,
   "outputs": [
    {
     "data": {
      "text/plain": "                     ID  Fecha_de_creacion_usuario   Fecha_creacion_del_tweet   \n0   1632454841023823874  2012-01-04 17:11:08+00:00  2023-03-05 18:55:38+00:00  \\\n1   1632454835143360521  2022-04-26 04:09:08+00:00  2023-03-05 18:55:36+00:00   \n5   1632454814599720972  2009-08-02 17:34:58+00:00  2023-03-05 18:55:32+00:00   \n13  1632454773533298695  2014-06-06 20:06:29+00:00  2023-03-05 18:55:22+00:00   \n14  1632454772354588674  2022-02-28 11:14:27+00:00  2023-03-05 18:55:21+00:00   \n20  1632454741979549696  2017-03-03 08:44:19+00:00  2023-03-05 18:55:14+00:00   \n21  1632454734413201408  2018-12-03 23:35:36+00:00  2023-03-05 18:55:12+00:00   \n22  1632454731997106176  2011-04-19 06:31:53+00:00  2023-03-05 18:55:12+00:00   \n25  1632454715622522884  2022-02-26 16:16:04+00:00  2023-03-05 18:55:08+00:00   \n26  1632454713747689474  2011-01-19 21:04:01+00:00  2023-03-05 18:55:07+00:00   \n27  1632454699906392065  2010-12-21 13:04:34+00:00  2023-03-05 18:55:04+00:00   \n31  1632454639621746690  2022-09-16 13:11:51+00:00  2023-03-05 18:54:50+00:00   \n34  1632454627416322048  2022-02-15 23:14:01+00:00  2023-03-05 18:54:47+00:00   \n35  1632454614183231489  2014-07-07 22:15:00+00:00  2023-03-05 18:54:44+00:00   \n36  1632454613663199234  2016-11-19 00:20:08+00:00  2023-03-05 18:54:44+00:00   \n37  1632454609242320896  2022-02-26 16:47:09+00:00  2023-03-05 18:54:43+00:00   \n39  1632454589839552514  2022-09-15 14:46:14+00:00  2023-03-05 18:54:38+00:00   \n41  1632454586853208065  2012-05-06 09:37:00+00:00  2023-03-05 18:54:37+00:00   \n44  1632454557081956353  2012-01-25 12:49:44+00:00  2023-03-05 18:54:30+00:00   \n45  1632454553214808064  2020-04-09 08:07:16+00:00  2023-03-05 18:54:29+00:00   \n47  1632454551629611008  2014-08-12 07:16:09+00:00  2023-03-05 18:54:29+00:00   \n49  1632454540611182592  2018-08-29 21:30:49+00:00  2023-03-05 18:54:26+00:00   \n50  1632454540539711490  2016-10-21 13:00:46+00:00  2023-03-05 18:54:26+00:00   \n52  1632454536144076803  2018-02-01 08:52:28+00:00  2023-03-05 18:54:25+00:00   \n53  1632454515914932224  2014-03-05 19:35:29+00:00  2023-03-05 18:54:20+00:00   \n54  1632454515382272001  2023-01-17 18:04:48+00:00  2023-03-05 18:54:20+00:00   \n55  1632454498290479115  2012-02-27 00:01:11+00:00  2023-03-05 18:54:16+00:00   \n56  1632454485678215168  2012-02-27 00:01:11+00:00  2023-03-05 18:54:13+00:00   \n58  1632454475414745089  2021-09-24 21:42:12+00:00  2023-03-05 18:54:11+00:00   \n59  1632454473330094082  2009-05-25 08:27:04+00:00  2023-03-05 18:54:10+00:00   \n63  1632454454355312640  2010-01-22 04:31:17+00:00  2023-03-05 18:54:06+00:00   \n66  1632454441461768192  2018-08-10 20:31:07+00:00  2023-03-05 18:54:03+00:00   \n67  1632454408784031749  2010-06-30 19:04:59+00:00  2023-03-05 18:53:55+00:00   \n68  1632454399481004032  2021-08-16 09:18:23+00:00  2023-03-05 18:53:53+00:00   \n70  1632454378203369474  2013-02-19 10:04:00+00:00  2023-03-05 18:53:47+00:00   \n73  1632454333387378690  2010-03-28 02:58:53+00:00  2023-03-05 18:53:37+00:00   \n78  1632454280975200256  2009-04-02 14:45:30+00:00  2023-03-05 18:53:24+00:00   \n80  1632454262696607744  2019-11-27 19:13:27+00:00  2023-03-05 18:53:20+00:00   \n82  1632454219725692935  2022-02-27 09:10:05+00:00  2023-03-05 18:53:10+00:00   \n83  1632454218081599489  2022-08-30 15:57:06+00:00  2023-03-05 18:53:09+00:00   \n85  1632454176805470211  2015-09-17 14:43:05+00:00  2023-03-05 18:52:59+00:00   \n86  1632454157377388544  2017-07-01 01:53:10+00:00  2023-03-05 18:52:55+00:00   \n87  1632454145960554497  2018-03-30 16:48:50+00:00  2023-03-05 18:52:52+00:00   \n89  1632454124561113089  2013-01-29 21:58:30+00:00  2023-03-05 18:52:47+00:00   \n92  1632454109713268736  2011-07-29 08:24:51+00:00  2023-03-05 18:52:43+00:00   \n94  1632454101844779008  2022-12-31 01:47:31+00:00  2023-03-05 18:52:42+00:00   \n95  1632454089425518592  2022-08-16 10:30:42+00:00  2023-03-05 18:52:39+00:00   \n\n     nombre_usuario                                              texto   \n0      ben_burnside  RT @CalibreObscura: Only in #Ukraine: A PM M19...  \\\n1          cjostein  RT @TruthPuke: #NATO military equipment in the...   \n5    josegregorio11  RT @WarFrontline: 🚨#Breaking,Equipment of the ...   \n13         RACZPATT  RT @ClearBlueSee: A woman leaves her abusive e...   \n14       itas1000xr  RT @UAWeapons: #Ukraine: In the East, an aband...   \n20         RomacLtd  RT @yingying_Xauusd: Every time gold falls, it...   \n21   alwaysbeenleft  RT @dimitrilascaris: The Western punditry has ...   \n22        _murithi_  RT @CalibreObscura: Only in #Ukraine: A PM M19...   \n25  RazvanAngelesc2  RT @GlasnostGone: As the #RussianArmy is trend...   \n26      _Bartotten_  RT @CalibreObscura: Only in #Ukraine: A PM M19...   \n27         DianeLBW  RT @GlasnostGone: Goodnight #Ukraine. What cou...   \n31       PippaPoops  RT @Toddy_xgp: In partnership between @MarkHam...   \n34          OlliWse  RT @CalibreObscura: #Ukraine: Two FV103 Sparta...   \n35       HopkoHanna  RT @OstapYarysh: When I first saw these images...   \n36       gunzgal0r3  RT @Mrgunsngear: Check out this modified Maxim...   \n37      lpauladrian  RT @Tendar: The first 2 Ukrainian pilots are i...   \n39  YaroslavaSlava_  RT @GlasnostGone: Russia's killed #Ukraine's \"...   \n41  CigalamProvence  RT @HeliosRunner: 9/  As for the #Svatove to #...   \n44     JackNowicki1  Countries attacked by #Russian vs. those attac...   \n45           Zdep11  RT @CNoodles918: To put it into perspective, t...   \n47           klp723  RT @UA_patriot_news: 📍#Crimea. The first army ...   \n49    BragoVictoria  RT @TheStudyofWar: Latest on #Ukraine:\\r\\n\\r\\n...   \n50            anews  Battle for eastern Donbas is \"painful and diff...   \n52     JohnKStreet1  RT @GlasnostGone: 720,000 reasons to laugh som...   \n53          atollun  RT @Ukrainianfree66: Instead of a thousand wor...   \n54       Naru1Nolan  RT @UAWeapons: #Ukraine: A Ukrainian Panthera ...   \n55    BetiBarrera71  RT @javierespinosa2: #Wagner’s penal battalion...   \n56    BetiBarrera71  RT @OstapYarysh: When I first saw these images...   \n58        5conejo21  RT @UAWeapons: #Ukraine: In the East, an aband...   \n59       glenmexted  RT @WarWritings: Ukrainian athlete and defende...   \n63      DipDevotion  RT @mog7546: @TreasChest Two Ukrainian pilots ...   \n66       samchurms1  RT @Ukrainianfree66: Instead of a thousand wor...   \n67         SkA4live  RT @Tendar: The state of the Russian defense i...   \n68   Twiter__Trends  The construction of a railway line from the bo...   \n70        MARIDJE17  RT @KramarenkoMari3: Russia began using the ne...   \n73       jerrygarry  RT @GlasnostGone: When cartoons nail it. The c...   \n78       tommy15616  RT @NTDNews: Amid rising tensions as Kyiv alle...   \n80         kk131066  RT @kk131066: Who cares what people say if wha...   \n82          Kodjo61  RT @Beefeater_Fella: The American shoe brand #...   \n83   Iseabail_lassy  RT @AnnaYurchenko16: My book \"Pysanka: Ukraini...   \n85     holzmueller2  RT @holzmueller2: @JDVance1 @JDVance1 supports...   \n86   Shane2020Wales  RT @PStyle0ne1: Ukraine will receive more than...   \n87     ger_cosgrove  RT @UAWeapons: #Ukraine: In the East, an aband...   \n89       katsmith71  RT @KramarenkoMari3: Russia began using the ne...   \n92    ElEuropeoReal  +++ TOPINFO News Ticker: Mientras que esté Ucr...   \n94  VindiceLibertas  RT @UAWeapons: #Ukraine: In the East, an aband...   \n95  DenisProkopenk9  RT @UAWeapons: #Ukraine: In the East, an aband...   \n\n                  localizacion  numero_seguidores  numero_seguidos   \n0                           UK                684               90  \\\n1                         Oslo               1042              207   \n5                      Caracas               1615             1293   \n13                 Hamburg, NY               9386             8538   \n14                      Italia                199               70   \n20                       Kenya                392               42   \n21  Cowichan, British Columbia               3377             3239   \n22                     Nowhere               1637              302   \n25          Bucharest, Romania                399              192   \n26                   Duitsland               4985             1442   \n27                   St Helens                881             1624   \n31                         USA                240               56   \n34                   Europe 🇪🇺                 93               49   \n35               Kyiv, Ukraine                636            16958   \n36                Indiana, USA                589               22   \n37          Timişoara, România                 70               41   \n39                     Україна                 19               11   \n41                      France                172              175   \n44              United Kingdom               1642              804   \n45                     Beograd                803             1025   \n47             Federal Way, WA               1476              704   \n49                 Los Angeles                590              604   \n50            Istanbul, Turkey                275            35217   \n52           Bornholm, Danmark                214              165   \n53                   The Earth               2215              369   \n54                    Hell, MI                 22                2   \n55                   Barcelona                528              823   \n56                   Barcelona                528              823   \n58          Celaya, Guanajuato                332               66   \n59                      london               1219             1209   \n63           Sydney, Australia               1147              351   \n66     England, United Kingdom                450              272   \n67               Kyiv, Ukraine                340               70   \n68           Podlaskie, Polska                120              728   \n70               Paris, France               1044              360   \n73       Auckland, New Zealand                774              132   \n78                    Illinois                595              463   \n80      Kuala Lumpur, Malaysia              26123            31482   \n82                       WORLD                527             1032   \n83           Langley, Virginia               1703             3004   \n85                 Deutschland                 48               76   \n86              United Kingdom               4996              746   \n87                     Ireland                625             1205   \n89                       Texas               5006             2666   \n92    Estados Unidos de Europa               1415              419   \n94    United States of America               1646              297   \n95                 Langley, VA                105              158   \n\n    numero_retweets  numero_favoritos   \n0                 9             34299  \\\n1                90             15933   \n5                27             26040   \n13               17            449472   \n14               32              3632   \n20                2               119   \n21                7            124664   \n22                9              1016   \n25               28            134777   \n26                9            222102   \n27               23            166324   \n31               17              1510   \n34              143              8771   \n35             1259             16967   \n36                2              1682   \n37              139             78388   \n39              154             36466   \n41                3            146506   \n44                0             84166   \n45                8            125994   \n47                3             22898   \n49              102            275641   \n50                0                 1   \n52               29             52144   \n53                5             30604   \n54              108              2001   \n55                0            512499   \n56             1259            512499   \n58               32              1000   \n59              935            270323   \n63                8             49348   \n66                5             11983   \n67              294             25035   \n68                0               342   \n70               54             44138   \n73              297              8471   \n78                1              2808   \n80                1             30791   \n82              137             40290   \n83               26             19138   \n85                1             11956   \n86               22            137640   \n87               32            103921   \n89               54             28834   \n92                0              2987   \n94               32             10523   \n95               32             18548   \n\n                                            menciones          retweet   \n0                                  ['CalibreObscura']   CalibreObscura  \\\n1                                       ['TruthPuke']        TruthPuke   \n5                                    ['WarFrontline']     WarFrontline   \n13                                   ['ClearBlueSee']     ClearBlueSee   \n14                                      ['UAWeapons']        UAWeapons   \n20                                ['yingying_Xauusd']  yingying_Xauusd   \n21                                ['dimitrilascaris']  dimitrilascaris   \n22                                 ['CalibreObscura']   CalibreObscura   \n25                                   ['GlasnostGone']     GlasnostGone   \n26                                 ['CalibreObscura']   CalibreObscura   \n27                                   ['GlasnostGone']     GlasnostGone   \n31  ['Toddy_xgp', 'MarkHamill', 'U24_gov_ua', 'geo...        Toddy_xgp   \n34                                 ['CalibreObscura']   CalibreObscura   \n35                                    ['OstapYarysh']      OstapYarysh   \n36                                    ['Mrgunsngear']      Mrgunsngear   \n37                                         ['Tendar']           Tendar   \n39                                   ['GlasnostGone']     GlasnostGone   \n41                                   ['HeliosRunner']     HeliosRunner   \n44                                                 []              NaN   \n45                                    ['CNoodles918']      CNoodles918   \n47                                ['UA_patriot_news']  UA_patriot_news   \n49                                  ['TheStudyofWar']    TheStudyofWar   \n50                                                 []              NaN   \n52                                   ['GlasnostGone']     GlasnostGone   \n53                                ['Ukrainianfree66']  Ukrainianfree66   \n54                                      ['UAWeapons']        UAWeapons   \n55                                ['javierespinosa2']  javierespinosa2   \n56                                    ['OstapYarysh']      OstapYarysh   \n58                                      ['UAWeapons']        UAWeapons   \n59                                    ['WarWritings']      WarWritings   \n63                          ['mog7546', 'TreasChest']          mog7546   \n66                                ['Ukrainianfree66']  Ukrainianfree66   \n67                                         ['Tendar']           Tendar   \n68                                                 []              NaN   \n70                                ['KramarenkoMari3']  KramarenkoMari3   \n73                                   ['GlasnostGone']     GlasnostGone   \n78                                        ['NTDNews']          NTDNews   \n80                                       ['kk131066']         kk131066   \n82                                ['Beefeater_Fella']  Beefeater_Fella   \n83                                ['AnnaYurchenko16']  AnnaYurchenko16   \n85           ['holzmueller2', 'JDVance1', 'JDVance1']     holzmueller2   \n86                                     ['PStyle0ne1']       PStyle0ne1   \n87                                      ['UAWeapons']        UAWeapons   \n89                                ['KramarenkoMari3']  KramarenkoMari3   \n92                                                 []              NaN   \n94                                      ['UAWeapons']        UAWeapons   \n95                                      ['UAWeapons']        UAWeapons   \n\n                                          coordenadas   \n0          (United Kingdom, (54.7023545, -3.2765753))  \\\n1             (Oslo, Norge, (59.9133301, 10.7389701))   \n5   (Caracas, Parroquia Catedral, Municipio Libert...   \n13  (Town of Hamburg, Erie County, New York, Unite...   \n14                  (Italia, (42.6384261, 12.674297))   \n20                   (Kenya, (1.4419683, 38.4313975))   \n21  (Cowichan, Uphill Bypass, Area E (Cowichan Sta...   \n22  (Nowhere, Franklin County, Kansas, United Stat...   \n25     (București, România, (44.4361414, 26.1027202))   \n26            (Deutschland, (51.1638175, 10.4478313))   \n27  (St Helens, Liverpool City Region, England, Un...   \n31         (United States, (39.7837304, -100.445882))   \n34                                 (Ōu, (51.0, 10.0))   \n35          (Київ, Україна, (50.4500336, 30.5241361))   \n36  (Indiana, United States, (40.3270127, -86.1746...   \n37  (Timișoara, Timiș, România, (45.7538355, 21.22...   \n39                (Україна, (49.4871968, 31.2718321))   \n41                   (France, (46.603354, 1.8883335))   \n44         (United Kingdom, (54.7023545, -3.2765753))   \n45  (Београд, Град Београд, Централна Србија, 1100...   \n47  (Federal Way, King County, Washington, United ...   \n49  (Los Angeles, Los Angeles County, California, ...   \n50  (İstanbul, Fatih, İstanbul, Marmara Bölgesi, 3...   \n52  (Bornholm, Region Hovedstaden, Danmark, (55.14...   \n53  (The Earth, Bukit Jalil, Kuala Lumpur, Malaysi...   \n54  (Hell, Putnam Township, Livingston County, Mic...   \n55  (Barcelona, Barcelonès, Barcelona, Catalunya, ...   \n56  (Barcelona, Barcelonès, Barcelona, Catalunya, ...   \n58  (Celaya, Guanajuato, México, (20.521788, -100....   \n59  (London, Greater London, England, United Kingd...   \n63  (Sydney, Council of the City of Sydney, New So...   \n66  (England, United Kingdom, (52.5310214, -1.2649...   \n67          (Київ, Україна, (50.4500336, 30.5241361))   \n68  (województwo podlaskie, Polska, (53.2668455, 2...   \n70  (Paris, Quartier Les Îles, Paris, Île-de-Franc...   \n73  (Auckland, Waitematā, Auckland, 1010, New Zeal...   \n78  (Illinois, United States, (40.0796606, -89.433...   \n80  (Kuala Lumpur, Malaysia, (3.1516964, 101.69423...   \n82  (WORLD, 河南米山線, 豊里町上町裏, 登米市, 宮城県, 987-0362, 日本,...   \n83  (Langley, Fairfax County, Virginia, 22101, Uni...   \n85            (Deutschland, (51.1638175, 10.4478313))   \n86         (United Kingdom, (54.7023545, -3.2765753))   \n87          (Éire / Ireland, (52.865196, -7.9794599))   \n89  (Texas, United States, (31.2638905, -98.5456116))   \n92  (Europa, 125, Cherry Street, Black Mountain, B...   \n94         (United States, (39.7837304, -100.445882))   \n95  (Langley, Fairfax County, Virginia, 22101, Uni...   \n\n                   latitud_longitud_dividido    latitud    longitud   \n0                   (54.7023545, -3.2765753)  54.702354   -3.276575  \\\n1                   (59.9133301, 10.7389701)  59.913330   10.738970   \n5                  (10.5060934, -66.9146008)  10.506093  -66.914601   \n13                   (42.716293, -78.828717)  42.716293  -78.828717   \n14                   (42.6384261, 12.674297)  42.638426   12.674297   \n20                   (1.4419683, 38.4313975)   1.441968   38.431398   \n21                (48.7291272, -123.6677485)  48.729127 -123.667749   \n22                 (38.7311123, -95.2414104)  38.731112  -95.241410   \n25                  (44.4361414, 26.1027202)  44.436141   26.102720   \n26                  (51.1638175, 10.4478313)  51.163818   10.447831   \n27         (53.4486075, -2.7359820790816323)  53.448608   -2.735982   \n31                 (39.7837304, -100.445882)  39.783730 -100.445882   \n34                              (51.0, 10.0)  51.000000   10.000000   \n35                  (50.4500336, 30.5241361)  50.450034   30.524136   \n36                 (40.3270127, -86.1746933)  40.327013  -86.174693   \n37                  (45.7538355, 21.2257474)  45.753836   21.225747   \n39                  (49.4871968, 31.2718321)  49.487197   31.271832   \n41                    (46.603354, 1.8883335)  46.603354    1.888334   \n44                  (54.7023545, -3.2765753)  54.702354   -3.276575   \n45                  (44.8178131, 20.4568974)  44.817813   20.456897   \n47                   (47.313494, -122.33931)  47.313494 -122.339310   \n49                 (34.0536909, -118.242766)  34.053691 -118.242766   \n50                  (41.0091982, 28.9662187)  41.009198   28.966219   \n52  (55.143122399999996, 14.922629658767558)  55.143122   14.922630   \n53          (3.04955345, 101.66989188808999)   3.049553  101.669892   \n54                 (42.4347571, -83.9849477)  42.434757  -83.984948   \n55                   (41.3828939, 2.1774322)  41.382894    2.177432   \n56                   (41.3828939, 2.1774322)  41.382894    2.177432   \n58                 (20.521788, -100.8140458)  20.521788 -100.814046   \n59                    (51.5073359, -0.12765)  51.507336   -0.127650   \n63                (-33.8698439, 151.2082848) -33.869844  151.208285   \n66                  (52.5310214, -1.2649062)  52.531021   -1.264906   \n67                  (50.4500336, 30.5241361)  50.450034   30.524136   \n68                  (53.2668455, 22.8525787)  53.266846   22.852579   \n70                   (48.8534951, 2.3483915)  48.853495    2.348391   \n73                 (-36.852095, 174.7631803) -36.852095  174.763180   \n78                 (40.0796606, -89.4337288)  40.079661  -89.433729   \n80                  (3.1516964, 101.6942371)   3.151696  101.694237   \n82                  (38.5890796, 141.248211)  38.589080  141.248211   \n83                 (38.9464996, -77.1588685)  38.946500  -77.158868   \n85                  (51.1638175, 10.4478313)  51.163818   10.447831   \n86                  (54.7023545, -3.2765753)  54.702354   -3.276575   \n87                   (52.865196, -7.9794599)  52.865196   -7.979460   \n89                 (31.2638905, -98.5456116)  31.263890  -98.545612   \n92                 (35.6165517, -82.3205003)  35.616552  -82.320500   \n94                 (39.7837304, -100.445882)  39.783730 -100.445882   \n95                 (38.9464996, -77.1588685)  38.946500  -77.158868   \n\n                    pais  \n0         United Kingdom  \n1                  Norge  \n5              Venezuela  \n13         United States  \n14                Italia  \n20                 Kenya  \n21                Canada  \n22         United States  \n25               România  \n26           Deutschland  \n27        United Kingdom  \n31         United States  \n34           Deutschland  \n35               Україна  \n36         United States  \n37               România  \n39               Україна  \n41                France  \n44        United Kingdom  \n45                Србија  \n47         United States  \n49         United States  \n50               Türkiye  \n52               Danmark  \n53              Malaysia  \n54         United States  \n55                España  \n56                España  \n58                México  \n59        United Kingdom  \n63             Australia  \n66        United Kingdom  \n67               Україна  \n68                Polska  \n70                France  \n73  New Zealand/Aotearoa  \n78         United States  \n80              Malaysia  \n82                    日本  \n83         United States  \n85           Deutschland  \n86        United Kingdom  \n87        Éire / Ireland  \n89         United States  \n92         United States  \n94         United States  \n95         United States  ",
      "text/html": "<div>\n<style scoped>\n    .dataframe tbody tr th:only-of-type {\n        vertical-align: middle;\n    }\n\n    .dataframe tbody tr th {\n        vertical-align: top;\n    }\n\n    .dataframe thead th {\n        text-align: right;\n    }\n</style>\n<table border=\"1\" class=\"dataframe\">\n  <thead>\n    <tr style=\"text-align: right;\">\n      <th></th>\n      <th>ID</th>\n      <th>Fecha_de_creacion_usuario</th>\n      <th>Fecha_creacion_del_tweet</th>\n      <th>nombre_usuario</th>\n      <th>texto</th>\n      <th>localizacion</th>\n      <th>numero_seguidores</th>\n      <th>numero_seguidos</th>\n      <th>numero_retweets</th>\n      <th>numero_favoritos</th>\n      <th>menciones</th>\n      <th>retweet</th>\n      <th>coordenadas</th>\n      <th>latitud_longitud_dividido</th>\n      <th>latitud</th>\n      <th>longitud</th>\n      <th>pais</th>\n    </tr>\n  </thead>\n  <tbody>\n    <tr>\n      <th>0</th>\n      <td>1632454841023823874</td>\n      <td>2012-01-04 17:11:08+00:00</td>\n      <td>2023-03-05 18:55:38+00:00</td>\n      <td>ben_burnside</td>\n      <td>RT @CalibreObscura: Only in #Ukraine: A PM M19...</td>\n      <td>UK</td>\n      <td>684</td>\n      <td>90</td>\n      <td>9</td>\n      <td>34299</td>\n      <td>['CalibreObscura']</td>\n      <td>CalibreObscura</td>\n      <td>(United Kingdom, (54.7023545, -3.2765753))</td>\n      <td>(54.7023545, -3.2765753)</td>\n      <td>54.702354</td>\n      <td>-3.276575</td>\n      <td>United Kingdom</td>\n    </tr>\n    <tr>\n      <th>1</th>\n      <td>1632454835143360521</td>\n      <td>2022-04-26 04:09:08+00:00</td>\n      <td>2023-03-05 18:55:36+00:00</td>\n      <td>cjostein</td>\n      <td>RT @TruthPuke: #NATO military equipment in the...</td>\n      <td>Oslo</td>\n      <td>1042</td>\n      <td>207</td>\n      <td>90</td>\n      <td>15933</td>\n      <td>['TruthPuke']</td>\n      <td>TruthPuke</td>\n      <td>(Oslo, Norge, (59.9133301, 10.7389701))</td>\n      <td>(59.9133301, 10.7389701)</td>\n      <td>59.913330</td>\n      <td>10.738970</td>\n      <td>Norge</td>\n    </tr>\n    <tr>\n      <th>5</th>\n      <td>1632454814599720972</td>\n      <td>2009-08-02 17:34:58+00:00</td>\n      <td>2023-03-05 18:55:32+00:00</td>\n      <td>josegregorio11</td>\n      <td>RT @WarFrontline: 🚨#Breaking,Equipment of the ...</td>\n      <td>Caracas</td>\n      <td>1615</td>\n      <td>1293</td>\n      <td>27</td>\n      <td>26040</td>\n      <td>['WarFrontline']</td>\n      <td>WarFrontline</td>\n      <td>(Caracas, Parroquia Catedral, Municipio Libert...</td>\n      <td>(10.5060934, -66.9146008)</td>\n      <td>10.506093</td>\n      <td>-66.914601</td>\n      <td>Venezuela</td>\n    </tr>\n    <tr>\n      <th>13</th>\n      <td>1632454773533298695</td>\n      <td>2014-06-06 20:06:29+00:00</td>\n      <td>2023-03-05 18:55:22+00:00</td>\n      <td>RACZPATT</td>\n      <td>RT @ClearBlueSee: A woman leaves her abusive e...</td>\n      <td>Hamburg, NY</td>\n      <td>9386</td>\n      <td>8538</td>\n      <td>17</td>\n      <td>449472</td>\n      <td>['ClearBlueSee']</td>\n      <td>ClearBlueSee</td>\n      <td>(Town of Hamburg, Erie County, New York, Unite...</td>\n      <td>(42.716293, -78.828717)</td>\n      <td>42.716293</td>\n      <td>-78.828717</td>\n      <td>United States</td>\n    </tr>\n    <tr>\n      <th>14</th>\n      <td>1632454772354588674</td>\n      <td>2022-02-28 11:14:27+00:00</td>\n      <td>2023-03-05 18:55:21+00:00</td>\n      <td>itas1000xr</td>\n      <td>RT @UAWeapons: #Ukraine: In the East, an aband...</td>\n      <td>Italia</td>\n      <td>199</td>\n      <td>70</td>\n      <td>32</td>\n      <td>3632</td>\n      <td>['UAWeapons']</td>\n      <td>UAWeapons</td>\n      <td>(Italia, (42.6384261, 12.674297))</td>\n      <td>(42.6384261, 12.674297)</td>\n      <td>42.638426</td>\n      <td>12.674297</td>\n      <td>Italia</td>\n    </tr>\n    <tr>\n      <th>20</th>\n      <td>1632454741979549696</td>\n      <td>2017-03-03 08:44:19+00:00</td>\n      <td>2023-03-05 18:55:14+00:00</td>\n      <td>RomacLtd</td>\n      <td>RT @yingying_Xauusd: Every time gold falls, it...</td>\n      <td>Kenya</td>\n      <td>392</td>\n      <td>42</td>\n      <td>2</td>\n      <td>119</td>\n      <td>['yingying_Xauusd']</td>\n      <td>yingying_Xauusd</td>\n      <td>(Kenya, (1.4419683, 38.4313975))</td>\n      <td>(1.4419683, 38.4313975)</td>\n      <td>1.441968</td>\n      <td>38.431398</td>\n      <td>Kenya</td>\n    </tr>\n    <tr>\n      <th>21</th>\n      <td>1632454734413201408</td>\n      <td>2018-12-03 23:35:36+00:00</td>\n      <td>2023-03-05 18:55:12+00:00</td>\n      <td>alwaysbeenleft</td>\n      <td>RT @dimitrilascaris: The Western punditry has ...</td>\n      <td>Cowichan, British Columbia</td>\n      <td>3377</td>\n      <td>3239</td>\n      <td>7</td>\n      <td>124664</td>\n      <td>['dimitrilascaris']</td>\n      <td>dimitrilascaris</td>\n      <td>(Cowichan, Uphill Bypass, Area E (Cowichan Sta...</td>\n      <td>(48.7291272, -123.6677485)</td>\n      <td>48.729127</td>\n      <td>-123.667749</td>\n      <td>Canada</td>\n    </tr>\n    <tr>\n      <th>22</th>\n      <td>1632454731997106176</td>\n      <td>2011-04-19 06:31:53+00:00</td>\n      <td>2023-03-05 18:55:12+00:00</td>\n      <td>_murithi_</td>\n      <td>RT @CalibreObscura: Only in #Ukraine: A PM M19...</td>\n      <td>Nowhere</td>\n      <td>1637</td>\n      <td>302</td>\n      <td>9</td>\n      <td>1016</td>\n      <td>['CalibreObscura']</td>\n      <td>CalibreObscura</td>\n      <td>(Nowhere, Franklin County, Kansas, United Stat...</td>\n      <td>(38.7311123, -95.2414104)</td>\n      <td>38.731112</td>\n      <td>-95.241410</td>\n      <td>United States</td>\n    </tr>\n    <tr>\n      <th>25</th>\n      <td>1632454715622522884</td>\n      <td>2022-02-26 16:16:04+00:00</td>\n      <td>2023-03-05 18:55:08+00:00</td>\n      <td>RazvanAngelesc2</td>\n      <td>RT @GlasnostGone: As the #RussianArmy is trend...</td>\n      <td>Bucharest, Romania</td>\n      <td>399</td>\n      <td>192</td>\n      <td>28</td>\n      <td>134777</td>\n      <td>['GlasnostGone']</td>\n      <td>GlasnostGone</td>\n      <td>(București, România, (44.4361414, 26.1027202))</td>\n      <td>(44.4361414, 26.1027202)</td>\n      <td>44.436141</td>\n      <td>26.102720</td>\n      <td>România</td>\n    </tr>\n    <tr>\n      <th>26</th>\n      <td>1632454713747689474</td>\n      <td>2011-01-19 21:04:01+00:00</td>\n      <td>2023-03-05 18:55:07+00:00</td>\n      <td>_Bartotten_</td>\n      <td>RT @CalibreObscura: Only in #Ukraine: A PM M19...</td>\n      <td>Duitsland</td>\n      <td>4985</td>\n      <td>1442</td>\n      <td>9</td>\n      <td>222102</td>\n      <td>['CalibreObscura']</td>\n      <td>CalibreObscura</td>\n      <td>(Deutschland, (51.1638175, 10.4478313))</td>\n      <td>(51.1638175, 10.4478313)</td>\n      <td>51.163818</td>\n      <td>10.447831</td>\n      <td>Deutschland</td>\n    </tr>\n    <tr>\n      <th>27</th>\n      <td>1632454699906392065</td>\n      <td>2010-12-21 13:04:34+00:00</td>\n      <td>2023-03-05 18:55:04+00:00</td>\n      <td>DianeLBW</td>\n      <td>RT @GlasnostGone: Goodnight #Ukraine. What cou...</td>\n      <td>St Helens</td>\n      <td>881</td>\n      <td>1624</td>\n      <td>23</td>\n      <td>166324</td>\n      <td>['GlasnostGone']</td>\n      <td>GlasnostGone</td>\n      <td>(St Helens, Liverpool City Region, England, Un...</td>\n      <td>(53.4486075, -2.7359820790816323)</td>\n      <td>53.448608</td>\n      <td>-2.735982</td>\n      <td>United Kingdom</td>\n    </tr>\n    <tr>\n      <th>31</th>\n      <td>1632454639621746690</td>\n      <td>2022-09-16 13:11:51+00:00</td>\n      <td>2023-03-05 18:54:50+00:00</td>\n      <td>PippaPoops</td>\n      <td>RT @Toddy_xgp: In partnership between @MarkHam...</td>\n      <td>USA</td>\n      <td>240</td>\n      <td>56</td>\n      <td>17</td>\n      <td>1510</td>\n      <td>['Toddy_xgp', 'MarkHamill', 'U24_gov_ua', 'geo...</td>\n      <td>Toddy_xgp</td>\n      <td>(United States, (39.7837304, -100.445882))</td>\n      <td>(39.7837304, -100.445882)</td>\n      <td>39.783730</td>\n      <td>-100.445882</td>\n      <td>United States</td>\n    </tr>\n    <tr>\n      <th>34</th>\n      <td>1632454627416322048</td>\n      <td>2022-02-15 23:14:01+00:00</td>\n      <td>2023-03-05 18:54:47+00:00</td>\n      <td>OlliWse</td>\n      <td>RT @CalibreObscura: #Ukraine: Two FV103 Sparta...</td>\n      <td>Europe 🇪🇺</td>\n      <td>93</td>\n      <td>49</td>\n      <td>143</td>\n      <td>8771</td>\n      <td>['CalibreObscura']</td>\n      <td>CalibreObscura</td>\n      <td>(Ōu, (51.0, 10.0))</td>\n      <td>(51.0, 10.0)</td>\n      <td>51.000000</td>\n      <td>10.000000</td>\n      <td>Deutschland</td>\n    </tr>\n    <tr>\n      <th>35</th>\n      <td>1632454614183231489</td>\n      <td>2014-07-07 22:15:00+00:00</td>\n      <td>2023-03-05 18:54:44+00:00</td>\n      <td>HopkoHanna</td>\n      <td>RT @OstapYarysh: When I first saw these images...</td>\n      <td>Kyiv, Ukraine</td>\n      <td>636</td>\n      <td>16958</td>\n      <td>1259</td>\n      <td>16967</td>\n      <td>['OstapYarysh']</td>\n      <td>OstapYarysh</td>\n      <td>(Київ, Україна, (50.4500336, 30.5241361))</td>\n      <td>(50.4500336, 30.5241361)</td>\n      <td>50.450034</td>\n      <td>30.524136</td>\n      <td>Україна</td>\n    </tr>\n    <tr>\n      <th>36</th>\n      <td>1632454613663199234</td>\n      <td>2016-11-19 00:20:08+00:00</td>\n      <td>2023-03-05 18:54:44+00:00</td>\n      <td>gunzgal0r3</td>\n      <td>RT @Mrgunsngear: Check out this modified Maxim...</td>\n      <td>Indiana, USA</td>\n      <td>589</td>\n      <td>22</td>\n      <td>2</td>\n      <td>1682</td>\n      <td>['Mrgunsngear']</td>\n      <td>Mrgunsngear</td>\n      <td>(Indiana, United States, (40.3270127, -86.1746...</td>\n      <td>(40.3270127, -86.1746933)</td>\n      <td>40.327013</td>\n      <td>-86.174693</td>\n      <td>United States</td>\n    </tr>\n    <tr>\n      <th>37</th>\n      <td>1632454609242320896</td>\n      <td>2022-02-26 16:47:09+00:00</td>\n      <td>2023-03-05 18:54:43+00:00</td>\n      <td>lpauladrian</td>\n      <td>RT @Tendar: The first 2 Ukrainian pilots are i...</td>\n      <td>Timişoara, România</td>\n      <td>70</td>\n      <td>41</td>\n      <td>139</td>\n      <td>78388</td>\n      <td>['Tendar']</td>\n      <td>Tendar</td>\n      <td>(Timișoara, Timiș, România, (45.7538355, 21.22...</td>\n      <td>(45.7538355, 21.2257474)</td>\n      <td>45.753836</td>\n      <td>21.225747</td>\n      <td>România</td>\n    </tr>\n    <tr>\n      <th>39</th>\n      <td>1632454589839552514</td>\n      <td>2022-09-15 14:46:14+00:00</td>\n      <td>2023-03-05 18:54:38+00:00</td>\n      <td>YaroslavaSlava_</td>\n      <td>RT @GlasnostGone: Russia's killed #Ukraine's \"...</td>\n      <td>Україна</td>\n      <td>19</td>\n      <td>11</td>\n      <td>154</td>\n      <td>36466</td>\n      <td>['GlasnostGone']</td>\n      <td>GlasnostGone</td>\n      <td>(Україна, (49.4871968, 31.2718321))</td>\n      <td>(49.4871968, 31.2718321)</td>\n      <td>49.487197</td>\n      <td>31.271832</td>\n      <td>Україна</td>\n    </tr>\n    <tr>\n      <th>41</th>\n      <td>1632454586853208065</td>\n      <td>2012-05-06 09:37:00+00:00</td>\n      <td>2023-03-05 18:54:37+00:00</td>\n      <td>CigalamProvence</td>\n      <td>RT @HeliosRunner: 9/  As for the #Svatove to #...</td>\n      <td>France</td>\n      <td>172</td>\n      <td>175</td>\n      <td>3</td>\n      <td>146506</td>\n      <td>['HeliosRunner']</td>\n      <td>HeliosRunner</td>\n      <td>(France, (46.603354, 1.8883335))</td>\n      <td>(46.603354, 1.8883335)</td>\n      <td>46.603354</td>\n      <td>1.888334</td>\n      <td>France</td>\n    </tr>\n    <tr>\n      <th>44</th>\n      <td>1632454557081956353</td>\n      <td>2012-01-25 12:49:44+00:00</td>\n      <td>2023-03-05 18:54:30+00:00</td>\n      <td>JackNowicki1</td>\n      <td>Countries attacked by #Russian vs. those attac...</td>\n      <td>United Kingdom</td>\n      <td>1642</td>\n      <td>804</td>\n      <td>0</td>\n      <td>84166</td>\n      <td>[]</td>\n      <td>NaN</td>\n      <td>(United Kingdom, (54.7023545, -3.2765753))</td>\n      <td>(54.7023545, -3.2765753)</td>\n      <td>54.702354</td>\n      <td>-3.276575</td>\n      <td>United Kingdom</td>\n    </tr>\n    <tr>\n      <th>45</th>\n      <td>1632454553214808064</td>\n      <td>2020-04-09 08:07:16+00:00</td>\n      <td>2023-03-05 18:54:29+00:00</td>\n      <td>Zdep11</td>\n      <td>RT @CNoodles918: To put it into perspective, t...</td>\n      <td>Beograd</td>\n      <td>803</td>\n      <td>1025</td>\n      <td>8</td>\n      <td>125994</td>\n      <td>['CNoodles918']</td>\n      <td>CNoodles918</td>\n      <td>(Београд, Град Београд, Централна Србија, 1100...</td>\n      <td>(44.8178131, 20.4568974)</td>\n      <td>44.817813</td>\n      <td>20.456897</td>\n      <td>Србија</td>\n    </tr>\n    <tr>\n      <th>47</th>\n      <td>1632454551629611008</td>\n      <td>2014-08-12 07:16:09+00:00</td>\n      <td>2023-03-05 18:54:29+00:00</td>\n      <td>klp723</td>\n      <td>RT @UA_patriot_news: 📍#Crimea. The first army ...</td>\n      <td>Federal Way, WA</td>\n      <td>1476</td>\n      <td>704</td>\n      <td>3</td>\n      <td>22898</td>\n      <td>['UA_patriot_news']</td>\n      <td>UA_patriot_news</td>\n      <td>(Federal Way, King County, Washington, United ...</td>\n      <td>(47.313494, -122.33931)</td>\n      <td>47.313494</td>\n      <td>-122.339310</td>\n      <td>United States</td>\n    </tr>\n    <tr>\n      <th>49</th>\n      <td>1632454540611182592</td>\n      <td>2018-08-29 21:30:49+00:00</td>\n      <td>2023-03-05 18:54:26+00:00</td>\n      <td>BragoVictoria</td>\n      <td>RT @TheStudyofWar: Latest on #Ukraine:\\r\\n\\r\\n...</td>\n      <td>Los Angeles</td>\n      <td>590</td>\n      <td>604</td>\n      <td>102</td>\n      <td>275641</td>\n      <td>['TheStudyofWar']</td>\n      <td>TheStudyofWar</td>\n      <td>(Los Angeles, Los Angeles County, California, ...</td>\n      <td>(34.0536909, -118.242766)</td>\n      <td>34.053691</td>\n      <td>-118.242766</td>\n      <td>United States</td>\n    </tr>\n    <tr>\n      <th>50</th>\n      <td>1632454540539711490</td>\n      <td>2016-10-21 13:00:46+00:00</td>\n      <td>2023-03-05 18:54:26+00:00</td>\n      <td>anews</td>\n      <td>Battle for eastern Donbas is \"painful and diff...</td>\n      <td>Istanbul, Turkey</td>\n      <td>275</td>\n      <td>35217</td>\n      <td>0</td>\n      <td>1</td>\n      <td>[]</td>\n      <td>NaN</td>\n      <td>(İstanbul, Fatih, İstanbul, Marmara Bölgesi, 3...</td>\n      <td>(41.0091982, 28.9662187)</td>\n      <td>41.009198</td>\n      <td>28.966219</td>\n      <td>Türkiye</td>\n    </tr>\n    <tr>\n      <th>52</th>\n      <td>1632454536144076803</td>\n      <td>2018-02-01 08:52:28+00:00</td>\n      <td>2023-03-05 18:54:25+00:00</td>\n      <td>JohnKStreet1</td>\n      <td>RT @GlasnostGone: 720,000 reasons to laugh som...</td>\n      <td>Bornholm, Danmark</td>\n      <td>214</td>\n      <td>165</td>\n      <td>29</td>\n      <td>52144</td>\n      <td>['GlasnostGone']</td>\n      <td>GlasnostGone</td>\n      <td>(Bornholm, Region Hovedstaden, Danmark, (55.14...</td>\n      <td>(55.143122399999996, 14.922629658767558)</td>\n      <td>55.143122</td>\n      <td>14.922630</td>\n      <td>Danmark</td>\n    </tr>\n    <tr>\n      <th>53</th>\n      <td>1632454515914932224</td>\n      <td>2014-03-05 19:35:29+00:00</td>\n      <td>2023-03-05 18:54:20+00:00</td>\n      <td>atollun</td>\n      <td>RT @Ukrainianfree66: Instead of a thousand wor...</td>\n      <td>The Earth</td>\n      <td>2215</td>\n      <td>369</td>\n      <td>5</td>\n      <td>30604</td>\n      <td>['Ukrainianfree66']</td>\n      <td>Ukrainianfree66</td>\n      <td>(The Earth, Bukit Jalil, Kuala Lumpur, Malaysi...</td>\n      <td>(3.04955345, 101.66989188808999)</td>\n      <td>3.049553</td>\n      <td>101.669892</td>\n      <td>Malaysia</td>\n    </tr>\n    <tr>\n      <th>54</th>\n      <td>1632454515382272001</td>\n      <td>2023-01-17 18:04:48+00:00</td>\n      <td>2023-03-05 18:54:20+00:00</td>\n      <td>Naru1Nolan</td>\n      <td>RT @UAWeapons: #Ukraine: A Ukrainian Panthera ...</td>\n      <td>Hell, MI</td>\n      <td>22</td>\n      <td>2</td>\n      <td>108</td>\n      <td>2001</td>\n      <td>['UAWeapons']</td>\n      <td>UAWeapons</td>\n      <td>(Hell, Putnam Township, Livingston County, Mic...</td>\n      <td>(42.4347571, -83.9849477)</td>\n      <td>42.434757</td>\n      <td>-83.984948</td>\n      <td>United States</td>\n    </tr>\n    <tr>\n      <th>55</th>\n      <td>1632454498290479115</td>\n      <td>2012-02-27 00:01:11+00:00</td>\n      <td>2023-03-05 18:54:16+00:00</td>\n      <td>BetiBarrera71</td>\n      <td>RT @javierespinosa2: #Wagner’s penal battalion...</td>\n      <td>Barcelona</td>\n      <td>528</td>\n      <td>823</td>\n      <td>0</td>\n      <td>512499</td>\n      <td>['javierespinosa2']</td>\n      <td>javierespinosa2</td>\n      <td>(Barcelona, Barcelonès, Barcelona, Catalunya, ...</td>\n      <td>(41.3828939, 2.1774322)</td>\n      <td>41.382894</td>\n      <td>2.177432</td>\n      <td>España</td>\n    </tr>\n    <tr>\n      <th>56</th>\n      <td>1632454485678215168</td>\n      <td>2012-02-27 00:01:11+00:00</td>\n      <td>2023-03-05 18:54:13+00:00</td>\n      <td>BetiBarrera71</td>\n      <td>RT @OstapYarysh: When I first saw these images...</td>\n      <td>Barcelona</td>\n      <td>528</td>\n      <td>823</td>\n      <td>1259</td>\n      <td>512499</td>\n      <td>['OstapYarysh']</td>\n      <td>OstapYarysh</td>\n      <td>(Barcelona, Barcelonès, Barcelona, Catalunya, ...</td>\n      <td>(41.3828939, 2.1774322)</td>\n      <td>41.382894</td>\n      <td>2.177432</td>\n      <td>España</td>\n    </tr>\n    <tr>\n      <th>58</th>\n      <td>1632454475414745089</td>\n      <td>2021-09-24 21:42:12+00:00</td>\n      <td>2023-03-05 18:54:11+00:00</td>\n      <td>5conejo21</td>\n      <td>RT @UAWeapons: #Ukraine: In the East, an aband...</td>\n      <td>Celaya, Guanajuato</td>\n      <td>332</td>\n      <td>66</td>\n      <td>32</td>\n      <td>1000</td>\n      <td>['UAWeapons']</td>\n      <td>UAWeapons</td>\n      <td>(Celaya, Guanajuato, México, (20.521788, -100....</td>\n      <td>(20.521788, -100.8140458)</td>\n      <td>20.521788</td>\n      <td>-100.814046</td>\n      <td>México</td>\n    </tr>\n    <tr>\n      <th>59</th>\n      <td>1632454473330094082</td>\n      <td>2009-05-25 08:27:04+00:00</td>\n      <td>2023-03-05 18:54:10+00:00</td>\n      <td>glenmexted</td>\n      <td>RT @WarWritings: Ukrainian athlete and defende...</td>\n      <td>london</td>\n      <td>1219</td>\n      <td>1209</td>\n      <td>935</td>\n      <td>270323</td>\n      <td>['WarWritings']</td>\n      <td>WarWritings</td>\n      <td>(London, Greater London, England, United Kingd...</td>\n      <td>(51.5073359, -0.12765)</td>\n      <td>51.507336</td>\n      <td>-0.127650</td>\n      <td>United Kingdom</td>\n    </tr>\n    <tr>\n      <th>63</th>\n      <td>1632454454355312640</td>\n      <td>2010-01-22 04:31:17+00:00</td>\n      <td>2023-03-05 18:54:06+00:00</td>\n      <td>DipDevotion</td>\n      <td>RT @mog7546: @TreasChest Two Ukrainian pilots ...</td>\n      <td>Sydney, Australia</td>\n      <td>1147</td>\n      <td>351</td>\n      <td>8</td>\n      <td>49348</td>\n      <td>['mog7546', 'TreasChest']</td>\n      <td>mog7546</td>\n      <td>(Sydney, Council of the City of Sydney, New So...</td>\n      <td>(-33.8698439, 151.2082848)</td>\n      <td>-33.869844</td>\n      <td>151.208285</td>\n      <td>Australia</td>\n    </tr>\n    <tr>\n      <th>66</th>\n      <td>1632454441461768192</td>\n      <td>2018-08-10 20:31:07+00:00</td>\n      <td>2023-03-05 18:54:03+00:00</td>\n      <td>samchurms1</td>\n      <td>RT @Ukrainianfree66: Instead of a thousand wor...</td>\n      <td>England, United Kingdom</td>\n      <td>450</td>\n      <td>272</td>\n      <td>5</td>\n      <td>11983</td>\n      <td>['Ukrainianfree66']</td>\n      <td>Ukrainianfree66</td>\n      <td>(England, United Kingdom, (52.5310214, -1.2649...</td>\n      <td>(52.5310214, -1.2649062)</td>\n      <td>52.531021</td>\n      <td>-1.264906</td>\n      <td>United Kingdom</td>\n    </tr>\n    <tr>\n      <th>67</th>\n      <td>1632454408784031749</td>\n      <td>2010-06-30 19:04:59+00:00</td>\n      <td>2023-03-05 18:53:55+00:00</td>\n      <td>SkA4live</td>\n      <td>RT @Tendar: The state of the Russian defense i...</td>\n      <td>Kyiv, Ukraine</td>\n      <td>340</td>\n      <td>70</td>\n      <td>294</td>\n      <td>25035</td>\n      <td>['Tendar']</td>\n      <td>Tendar</td>\n      <td>(Київ, Україна, (50.4500336, 30.5241361))</td>\n      <td>(50.4500336, 30.5241361)</td>\n      <td>50.450034</td>\n      <td>30.524136</td>\n      <td>Україна</td>\n    </tr>\n    <tr>\n      <th>68</th>\n      <td>1632454399481004032</td>\n      <td>2021-08-16 09:18:23+00:00</td>\n      <td>2023-03-05 18:53:53+00:00</td>\n      <td>Twiter__Trends</td>\n      <td>The construction of a railway line from the bo...</td>\n      <td>Podlaskie, Polska</td>\n      <td>120</td>\n      <td>728</td>\n      <td>0</td>\n      <td>342</td>\n      <td>[]</td>\n      <td>NaN</td>\n      <td>(województwo podlaskie, Polska, (53.2668455, 2...</td>\n      <td>(53.2668455, 22.8525787)</td>\n      <td>53.266846</td>\n      <td>22.852579</td>\n      <td>Polska</td>\n    </tr>\n    <tr>\n      <th>70</th>\n      <td>1632454378203369474</td>\n      <td>2013-02-19 10:04:00+00:00</td>\n      <td>2023-03-05 18:53:47+00:00</td>\n      <td>MARIDJE17</td>\n      <td>RT @KramarenkoMari3: Russia began using the ne...</td>\n      <td>Paris, France</td>\n      <td>1044</td>\n      <td>360</td>\n      <td>54</td>\n      <td>44138</td>\n      <td>['KramarenkoMari3']</td>\n      <td>KramarenkoMari3</td>\n      <td>(Paris, Quartier Les Îles, Paris, Île-de-Franc...</td>\n      <td>(48.8534951, 2.3483915)</td>\n      <td>48.853495</td>\n      <td>2.348391</td>\n      <td>France</td>\n    </tr>\n    <tr>\n      <th>73</th>\n      <td>1632454333387378690</td>\n      <td>2010-03-28 02:58:53+00:00</td>\n      <td>2023-03-05 18:53:37+00:00</td>\n      <td>jerrygarry</td>\n      <td>RT @GlasnostGone: When cartoons nail it. The c...</td>\n      <td>Auckland, New Zealand</td>\n      <td>774</td>\n      <td>132</td>\n      <td>297</td>\n      <td>8471</td>\n      <td>['GlasnostGone']</td>\n      <td>GlasnostGone</td>\n      <td>(Auckland, Waitematā, Auckland, 1010, New Zeal...</td>\n      <td>(-36.852095, 174.7631803)</td>\n      <td>-36.852095</td>\n      <td>174.763180</td>\n      <td>New Zealand/Aotearoa</td>\n    </tr>\n    <tr>\n      <th>78</th>\n      <td>1632454280975200256</td>\n      <td>2009-04-02 14:45:30+00:00</td>\n      <td>2023-03-05 18:53:24+00:00</td>\n      <td>tommy15616</td>\n      <td>RT @NTDNews: Amid rising tensions as Kyiv alle...</td>\n      <td>Illinois</td>\n      <td>595</td>\n      <td>463</td>\n      <td>1</td>\n      <td>2808</td>\n      <td>['NTDNews']</td>\n      <td>NTDNews</td>\n      <td>(Illinois, United States, (40.0796606, -89.433...</td>\n      <td>(40.0796606, -89.4337288)</td>\n      <td>40.079661</td>\n      <td>-89.433729</td>\n      <td>United States</td>\n    </tr>\n    <tr>\n      <th>80</th>\n      <td>1632454262696607744</td>\n      <td>2019-11-27 19:13:27+00:00</td>\n      <td>2023-03-05 18:53:20+00:00</td>\n      <td>kk131066</td>\n      <td>RT @kk131066: Who cares what people say if wha...</td>\n      <td>Kuala Lumpur, Malaysia</td>\n      <td>26123</td>\n      <td>31482</td>\n      <td>1</td>\n      <td>30791</td>\n      <td>['kk131066']</td>\n      <td>kk131066</td>\n      <td>(Kuala Lumpur, Malaysia, (3.1516964, 101.69423...</td>\n      <td>(3.1516964, 101.6942371)</td>\n      <td>3.151696</td>\n      <td>101.694237</td>\n      <td>Malaysia</td>\n    </tr>\n    <tr>\n      <th>82</th>\n      <td>1632454219725692935</td>\n      <td>2022-02-27 09:10:05+00:00</td>\n      <td>2023-03-05 18:53:10+00:00</td>\n      <td>Kodjo61</td>\n      <td>RT @Beefeater_Fella: The American shoe brand #...</td>\n      <td>WORLD</td>\n      <td>527</td>\n      <td>1032</td>\n      <td>137</td>\n      <td>40290</td>\n      <td>['Beefeater_Fella']</td>\n      <td>Beefeater_Fella</td>\n      <td>(WORLD, 河南米山線, 豊里町上町裏, 登米市, 宮城県, 987-0362, 日本,...</td>\n      <td>(38.5890796, 141.248211)</td>\n      <td>38.589080</td>\n      <td>141.248211</td>\n      <td>日本</td>\n    </tr>\n    <tr>\n      <th>83</th>\n      <td>1632454218081599489</td>\n      <td>2022-08-30 15:57:06+00:00</td>\n      <td>2023-03-05 18:53:09+00:00</td>\n      <td>Iseabail_lassy</td>\n      <td>RT @AnnaYurchenko16: My book \"Pysanka: Ukraini...</td>\n      <td>Langley, Virginia</td>\n      <td>1703</td>\n      <td>3004</td>\n      <td>26</td>\n      <td>19138</td>\n      <td>['AnnaYurchenko16']</td>\n      <td>AnnaYurchenko16</td>\n      <td>(Langley, Fairfax County, Virginia, 22101, Uni...</td>\n      <td>(38.9464996, -77.1588685)</td>\n      <td>38.946500</td>\n      <td>-77.158868</td>\n      <td>United States</td>\n    </tr>\n    <tr>\n      <th>85</th>\n      <td>1632454176805470211</td>\n      <td>2015-09-17 14:43:05+00:00</td>\n      <td>2023-03-05 18:52:59+00:00</td>\n      <td>holzmueller2</td>\n      <td>RT @holzmueller2: @JDVance1 @JDVance1 supports...</td>\n      <td>Deutschland</td>\n      <td>48</td>\n      <td>76</td>\n      <td>1</td>\n      <td>11956</td>\n      <td>['holzmueller2', 'JDVance1', 'JDVance1']</td>\n      <td>holzmueller2</td>\n      <td>(Deutschland, (51.1638175, 10.4478313))</td>\n      <td>(51.1638175, 10.4478313)</td>\n      <td>51.163818</td>\n      <td>10.447831</td>\n      <td>Deutschland</td>\n    </tr>\n    <tr>\n      <th>86</th>\n      <td>1632454157377388544</td>\n      <td>2017-07-01 01:53:10+00:00</td>\n      <td>2023-03-05 18:52:55+00:00</td>\n      <td>Shane2020Wales</td>\n      <td>RT @PStyle0ne1: Ukraine will receive more than...</td>\n      <td>United Kingdom</td>\n      <td>4996</td>\n      <td>746</td>\n      <td>22</td>\n      <td>137640</td>\n      <td>['PStyle0ne1']</td>\n      <td>PStyle0ne1</td>\n      <td>(United Kingdom, (54.7023545, -3.2765753))</td>\n      <td>(54.7023545, -3.2765753)</td>\n      <td>54.702354</td>\n      <td>-3.276575</td>\n      <td>United Kingdom</td>\n    </tr>\n    <tr>\n      <th>87</th>\n      <td>1632454145960554497</td>\n      <td>2018-03-30 16:48:50+00:00</td>\n      <td>2023-03-05 18:52:52+00:00</td>\n      <td>ger_cosgrove</td>\n      <td>RT @UAWeapons: #Ukraine: In the East, an aband...</td>\n      <td>Ireland</td>\n      <td>625</td>\n      <td>1205</td>\n      <td>32</td>\n      <td>103921</td>\n      <td>['UAWeapons']</td>\n      <td>UAWeapons</td>\n      <td>(Éire / Ireland, (52.865196, -7.9794599))</td>\n      <td>(52.865196, -7.9794599)</td>\n      <td>52.865196</td>\n      <td>-7.979460</td>\n      <td>Éire / Ireland</td>\n    </tr>\n    <tr>\n      <th>89</th>\n      <td>1632454124561113089</td>\n      <td>2013-01-29 21:58:30+00:00</td>\n      <td>2023-03-05 18:52:47+00:00</td>\n      <td>katsmith71</td>\n      <td>RT @KramarenkoMari3: Russia began using the ne...</td>\n      <td>Texas</td>\n      <td>5006</td>\n      <td>2666</td>\n      <td>54</td>\n      <td>28834</td>\n      <td>['KramarenkoMari3']</td>\n      <td>KramarenkoMari3</td>\n      <td>(Texas, United States, (31.2638905, -98.5456116))</td>\n      <td>(31.2638905, -98.5456116)</td>\n      <td>31.263890</td>\n      <td>-98.545612</td>\n      <td>United States</td>\n    </tr>\n    <tr>\n      <th>92</th>\n      <td>1632454109713268736</td>\n      <td>2011-07-29 08:24:51+00:00</td>\n      <td>2023-03-05 18:52:43+00:00</td>\n      <td>ElEuropeoReal</td>\n      <td>+++ TOPINFO News Ticker: Mientras que esté Ucr...</td>\n      <td>Estados Unidos de Europa</td>\n      <td>1415</td>\n      <td>419</td>\n      <td>0</td>\n      <td>2987</td>\n      <td>[]</td>\n      <td>NaN</td>\n      <td>(Europa, 125, Cherry Street, Black Mountain, B...</td>\n      <td>(35.6165517, -82.3205003)</td>\n      <td>35.616552</td>\n      <td>-82.320500</td>\n      <td>United States</td>\n    </tr>\n    <tr>\n      <th>94</th>\n      <td>1632454101844779008</td>\n      <td>2022-12-31 01:47:31+00:00</td>\n      <td>2023-03-05 18:52:42+00:00</td>\n      <td>VindiceLibertas</td>\n      <td>RT @UAWeapons: #Ukraine: In the East, an aband...</td>\n      <td>United States of America</td>\n      <td>1646</td>\n      <td>297</td>\n      <td>32</td>\n      <td>10523</td>\n      <td>['UAWeapons']</td>\n      <td>UAWeapons</td>\n      <td>(United States, (39.7837304, -100.445882))</td>\n      <td>(39.7837304, -100.445882)</td>\n      <td>39.783730</td>\n      <td>-100.445882</td>\n      <td>United States</td>\n    </tr>\n    <tr>\n      <th>95</th>\n      <td>1632454089425518592</td>\n      <td>2022-08-16 10:30:42+00:00</td>\n      <td>2023-03-05 18:52:39+00:00</td>\n      <td>DenisProkopenk9</td>\n      <td>RT @UAWeapons: #Ukraine: In the East, an aband...</td>\n      <td>Langley, VA</td>\n      <td>105</td>\n      <td>158</td>\n      <td>32</td>\n      <td>18548</td>\n      <td>['UAWeapons']</td>\n      <td>UAWeapons</td>\n      <td>(Langley, Fairfax County, Virginia, 22101, Uni...</td>\n      <td>(38.9464996, -77.1588685)</td>\n      <td>38.946500</td>\n      <td>-77.158868</td>\n      <td>United States</td>\n    </tr>\n  </tbody>\n</table>\n</div>"
     },
     "execution_count": 61,
     "metadata": {},
     "output_type": "execute_result"
    }
   ],
   "source": [
    "df_ucraine_trolls_sin_nans_localizacion_reducido = df_ucraine_trolls_sin_nans_localizacion[:80]\n",
    "df_ucraine_trolls_sin_nans_localizacion_reducido"
   ],
   "metadata": {
    "collapsed": false,
    "ExecuteTime": {
     "start_time": "2023-04-26T11:33:05.581206Z",
     "end_time": "2023-04-26T11:33:05.639864Z"
    }
   }
  },
  {
   "cell_type": "code",
   "execution_count": 62,
   "outputs": [
    {
     "data": {
      "text/plain": "      latitud    longitud   nombre_usuario                  pais   \n0  -36.852095  174.763180       jerrygarry  New Zealand/Aotearoa  \\\n1  -33.869844  151.208285      DipDevotion             Australia   \n2    1.441968   38.431398         RomacLtd                 Kenya   \n3    3.049553  101.669892          atollun              Malaysia   \n4    3.151696  101.694237         kk131066              Malaysia   \n5   10.506093  -66.914601   josegregorio11             Venezuela   \n6   20.521788 -100.814046        5conejo21                México   \n7   31.263890  -98.545612       katsmith71         United States   \n8   34.053691 -118.242766    BragoVictoria         United States   \n9   35.616552  -82.320500    ElEuropeoReal         United States   \n10  38.589080  141.248211          Kodjo61                    日本   \n11  38.731112  -95.241410        _murithi_         United States   \n12  38.946500  -77.158868  DenisProkopenk9         United States   \n13  38.946500  -77.158868   Iseabail_lassy         United States   \n14  39.783730 -100.445882       PippaPoops         United States   \n15  39.783730 -100.445882  VindiceLibertas         United States   \n16  40.079661  -89.433729       tommy15616         United States   \n17  40.327013  -86.174693       gunzgal0r3         United States   \n18  41.009198   28.966219            anews               Türkiye   \n19  41.382894    2.177432    BetiBarrera71                España   \n20  42.434757  -83.984948       Naru1Nolan         United States   \n21  42.638426   12.674297       itas1000xr                Italia   \n22  42.716293  -78.828717         RACZPATT         United States   \n23  44.436141   26.102720  RazvanAngelesc2               România   \n24  44.817813   20.456897           Zdep11                Србија   \n25  45.753836   21.225747      lpauladrian               România   \n26  46.603354    1.888334  CigalamProvence                France   \n27  47.313494 -122.339310           klp723         United States   \n28  48.729127 -123.667749   alwaysbeenleft                Canada   \n29  48.853495    2.348391        MARIDJE17                France   \n30  49.487197   31.271832  YaroslavaSlava_               Україна   \n31  50.450034   30.524136       HopkoHanna               Україна   \n32  50.450034   30.524136         SkA4live               Україна   \n33  51.000000   10.000000          OlliWse           Deutschland   \n34  51.163818   10.447831      _Bartotten_           Deutschland   \n35  51.163818   10.447831     holzmueller2           Deutschland   \n36  51.507336   -0.127650       glenmexted        United Kingdom   \n37  52.531021   -1.264906       samchurms1        United Kingdom   \n38  52.865196   -7.979460     ger_cosgrove        Éire / Ireland   \n39  53.266846   22.852579   Twiter__Trends                Polska   \n40  53.448608   -2.735982         DianeLBW        United Kingdom   \n41  54.702354   -3.276575     JackNowicki1        United Kingdom   \n42  54.702354   -3.276575   Shane2020Wales        United Kingdom   \n43  54.702354   -3.276575     ben_burnside        United Kingdom   \n44  55.143122   14.922630     JohnKStreet1               Danmark   \n45  59.913330   10.738970         cjostein                 Norge   \n\n    numero_retweets  numero_favoritos  numero_seguidores  \n0               297              8471                774  \n1                 8             49348               1147  \n2                 2               119                392  \n3                 5             30604               2215  \n4                 1             30791              26123  \n5                27             26040               1615  \n6                32              1000                332  \n7                54             28834               5006  \n8               102            275641                590  \n9                 0              2987               1415  \n10              137             40290                527  \n11                9              1016               1637  \n12               32             18548                105  \n13               26             19138               1703  \n14               17              1510                240  \n15               32             10523               1646  \n16                1              2808                595  \n17                2              1682                589  \n18                0                 1                275  \n19             1259           1024998                528  \n20              108              2001                 22  \n21               32              3632                199  \n22               17            449472               9386  \n23               28            134777                399  \n24                8            125994                803  \n25              139             78388                 70  \n26                3            146506                172  \n27                3             22898               1476  \n28                7            124664               3377  \n29               54             44138               1044  \n30              154             36466                 19  \n31             1259             16967                636  \n32              294             25035                340  \n33              143              8771                 93  \n34                9            222102               4985  \n35                1             11956                 48  \n36              935            270323               1219  \n37                5             11983                450  \n38               32            103921                625  \n39                0               342                120  \n40               23            166324                881  \n41                0             84166               1642  \n42               22            137640               4996  \n43                9             34299                684  \n44               29             52144                214  \n45               90             15933               1042  ",
      "text/html": "<div>\n<style scoped>\n    .dataframe tbody tr th:only-of-type {\n        vertical-align: middle;\n    }\n\n    .dataframe tbody tr th {\n        vertical-align: top;\n    }\n\n    .dataframe thead th {\n        text-align: right;\n    }\n</style>\n<table border=\"1\" class=\"dataframe\">\n  <thead>\n    <tr style=\"text-align: right;\">\n      <th></th>\n      <th>latitud</th>\n      <th>longitud</th>\n      <th>nombre_usuario</th>\n      <th>pais</th>\n      <th>numero_retweets</th>\n      <th>numero_favoritos</th>\n      <th>numero_seguidores</th>\n    </tr>\n  </thead>\n  <tbody>\n    <tr>\n      <th>0</th>\n      <td>-36.852095</td>\n      <td>174.763180</td>\n      <td>jerrygarry</td>\n      <td>New Zealand/Aotearoa</td>\n      <td>297</td>\n      <td>8471</td>\n      <td>774</td>\n    </tr>\n    <tr>\n      <th>1</th>\n      <td>-33.869844</td>\n      <td>151.208285</td>\n      <td>DipDevotion</td>\n      <td>Australia</td>\n      <td>8</td>\n      <td>49348</td>\n      <td>1147</td>\n    </tr>\n    <tr>\n      <th>2</th>\n      <td>1.441968</td>\n      <td>38.431398</td>\n      <td>RomacLtd</td>\n      <td>Kenya</td>\n      <td>2</td>\n      <td>119</td>\n      <td>392</td>\n    </tr>\n    <tr>\n      <th>3</th>\n      <td>3.049553</td>\n      <td>101.669892</td>\n      <td>atollun</td>\n      <td>Malaysia</td>\n      <td>5</td>\n      <td>30604</td>\n      <td>2215</td>\n    </tr>\n    <tr>\n      <th>4</th>\n      <td>3.151696</td>\n      <td>101.694237</td>\n      <td>kk131066</td>\n      <td>Malaysia</td>\n      <td>1</td>\n      <td>30791</td>\n      <td>26123</td>\n    </tr>\n    <tr>\n      <th>5</th>\n      <td>10.506093</td>\n      <td>-66.914601</td>\n      <td>josegregorio11</td>\n      <td>Venezuela</td>\n      <td>27</td>\n      <td>26040</td>\n      <td>1615</td>\n    </tr>\n    <tr>\n      <th>6</th>\n      <td>20.521788</td>\n      <td>-100.814046</td>\n      <td>5conejo21</td>\n      <td>México</td>\n      <td>32</td>\n      <td>1000</td>\n      <td>332</td>\n    </tr>\n    <tr>\n      <th>7</th>\n      <td>31.263890</td>\n      <td>-98.545612</td>\n      <td>katsmith71</td>\n      <td>United States</td>\n      <td>54</td>\n      <td>28834</td>\n      <td>5006</td>\n    </tr>\n    <tr>\n      <th>8</th>\n      <td>34.053691</td>\n      <td>-118.242766</td>\n      <td>BragoVictoria</td>\n      <td>United States</td>\n      <td>102</td>\n      <td>275641</td>\n      <td>590</td>\n    </tr>\n    <tr>\n      <th>9</th>\n      <td>35.616552</td>\n      <td>-82.320500</td>\n      <td>ElEuropeoReal</td>\n      <td>United States</td>\n      <td>0</td>\n      <td>2987</td>\n      <td>1415</td>\n    </tr>\n    <tr>\n      <th>10</th>\n      <td>38.589080</td>\n      <td>141.248211</td>\n      <td>Kodjo61</td>\n      <td>日本</td>\n      <td>137</td>\n      <td>40290</td>\n      <td>527</td>\n    </tr>\n    <tr>\n      <th>11</th>\n      <td>38.731112</td>\n      <td>-95.241410</td>\n      <td>_murithi_</td>\n      <td>United States</td>\n      <td>9</td>\n      <td>1016</td>\n      <td>1637</td>\n    </tr>\n    <tr>\n      <th>12</th>\n      <td>38.946500</td>\n      <td>-77.158868</td>\n      <td>DenisProkopenk9</td>\n      <td>United States</td>\n      <td>32</td>\n      <td>18548</td>\n      <td>105</td>\n    </tr>\n    <tr>\n      <th>13</th>\n      <td>38.946500</td>\n      <td>-77.158868</td>\n      <td>Iseabail_lassy</td>\n      <td>United States</td>\n      <td>26</td>\n      <td>19138</td>\n      <td>1703</td>\n    </tr>\n    <tr>\n      <th>14</th>\n      <td>39.783730</td>\n      <td>-100.445882</td>\n      <td>PippaPoops</td>\n      <td>United States</td>\n      <td>17</td>\n      <td>1510</td>\n      <td>240</td>\n    </tr>\n    <tr>\n      <th>15</th>\n      <td>39.783730</td>\n      <td>-100.445882</td>\n      <td>VindiceLibertas</td>\n      <td>United States</td>\n      <td>32</td>\n      <td>10523</td>\n      <td>1646</td>\n    </tr>\n    <tr>\n      <th>16</th>\n      <td>40.079661</td>\n      <td>-89.433729</td>\n      <td>tommy15616</td>\n      <td>United States</td>\n      <td>1</td>\n      <td>2808</td>\n      <td>595</td>\n    </tr>\n    <tr>\n      <th>17</th>\n      <td>40.327013</td>\n      <td>-86.174693</td>\n      <td>gunzgal0r3</td>\n      <td>United States</td>\n      <td>2</td>\n      <td>1682</td>\n      <td>589</td>\n    </tr>\n    <tr>\n      <th>18</th>\n      <td>41.009198</td>\n      <td>28.966219</td>\n      <td>anews</td>\n      <td>Türkiye</td>\n      <td>0</td>\n      <td>1</td>\n      <td>275</td>\n    </tr>\n    <tr>\n      <th>19</th>\n      <td>41.382894</td>\n      <td>2.177432</td>\n      <td>BetiBarrera71</td>\n      <td>España</td>\n      <td>1259</td>\n      <td>1024998</td>\n      <td>528</td>\n    </tr>\n    <tr>\n      <th>20</th>\n      <td>42.434757</td>\n      <td>-83.984948</td>\n      <td>Naru1Nolan</td>\n      <td>United States</td>\n      <td>108</td>\n      <td>2001</td>\n      <td>22</td>\n    </tr>\n    <tr>\n      <th>21</th>\n      <td>42.638426</td>\n      <td>12.674297</td>\n      <td>itas1000xr</td>\n      <td>Italia</td>\n      <td>32</td>\n      <td>3632</td>\n      <td>199</td>\n    </tr>\n    <tr>\n      <th>22</th>\n      <td>42.716293</td>\n      <td>-78.828717</td>\n      <td>RACZPATT</td>\n      <td>United States</td>\n      <td>17</td>\n      <td>449472</td>\n      <td>9386</td>\n    </tr>\n    <tr>\n      <th>23</th>\n      <td>44.436141</td>\n      <td>26.102720</td>\n      <td>RazvanAngelesc2</td>\n      <td>România</td>\n      <td>28</td>\n      <td>134777</td>\n      <td>399</td>\n    </tr>\n    <tr>\n      <th>24</th>\n      <td>44.817813</td>\n      <td>20.456897</td>\n      <td>Zdep11</td>\n      <td>Србија</td>\n      <td>8</td>\n      <td>125994</td>\n      <td>803</td>\n    </tr>\n    <tr>\n      <th>25</th>\n      <td>45.753836</td>\n      <td>21.225747</td>\n      <td>lpauladrian</td>\n      <td>România</td>\n      <td>139</td>\n      <td>78388</td>\n      <td>70</td>\n    </tr>\n    <tr>\n      <th>26</th>\n      <td>46.603354</td>\n      <td>1.888334</td>\n      <td>CigalamProvence</td>\n      <td>France</td>\n      <td>3</td>\n      <td>146506</td>\n      <td>172</td>\n    </tr>\n    <tr>\n      <th>27</th>\n      <td>47.313494</td>\n      <td>-122.339310</td>\n      <td>klp723</td>\n      <td>United States</td>\n      <td>3</td>\n      <td>22898</td>\n      <td>1476</td>\n    </tr>\n    <tr>\n      <th>28</th>\n      <td>48.729127</td>\n      <td>-123.667749</td>\n      <td>alwaysbeenleft</td>\n      <td>Canada</td>\n      <td>7</td>\n      <td>124664</td>\n      <td>3377</td>\n    </tr>\n    <tr>\n      <th>29</th>\n      <td>48.853495</td>\n      <td>2.348391</td>\n      <td>MARIDJE17</td>\n      <td>France</td>\n      <td>54</td>\n      <td>44138</td>\n      <td>1044</td>\n    </tr>\n    <tr>\n      <th>30</th>\n      <td>49.487197</td>\n      <td>31.271832</td>\n      <td>YaroslavaSlava_</td>\n      <td>Україна</td>\n      <td>154</td>\n      <td>36466</td>\n      <td>19</td>\n    </tr>\n    <tr>\n      <th>31</th>\n      <td>50.450034</td>\n      <td>30.524136</td>\n      <td>HopkoHanna</td>\n      <td>Україна</td>\n      <td>1259</td>\n      <td>16967</td>\n      <td>636</td>\n    </tr>\n    <tr>\n      <th>32</th>\n      <td>50.450034</td>\n      <td>30.524136</td>\n      <td>SkA4live</td>\n      <td>Україна</td>\n      <td>294</td>\n      <td>25035</td>\n      <td>340</td>\n    </tr>\n    <tr>\n      <th>33</th>\n      <td>51.000000</td>\n      <td>10.000000</td>\n      <td>OlliWse</td>\n      <td>Deutschland</td>\n      <td>143</td>\n      <td>8771</td>\n      <td>93</td>\n    </tr>\n    <tr>\n      <th>34</th>\n      <td>51.163818</td>\n      <td>10.447831</td>\n      <td>_Bartotten_</td>\n      <td>Deutschland</td>\n      <td>9</td>\n      <td>222102</td>\n      <td>4985</td>\n    </tr>\n    <tr>\n      <th>35</th>\n      <td>51.163818</td>\n      <td>10.447831</td>\n      <td>holzmueller2</td>\n      <td>Deutschland</td>\n      <td>1</td>\n      <td>11956</td>\n      <td>48</td>\n    </tr>\n    <tr>\n      <th>36</th>\n      <td>51.507336</td>\n      <td>-0.127650</td>\n      <td>glenmexted</td>\n      <td>United Kingdom</td>\n      <td>935</td>\n      <td>270323</td>\n      <td>1219</td>\n    </tr>\n    <tr>\n      <th>37</th>\n      <td>52.531021</td>\n      <td>-1.264906</td>\n      <td>samchurms1</td>\n      <td>United Kingdom</td>\n      <td>5</td>\n      <td>11983</td>\n      <td>450</td>\n    </tr>\n    <tr>\n      <th>38</th>\n      <td>52.865196</td>\n      <td>-7.979460</td>\n      <td>ger_cosgrove</td>\n      <td>Éire / Ireland</td>\n      <td>32</td>\n      <td>103921</td>\n      <td>625</td>\n    </tr>\n    <tr>\n      <th>39</th>\n      <td>53.266846</td>\n      <td>22.852579</td>\n      <td>Twiter__Trends</td>\n      <td>Polska</td>\n      <td>0</td>\n      <td>342</td>\n      <td>120</td>\n    </tr>\n    <tr>\n      <th>40</th>\n      <td>53.448608</td>\n      <td>-2.735982</td>\n      <td>DianeLBW</td>\n      <td>United Kingdom</td>\n      <td>23</td>\n      <td>166324</td>\n      <td>881</td>\n    </tr>\n    <tr>\n      <th>41</th>\n      <td>54.702354</td>\n      <td>-3.276575</td>\n      <td>JackNowicki1</td>\n      <td>United Kingdom</td>\n      <td>0</td>\n      <td>84166</td>\n      <td>1642</td>\n    </tr>\n    <tr>\n      <th>42</th>\n      <td>54.702354</td>\n      <td>-3.276575</td>\n      <td>Shane2020Wales</td>\n      <td>United Kingdom</td>\n      <td>22</td>\n      <td>137640</td>\n      <td>4996</td>\n    </tr>\n    <tr>\n      <th>43</th>\n      <td>54.702354</td>\n      <td>-3.276575</td>\n      <td>ben_burnside</td>\n      <td>United Kingdom</td>\n      <td>9</td>\n      <td>34299</td>\n      <td>684</td>\n    </tr>\n    <tr>\n      <th>44</th>\n      <td>55.143122</td>\n      <td>14.922630</td>\n      <td>JohnKStreet1</td>\n      <td>Danmark</td>\n      <td>29</td>\n      <td>52144</td>\n      <td>214</td>\n    </tr>\n    <tr>\n      <th>45</th>\n      <td>59.913330</td>\n      <td>10.738970</td>\n      <td>cjostein</td>\n      <td>Norge</td>\n      <td>90</td>\n      <td>15933</td>\n      <td>1042</td>\n    </tr>\n  </tbody>\n</table>\n</div>"
     },
     "execution_count": 62,
     "metadata": {},
     "output_type": "execute_result"
    }
   ],
   "source": [
    "df_ucraine_trolls_sin_nans_localizacion_reducido_agrupado = df_ucraine_trolls_sin_nans_localizacion_reducido.groupby(['latitud', 'longitud','nombre_usuario','pais']).agg({'numero_retweets': 'sum', 'numero_favoritos': 'sum', 'numero_seguidores': 'max'}).reset_index()\n",
    "df_ucraine_trolls_sin_nans_localizacion_reducido_agrupado"
   ],
   "metadata": {
    "collapsed": false,
    "ExecuteTime": {
     "start_time": "2023-04-26T11:33:05.643868Z",
     "end_time": "2023-04-26T11:33:05.658507Z"
    }
   }
  },
  {
   "cell_type": "code",
   "execution_count": 63,
   "outputs": [],
   "source": [
    "fig = px.scatter_mapbox(df_ucraine_trolls_sin_nans_localizacion_reducido_agrupado, lat='latitud', lon='longitud', size='numero_retweets', color='pais', hover_name='nombre_usuario',\n",
    "                        size_max=30, zoom=2, height=1500, width=5000)"
   ],
   "metadata": {
    "collapsed": false,
    "ExecuteTime": {
     "start_time": "2023-04-26T11:33:05.659507Z",
     "end_time": "2023-04-26T11:33:05.780664Z"
    }
   }
  },
  {
   "cell_type": "code",
   "execution_count": 64,
   "outputs": [
    {
     "data": {
      "application/vnd.plotly.v1+json": {
       "data": [
        {
         "hovertemplate": "<b>%{hovertext}</b><br><br>pais=New Zealand/Aotearoa<br>numero_retweets=%{marker.size}<br>latitud=%{lat}<br>longitud=%{lon}<extra></extra>",
         "hovertext": [
          "jerrygarry"
         ],
         "lat": [
          -36.852095
         ],
         "legendgroup": "New Zealand/Aotearoa",
         "lon": [
          174.7631803
         ],
         "marker": {
          "color": "#636efa",
          "size": [
           297
          ],
          "sizemode": "area",
          "sizeref": 1.3988888888888888
         },
         "mode": "markers",
         "name": "New Zealand/Aotearoa",
         "showlegend": true,
         "subplot": "mapbox",
         "type": "scattermapbox"
        },
        {
         "hovertemplate": "<b>%{hovertext}</b><br><br>pais=Australia<br>numero_retweets=%{marker.size}<br>latitud=%{lat}<br>longitud=%{lon}<extra></extra>",
         "hovertext": [
          "DipDevotion"
         ],
         "lat": [
          -33.8698439
         ],
         "legendgroup": "Australia",
         "lon": [
          151.2082848
         ],
         "marker": {
          "color": "#EF553B",
          "size": [
           8
          ],
          "sizemode": "area",
          "sizeref": 1.3988888888888888
         },
         "mode": "markers",
         "name": "Australia",
         "showlegend": true,
         "subplot": "mapbox",
         "type": "scattermapbox"
        },
        {
         "hovertemplate": "<b>%{hovertext}</b><br><br>pais=Kenya<br>numero_retweets=%{marker.size}<br>latitud=%{lat}<br>longitud=%{lon}<extra></extra>",
         "hovertext": [
          "RomacLtd"
         ],
         "lat": [
          1.4419683
         ],
         "legendgroup": "Kenya",
         "lon": [
          38.4313975
         ],
         "marker": {
          "color": "#00cc96",
          "size": [
           2
          ],
          "sizemode": "area",
          "sizeref": 1.3988888888888888
         },
         "mode": "markers",
         "name": "Kenya",
         "showlegend": true,
         "subplot": "mapbox",
         "type": "scattermapbox"
        },
        {
         "hovertemplate": "<b>%{hovertext}</b><br><br>pais=Malaysia<br>numero_retweets=%{marker.size}<br>latitud=%{lat}<br>longitud=%{lon}<extra></extra>",
         "hovertext": [
          "atollun",
          "kk131066"
         ],
         "lat": [
          3.04955345,
          3.1516964
         ],
         "legendgroup": "Malaysia",
         "lon": [
          101.66989188808999,
          101.6942371
         ],
         "marker": {
          "color": "#ab63fa",
          "size": [
           5,
           1
          ],
          "sizemode": "area",
          "sizeref": 1.3988888888888888
         },
         "mode": "markers",
         "name": "Malaysia",
         "showlegend": true,
         "subplot": "mapbox",
         "type": "scattermapbox"
        },
        {
         "hovertemplate": "<b>%{hovertext}</b><br><br>pais=Venezuela<br>numero_retweets=%{marker.size}<br>latitud=%{lat}<br>longitud=%{lon}<extra></extra>",
         "hovertext": [
          "josegregorio11"
         ],
         "lat": [
          10.5060934
         ],
         "legendgroup": "Venezuela",
         "lon": [
          -66.9146008
         ],
         "marker": {
          "color": "#FFA15A",
          "size": [
           27
          ],
          "sizemode": "area",
          "sizeref": 1.3988888888888888
         },
         "mode": "markers",
         "name": "Venezuela",
         "showlegend": true,
         "subplot": "mapbox",
         "type": "scattermapbox"
        },
        {
         "hovertemplate": "<b>%{hovertext}</b><br><br>pais=México<br>numero_retweets=%{marker.size}<br>latitud=%{lat}<br>longitud=%{lon}<extra></extra>",
         "hovertext": [
          "5conejo21"
         ],
         "lat": [
          20.521788
         ],
         "legendgroup": "México",
         "lon": [
          -100.8140458
         ],
         "marker": {
          "color": "#19d3f3",
          "size": [
           32
          ],
          "sizemode": "area",
          "sizeref": 1.3988888888888888
         },
         "mode": "markers",
         "name": "México",
         "showlegend": true,
         "subplot": "mapbox",
         "type": "scattermapbox"
        },
        {
         "hovertemplate": "<b>%{hovertext}</b><br><br>pais=United States<br>numero_retweets=%{marker.size}<br>latitud=%{lat}<br>longitud=%{lon}<extra></extra>",
         "hovertext": [
          "katsmith71",
          "BragoVictoria",
          "ElEuropeoReal",
          "_murithi_",
          "DenisProkopenk9",
          "Iseabail_lassy",
          "PippaPoops",
          "VindiceLibertas",
          "tommy15616",
          "gunzgal0r3",
          "Naru1Nolan",
          "RACZPATT",
          "klp723"
         ],
         "lat": [
          31.2638905,
          34.0536909,
          35.6165517,
          38.7311123,
          38.9464996,
          38.9464996,
          39.7837304,
          39.7837304,
          40.0796606,
          40.3270127,
          42.4347571,
          42.716293,
          47.313494
         ],
         "legendgroup": "United States",
         "lon": [
          -98.5456116,
          -118.242766,
          -82.3205003,
          -95.2414104,
          -77.1588685,
          -77.1588685,
          -100.445882,
          -100.445882,
          -89.4337288,
          -86.1746933,
          -83.9849477,
          -78.828717,
          -122.33931
         ],
         "marker": {
          "color": "#FF6692",
          "size": [
           54,
           102,
           0,
           9,
           32,
           26,
           17,
           32,
           1,
           2,
           108,
           17,
           3
          ],
          "sizemode": "area",
          "sizeref": 1.3988888888888888
         },
         "mode": "markers",
         "name": "United States",
         "showlegend": true,
         "subplot": "mapbox",
         "type": "scattermapbox"
        },
        {
         "hovertemplate": "<b>%{hovertext}</b><br><br>pais=日本<br>numero_retweets=%{marker.size}<br>latitud=%{lat}<br>longitud=%{lon}<extra></extra>",
         "hovertext": [
          "Kodjo61"
         ],
         "lat": [
          38.5890796
         ],
         "legendgroup": "日本",
         "lon": [
          141.248211
         ],
         "marker": {
          "color": "#B6E880",
          "size": [
           137
          ],
          "sizemode": "area",
          "sizeref": 1.3988888888888888
         },
         "mode": "markers",
         "name": "日本",
         "showlegend": true,
         "subplot": "mapbox",
         "type": "scattermapbox"
        },
        {
         "hovertemplate": "<b>%{hovertext}</b><br><br>pais=Türkiye<br>numero_retweets=%{marker.size}<br>latitud=%{lat}<br>longitud=%{lon}<extra></extra>",
         "hovertext": [
          "anews"
         ],
         "lat": [
          41.0091982
         ],
         "legendgroup": "Türkiye",
         "lon": [
          28.9662187
         ],
         "marker": {
          "color": "#FF97FF",
          "size": [
           0
          ],
          "sizemode": "area",
          "sizeref": 1.3988888888888888
         },
         "mode": "markers",
         "name": "Türkiye",
         "showlegend": true,
         "subplot": "mapbox",
         "type": "scattermapbox"
        },
        {
         "hovertemplate": "<b>%{hovertext}</b><br><br>pais=España<br>numero_retweets=%{marker.size}<br>latitud=%{lat}<br>longitud=%{lon}<extra></extra>",
         "hovertext": [
          "BetiBarrera71"
         ],
         "lat": [
          41.3828939
         ],
         "legendgroup": "España",
         "lon": [
          2.1774322
         ],
         "marker": {
          "color": "#FECB52",
          "size": [
           1259
          ],
          "sizemode": "area",
          "sizeref": 1.3988888888888888
         },
         "mode": "markers",
         "name": "España",
         "showlegend": true,
         "subplot": "mapbox",
         "type": "scattermapbox"
        },
        {
         "hovertemplate": "<b>%{hovertext}</b><br><br>pais=Italia<br>numero_retweets=%{marker.size}<br>latitud=%{lat}<br>longitud=%{lon}<extra></extra>",
         "hovertext": [
          "itas1000xr"
         ],
         "lat": [
          42.6384261
         ],
         "legendgroup": "Italia",
         "lon": [
          12.674297
         ],
         "marker": {
          "color": "#636efa",
          "size": [
           32
          ],
          "sizemode": "area",
          "sizeref": 1.3988888888888888
         },
         "mode": "markers",
         "name": "Italia",
         "showlegend": true,
         "subplot": "mapbox",
         "type": "scattermapbox"
        },
        {
         "hovertemplate": "<b>%{hovertext}</b><br><br>pais=România<br>numero_retweets=%{marker.size}<br>latitud=%{lat}<br>longitud=%{lon}<extra></extra>",
         "hovertext": [
          "RazvanAngelesc2",
          "lpauladrian"
         ],
         "lat": [
          44.4361414,
          45.7538355
         ],
         "legendgroup": "România",
         "lon": [
          26.1027202,
          21.2257474
         ],
         "marker": {
          "color": "#EF553B",
          "size": [
           28,
           139
          ],
          "sizemode": "area",
          "sizeref": 1.3988888888888888
         },
         "mode": "markers",
         "name": "România",
         "showlegend": true,
         "subplot": "mapbox",
         "type": "scattermapbox"
        },
        {
         "hovertemplate": "<b>%{hovertext}</b><br><br>pais=Србија<br>numero_retweets=%{marker.size}<br>latitud=%{lat}<br>longitud=%{lon}<extra></extra>",
         "hovertext": [
          "Zdep11"
         ],
         "lat": [
          44.8178131
         ],
         "legendgroup": "Србија",
         "lon": [
          20.4568974
         ],
         "marker": {
          "color": "#00cc96",
          "size": [
           8
          ],
          "sizemode": "area",
          "sizeref": 1.3988888888888888
         },
         "mode": "markers",
         "name": "Србија",
         "showlegend": true,
         "subplot": "mapbox",
         "type": "scattermapbox"
        },
        {
         "hovertemplate": "<b>%{hovertext}</b><br><br>pais=France<br>numero_retweets=%{marker.size}<br>latitud=%{lat}<br>longitud=%{lon}<extra></extra>",
         "hovertext": [
          "CigalamProvence",
          "MARIDJE17"
         ],
         "lat": [
          46.603354,
          48.8534951
         ],
         "legendgroup": "France",
         "lon": [
          1.8883335,
          2.3483915
         ],
         "marker": {
          "color": "#ab63fa",
          "size": [
           3,
           54
          ],
          "sizemode": "area",
          "sizeref": 1.3988888888888888
         },
         "mode": "markers",
         "name": "France",
         "showlegend": true,
         "subplot": "mapbox",
         "type": "scattermapbox"
        },
        {
         "hovertemplate": "<b>%{hovertext}</b><br><br>pais=Canada<br>numero_retweets=%{marker.size}<br>latitud=%{lat}<br>longitud=%{lon}<extra></extra>",
         "hovertext": [
          "alwaysbeenleft"
         ],
         "lat": [
          48.7291272
         ],
         "legendgroup": "Canada",
         "lon": [
          -123.6677485
         ],
         "marker": {
          "color": "#FFA15A",
          "size": [
           7
          ],
          "sizemode": "area",
          "sizeref": 1.3988888888888888
         },
         "mode": "markers",
         "name": "Canada",
         "showlegend": true,
         "subplot": "mapbox",
         "type": "scattermapbox"
        },
        {
         "hovertemplate": "<b>%{hovertext}</b><br><br>pais=Україна<br>numero_retweets=%{marker.size}<br>latitud=%{lat}<br>longitud=%{lon}<extra></extra>",
         "hovertext": [
          "YaroslavaSlava_",
          "HopkoHanna",
          "SkA4live"
         ],
         "lat": [
          49.4871968,
          50.4500336,
          50.4500336
         ],
         "legendgroup": "Україна",
         "lon": [
          31.2718321,
          30.5241361,
          30.5241361
         ],
         "marker": {
          "color": "#19d3f3",
          "size": [
           154,
           1259,
           294
          ],
          "sizemode": "area",
          "sizeref": 1.3988888888888888
         },
         "mode": "markers",
         "name": "Україна",
         "showlegend": true,
         "subplot": "mapbox",
         "type": "scattermapbox"
        },
        {
         "hovertemplate": "<b>%{hovertext}</b><br><br>pais=Deutschland<br>numero_retweets=%{marker.size}<br>latitud=%{lat}<br>longitud=%{lon}<extra></extra>",
         "hovertext": [
          "OlliWse",
          "_Bartotten_",
          "holzmueller2"
         ],
         "lat": [
          51.0,
          51.1638175,
          51.1638175
         ],
         "legendgroup": "Deutschland",
         "lon": [
          10.0,
          10.4478313,
          10.4478313
         ],
         "marker": {
          "color": "#FF6692",
          "size": [
           143,
           9,
           1
          ],
          "sizemode": "area",
          "sizeref": 1.3988888888888888
         },
         "mode": "markers",
         "name": "Deutschland",
         "showlegend": true,
         "subplot": "mapbox",
         "type": "scattermapbox"
        },
        {
         "hovertemplate": "<b>%{hovertext}</b><br><br>pais=United Kingdom<br>numero_retweets=%{marker.size}<br>latitud=%{lat}<br>longitud=%{lon}<extra></extra>",
         "hovertext": [
          "glenmexted",
          "samchurms1",
          "DianeLBW",
          "JackNowicki1",
          "Shane2020Wales",
          "ben_burnside"
         ],
         "lat": [
          51.5073359,
          52.5310214,
          53.4486075,
          54.7023545,
          54.7023545,
          54.7023545
         ],
         "legendgroup": "United Kingdom",
         "lon": [
          -0.12765,
          -1.2649062,
          -2.7359820790816323,
          -3.2765753,
          -3.2765753,
          -3.2765753
         ],
         "marker": {
          "color": "#B6E880",
          "size": [
           935,
           5,
           23,
           0,
           22,
           9
          ],
          "sizemode": "area",
          "sizeref": 1.3988888888888888
         },
         "mode": "markers",
         "name": "United Kingdom",
         "showlegend": true,
         "subplot": "mapbox",
         "type": "scattermapbox"
        },
        {
         "hovertemplate": "<b>%{hovertext}</b><br><br>pais=Éire / Ireland<br>numero_retweets=%{marker.size}<br>latitud=%{lat}<br>longitud=%{lon}<extra></extra>",
         "hovertext": [
          "ger_cosgrove"
         ],
         "lat": [
          52.865196
         ],
         "legendgroup": "Éire / Ireland",
         "lon": [
          -7.9794599
         ],
         "marker": {
          "color": "#FF97FF",
          "size": [
           32
          ],
          "sizemode": "area",
          "sizeref": 1.3988888888888888
         },
         "mode": "markers",
         "name": "Éire / Ireland",
         "showlegend": true,
         "subplot": "mapbox",
         "type": "scattermapbox"
        },
        {
         "hovertemplate": "<b>%{hovertext}</b><br><br>pais=Polska<br>numero_retweets=%{marker.size}<br>latitud=%{lat}<br>longitud=%{lon}<extra></extra>",
         "hovertext": [
          "Twiter__Trends"
         ],
         "lat": [
          53.2668455
         ],
         "legendgroup": "Polska",
         "lon": [
          22.8525787
         ],
         "marker": {
          "color": "#FECB52",
          "size": [
           0
          ],
          "sizemode": "area",
          "sizeref": 1.3988888888888888
         },
         "mode": "markers",
         "name": "Polska",
         "showlegend": true,
         "subplot": "mapbox",
         "type": "scattermapbox"
        },
        {
         "hovertemplate": "<b>%{hovertext}</b><br><br>pais=Danmark<br>numero_retweets=%{marker.size}<br>latitud=%{lat}<br>longitud=%{lon}<extra></extra>",
         "hovertext": [
          "JohnKStreet1"
         ],
         "lat": [
          55.143122399999996
         ],
         "legendgroup": "Danmark",
         "lon": [
          14.922629658767558
         ],
         "marker": {
          "color": "#636efa",
          "size": [
           29
          ],
          "sizemode": "area",
          "sizeref": 1.3988888888888888
         },
         "mode": "markers",
         "name": "Danmark",
         "showlegend": true,
         "subplot": "mapbox",
         "type": "scattermapbox"
        },
        {
         "hovertemplate": "<b>%{hovertext}</b><br><br>pais=Norge<br>numero_retweets=%{marker.size}<br>latitud=%{lat}<br>longitud=%{lon}<extra></extra>",
         "hovertext": [
          "cjostein"
         ],
         "lat": [
          59.9133301
         ],
         "legendgroup": "Norge",
         "lon": [
          10.7389701
         ],
         "marker": {
          "color": "#EF553B",
          "size": [
           90
          ],
          "sizemode": "area",
          "sizeref": 1.3988888888888888
         },
         "mode": "markers",
         "name": "Norge",
         "showlegend": true,
         "subplot": "mapbox",
         "type": "scattermapbox"
        }
       ],
       "layout": {
        "template": {
         "data": {
          "histogram2dcontour": [
           {
            "type": "histogram2dcontour",
            "colorbar": {
             "outlinewidth": 0,
             "ticks": ""
            },
            "colorscale": [
             [
              0.0,
              "#0d0887"
             ],
             [
              0.1111111111111111,
              "#46039f"
             ],
             [
              0.2222222222222222,
              "#7201a8"
             ],
             [
              0.3333333333333333,
              "#9c179e"
             ],
             [
              0.4444444444444444,
              "#bd3786"
             ],
             [
              0.5555555555555556,
              "#d8576b"
             ],
             [
              0.6666666666666666,
              "#ed7953"
             ],
             [
              0.7777777777777778,
              "#fb9f3a"
             ],
             [
              0.8888888888888888,
              "#fdca26"
             ],
             [
              1.0,
              "#f0f921"
             ]
            ]
           }
          ],
          "choropleth": [
           {
            "type": "choropleth",
            "colorbar": {
             "outlinewidth": 0,
             "ticks": ""
            }
           }
          ],
          "histogram2d": [
           {
            "type": "histogram2d",
            "colorbar": {
             "outlinewidth": 0,
             "ticks": ""
            },
            "colorscale": [
             [
              0.0,
              "#0d0887"
             ],
             [
              0.1111111111111111,
              "#46039f"
             ],
             [
              0.2222222222222222,
              "#7201a8"
             ],
             [
              0.3333333333333333,
              "#9c179e"
             ],
             [
              0.4444444444444444,
              "#bd3786"
             ],
             [
              0.5555555555555556,
              "#d8576b"
             ],
             [
              0.6666666666666666,
              "#ed7953"
             ],
             [
              0.7777777777777778,
              "#fb9f3a"
             ],
             [
              0.8888888888888888,
              "#fdca26"
             ],
             [
              1.0,
              "#f0f921"
             ]
            ]
           }
          ],
          "heatmap": [
           {
            "type": "heatmap",
            "colorbar": {
             "outlinewidth": 0,
             "ticks": ""
            },
            "colorscale": [
             [
              0.0,
              "#0d0887"
             ],
             [
              0.1111111111111111,
              "#46039f"
             ],
             [
              0.2222222222222222,
              "#7201a8"
             ],
             [
              0.3333333333333333,
              "#9c179e"
             ],
             [
              0.4444444444444444,
              "#bd3786"
             ],
             [
              0.5555555555555556,
              "#d8576b"
             ],
             [
              0.6666666666666666,
              "#ed7953"
             ],
             [
              0.7777777777777778,
              "#fb9f3a"
             ],
             [
              0.8888888888888888,
              "#fdca26"
             ],
             [
              1.0,
              "#f0f921"
             ]
            ]
           }
          ],
          "heatmapgl": [
           {
            "type": "heatmapgl",
            "colorbar": {
             "outlinewidth": 0,
             "ticks": ""
            },
            "colorscale": [
             [
              0.0,
              "#0d0887"
             ],
             [
              0.1111111111111111,
              "#46039f"
             ],
             [
              0.2222222222222222,
              "#7201a8"
             ],
             [
              0.3333333333333333,
              "#9c179e"
             ],
             [
              0.4444444444444444,
              "#bd3786"
             ],
             [
              0.5555555555555556,
              "#d8576b"
             ],
             [
              0.6666666666666666,
              "#ed7953"
             ],
             [
              0.7777777777777778,
              "#fb9f3a"
             ],
             [
              0.8888888888888888,
              "#fdca26"
             ],
             [
              1.0,
              "#f0f921"
             ]
            ]
           }
          ],
          "contourcarpet": [
           {
            "type": "contourcarpet",
            "colorbar": {
             "outlinewidth": 0,
             "ticks": ""
            }
           }
          ],
          "contour": [
           {
            "type": "contour",
            "colorbar": {
             "outlinewidth": 0,
             "ticks": ""
            },
            "colorscale": [
             [
              0.0,
              "#0d0887"
             ],
             [
              0.1111111111111111,
              "#46039f"
             ],
             [
              0.2222222222222222,
              "#7201a8"
             ],
             [
              0.3333333333333333,
              "#9c179e"
             ],
             [
              0.4444444444444444,
              "#bd3786"
             ],
             [
              0.5555555555555556,
              "#d8576b"
             ],
             [
              0.6666666666666666,
              "#ed7953"
             ],
             [
              0.7777777777777778,
              "#fb9f3a"
             ],
             [
              0.8888888888888888,
              "#fdca26"
             ],
             [
              1.0,
              "#f0f921"
             ]
            ]
           }
          ],
          "surface": [
           {
            "type": "surface",
            "colorbar": {
             "outlinewidth": 0,
             "ticks": ""
            },
            "colorscale": [
             [
              0.0,
              "#0d0887"
             ],
             [
              0.1111111111111111,
              "#46039f"
             ],
             [
              0.2222222222222222,
              "#7201a8"
             ],
             [
              0.3333333333333333,
              "#9c179e"
             ],
             [
              0.4444444444444444,
              "#bd3786"
             ],
             [
              0.5555555555555556,
              "#d8576b"
             ],
             [
              0.6666666666666666,
              "#ed7953"
             ],
             [
              0.7777777777777778,
              "#fb9f3a"
             ],
             [
              0.8888888888888888,
              "#fdca26"
             ],
             [
              1.0,
              "#f0f921"
             ]
            ]
           }
          ],
          "mesh3d": [
           {
            "type": "mesh3d",
            "colorbar": {
             "outlinewidth": 0,
             "ticks": ""
            }
           }
          ],
          "scatter": [
           {
            "marker": {
             "line": {
              "color": "#283442"
             }
            },
            "type": "scatter"
           }
          ],
          "parcoords": [
           {
            "type": "parcoords",
            "line": {
             "colorbar": {
              "outlinewidth": 0,
              "ticks": ""
             }
            }
           }
          ],
          "scatterpolargl": [
           {
            "type": "scatterpolargl",
            "marker": {
             "colorbar": {
              "outlinewidth": 0,
              "ticks": ""
             }
            }
           }
          ],
          "bar": [
           {
            "error_x": {
             "color": "#f2f5fa"
            },
            "error_y": {
             "color": "#f2f5fa"
            },
            "marker": {
             "line": {
              "color": "rgb(17,17,17)",
              "width": 0.5
             },
             "pattern": {
              "fillmode": "overlay",
              "size": 10,
              "solidity": 0.2
             }
            },
            "type": "bar"
           }
          ],
          "scattergeo": [
           {
            "type": "scattergeo",
            "marker": {
             "colorbar": {
              "outlinewidth": 0,
              "ticks": ""
             }
            }
           }
          ],
          "scatterpolar": [
           {
            "type": "scatterpolar",
            "marker": {
             "colorbar": {
              "outlinewidth": 0,
              "ticks": ""
             }
            }
           }
          ],
          "histogram": [
           {
            "marker": {
             "pattern": {
              "fillmode": "overlay",
              "size": 10,
              "solidity": 0.2
             }
            },
            "type": "histogram"
           }
          ],
          "scattergl": [
           {
            "marker": {
             "line": {
              "color": "#283442"
             }
            },
            "type": "scattergl"
           }
          ],
          "scatter3d": [
           {
            "type": "scatter3d",
            "line": {
             "colorbar": {
              "outlinewidth": 0,
              "ticks": ""
             }
            },
            "marker": {
             "colorbar": {
              "outlinewidth": 0,
              "ticks": ""
             }
            }
           }
          ],
          "scattermapbox": [
           {
            "type": "scattermapbox",
            "marker": {
             "colorbar": {
              "outlinewidth": 0,
              "ticks": ""
             }
            }
           }
          ],
          "scatterternary": [
           {
            "type": "scatterternary",
            "marker": {
             "colorbar": {
              "outlinewidth": 0,
              "ticks": ""
             }
            }
           }
          ],
          "scattercarpet": [
           {
            "type": "scattercarpet",
            "marker": {
             "colorbar": {
              "outlinewidth": 0,
              "ticks": ""
             }
            }
           }
          ],
          "carpet": [
           {
            "aaxis": {
             "endlinecolor": "#A2B1C6",
             "gridcolor": "#506784",
             "linecolor": "#506784",
             "minorgridcolor": "#506784",
             "startlinecolor": "#A2B1C6"
            },
            "baxis": {
             "endlinecolor": "#A2B1C6",
             "gridcolor": "#506784",
             "linecolor": "#506784",
             "minorgridcolor": "#506784",
             "startlinecolor": "#A2B1C6"
            },
            "type": "carpet"
           }
          ],
          "table": [
           {
            "cells": {
             "fill": {
              "color": "#506784"
             },
             "line": {
              "color": "rgb(17,17,17)"
             }
            },
            "header": {
             "fill": {
              "color": "#2a3f5f"
             },
             "line": {
              "color": "rgb(17,17,17)"
             }
            },
            "type": "table"
           }
          ],
          "barpolar": [
           {
            "marker": {
             "line": {
              "color": "rgb(17,17,17)",
              "width": 0.5
             },
             "pattern": {
              "fillmode": "overlay",
              "size": 10,
              "solidity": 0.2
             }
            },
            "type": "barpolar"
           }
          ],
          "pie": [
           {
            "automargin": true,
            "type": "pie"
           }
          ]
         },
         "layout": {
          "autotypenumbers": "strict",
          "colorway": [
           "#636efa",
           "#EF553B",
           "#00cc96",
           "#ab63fa",
           "#FFA15A",
           "#19d3f3",
           "#FF6692",
           "#B6E880",
           "#FF97FF",
           "#FECB52"
          ],
          "font": {
           "color": "#f2f5fa"
          },
          "hovermode": "closest",
          "hoverlabel": {
           "align": "left"
          },
          "paper_bgcolor": "rgb(17,17,17)",
          "plot_bgcolor": "rgb(17,17,17)",
          "polar": {
           "bgcolor": "rgb(17,17,17)",
           "angularaxis": {
            "gridcolor": "#506784",
            "linecolor": "#506784",
            "ticks": ""
           },
           "radialaxis": {
            "gridcolor": "#506784",
            "linecolor": "#506784",
            "ticks": ""
           }
          },
          "ternary": {
           "bgcolor": "rgb(17,17,17)",
           "aaxis": {
            "gridcolor": "#506784",
            "linecolor": "#506784",
            "ticks": ""
           },
           "baxis": {
            "gridcolor": "#506784",
            "linecolor": "#506784",
            "ticks": ""
           },
           "caxis": {
            "gridcolor": "#506784",
            "linecolor": "#506784",
            "ticks": ""
           }
          },
          "coloraxis": {
           "colorbar": {
            "outlinewidth": 0,
            "ticks": ""
           }
          },
          "colorscale": {
           "sequential": [
            [
             0.0,
             "#0d0887"
            ],
            [
             0.1111111111111111,
             "#46039f"
            ],
            [
             0.2222222222222222,
             "#7201a8"
            ],
            [
             0.3333333333333333,
             "#9c179e"
            ],
            [
             0.4444444444444444,
             "#bd3786"
            ],
            [
             0.5555555555555556,
             "#d8576b"
            ],
            [
             0.6666666666666666,
             "#ed7953"
            ],
            [
             0.7777777777777778,
             "#fb9f3a"
            ],
            [
             0.8888888888888888,
             "#fdca26"
            ],
            [
             1.0,
             "#f0f921"
            ]
           ],
           "sequentialminus": [
            [
             0.0,
             "#0d0887"
            ],
            [
             0.1111111111111111,
             "#46039f"
            ],
            [
             0.2222222222222222,
             "#7201a8"
            ],
            [
             0.3333333333333333,
             "#9c179e"
            ],
            [
             0.4444444444444444,
             "#bd3786"
            ],
            [
             0.5555555555555556,
             "#d8576b"
            ],
            [
             0.6666666666666666,
             "#ed7953"
            ],
            [
             0.7777777777777778,
             "#fb9f3a"
            ],
            [
             0.8888888888888888,
             "#fdca26"
            ],
            [
             1.0,
             "#f0f921"
            ]
           ],
           "diverging": [
            [
             0,
             "#8e0152"
            ],
            [
             0.1,
             "#c51b7d"
            ],
            [
             0.2,
             "#de77ae"
            ],
            [
             0.3,
             "#f1b6da"
            ],
            [
             0.4,
             "#fde0ef"
            ],
            [
             0.5,
             "#f7f7f7"
            ],
            [
             0.6,
             "#e6f5d0"
            ],
            [
             0.7,
             "#b8e186"
            ],
            [
             0.8,
             "#7fbc41"
            ],
            [
             0.9,
             "#4d9221"
            ],
            [
             1,
             "#276419"
            ]
           ]
          },
          "xaxis": {
           "gridcolor": "#283442",
           "linecolor": "#506784",
           "ticks": "",
           "title": {
            "standoff": 15
           },
           "zerolinecolor": "#283442",
           "automargin": true,
           "zerolinewidth": 2
          },
          "yaxis": {
           "gridcolor": "#283442",
           "linecolor": "#506784",
           "ticks": "",
           "title": {
            "standoff": 15
           },
           "zerolinecolor": "#283442",
           "automargin": true,
           "zerolinewidth": 2
          },
          "scene": {
           "xaxis": {
            "backgroundcolor": "rgb(17,17,17)",
            "gridcolor": "#506784",
            "linecolor": "#506784",
            "showbackground": true,
            "ticks": "",
            "zerolinecolor": "#C8D4E3",
            "gridwidth": 2
           },
           "yaxis": {
            "backgroundcolor": "rgb(17,17,17)",
            "gridcolor": "#506784",
            "linecolor": "#506784",
            "showbackground": true,
            "ticks": "",
            "zerolinecolor": "#C8D4E3",
            "gridwidth": 2
           },
           "zaxis": {
            "backgroundcolor": "rgb(17,17,17)",
            "gridcolor": "#506784",
            "linecolor": "#506784",
            "showbackground": true,
            "ticks": "",
            "zerolinecolor": "#C8D4E3",
            "gridwidth": 2
           }
          },
          "shapedefaults": {
           "line": {
            "color": "#f2f5fa"
           }
          },
          "annotationdefaults": {
           "arrowcolor": "#f2f5fa",
           "arrowhead": 0,
           "arrowwidth": 1
          },
          "geo": {
           "bgcolor": "rgb(17,17,17)",
           "landcolor": "rgb(17,17,17)",
           "subunitcolor": "#506784",
           "showland": true,
           "showlakes": true,
           "lakecolor": "rgb(17,17,17)"
          },
          "title": {
           "x": 0.05
          },
          "updatemenudefaults": {
           "bgcolor": "#506784",
           "borderwidth": 0
          },
          "sliderdefaults": {
           "bgcolor": "#C8D4E3",
           "borderwidth": 1,
           "bordercolor": "rgb(17,17,17)",
           "tickwidth": 0
          },
          "mapbox": {
           "style": "dark"
          }
         }
        },
        "mapbox": {
         "domain": {
          "x": [
           0.0,
           1.0
          ],
          "y": [
           0.0,
           1.0
          ]
         },
         "center": {
          "lat": 38.418627583695645,
          "lon": -11.458046074613568
         },
         "zoom": 2,
         "style": "carto-positron"
        },
        "legend": {
         "title": {
          "text": "pais"
         },
         "tracegroupgap": 0,
         "itemsizing": "constant"
        },
        "margin": {
         "t": 60
        },
        "height": 1500,
        "width": 5000
       },
       "config": {
        "plotlyServerURL": "https://plot.ly"
       }
      },
      "text/html": "<div>                            <div id=\"0cff4ec9-c06c-4ce3-bed0-8d206899165b\" class=\"plotly-graph-div\" style=\"height:1500px; width:5000px;\"></div>            <script type=\"text/javascript\">                require([\"plotly\"], function(Plotly) {                    window.PLOTLYENV=window.PLOTLYENV || {};                                    if (document.getElementById(\"0cff4ec9-c06c-4ce3-bed0-8d206899165b\")) {                    Plotly.newPlot(                        \"0cff4ec9-c06c-4ce3-bed0-8d206899165b\",                        [{\"hovertemplate\":\"<b>%{hovertext}</b><br><br>pais=New Zealand/Aotearoa<br>numero_retweets=%{marker.size}<br>latitud=%{lat}<br>longitud=%{lon}<extra></extra>\",\"hovertext\":[\"jerrygarry\"],\"lat\":[-36.852095],\"legendgroup\":\"New Zealand/Aotearoa\",\"lon\":[174.7631803],\"marker\":{\"color\":\"#636efa\",\"size\":[297],\"sizemode\":\"area\",\"sizeref\":1.3988888888888888},\"mode\":\"markers\",\"name\":\"New Zealand/Aotearoa\",\"showlegend\":true,\"subplot\":\"mapbox\",\"type\":\"scattermapbox\"},{\"hovertemplate\":\"<b>%{hovertext}</b><br><br>pais=Australia<br>numero_retweets=%{marker.size}<br>latitud=%{lat}<br>longitud=%{lon}<extra></extra>\",\"hovertext\":[\"DipDevotion\"],\"lat\":[-33.8698439],\"legendgroup\":\"Australia\",\"lon\":[151.2082848],\"marker\":{\"color\":\"#EF553B\",\"size\":[8],\"sizemode\":\"area\",\"sizeref\":1.3988888888888888},\"mode\":\"markers\",\"name\":\"Australia\",\"showlegend\":true,\"subplot\":\"mapbox\",\"type\":\"scattermapbox\"},{\"hovertemplate\":\"<b>%{hovertext}</b><br><br>pais=Kenya<br>numero_retweets=%{marker.size}<br>latitud=%{lat}<br>longitud=%{lon}<extra></extra>\",\"hovertext\":[\"RomacLtd\"],\"lat\":[1.4419683],\"legendgroup\":\"Kenya\",\"lon\":[38.4313975],\"marker\":{\"color\":\"#00cc96\",\"size\":[2],\"sizemode\":\"area\",\"sizeref\":1.3988888888888888},\"mode\":\"markers\",\"name\":\"Kenya\",\"showlegend\":true,\"subplot\":\"mapbox\",\"type\":\"scattermapbox\"},{\"hovertemplate\":\"<b>%{hovertext}</b><br><br>pais=Malaysia<br>numero_retweets=%{marker.size}<br>latitud=%{lat}<br>longitud=%{lon}<extra></extra>\",\"hovertext\":[\"atollun\",\"kk131066\"],\"lat\":[3.04955345,3.1516964],\"legendgroup\":\"Malaysia\",\"lon\":[101.66989188808999,101.6942371],\"marker\":{\"color\":\"#ab63fa\",\"size\":[5,1],\"sizemode\":\"area\",\"sizeref\":1.3988888888888888},\"mode\":\"markers\",\"name\":\"Malaysia\",\"showlegend\":true,\"subplot\":\"mapbox\",\"type\":\"scattermapbox\"},{\"hovertemplate\":\"<b>%{hovertext}</b><br><br>pais=Venezuela<br>numero_retweets=%{marker.size}<br>latitud=%{lat}<br>longitud=%{lon}<extra></extra>\",\"hovertext\":[\"josegregorio11\"],\"lat\":[10.5060934],\"legendgroup\":\"Venezuela\",\"lon\":[-66.9146008],\"marker\":{\"color\":\"#FFA15A\",\"size\":[27],\"sizemode\":\"area\",\"sizeref\":1.3988888888888888},\"mode\":\"markers\",\"name\":\"Venezuela\",\"showlegend\":true,\"subplot\":\"mapbox\",\"type\":\"scattermapbox\"},{\"hovertemplate\":\"<b>%{hovertext}</b><br><br>pais=M\\u00e9xico<br>numero_retweets=%{marker.size}<br>latitud=%{lat}<br>longitud=%{lon}<extra></extra>\",\"hovertext\":[\"5conejo21\"],\"lat\":[20.521788],\"legendgroup\":\"M\\u00e9xico\",\"lon\":[-100.8140458],\"marker\":{\"color\":\"#19d3f3\",\"size\":[32],\"sizemode\":\"area\",\"sizeref\":1.3988888888888888},\"mode\":\"markers\",\"name\":\"M\\u00e9xico\",\"showlegend\":true,\"subplot\":\"mapbox\",\"type\":\"scattermapbox\"},{\"hovertemplate\":\"<b>%{hovertext}</b><br><br>pais=United States<br>numero_retweets=%{marker.size}<br>latitud=%{lat}<br>longitud=%{lon}<extra></extra>\",\"hovertext\":[\"katsmith71\",\"BragoVictoria\",\"ElEuropeoReal\",\"_murithi_\",\"DenisProkopenk9\",\"Iseabail_lassy\",\"PippaPoops\",\"VindiceLibertas\",\"tommy15616\",\"gunzgal0r3\",\"Naru1Nolan\",\"RACZPATT\",\"klp723\"],\"lat\":[31.2638905,34.0536909,35.6165517,38.7311123,38.9464996,38.9464996,39.7837304,39.7837304,40.0796606,40.3270127,42.4347571,42.716293,47.313494],\"legendgroup\":\"United States\",\"lon\":[-98.5456116,-118.242766,-82.3205003,-95.2414104,-77.1588685,-77.1588685,-100.445882,-100.445882,-89.4337288,-86.1746933,-83.9849477,-78.828717,-122.33931],\"marker\":{\"color\":\"#FF6692\",\"size\":[54,102,0,9,32,26,17,32,1,2,108,17,3],\"sizemode\":\"area\",\"sizeref\":1.3988888888888888},\"mode\":\"markers\",\"name\":\"United States\",\"showlegend\":true,\"subplot\":\"mapbox\",\"type\":\"scattermapbox\"},{\"hovertemplate\":\"<b>%{hovertext}</b><br><br>pais=\\u65e5\\u672c<br>numero_retweets=%{marker.size}<br>latitud=%{lat}<br>longitud=%{lon}<extra></extra>\",\"hovertext\":[\"Kodjo61\"],\"lat\":[38.5890796],\"legendgroup\":\"\\u65e5\\u672c\",\"lon\":[141.248211],\"marker\":{\"color\":\"#B6E880\",\"size\":[137],\"sizemode\":\"area\",\"sizeref\":1.3988888888888888},\"mode\":\"markers\",\"name\":\"\\u65e5\\u672c\",\"showlegend\":true,\"subplot\":\"mapbox\",\"type\":\"scattermapbox\"},{\"hovertemplate\":\"<b>%{hovertext}</b><br><br>pais=T\\u00fcrkiye<br>numero_retweets=%{marker.size}<br>latitud=%{lat}<br>longitud=%{lon}<extra></extra>\",\"hovertext\":[\"anews\"],\"lat\":[41.0091982],\"legendgroup\":\"T\\u00fcrkiye\",\"lon\":[28.9662187],\"marker\":{\"color\":\"#FF97FF\",\"size\":[0],\"sizemode\":\"area\",\"sizeref\":1.3988888888888888},\"mode\":\"markers\",\"name\":\"T\\u00fcrkiye\",\"showlegend\":true,\"subplot\":\"mapbox\",\"type\":\"scattermapbox\"},{\"hovertemplate\":\"<b>%{hovertext}</b><br><br>pais=Espa\\u00f1a<br>numero_retweets=%{marker.size}<br>latitud=%{lat}<br>longitud=%{lon}<extra></extra>\",\"hovertext\":[\"BetiBarrera71\"],\"lat\":[41.3828939],\"legendgroup\":\"Espa\\u00f1a\",\"lon\":[2.1774322],\"marker\":{\"color\":\"#FECB52\",\"size\":[1259],\"sizemode\":\"area\",\"sizeref\":1.3988888888888888},\"mode\":\"markers\",\"name\":\"Espa\\u00f1a\",\"showlegend\":true,\"subplot\":\"mapbox\",\"type\":\"scattermapbox\"},{\"hovertemplate\":\"<b>%{hovertext}</b><br><br>pais=Italia<br>numero_retweets=%{marker.size}<br>latitud=%{lat}<br>longitud=%{lon}<extra></extra>\",\"hovertext\":[\"itas1000xr\"],\"lat\":[42.6384261],\"legendgroup\":\"Italia\",\"lon\":[12.674297],\"marker\":{\"color\":\"#636efa\",\"size\":[32],\"sizemode\":\"area\",\"sizeref\":1.3988888888888888},\"mode\":\"markers\",\"name\":\"Italia\",\"showlegend\":true,\"subplot\":\"mapbox\",\"type\":\"scattermapbox\"},{\"hovertemplate\":\"<b>%{hovertext}</b><br><br>pais=Rom\\u00e2nia<br>numero_retweets=%{marker.size}<br>latitud=%{lat}<br>longitud=%{lon}<extra></extra>\",\"hovertext\":[\"RazvanAngelesc2\",\"lpauladrian\"],\"lat\":[44.4361414,45.7538355],\"legendgroup\":\"Rom\\u00e2nia\",\"lon\":[26.1027202,21.2257474],\"marker\":{\"color\":\"#EF553B\",\"size\":[28,139],\"sizemode\":\"area\",\"sizeref\":1.3988888888888888},\"mode\":\"markers\",\"name\":\"Rom\\u00e2nia\",\"showlegend\":true,\"subplot\":\"mapbox\",\"type\":\"scattermapbox\"},{\"hovertemplate\":\"<b>%{hovertext}</b><br><br>pais=\\u0421\\u0440\\u0431\\u0438\\u0458\\u0430<br>numero_retweets=%{marker.size}<br>latitud=%{lat}<br>longitud=%{lon}<extra></extra>\",\"hovertext\":[\"Zdep11\"],\"lat\":[44.8178131],\"legendgroup\":\"\\u0421\\u0440\\u0431\\u0438\\u0458\\u0430\",\"lon\":[20.4568974],\"marker\":{\"color\":\"#00cc96\",\"size\":[8],\"sizemode\":\"area\",\"sizeref\":1.3988888888888888},\"mode\":\"markers\",\"name\":\"\\u0421\\u0440\\u0431\\u0438\\u0458\\u0430\",\"showlegend\":true,\"subplot\":\"mapbox\",\"type\":\"scattermapbox\"},{\"hovertemplate\":\"<b>%{hovertext}</b><br><br>pais=France<br>numero_retweets=%{marker.size}<br>latitud=%{lat}<br>longitud=%{lon}<extra></extra>\",\"hovertext\":[\"CigalamProvence\",\"MARIDJE17\"],\"lat\":[46.603354,48.8534951],\"legendgroup\":\"France\",\"lon\":[1.8883335,2.3483915],\"marker\":{\"color\":\"#ab63fa\",\"size\":[3,54],\"sizemode\":\"area\",\"sizeref\":1.3988888888888888},\"mode\":\"markers\",\"name\":\"France\",\"showlegend\":true,\"subplot\":\"mapbox\",\"type\":\"scattermapbox\"},{\"hovertemplate\":\"<b>%{hovertext}</b><br><br>pais=Canada<br>numero_retweets=%{marker.size}<br>latitud=%{lat}<br>longitud=%{lon}<extra></extra>\",\"hovertext\":[\"alwaysbeenleft\"],\"lat\":[48.7291272],\"legendgroup\":\"Canada\",\"lon\":[-123.6677485],\"marker\":{\"color\":\"#FFA15A\",\"size\":[7],\"sizemode\":\"area\",\"sizeref\":1.3988888888888888},\"mode\":\"markers\",\"name\":\"Canada\",\"showlegend\":true,\"subplot\":\"mapbox\",\"type\":\"scattermapbox\"},{\"hovertemplate\":\"<b>%{hovertext}</b><br><br>pais=\\u0423\\u043a\\u0440\\u0430\\u0457\\u043d\\u0430<br>numero_retweets=%{marker.size}<br>latitud=%{lat}<br>longitud=%{lon}<extra></extra>\",\"hovertext\":[\"YaroslavaSlava_\",\"HopkoHanna\",\"SkA4live\"],\"lat\":[49.4871968,50.4500336,50.4500336],\"legendgroup\":\"\\u0423\\u043a\\u0440\\u0430\\u0457\\u043d\\u0430\",\"lon\":[31.2718321,30.5241361,30.5241361],\"marker\":{\"color\":\"#19d3f3\",\"size\":[154,1259,294],\"sizemode\":\"area\",\"sizeref\":1.3988888888888888},\"mode\":\"markers\",\"name\":\"\\u0423\\u043a\\u0440\\u0430\\u0457\\u043d\\u0430\",\"showlegend\":true,\"subplot\":\"mapbox\",\"type\":\"scattermapbox\"},{\"hovertemplate\":\"<b>%{hovertext}</b><br><br>pais=Deutschland<br>numero_retweets=%{marker.size}<br>latitud=%{lat}<br>longitud=%{lon}<extra></extra>\",\"hovertext\":[\"OlliWse\",\"_Bartotten_\",\"holzmueller2\"],\"lat\":[51.0,51.1638175,51.1638175],\"legendgroup\":\"Deutschland\",\"lon\":[10.0,10.4478313,10.4478313],\"marker\":{\"color\":\"#FF6692\",\"size\":[143,9,1],\"sizemode\":\"area\",\"sizeref\":1.3988888888888888},\"mode\":\"markers\",\"name\":\"Deutschland\",\"showlegend\":true,\"subplot\":\"mapbox\",\"type\":\"scattermapbox\"},{\"hovertemplate\":\"<b>%{hovertext}</b><br><br>pais=United Kingdom<br>numero_retweets=%{marker.size}<br>latitud=%{lat}<br>longitud=%{lon}<extra></extra>\",\"hovertext\":[\"glenmexted\",\"samchurms1\",\"DianeLBW\",\"JackNowicki1\",\"Shane2020Wales\",\"ben_burnside\"],\"lat\":[51.5073359,52.5310214,53.4486075,54.7023545,54.7023545,54.7023545],\"legendgroup\":\"United Kingdom\",\"lon\":[-0.12765,-1.2649062,-2.7359820790816323,-3.2765753,-3.2765753,-3.2765753],\"marker\":{\"color\":\"#B6E880\",\"size\":[935,5,23,0,22,9],\"sizemode\":\"area\",\"sizeref\":1.3988888888888888},\"mode\":\"markers\",\"name\":\"United Kingdom\",\"showlegend\":true,\"subplot\":\"mapbox\",\"type\":\"scattermapbox\"},{\"hovertemplate\":\"<b>%{hovertext}</b><br><br>pais=\\u00c9ire / Ireland<br>numero_retweets=%{marker.size}<br>latitud=%{lat}<br>longitud=%{lon}<extra></extra>\",\"hovertext\":[\"ger_cosgrove\"],\"lat\":[52.865196],\"legendgroup\":\"\\u00c9ire / Ireland\",\"lon\":[-7.9794599],\"marker\":{\"color\":\"#FF97FF\",\"size\":[32],\"sizemode\":\"area\",\"sizeref\":1.3988888888888888},\"mode\":\"markers\",\"name\":\"\\u00c9ire / Ireland\",\"showlegend\":true,\"subplot\":\"mapbox\",\"type\":\"scattermapbox\"},{\"hovertemplate\":\"<b>%{hovertext}</b><br><br>pais=Polska<br>numero_retweets=%{marker.size}<br>latitud=%{lat}<br>longitud=%{lon}<extra></extra>\",\"hovertext\":[\"Twiter__Trends\"],\"lat\":[53.2668455],\"legendgroup\":\"Polska\",\"lon\":[22.8525787],\"marker\":{\"color\":\"#FECB52\",\"size\":[0],\"sizemode\":\"area\",\"sizeref\":1.3988888888888888},\"mode\":\"markers\",\"name\":\"Polska\",\"showlegend\":true,\"subplot\":\"mapbox\",\"type\":\"scattermapbox\"},{\"hovertemplate\":\"<b>%{hovertext}</b><br><br>pais=Danmark<br>numero_retweets=%{marker.size}<br>latitud=%{lat}<br>longitud=%{lon}<extra></extra>\",\"hovertext\":[\"JohnKStreet1\"],\"lat\":[55.143122399999996],\"legendgroup\":\"Danmark\",\"lon\":[14.922629658767558],\"marker\":{\"color\":\"#636efa\",\"size\":[29],\"sizemode\":\"area\",\"sizeref\":1.3988888888888888},\"mode\":\"markers\",\"name\":\"Danmark\",\"showlegend\":true,\"subplot\":\"mapbox\",\"type\":\"scattermapbox\"},{\"hovertemplate\":\"<b>%{hovertext}</b><br><br>pais=Norge<br>numero_retweets=%{marker.size}<br>latitud=%{lat}<br>longitud=%{lon}<extra></extra>\",\"hovertext\":[\"cjostein\"],\"lat\":[59.9133301],\"legendgroup\":\"Norge\",\"lon\":[10.7389701],\"marker\":{\"color\":\"#EF553B\",\"size\":[90],\"sizemode\":\"area\",\"sizeref\":1.3988888888888888},\"mode\":\"markers\",\"name\":\"Norge\",\"showlegend\":true,\"subplot\":\"mapbox\",\"type\":\"scattermapbox\"}],                        {\"template\":{\"data\":{\"histogram2dcontour\":[{\"type\":\"histogram2dcontour\",\"colorbar\":{\"outlinewidth\":0,\"ticks\":\"\"},\"colorscale\":[[0.0,\"#0d0887\"],[0.1111111111111111,\"#46039f\"],[0.2222222222222222,\"#7201a8\"],[0.3333333333333333,\"#9c179e\"],[0.4444444444444444,\"#bd3786\"],[0.5555555555555556,\"#d8576b\"],[0.6666666666666666,\"#ed7953\"],[0.7777777777777778,\"#fb9f3a\"],[0.8888888888888888,\"#fdca26\"],[1.0,\"#f0f921\"]]}],\"choropleth\":[{\"type\":\"choropleth\",\"colorbar\":{\"outlinewidth\":0,\"ticks\":\"\"}}],\"histogram2d\":[{\"type\":\"histogram2d\",\"colorbar\":{\"outlinewidth\":0,\"ticks\":\"\"},\"colorscale\":[[0.0,\"#0d0887\"],[0.1111111111111111,\"#46039f\"],[0.2222222222222222,\"#7201a8\"],[0.3333333333333333,\"#9c179e\"],[0.4444444444444444,\"#bd3786\"],[0.5555555555555556,\"#d8576b\"],[0.6666666666666666,\"#ed7953\"],[0.7777777777777778,\"#fb9f3a\"],[0.8888888888888888,\"#fdca26\"],[1.0,\"#f0f921\"]]}],\"heatmap\":[{\"type\":\"heatmap\",\"colorbar\":{\"outlinewidth\":0,\"ticks\":\"\"},\"colorscale\":[[0.0,\"#0d0887\"],[0.1111111111111111,\"#46039f\"],[0.2222222222222222,\"#7201a8\"],[0.3333333333333333,\"#9c179e\"],[0.4444444444444444,\"#bd3786\"],[0.5555555555555556,\"#d8576b\"],[0.6666666666666666,\"#ed7953\"],[0.7777777777777778,\"#fb9f3a\"],[0.8888888888888888,\"#fdca26\"],[1.0,\"#f0f921\"]]}],\"heatmapgl\":[{\"type\":\"heatmapgl\",\"colorbar\":{\"outlinewidth\":0,\"ticks\":\"\"},\"colorscale\":[[0.0,\"#0d0887\"],[0.1111111111111111,\"#46039f\"],[0.2222222222222222,\"#7201a8\"],[0.3333333333333333,\"#9c179e\"],[0.4444444444444444,\"#bd3786\"],[0.5555555555555556,\"#d8576b\"],[0.6666666666666666,\"#ed7953\"],[0.7777777777777778,\"#fb9f3a\"],[0.8888888888888888,\"#fdca26\"],[1.0,\"#f0f921\"]]}],\"contourcarpet\":[{\"type\":\"contourcarpet\",\"colorbar\":{\"outlinewidth\":0,\"ticks\":\"\"}}],\"contour\":[{\"type\":\"contour\",\"colorbar\":{\"outlinewidth\":0,\"ticks\":\"\"},\"colorscale\":[[0.0,\"#0d0887\"],[0.1111111111111111,\"#46039f\"],[0.2222222222222222,\"#7201a8\"],[0.3333333333333333,\"#9c179e\"],[0.4444444444444444,\"#bd3786\"],[0.5555555555555556,\"#d8576b\"],[0.6666666666666666,\"#ed7953\"],[0.7777777777777778,\"#fb9f3a\"],[0.8888888888888888,\"#fdca26\"],[1.0,\"#f0f921\"]]}],\"surface\":[{\"type\":\"surface\",\"colorbar\":{\"outlinewidth\":0,\"ticks\":\"\"},\"colorscale\":[[0.0,\"#0d0887\"],[0.1111111111111111,\"#46039f\"],[0.2222222222222222,\"#7201a8\"],[0.3333333333333333,\"#9c179e\"],[0.4444444444444444,\"#bd3786\"],[0.5555555555555556,\"#d8576b\"],[0.6666666666666666,\"#ed7953\"],[0.7777777777777778,\"#fb9f3a\"],[0.8888888888888888,\"#fdca26\"],[1.0,\"#f0f921\"]]}],\"mesh3d\":[{\"type\":\"mesh3d\",\"colorbar\":{\"outlinewidth\":0,\"ticks\":\"\"}}],\"scatter\":[{\"marker\":{\"line\":{\"color\":\"#283442\"}},\"type\":\"scatter\"}],\"parcoords\":[{\"type\":\"parcoords\",\"line\":{\"colorbar\":{\"outlinewidth\":0,\"ticks\":\"\"}}}],\"scatterpolargl\":[{\"type\":\"scatterpolargl\",\"marker\":{\"colorbar\":{\"outlinewidth\":0,\"ticks\":\"\"}}}],\"bar\":[{\"error_x\":{\"color\":\"#f2f5fa\"},\"error_y\":{\"color\":\"#f2f5fa\"},\"marker\":{\"line\":{\"color\":\"rgb(17,17,17)\",\"width\":0.5},\"pattern\":{\"fillmode\":\"overlay\",\"size\":10,\"solidity\":0.2}},\"type\":\"bar\"}],\"scattergeo\":[{\"type\":\"scattergeo\",\"marker\":{\"colorbar\":{\"outlinewidth\":0,\"ticks\":\"\"}}}],\"scatterpolar\":[{\"type\":\"scatterpolar\",\"marker\":{\"colorbar\":{\"outlinewidth\":0,\"ticks\":\"\"}}}],\"histogram\":[{\"marker\":{\"pattern\":{\"fillmode\":\"overlay\",\"size\":10,\"solidity\":0.2}},\"type\":\"histogram\"}],\"scattergl\":[{\"marker\":{\"line\":{\"color\":\"#283442\"}},\"type\":\"scattergl\"}],\"scatter3d\":[{\"type\":\"scatter3d\",\"line\":{\"colorbar\":{\"outlinewidth\":0,\"ticks\":\"\"}},\"marker\":{\"colorbar\":{\"outlinewidth\":0,\"ticks\":\"\"}}}],\"scattermapbox\":[{\"type\":\"scattermapbox\",\"marker\":{\"colorbar\":{\"outlinewidth\":0,\"ticks\":\"\"}}}],\"scatterternary\":[{\"type\":\"scatterternary\",\"marker\":{\"colorbar\":{\"outlinewidth\":0,\"ticks\":\"\"}}}],\"scattercarpet\":[{\"type\":\"scattercarpet\",\"marker\":{\"colorbar\":{\"outlinewidth\":0,\"ticks\":\"\"}}}],\"carpet\":[{\"aaxis\":{\"endlinecolor\":\"#A2B1C6\",\"gridcolor\":\"#506784\",\"linecolor\":\"#506784\",\"minorgridcolor\":\"#506784\",\"startlinecolor\":\"#A2B1C6\"},\"baxis\":{\"endlinecolor\":\"#A2B1C6\",\"gridcolor\":\"#506784\",\"linecolor\":\"#506784\",\"minorgridcolor\":\"#506784\",\"startlinecolor\":\"#A2B1C6\"},\"type\":\"carpet\"}],\"table\":[{\"cells\":{\"fill\":{\"color\":\"#506784\"},\"line\":{\"color\":\"rgb(17,17,17)\"}},\"header\":{\"fill\":{\"color\":\"#2a3f5f\"},\"line\":{\"color\":\"rgb(17,17,17)\"}},\"type\":\"table\"}],\"barpolar\":[{\"marker\":{\"line\":{\"color\":\"rgb(17,17,17)\",\"width\":0.5},\"pattern\":{\"fillmode\":\"overlay\",\"size\":10,\"solidity\":0.2}},\"type\":\"barpolar\"}],\"pie\":[{\"automargin\":true,\"type\":\"pie\"}]},\"layout\":{\"autotypenumbers\":\"strict\",\"colorway\":[\"#636efa\",\"#EF553B\",\"#00cc96\",\"#ab63fa\",\"#FFA15A\",\"#19d3f3\",\"#FF6692\",\"#B6E880\",\"#FF97FF\",\"#FECB52\"],\"font\":{\"color\":\"#f2f5fa\"},\"hovermode\":\"closest\",\"hoverlabel\":{\"align\":\"left\"},\"paper_bgcolor\":\"rgb(17,17,17)\",\"plot_bgcolor\":\"rgb(17,17,17)\",\"polar\":{\"bgcolor\":\"rgb(17,17,17)\",\"angularaxis\":{\"gridcolor\":\"#506784\",\"linecolor\":\"#506784\",\"ticks\":\"\"},\"radialaxis\":{\"gridcolor\":\"#506784\",\"linecolor\":\"#506784\",\"ticks\":\"\"}},\"ternary\":{\"bgcolor\":\"rgb(17,17,17)\",\"aaxis\":{\"gridcolor\":\"#506784\",\"linecolor\":\"#506784\",\"ticks\":\"\"},\"baxis\":{\"gridcolor\":\"#506784\",\"linecolor\":\"#506784\",\"ticks\":\"\"},\"caxis\":{\"gridcolor\":\"#506784\",\"linecolor\":\"#506784\",\"ticks\":\"\"}},\"coloraxis\":{\"colorbar\":{\"outlinewidth\":0,\"ticks\":\"\"}},\"colorscale\":{\"sequential\":[[0.0,\"#0d0887\"],[0.1111111111111111,\"#46039f\"],[0.2222222222222222,\"#7201a8\"],[0.3333333333333333,\"#9c179e\"],[0.4444444444444444,\"#bd3786\"],[0.5555555555555556,\"#d8576b\"],[0.6666666666666666,\"#ed7953\"],[0.7777777777777778,\"#fb9f3a\"],[0.8888888888888888,\"#fdca26\"],[1.0,\"#f0f921\"]],\"sequentialminus\":[[0.0,\"#0d0887\"],[0.1111111111111111,\"#46039f\"],[0.2222222222222222,\"#7201a8\"],[0.3333333333333333,\"#9c179e\"],[0.4444444444444444,\"#bd3786\"],[0.5555555555555556,\"#d8576b\"],[0.6666666666666666,\"#ed7953\"],[0.7777777777777778,\"#fb9f3a\"],[0.8888888888888888,\"#fdca26\"],[1.0,\"#f0f921\"]],\"diverging\":[[0,\"#8e0152\"],[0.1,\"#c51b7d\"],[0.2,\"#de77ae\"],[0.3,\"#f1b6da\"],[0.4,\"#fde0ef\"],[0.5,\"#f7f7f7\"],[0.6,\"#e6f5d0\"],[0.7,\"#b8e186\"],[0.8,\"#7fbc41\"],[0.9,\"#4d9221\"],[1,\"#276419\"]]},\"xaxis\":{\"gridcolor\":\"#283442\",\"linecolor\":\"#506784\",\"ticks\":\"\",\"title\":{\"standoff\":15},\"zerolinecolor\":\"#283442\",\"automargin\":true,\"zerolinewidth\":2},\"yaxis\":{\"gridcolor\":\"#283442\",\"linecolor\":\"#506784\",\"ticks\":\"\",\"title\":{\"standoff\":15},\"zerolinecolor\":\"#283442\",\"automargin\":true,\"zerolinewidth\":2},\"scene\":{\"xaxis\":{\"backgroundcolor\":\"rgb(17,17,17)\",\"gridcolor\":\"#506784\",\"linecolor\":\"#506784\",\"showbackground\":true,\"ticks\":\"\",\"zerolinecolor\":\"#C8D4E3\",\"gridwidth\":2},\"yaxis\":{\"backgroundcolor\":\"rgb(17,17,17)\",\"gridcolor\":\"#506784\",\"linecolor\":\"#506784\",\"showbackground\":true,\"ticks\":\"\",\"zerolinecolor\":\"#C8D4E3\",\"gridwidth\":2},\"zaxis\":{\"backgroundcolor\":\"rgb(17,17,17)\",\"gridcolor\":\"#506784\",\"linecolor\":\"#506784\",\"showbackground\":true,\"ticks\":\"\",\"zerolinecolor\":\"#C8D4E3\",\"gridwidth\":2}},\"shapedefaults\":{\"line\":{\"color\":\"#f2f5fa\"}},\"annotationdefaults\":{\"arrowcolor\":\"#f2f5fa\",\"arrowhead\":0,\"arrowwidth\":1},\"geo\":{\"bgcolor\":\"rgb(17,17,17)\",\"landcolor\":\"rgb(17,17,17)\",\"subunitcolor\":\"#506784\",\"showland\":true,\"showlakes\":true,\"lakecolor\":\"rgb(17,17,17)\"},\"title\":{\"x\":0.05},\"updatemenudefaults\":{\"bgcolor\":\"#506784\",\"borderwidth\":0},\"sliderdefaults\":{\"bgcolor\":\"#C8D4E3\",\"borderwidth\":1,\"bordercolor\":\"rgb(17,17,17)\",\"tickwidth\":0},\"mapbox\":{\"style\":\"dark\"}}},\"mapbox\":{\"domain\":{\"x\":[0.0,1.0],\"y\":[0.0,1.0]},\"center\":{\"lat\":38.418627583695645,\"lon\":-11.458046074613568},\"zoom\":2,\"style\":\"carto-positron\"},\"legend\":{\"title\":{\"text\":\"pais\"},\"tracegroupgap\":0,\"itemsizing\":\"constant\"},\"margin\":{\"t\":60},\"height\":1500,\"width\":5000},                        {\"responsive\": true}                    ).then(function(){\n                            \nvar gd = document.getElementById('0cff4ec9-c06c-4ce3-bed0-8d206899165b');\nvar x = new MutationObserver(function (mutations, observer) {{\n        var display = window.getComputedStyle(gd).display;\n        if (!display || display === 'none') {{\n            console.log([gd, 'removed!']);\n            Plotly.purge(gd);\n            observer.disconnect();\n        }}\n}});\n\n// Listen for the removal of the full notebook cells\nvar notebookContainer = gd.closest('#notebook-container');\nif (notebookContainer) {{\n    x.observe(notebookContainer, {childList: true});\n}}\n\n// Listen for the clearing of the current output cell\nvar outputEl = gd.closest('.output');\nif (outputEl) {{\n    x.observe(outputEl, {childList: true});\n}}\n\n                        })                };                });            </script>        </div>"
     },
     "metadata": {},
     "output_type": "display_data"
    }
   ],
   "source": [
    "fig.update_layout(mapbox_style='carto-positron')\n",
    "fig.show()"
   ],
   "metadata": {
    "collapsed": false,
    "ExecuteTime": {
     "start_time": "2023-04-26T11:33:05.772663Z",
     "end_time": "2023-04-26T11:33:05.898763Z"
    }
   }
  },
  {
   "cell_type": "code",
   "execution_count": 65,
   "outputs": [],
   "source": [
    "fig_2 = px.scatter_geo(df_ucraine_trolls_sin_nans_localizacion_reducido_agrupado, lat='latitud', lon='longitud', color=\"pais\",\n",
    "                     hover_name=\"nombre_usuario\", size=\"numero_retweets\",\n",
    "                     projection=\"natural earth\")"
   ],
   "metadata": {
    "collapsed": false,
    "ExecuteTime": {
     "start_time": "2023-04-26T11:33:05.794767Z",
     "end_time": "2023-04-26T11:33:05.952901Z"
    }
   }
  },
  {
   "cell_type": "code",
   "execution_count": 66,
   "outputs": [
    {
     "data": {
      "application/vnd.plotly.v1+json": {
       "data": [
        {
         "geo": "geo",
         "hovertemplate": "<b>%{hovertext}</b><br><br>pais=New Zealand/Aotearoa<br>numero_retweets=%{marker.size}<br>latitud=%{lat}<br>longitud=%{lon}<extra></extra>",
         "hovertext": [
          "jerrygarry"
         ],
         "lat": [
          -36.852095
         ],
         "legendgroup": "New Zealand/Aotearoa",
         "lon": [
          174.7631803
         ],
         "marker": {
          "color": "#636efa",
          "size": [
           297
          ],
          "sizemode": "area",
          "sizeref": 3.1475,
          "symbol": "circle"
         },
         "mode": "markers",
         "name": "New Zealand/Aotearoa",
         "showlegend": true,
         "type": "scattergeo"
        },
        {
         "geo": "geo",
         "hovertemplate": "<b>%{hovertext}</b><br><br>pais=Australia<br>numero_retweets=%{marker.size}<br>latitud=%{lat}<br>longitud=%{lon}<extra></extra>",
         "hovertext": [
          "DipDevotion"
         ],
         "lat": [
          -33.8698439
         ],
         "legendgroup": "Australia",
         "lon": [
          151.2082848
         ],
         "marker": {
          "color": "#EF553B",
          "size": [
           8
          ],
          "sizemode": "area",
          "sizeref": 3.1475,
          "symbol": "circle"
         },
         "mode": "markers",
         "name": "Australia",
         "showlegend": true,
         "type": "scattergeo"
        },
        {
         "geo": "geo",
         "hovertemplate": "<b>%{hovertext}</b><br><br>pais=Kenya<br>numero_retweets=%{marker.size}<br>latitud=%{lat}<br>longitud=%{lon}<extra></extra>",
         "hovertext": [
          "RomacLtd"
         ],
         "lat": [
          1.4419683
         ],
         "legendgroup": "Kenya",
         "lon": [
          38.4313975
         ],
         "marker": {
          "color": "#00cc96",
          "size": [
           2
          ],
          "sizemode": "area",
          "sizeref": 3.1475,
          "symbol": "circle"
         },
         "mode": "markers",
         "name": "Kenya",
         "showlegend": true,
         "type": "scattergeo"
        },
        {
         "geo": "geo",
         "hovertemplate": "<b>%{hovertext}</b><br><br>pais=Malaysia<br>numero_retweets=%{marker.size}<br>latitud=%{lat}<br>longitud=%{lon}<extra></extra>",
         "hovertext": [
          "atollun",
          "kk131066"
         ],
         "lat": [
          3.04955345,
          3.1516964
         ],
         "legendgroup": "Malaysia",
         "lon": [
          101.66989188808999,
          101.6942371
         ],
         "marker": {
          "color": "#ab63fa",
          "size": [
           5,
           1
          ],
          "sizemode": "area",
          "sizeref": 3.1475,
          "symbol": "circle"
         },
         "mode": "markers",
         "name": "Malaysia",
         "showlegend": true,
         "type": "scattergeo"
        },
        {
         "geo": "geo",
         "hovertemplate": "<b>%{hovertext}</b><br><br>pais=Venezuela<br>numero_retweets=%{marker.size}<br>latitud=%{lat}<br>longitud=%{lon}<extra></extra>",
         "hovertext": [
          "josegregorio11"
         ],
         "lat": [
          10.5060934
         ],
         "legendgroup": "Venezuela",
         "lon": [
          -66.9146008
         ],
         "marker": {
          "color": "#FFA15A",
          "size": [
           27
          ],
          "sizemode": "area",
          "sizeref": 3.1475,
          "symbol": "circle"
         },
         "mode": "markers",
         "name": "Venezuela",
         "showlegend": true,
         "type": "scattergeo"
        },
        {
         "geo": "geo",
         "hovertemplate": "<b>%{hovertext}</b><br><br>pais=México<br>numero_retweets=%{marker.size}<br>latitud=%{lat}<br>longitud=%{lon}<extra></extra>",
         "hovertext": [
          "5conejo21"
         ],
         "lat": [
          20.521788
         ],
         "legendgroup": "México",
         "lon": [
          -100.8140458
         ],
         "marker": {
          "color": "#19d3f3",
          "size": [
           32
          ],
          "sizemode": "area",
          "sizeref": 3.1475,
          "symbol": "circle"
         },
         "mode": "markers",
         "name": "México",
         "showlegend": true,
         "type": "scattergeo"
        },
        {
         "geo": "geo",
         "hovertemplate": "<b>%{hovertext}</b><br><br>pais=United States<br>numero_retweets=%{marker.size}<br>latitud=%{lat}<br>longitud=%{lon}<extra></extra>",
         "hovertext": [
          "katsmith71",
          "BragoVictoria",
          "ElEuropeoReal",
          "_murithi_",
          "DenisProkopenk9",
          "Iseabail_lassy",
          "PippaPoops",
          "VindiceLibertas",
          "tommy15616",
          "gunzgal0r3",
          "Naru1Nolan",
          "RACZPATT",
          "klp723"
         ],
         "lat": [
          31.2638905,
          34.0536909,
          35.6165517,
          38.7311123,
          38.9464996,
          38.9464996,
          39.7837304,
          39.7837304,
          40.0796606,
          40.3270127,
          42.4347571,
          42.716293,
          47.313494
         ],
         "legendgroup": "United States",
         "lon": [
          -98.5456116,
          -118.242766,
          -82.3205003,
          -95.2414104,
          -77.1588685,
          -77.1588685,
          -100.445882,
          -100.445882,
          -89.4337288,
          -86.1746933,
          -83.9849477,
          -78.828717,
          -122.33931
         ],
         "marker": {
          "color": "#FF6692",
          "size": [
           54,
           102,
           0,
           9,
           32,
           26,
           17,
           32,
           1,
           2,
           108,
           17,
           3
          ],
          "sizemode": "area",
          "sizeref": 3.1475,
          "symbol": "circle"
         },
         "mode": "markers",
         "name": "United States",
         "showlegend": true,
         "type": "scattergeo"
        },
        {
         "geo": "geo",
         "hovertemplate": "<b>%{hovertext}</b><br><br>pais=日本<br>numero_retweets=%{marker.size}<br>latitud=%{lat}<br>longitud=%{lon}<extra></extra>",
         "hovertext": [
          "Kodjo61"
         ],
         "lat": [
          38.5890796
         ],
         "legendgroup": "日本",
         "lon": [
          141.248211
         ],
         "marker": {
          "color": "#B6E880",
          "size": [
           137
          ],
          "sizemode": "area",
          "sizeref": 3.1475,
          "symbol": "circle"
         },
         "mode": "markers",
         "name": "日本",
         "showlegend": true,
         "type": "scattergeo"
        },
        {
         "geo": "geo",
         "hovertemplate": "<b>%{hovertext}</b><br><br>pais=Türkiye<br>numero_retweets=%{marker.size}<br>latitud=%{lat}<br>longitud=%{lon}<extra></extra>",
         "hovertext": [
          "anews"
         ],
         "lat": [
          41.0091982
         ],
         "legendgroup": "Türkiye",
         "lon": [
          28.9662187
         ],
         "marker": {
          "color": "#FF97FF",
          "size": [
           0
          ],
          "sizemode": "area",
          "sizeref": 3.1475,
          "symbol": "circle"
         },
         "mode": "markers",
         "name": "Türkiye",
         "showlegend": true,
         "type": "scattergeo"
        },
        {
         "geo": "geo",
         "hovertemplate": "<b>%{hovertext}</b><br><br>pais=España<br>numero_retweets=%{marker.size}<br>latitud=%{lat}<br>longitud=%{lon}<extra></extra>",
         "hovertext": [
          "BetiBarrera71"
         ],
         "lat": [
          41.3828939
         ],
         "legendgroup": "España",
         "lon": [
          2.1774322
         ],
         "marker": {
          "color": "#FECB52",
          "size": [
           1259
          ],
          "sizemode": "area",
          "sizeref": 3.1475,
          "symbol": "circle"
         },
         "mode": "markers",
         "name": "España",
         "showlegend": true,
         "type": "scattergeo"
        },
        {
         "geo": "geo",
         "hovertemplate": "<b>%{hovertext}</b><br><br>pais=Italia<br>numero_retweets=%{marker.size}<br>latitud=%{lat}<br>longitud=%{lon}<extra></extra>",
         "hovertext": [
          "itas1000xr"
         ],
         "lat": [
          42.6384261
         ],
         "legendgroup": "Italia",
         "lon": [
          12.674297
         ],
         "marker": {
          "color": "#636efa",
          "size": [
           32
          ],
          "sizemode": "area",
          "sizeref": 3.1475,
          "symbol": "circle"
         },
         "mode": "markers",
         "name": "Italia",
         "showlegend": true,
         "type": "scattergeo"
        },
        {
         "geo": "geo",
         "hovertemplate": "<b>%{hovertext}</b><br><br>pais=România<br>numero_retweets=%{marker.size}<br>latitud=%{lat}<br>longitud=%{lon}<extra></extra>",
         "hovertext": [
          "RazvanAngelesc2",
          "lpauladrian"
         ],
         "lat": [
          44.4361414,
          45.7538355
         ],
         "legendgroup": "România",
         "lon": [
          26.1027202,
          21.2257474
         ],
         "marker": {
          "color": "#EF553B",
          "size": [
           28,
           139
          ],
          "sizemode": "area",
          "sizeref": 3.1475,
          "symbol": "circle"
         },
         "mode": "markers",
         "name": "România",
         "showlegend": true,
         "type": "scattergeo"
        },
        {
         "geo": "geo",
         "hovertemplate": "<b>%{hovertext}</b><br><br>pais=Србија<br>numero_retweets=%{marker.size}<br>latitud=%{lat}<br>longitud=%{lon}<extra></extra>",
         "hovertext": [
          "Zdep11"
         ],
         "lat": [
          44.8178131
         ],
         "legendgroup": "Србија",
         "lon": [
          20.4568974
         ],
         "marker": {
          "color": "#00cc96",
          "size": [
           8
          ],
          "sizemode": "area",
          "sizeref": 3.1475,
          "symbol": "circle"
         },
         "mode": "markers",
         "name": "Србија",
         "showlegend": true,
         "type": "scattergeo"
        },
        {
         "geo": "geo",
         "hovertemplate": "<b>%{hovertext}</b><br><br>pais=France<br>numero_retweets=%{marker.size}<br>latitud=%{lat}<br>longitud=%{lon}<extra></extra>",
         "hovertext": [
          "CigalamProvence",
          "MARIDJE17"
         ],
         "lat": [
          46.603354,
          48.8534951
         ],
         "legendgroup": "France",
         "lon": [
          1.8883335,
          2.3483915
         ],
         "marker": {
          "color": "#ab63fa",
          "size": [
           3,
           54
          ],
          "sizemode": "area",
          "sizeref": 3.1475,
          "symbol": "circle"
         },
         "mode": "markers",
         "name": "France",
         "showlegend": true,
         "type": "scattergeo"
        },
        {
         "geo": "geo",
         "hovertemplate": "<b>%{hovertext}</b><br><br>pais=Canada<br>numero_retweets=%{marker.size}<br>latitud=%{lat}<br>longitud=%{lon}<extra></extra>",
         "hovertext": [
          "alwaysbeenleft"
         ],
         "lat": [
          48.7291272
         ],
         "legendgroup": "Canada",
         "lon": [
          -123.6677485
         ],
         "marker": {
          "color": "#FFA15A",
          "size": [
           7
          ],
          "sizemode": "area",
          "sizeref": 3.1475,
          "symbol": "circle"
         },
         "mode": "markers",
         "name": "Canada",
         "showlegend": true,
         "type": "scattergeo"
        },
        {
         "geo": "geo",
         "hovertemplate": "<b>%{hovertext}</b><br><br>pais=Україна<br>numero_retweets=%{marker.size}<br>latitud=%{lat}<br>longitud=%{lon}<extra></extra>",
         "hovertext": [
          "YaroslavaSlava_",
          "HopkoHanna",
          "SkA4live"
         ],
         "lat": [
          49.4871968,
          50.4500336,
          50.4500336
         ],
         "legendgroup": "Україна",
         "lon": [
          31.2718321,
          30.5241361,
          30.5241361
         ],
         "marker": {
          "color": "#19d3f3",
          "size": [
           154,
           1259,
           294
          ],
          "sizemode": "area",
          "sizeref": 3.1475,
          "symbol": "circle"
         },
         "mode": "markers",
         "name": "Україна",
         "showlegend": true,
         "type": "scattergeo"
        },
        {
         "geo": "geo",
         "hovertemplate": "<b>%{hovertext}</b><br><br>pais=Deutschland<br>numero_retweets=%{marker.size}<br>latitud=%{lat}<br>longitud=%{lon}<extra></extra>",
         "hovertext": [
          "OlliWse",
          "_Bartotten_",
          "holzmueller2"
         ],
         "lat": [
          51.0,
          51.1638175,
          51.1638175
         ],
         "legendgroup": "Deutschland",
         "lon": [
          10.0,
          10.4478313,
          10.4478313
         ],
         "marker": {
          "color": "#FF6692",
          "size": [
           143,
           9,
           1
          ],
          "sizemode": "area",
          "sizeref": 3.1475,
          "symbol": "circle"
         },
         "mode": "markers",
         "name": "Deutschland",
         "showlegend": true,
         "type": "scattergeo"
        },
        {
         "geo": "geo",
         "hovertemplate": "<b>%{hovertext}</b><br><br>pais=United Kingdom<br>numero_retweets=%{marker.size}<br>latitud=%{lat}<br>longitud=%{lon}<extra></extra>",
         "hovertext": [
          "glenmexted",
          "samchurms1",
          "DianeLBW",
          "JackNowicki1",
          "Shane2020Wales",
          "ben_burnside"
         ],
         "lat": [
          51.5073359,
          52.5310214,
          53.4486075,
          54.7023545,
          54.7023545,
          54.7023545
         ],
         "legendgroup": "United Kingdom",
         "lon": [
          -0.12765,
          -1.2649062,
          -2.7359820790816323,
          -3.2765753,
          -3.2765753,
          -3.2765753
         ],
         "marker": {
          "color": "#B6E880",
          "size": [
           935,
           5,
           23,
           0,
           22,
           9
          ],
          "sizemode": "area",
          "sizeref": 3.1475,
          "symbol": "circle"
         },
         "mode": "markers",
         "name": "United Kingdom",
         "showlegend": true,
         "type": "scattergeo"
        },
        {
         "geo": "geo",
         "hovertemplate": "<b>%{hovertext}</b><br><br>pais=Éire / Ireland<br>numero_retweets=%{marker.size}<br>latitud=%{lat}<br>longitud=%{lon}<extra></extra>",
         "hovertext": [
          "ger_cosgrove"
         ],
         "lat": [
          52.865196
         ],
         "legendgroup": "Éire / Ireland",
         "lon": [
          -7.9794599
         ],
         "marker": {
          "color": "#FF97FF",
          "size": [
           32
          ],
          "sizemode": "area",
          "sizeref": 3.1475,
          "symbol": "circle"
         },
         "mode": "markers",
         "name": "Éire / Ireland",
         "showlegend": true,
         "type": "scattergeo"
        },
        {
         "geo": "geo",
         "hovertemplate": "<b>%{hovertext}</b><br><br>pais=Polska<br>numero_retweets=%{marker.size}<br>latitud=%{lat}<br>longitud=%{lon}<extra></extra>",
         "hovertext": [
          "Twiter__Trends"
         ],
         "lat": [
          53.2668455
         ],
         "legendgroup": "Polska",
         "lon": [
          22.8525787
         ],
         "marker": {
          "color": "#FECB52",
          "size": [
           0
          ],
          "sizemode": "area",
          "sizeref": 3.1475,
          "symbol": "circle"
         },
         "mode": "markers",
         "name": "Polska",
         "showlegend": true,
         "type": "scattergeo"
        },
        {
         "geo": "geo",
         "hovertemplate": "<b>%{hovertext}</b><br><br>pais=Danmark<br>numero_retweets=%{marker.size}<br>latitud=%{lat}<br>longitud=%{lon}<extra></extra>",
         "hovertext": [
          "JohnKStreet1"
         ],
         "lat": [
          55.143122399999996
         ],
         "legendgroup": "Danmark",
         "lon": [
          14.922629658767558
         ],
         "marker": {
          "color": "#636efa",
          "size": [
           29
          ],
          "sizemode": "area",
          "sizeref": 3.1475,
          "symbol": "circle"
         },
         "mode": "markers",
         "name": "Danmark",
         "showlegend": true,
         "type": "scattergeo"
        },
        {
         "geo": "geo",
         "hovertemplate": "<b>%{hovertext}</b><br><br>pais=Norge<br>numero_retweets=%{marker.size}<br>latitud=%{lat}<br>longitud=%{lon}<extra></extra>",
         "hovertext": [
          "cjostein"
         ],
         "lat": [
          59.9133301
         ],
         "legendgroup": "Norge",
         "lon": [
          10.7389701
         ],
         "marker": {
          "color": "#EF553B",
          "size": [
           90
          ],
          "sizemode": "area",
          "sizeref": 3.1475,
          "symbol": "circle"
         },
         "mode": "markers",
         "name": "Norge",
         "showlegend": true,
         "type": "scattergeo"
        }
       ],
       "layout": {
        "template": {
         "data": {
          "histogram2dcontour": [
           {
            "type": "histogram2dcontour",
            "colorbar": {
             "outlinewidth": 0,
             "ticks": ""
            },
            "colorscale": [
             [
              0.0,
              "#0d0887"
             ],
             [
              0.1111111111111111,
              "#46039f"
             ],
             [
              0.2222222222222222,
              "#7201a8"
             ],
             [
              0.3333333333333333,
              "#9c179e"
             ],
             [
              0.4444444444444444,
              "#bd3786"
             ],
             [
              0.5555555555555556,
              "#d8576b"
             ],
             [
              0.6666666666666666,
              "#ed7953"
             ],
             [
              0.7777777777777778,
              "#fb9f3a"
             ],
             [
              0.8888888888888888,
              "#fdca26"
             ],
             [
              1.0,
              "#f0f921"
             ]
            ]
           }
          ],
          "choropleth": [
           {
            "type": "choropleth",
            "colorbar": {
             "outlinewidth": 0,
             "ticks": ""
            }
           }
          ],
          "histogram2d": [
           {
            "type": "histogram2d",
            "colorbar": {
             "outlinewidth": 0,
             "ticks": ""
            },
            "colorscale": [
             [
              0.0,
              "#0d0887"
             ],
             [
              0.1111111111111111,
              "#46039f"
             ],
             [
              0.2222222222222222,
              "#7201a8"
             ],
             [
              0.3333333333333333,
              "#9c179e"
             ],
             [
              0.4444444444444444,
              "#bd3786"
             ],
             [
              0.5555555555555556,
              "#d8576b"
             ],
             [
              0.6666666666666666,
              "#ed7953"
             ],
             [
              0.7777777777777778,
              "#fb9f3a"
             ],
             [
              0.8888888888888888,
              "#fdca26"
             ],
             [
              1.0,
              "#f0f921"
             ]
            ]
           }
          ],
          "heatmap": [
           {
            "type": "heatmap",
            "colorbar": {
             "outlinewidth": 0,
             "ticks": ""
            },
            "colorscale": [
             [
              0.0,
              "#0d0887"
             ],
             [
              0.1111111111111111,
              "#46039f"
             ],
             [
              0.2222222222222222,
              "#7201a8"
             ],
             [
              0.3333333333333333,
              "#9c179e"
             ],
             [
              0.4444444444444444,
              "#bd3786"
             ],
             [
              0.5555555555555556,
              "#d8576b"
             ],
             [
              0.6666666666666666,
              "#ed7953"
             ],
             [
              0.7777777777777778,
              "#fb9f3a"
             ],
             [
              0.8888888888888888,
              "#fdca26"
             ],
             [
              1.0,
              "#f0f921"
             ]
            ]
           }
          ],
          "heatmapgl": [
           {
            "type": "heatmapgl",
            "colorbar": {
             "outlinewidth": 0,
             "ticks": ""
            },
            "colorscale": [
             [
              0.0,
              "#0d0887"
             ],
             [
              0.1111111111111111,
              "#46039f"
             ],
             [
              0.2222222222222222,
              "#7201a8"
             ],
             [
              0.3333333333333333,
              "#9c179e"
             ],
             [
              0.4444444444444444,
              "#bd3786"
             ],
             [
              0.5555555555555556,
              "#d8576b"
             ],
             [
              0.6666666666666666,
              "#ed7953"
             ],
             [
              0.7777777777777778,
              "#fb9f3a"
             ],
             [
              0.8888888888888888,
              "#fdca26"
             ],
             [
              1.0,
              "#f0f921"
             ]
            ]
           }
          ],
          "contourcarpet": [
           {
            "type": "contourcarpet",
            "colorbar": {
             "outlinewidth": 0,
             "ticks": ""
            }
           }
          ],
          "contour": [
           {
            "type": "contour",
            "colorbar": {
             "outlinewidth": 0,
             "ticks": ""
            },
            "colorscale": [
             [
              0.0,
              "#0d0887"
             ],
             [
              0.1111111111111111,
              "#46039f"
             ],
             [
              0.2222222222222222,
              "#7201a8"
             ],
             [
              0.3333333333333333,
              "#9c179e"
             ],
             [
              0.4444444444444444,
              "#bd3786"
             ],
             [
              0.5555555555555556,
              "#d8576b"
             ],
             [
              0.6666666666666666,
              "#ed7953"
             ],
             [
              0.7777777777777778,
              "#fb9f3a"
             ],
             [
              0.8888888888888888,
              "#fdca26"
             ],
             [
              1.0,
              "#f0f921"
             ]
            ]
           }
          ],
          "surface": [
           {
            "type": "surface",
            "colorbar": {
             "outlinewidth": 0,
             "ticks": ""
            },
            "colorscale": [
             [
              0.0,
              "#0d0887"
             ],
             [
              0.1111111111111111,
              "#46039f"
             ],
             [
              0.2222222222222222,
              "#7201a8"
             ],
             [
              0.3333333333333333,
              "#9c179e"
             ],
             [
              0.4444444444444444,
              "#bd3786"
             ],
             [
              0.5555555555555556,
              "#d8576b"
             ],
             [
              0.6666666666666666,
              "#ed7953"
             ],
             [
              0.7777777777777778,
              "#fb9f3a"
             ],
             [
              0.8888888888888888,
              "#fdca26"
             ],
             [
              1.0,
              "#f0f921"
             ]
            ]
           }
          ],
          "mesh3d": [
           {
            "type": "mesh3d",
            "colorbar": {
             "outlinewidth": 0,
             "ticks": ""
            }
           }
          ],
          "scatter": [
           {
            "marker": {
             "line": {
              "color": "#283442"
             }
            },
            "type": "scatter"
           }
          ],
          "parcoords": [
           {
            "type": "parcoords",
            "line": {
             "colorbar": {
              "outlinewidth": 0,
              "ticks": ""
             }
            }
           }
          ],
          "scatterpolargl": [
           {
            "type": "scatterpolargl",
            "marker": {
             "colorbar": {
              "outlinewidth": 0,
              "ticks": ""
             }
            }
           }
          ],
          "bar": [
           {
            "error_x": {
             "color": "#f2f5fa"
            },
            "error_y": {
             "color": "#f2f5fa"
            },
            "marker": {
             "line": {
              "color": "rgb(17,17,17)",
              "width": 0.5
             },
             "pattern": {
              "fillmode": "overlay",
              "size": 10,
              "solidity": 0.2
             }
            },
            "type": "bar"
           }
          ],
          "scattergeo": [
           {
            "type": "scattergeo",
            "marker": {
             "colorbar": {
              "outlinewidth": 0,
              "ticks": ""
             }
            }
           }
          ],
          "scatterpolar": [
           {
            "type": "scatterpolar",
            "marker": {
             "colorbar": {
              "outlinewidth": 0,
              "ticks": ""
             }
            }
           }
          ],
          "histogram": [
           {
            "marker": {
             "pattern": {
              "fillmode": "overlay",
              "size": 10,
              "solidity": 0.2
             }
            },
            "type": "histogram"
           }
          ],
          "scattergl": [
           {
            "marker": {
             "line": {
              "color": "#283442"
             }
            },
            "type": "scattergl"
           }
          ],
          "scatter3d": [
           {
            "type": "scatter3d",
            "line": {
             "colorbar": {
              "outlinewidth": 0,
              "ticks": ""
             }
            },
            "marker": {
             "colorbar": {
              "outlinewidth": 0,
              "ticks": ""
             }
            }
           }
          ],
          "scattermapbox": [
           {
            "type": "scattermapbox",
            "marker": {
             "colorbar": {
              "outlinewidth": 0,
              "ticks": ""
             }
            }
           }
          ],
          "scatterternary": [
           {
            "type": "scatterternary",
            "marker": {
             "colorbar": {
              "outlinewidth": 0,
              "ticks": ""
             }
            }
           }
          ],
          "scattercarpet": [
           {
            "type": "scattercarpet",
            "marker": {
             "colorbar": {
              "outlinewidth": 0,
              "ticks": ""
             }
            }
           }
          ],
          "carpet": [
           {
            "aaxis": {
             "endlinecolor": "#A2B1C6",
             "gridcolor": "#506784",
             "linecolor": "#506784",
             "minorgridcolor": "#506784",
             "startlinecolor": "#A2B1C6"
            },
            "baxis": {
             "endlinecolor": "#A2B1C6",
             "gridcolor": "#506784",
             "linecolor": "#506784",
             "minorgridcolor": "#506784",
             "startlinecolor": "#A2B1C6"
            },
            "type": "carpet"
           }
          ],
          "table": [
           {
            "cells": {
             "fill": {
              "color": "#506784"
             },
             "line": {
              "color": "rgb(17,17,17)"
             }
            },
            "header": {
             "fill": {
              "color": "#2a3f5f"
             },
             "line": {
              "color": "rgb(17,17,17)"
             }
            },
            "type": "table"
           }
          ],
          "barpolar": [
           {
            "marker": {
             "line": {
              "color": "rgb(17,17,17)",
              "width": 0.5
             },
             "pattern": {
              "fillmode": "overlay",
              "size": 10,
              "solidity": 0.2
             }
            },
            "type": "barpolar"
           }
          ],
          "pie": [
           {
            "automargin": true,
            "type": "pie"
           }
          ]
         },
         "layout": {
          "autotypenumbers": "strict",
          "colorway": [
           "#636efa",
           "#EF553B",
           "#00cc96",
           "#ab63fa",
           "#FFA15A",
           "#19d3f3",
           "#FF6692",
           "#B6E880",
           "#FF97FF",
           "#FECB52"
          ],
          "font": {
           "color": "#f2f5fa"
          },
          "hovermode": "closest",
          "hoverlabel": {
           "align": "left"
          },
          "paper_bgcolor": "rgb(17,17,17)",
          "plot_bgcolor": "rgb(17,17,17)",
          "polar": {
           "bgcolor": "rgb(17,17,17)",
           "angularaxis": {
            "gridcolor": "#506784",
            "linecolor": "#506784",
            "ticks": ""
           },
           "radialaxis": {
            "gridcolor": "#506784",
            "linecolor": "#506784",
            "ticks": ""
           }
          },
          "ternary": {
           "bgcolor": "rgb(17,17,17)",
           "aaxis": {
            "gridcolor": "#506784",
            "linecolor": "#506784",
            "ticks": ""
           },
           "baxis": {
            "gridcolor": "#506784",
            "linecolor": "#506784",
            "ticks": ""
           },
           "caxis": {
            "gridcolor": "#506784",
            "linecolor": "#506784",
            "ticks": ""
           }
          },
          "coloraxis": {
           "colorbar": {
            "outlinewidth": 0,
            "ticks": ""
           }
          },
          "colorscale": {
           "sequential": [
            [
             0.0,
             "#0d0887"
            ],
            [
             0.1111111111111111,
             "#46039f"
            ],
            [
             0.2222222222222222,
             "#7201a8"
            ],
            [
             0.3333333333333333,
             "#9c179e"
            ],
            [
             0.4444444444444444,
             "#bd3786"
            ],
            [
             0.5555555555555556,
             "#d8576b"
            ],
            [
             0.6666666666666666,
             "#ed7953"
            ],
            [
             0.7777777777777778,
             "#fb9f3a"
            ],
            [
             0.8888888888888888,
             "#fdca26"
            ],
            [
             1.0,
             "#f0f921"
            ]
           ],
           "sequentialminus": [
            [
             0.0,
             "#0d0887"
            ],
            [
             0.1111111111111111,
             "#46039f"
            ],
            [
             0.2222222222222222,
             "#7201a8"
            ],
            [
             0.3333333333333333,
             "#9c179e"
            ],
            [
             0.4444444444444444,
             "#bd3786"
            ],
            [
             0.5555555555555556,
             "#d8576b"
            ],
            [
             0.6666666666666666,
             "#ed7953"
            ],
            [
             0.7777777777777778,
             "#fb9f3a"
            ],
            [
             0.8888888888888888,
             "#fdca26"
            ],
            [
             1.0,
             "#f0f921"
            ]
           ],
           "diverging": [
            [
             0,
             "#8e0152"
            ],
            [
             0.1,
             "#c51b7d"
            ],
            [
             0.2,
             "#de77ae"
            ],
            [
             0.3,
             "#f1b6da"
            ],
            [
             0.4,
             "#fde0ef"
            ],
            [
             0.5,
             "#f7f7f7"
            ],
            [
             0.6,
             "#e6f5d0"
            ],
            [
             0.7,
             "#b8e186"
            ],
            [
             0.8,
             "#7fbc41"
            ],
            [
             0.9,
             "#4d9221"
            ],
            [
             1,
             "#276419"
            ]
           ]
          },
          "xaxis": {
           "gridcolor": "#283442",
           "linecolor": "#506784",
           "ticks": "",
           "title": {
            "standoff": 15
           },
           "zerolinecolor": "#283442",
           "automargin": true,
           "zerolinewidth": 2
          },
          "yaxis": {
           "gridcolor": "#283442",
           "linecolor": "#506784",
           "ticks": "",
           "title": {
            "standoff": 15
           },
           "zerolinecolor": "#283442",
           "automargin": true,
           "zerolinewidth": 2
          },
          "scene": {
           "xaxis": {
            "backgroundcolor": "rgb(17,17,17)",
            "gridcolor": "#506784",
            "linecolor": "#506784",
            "showbackground": true,
            "ticks": "",
            "zerolinecolor": "#C8D4E3",
            "gridwidth": 2
           },
           "yaxis": {
            "backgroundcolor": "rgb(17,17,17)",
            "gridcolor": "#506784",
            "linecolor": "#506784",
            "showbackground": true,
            "ticks": "",
            "zerolinecolor": "#C8D4E3",
            "gridwidth": 2
           },
           "zaxis": {
            "backgroundcolor": "rgb(17,17,17)",
            "gridcolor": "#506784",
            "linecolor": "#506784",
            "showbackground": true,
            "ticks": "",
            "zerolinecolor": "#C8D4E3",
            "gridwidth": 2
           }
          },
          "shapedefaults": {
           "line": {
            "color": "#f2f5fa"
           }
          },
          "annotationdefaults": {
           "arrowcolor": "#f2f5fa",
           "arrowhead": 0,
           "arrowwidth": 1
          },
          "geo": {
           "bgcolor": "rgb(17,17,17)",
           "landcolor": "rgb(17,17,17)",
           "subunitcolor": "#506784",
           "showland": true,
           "showlakes": true,
           "lakecolor": "rgb(17,17,17)"
          },
          "title": {
           "x": 0.05
          },
          "updatemenudefaults": {
           "bgcolor": "#506784",
           "borderwidth": 0
          },
          "sliderdefaults": {
           "bgcolor": "#C8D4E3",
           "borderwidth": 1,
           "bordercolor": "rgb(17,17,17)",
           "tickwidth": 0
          },
          "mapbox": {
           "style": "dark"
          }
         }
        },
        "geo": {
         "domain": {
          "x": [
           0.0,
           1.0
          ],
          "y": [
           0.0,
           1.0
          ]
         },
         "projection": {
          "type": "natural earth"
         },
         "center": {}
        },
        "legend": {
         "title": {
          "text": "pais"
         },
         "tracegroupgap": 0,
         "itemsizing": "constant"
        },
        "margin": {
         "t": 60
        }
       },
       "config": {
        "plotlyServerURL": "https://plot.ly"
       }
      },
      "text/html": "<div>                            <div id=\"8200f01d-6371-4575-a921-1ee504c098dd\" class=\"plotly-graph-div\" style=\"height:525px; width:100%;\"></div>            <script type=\"text/javascript\">                require([\"plotly\"], function(Plotly) {                    window.PLOTLYENV=window.PLOTLYENV || {};                                    if (document.getElementById(\"8200f01d-6371-4575-a921-1ee504c098dd\")) {                    Plotly.newPlot(                        \"8200f01d-6371-4575-a921-1ee504c098dd\",                        [{\"geo\":\"geo\",\"hovertemplate\":\"<b>%{hovertext}</b><br><br>pais=New Zealand/Aotearoa<br>numero_retweets=%{marker.size}<br>latitud=%{lat}<br>longitud=%{lon}<extra></extra>\",\"hovertext\":[\"jerrygarry\"],\"lat\":[-36.852095],\"legendgroup\":\"New Zealand/Aotearoa\",\"lon\":[174.7631803],\"marker\":{\"color\":\"#636efa\",\"size\":[297],\"sizemode\":\"area\",\"sizeref\":3.1475,\"symbol\":\"circle\"},\"mode\":\"markers\",\"name\":\"New Zealand/Aotearoa\",\"showlegend\":true,\"type\":\"scattergeo\"},{\"geo\":\"geo\",\"hovertemplate\":\"<b>%{hovertext}</b><br><br>pais=Australia<br>numero_retweets=%{marker.size}<br>latitud=%{lat}<br>longitud=%{lon}<extra></extra>\",\"hovertext\":[\"DipDevotion\"],\"lat\":[-33.8698439],\"legendgroup\":\"Australia\",\"lon\":[151.2082848],\"marker\":{\"color\":\"#EF553B\",\"size\":[8],\"sizemode\":\"area\",\"sizeref\":3.1475,\"symbol\":\"circle\"},\"mode\":\"markers\",\"name\":\"Australia\",\"showlegend\":true,\"type\":\"scattergeo\"},{\"geo\":\"geo\",\"hovertemplate\":\"<b>%{hovertext}</b><br><br>pais=Kenya<br>numero_retweets=%{marker.size}<br>latitud=%{lat}<br>longitud=%{lon}<extra></extra>\",\"hovertext\":[\"RomacLtd\"],\"lat\":[1.4419683],\"legendgroup\":\"Kenya\",\"lon\":[38.4313975],\"marker\":{\"color\":\"#00cc96\",\"size\":[2],\"sizemode\":\"area\",\"sizeref\":3.1475,\"symbol\":\"circle\"},\"mode\":\"markers\",\"name\":\"Kenya\",\"showlegend\":true,\"type\":\"scattergeo\"},{\"geo\":\"geo\",\"hovertemplate\":\"<b>%{hovertext}</b><br><br>pais=Malaysia<br>numero_retweets=%{marker.size}<br>latitud=%{lat}<br>longitud=%{lon}<extra></extra>\",\"hovertext\":[\"atollun\",\"kk131066\"],\"lat\":[3.04955345,3.1516964],\"legendgroup\":\"Malaysia\",\"lon\":[101.66989188808999,101.6942371],\"marker\":{\"color\":\"#ab63fa\",\"size\":[5,1],\"sizemode\":\"area\",\"sizeref\":3.1475,\"symbol\":\"circle\"},\"mode\":\"markers\",\"name\":\"Malaysia\",\"showlegend\":true,\"type\":\"scattergeo\"},{\"geo\":\"geo\",\"hovertemplate\":\"<b>%{hovertext}</b><br><br>pais=Venezuela<br>numero_retweets=%{marker.size}<br>latitud=%{lat}<br>longitud=%{lon}<extra></extra>\",\"hovertext\":[\"josegregorio11\"],\"lat\":[10.5060934],\"legendgroup\":\"Venezuela\",\"lon\":[-66.9146008],\"marker\":{\"color\":\"#FFA15A\",\"size\":[27],\"sizemode\":\"area\",\"sizeref\":3.1475,\"symbol\":\"circle\"},\"mode\":\"markers\",\"name\":\"Venezuela\",\"showlegend\":true,\"type\":\"scattergeo\"},{\"geo\":\"geo\",\"hovertemplate\":\"<b>%{hovertext}</b><br><br>pais=M\\u00e9xico<br>numero_retweets=%{marker.size}<br>latitud=%{lat}<br>longitud=%{lon}<extra></extra>\",\"hovertext\":[\"5conejo21\"],\"lat\":[20.521788],\"legendgroup\":\"M\\u00e9xico\",\"lon\":[-100.8140458],\"marker\":{\"color\":\"#19d3f3\",\"size\":[32],\"sizemode\":\"area\",\"sizeref\":3.1475,\"symbol\":\"circle\"},\"mode\":\"markers\",\"name\":\"M\\u00e9xico\",\"showlegend\":true,\"type\":\"scattergeo\"},{\"geo\":\"geo\",\"hovertemplate\":\"<b>%{hovertext}</b><br><br>pais=United States<br>numero_retweets=%{marker.size}<br>latitud=%{lat}<br>longitud=%{lon}<extra></extra>\",\"hovertext\":[\"katsmith71\",\"BragoVictoria\",\"ElEuropeoReal\",\"_murithi_\",\"DenisProkopenk9\",\"Iseabail_lassy\",\"PippaPoops\",\"VindiceLibertas\",\"tommy15616\",\"gunzgal0r3\",\"Naru1Nolan\",\"RACZPATT\",\"klp723\"],\"lat\":[31.2638905,34.0536909,35.6165517,38.7311123,38.9464996,38.9464996,39.7837304,39.7837304,40.0796606,40.3270127,42.4347571,42.716293,47.313494],\"legendgroup\":\"United States\",\"lon\":[-98.5456116,-118.242766,-82.3205003,-95.2414104,-77.1588685,-77.1588685,-100.445882,-100.445882,-89.4337288,-86.1746933,-83.9849477,-78.828717,-122.33931],\"marker\":{\"color\":\"#FF6692\",\"size\":[54,102,0,9,32,26,17,32,1,2,108,17,3],\"sizemode\":\"area\",\"sizeref\":3.1475,\"symbol\":\"circle\"},\"mode\":\"markers\",\"name\":\"United States\",\"showlegend\":true,\"type\":\"scattergeo\"},{\"geo\":\"geo\",\"hovertemplate\":\"<b>%{hovertext}</b><br><br>pais=\\u65e5\\u672c<br>numero_retweets=%{marker.size}<br>latitud=%{lat}<br>longitud=%{lon}<extra></extra>\",\"hovertext\":[\"Kodjo61\"],\"lat\":[38.5890796],\"legendgroup\":\"\\u65e5\\u672c\",\"lon\":[141.248211],\"marker\":{\"color\":\"#B6E880\",\"size\":[137],\"sizemode\":\"area\",\"sizeref\":3.1475,\"symbol\":\"circle\"},\"mode\":\"markers\",\"name\":\"\\u65e5\\u672c\",\"showlegend\":true,\"type\":\"scattergeo\"},{\"geo\":\"geo\",\"hovertemplate\":\"<b>%{hovertext}</b><br><br>pais=T\\u00fcrkiye<br>numero_retweets=%{marker.size}<br>latitud=%{lat}<br>longitud=%{lon}<extra></extra>\",\"hovertext\":[\"anews\"],\"lat\":[41.0091982],\"legendgroup\":\"T\\u00fcrkiye\",\"lon\":[28.9662187],\"marker\":{\"color\":\"#FF97FF\",\"size\":[0],\"sizemode\":\"area\",\"sizeref\":3.1475,\"symbol\":\"circle\"},\"mode\":\"markers\",\"name\":\"T\\u00fcrkiye\",\"showlegend\":true,\"type\":\"scattergeo\"},{\"geo\":\"geo\",\"hovertemplate\":\"<b>%{hovertext}</b><br><br>pais=Espa\\u00f1a<br>numero_retweets=%{marker.size}<br>latitud=%{lat}<br>longitud=%{lon}<extra></extra>\",\"hovertext\":[\"BetiBarrera71\"],\"lat\":[41.3828939],\"legendgroup\":\"Espa\\u00f1a\",\"lon\":[2.1774322],\"marker\":{\"color\":\"#FECB52\",\"size\":[1259],\"sizemode\":\"area\",\"sizeref\":3.1475,\"symbol\":\"circle\"},\"mode\":\"markers\",\"name\":\"Espa\\u00f1a\",\"showlegend\":true,\"type\":\"scattergeo\"},{\"geo\":\"geo\",\"hovertemplate\":\"<b>%{hovertext}</b><br><br>pais=Italia<br>numero_retweets=%{marker.size}<br>latitud=%{lat}<br>longitud=%{lon}<extra></extra>\",\"hovertext\":[\"itas1000xr\"],\"lat\":[42.6384261],\"legendgroup\":\"Italia\",\"lon\":[12.674297],\"marker\":{\"color\":\"#636efa\",\"size\":[32],\"sizemode\":\"area\",\"sizeref\":3.1475,\"symbol\":\"circle\"},\"mode\":\"markers\",\"name\":\"Italia\",\"showlegend\":true,\"type\":\"scattergeo\"},{\"geo\":\"geo\",\"hovertemplate\":\"<b>%{hovertext}</b><br><br>pais=Rom\\u00e2nia<br>numero_retweets=%{marker.size}<br>latitud=%{lat}<br>longitud=%{lon}<extra></extra>\",\"hovertext\":[\"RazvanAngelesc2\",\"lpauladrian\"],\"lat\":[44.4361414,45.7538355],\"legendgroup\":\"Rom\\u00e2nia\",\"lon\":[26.1027202,21.2257474],\"marker\":{\"color\":\"#EF553B\",\"size\":[28,139],\"sizemode\":\"area\",\"sizeref\":3.1475,\"symbol\":\"circle\"},\"mode\":\"markers\",\"name\":\"Rom\\u00e2nia\",\"showlegend\":true,\"type\":\"scattergeo\"},{\"geo\":\"geo\",\"hovertemplate\":\"<b>%{hovertext}</b><br><br>pais=\\u0421\\u0440\\u0431\\u0438\\u0458\\u0430<br>numero_retweets=%{marker.size}<br>latitud=%{lat}<br>longitud=%{lon}<extra></extra>\",\"hovertext\":[\"Zdep11\"],\"lat\":[44.8178131],\"legendgroup\":\"\\u0421\\u0440\\u0431\\u0438\\u0458\\u0430\",\"lon\":[20.4568974],\"marker\":{\"color\":\"#00cc96\",\"size\":[8],\"sizemode\":\"area\",\"sizeref\":3.1475,\"symbol\":\"circle\"},\"mode\":\"markers\",\"name\":\"\\u0421\\u0440\\u0431\\u0438\\u0458\\u0430\",\"showlegend\":true,\"type\":\"scattergeo\"},{\"geo\":\"geo\",\"hovertemplate\":\"<b>%{hovertext}</b><br><br>pais=France<br>numero_retweets=%{marker.size}<br>latitud=%{lat}<br>longitud=%{lon}<extra></extra>\",\"hovertext\":[\"CigalamProvence\",\"MARIDJE17\"],\"lat\":[46.603354,48.8534951],\"legendgroup\":\"France\",\"lon\":[1.8883335,2.3483915],\"marker\":{\"color\":\"#ab63fa\",\"size\":[3,54],\"sizemode\":\"area\",\"sizeref\":3.1475,\"symbol\":\"circle\"},\"mode\":\"markers\",\"name\":\"France\",\"showlegend\":true,\"type\":\"scattergeo\"},{\"geo\":\"geo\",\"hovertemplate\":\"<b>%{hovertext}</b><br><br>pais=Canada<br>numero_retweets=%{marker.size}<br>latitud=%{lat}<br>longitud=%{lon}<extra></extra>\",\"hovertext\":[\"alwaysbeenleft\"],\"lat\":[48.7291272],\"legendgroup\":\"Canada\",\"lon\":[-123.6677485],\"marker\":{\"color\":\"#FFA15A\",\"size\":[7],\"sizemode\":\"area\",\"sizeref\":3.1475,\"symbol\":\"circle\"},\"mode\":\"markers\",\"name\":\"Canada\",\"showlegend\":true,\"type\":\"scattergeo\"},{\"geo\":\"geo\",\"hovertemplate\":\"<b>%{hovertext}</b><br><br>pais=\\u0423\\u043a\\u0440\\u0430\\u0457\\u043d\\u0430<br>numero_retweets=%{marker.size}<br>latitud=%{lat}<br>longitud=%{lon}<extra></extra>\",\"hovertext\":[\"YaroslavaSlava_\",\"HopkoHanna\",\"SkA4live\"],\"lat\":[49.4871968,50.4500336,50.4500336],\"legendgroup\":\"\\u0423\\u043a\\u0440\\u0430\\u0457\\u043d\\u0430\",\"lon\":[31.2718321,30.5241361,30.5241361],\"marker\":{\"color\":\"#19d3f3\",\"size\":[154,1259,294],\"sizemode\":\"area\",\"sizeref\":3.1475,\"symbol\":\"circle\"},\"mode\":\"markers\",\"name\":\"\\u0423\\u043a\\u0440\\u0430\\u0457\\u043d\\u0430\",\"showlegend\":true,\"type\":\"scattergeo\"},{\"geo\":\"geo\",\"hovertemplate\":\"<b>%{hovertext}</b><br><br>pais=Deutschland<br>numero_retweets=%{marker.size}<br>latitud=%{lat}<br>longitud=%{lon}<extra></extra>\",\"hovertext\":[\"OlliWse\",\"_Bartotten_\",\"holzmueller2\"],\"lat\":[51.0,51.1638175,51.1638175],\"legendgroup\":\"Deutschland\",\"lon\":[10.0,10.4478313,10.4478313],\"marker\":{\"color\":\"#FF6692\",\"size\":[143,9,1],\"sizemode\":\"area\",\"sizeref\":3.1475,\"symbol\":\"circle\"},\"mode\":\"markers\",\"name\":\"Deutschland\",\"showlegend\":true,\"type\":\"scattergeo\"},{\"geo\":\"geo\",\"hovertemplate\":\"<b>%{hovertext}</b><br><br>pais=United Kingdom<br>numero_retweets=%{marker.size}<br>latitud=%{lat}<br>longitud=%{lon}<extra></extra>\",\"hovertext\":[\"glenmexted\",\"samchurms1\",\"DianeLBW\",\"JackNowicki1\",\"Shane2020Wales\",\"ben_burnside\"],\"lat\":[51.5073359,52.5310214,53.4486075,54.7023545,54.7023545,54.7023545],\"legendgroup\":\"United Kingdom\",\"lon\":[-0.12765,-1.2649062,-2.7359820790816323,-3.2765753,-3.2765753,-3.2765753],\"marker\":{\"color\":\"#B6E880\",\"size\":[935,5,23,0,22,9],\"sizemode\":\"area\",\"sizeref\":3.1475,\"symbol\":\"circle\"},\"mode\":\"markers\",\"name\":\"United Kingdom\",\"showlegend\":true,\"type\":\"scattergeo\"},{\"geo\":\"geo\",\"hovertemplate\":\"<b>%{hovertext}</b><br><br>pais=\\u00c9ire / Ireland<br>numero_retweets=%{marker.size}<br>latitud=%{lat}<br>longitud=%{lon}<extra></extra>\",\"hovertext\":[\"ger_cosgrove\"],\"lat\":[52.865196],\"legendgroup\":\"\\u00c9ire / Ireland\",\"lon\":[-7.9794599],\"marker\":{\"color\":\"#FF97FF\",\"size\":[32],\"sizemode\":\"area\",\"sizeref\":3.1475,\"symbol\":\"circle\"},\"mode\":\"markers\",\"name\":\"\\u00c9ire / Ireland\",\"showlegend\":true,\"type\":\"scattergeo\"},{\"geo\":\"geo\",\"hovertemplate\":\"<b>%{hovertext}</b><br><br>pais=Polska<br>numero_retweets=%{marker.size}<br>latitud=%{lat}<br>longitud=%{lon}<extra></extra>\",\"hovertext\":[\"Twiter__Trends\"],\"lat\":[53.2668455],\"legendgroup\":\"Polska\",\"lon\":[22.8525787],\"marker\":{\"color\":\"#FECB52\",\"size\":[0],\"sizemode\":\"area\",\"sizeref\":3.1475,\"symbol\":\"circle\"},\"mode\":\"markers\",\"name\":\"Polska\",\"showlegend\":true,\"type\":\"scattergeo\"},{\"geo\":\"geo\",\"hovertemplate\":\"<b>%{hovertext}</b><br><br>pais=Danmark<br>numero_retweets=%{marker.size}<br>latitud=%{lat}<br>longitud=%{lon}<extra></extra>\",\"hovertext\":[\"JohnKStreet1\"],\"lat\":[55.143122399999996],\"legendgroup\":\"Danmark\",\"lon\":[14.922629658767558],\"marker\":{\"color\":\"#636efa\",\"size\":[29],\"sizemode\":\"area\",\"sizeref\":3.1475,\"symbol\":\"circle\"},\"mode\":\"markers\",\"name\":\"Danmark\",\"showlegend\":true,\"type\":\"scattergeo\"},{\"geo\":\"geo\",\"hovertemplate\":\"<b>%{hovertext}</b><br><br>pais=Norge<br>numero_retweets=%{marker.size}<br>latitud=%{lat}<br>longitud=%{lon}<extra></extra>\",\"hovertext\":[\"cjostein\"],\"lat\":[59.9133301],\"legendgroup\":\"Norge\",\"lon\":[10.7389701],\"marker\":{\"color\":\"#EF553B\",\"size\":[90],\"sizemode\":\"area\",\"sizeref\":3.1475,\"symbol\":\"circle\"},\"mode\":\"markers\",\"name\":\"Norge\",\"showlegend\":true,\"type\":\"scattergeo\"}],                        {\"template\":{\"data\":{\"histogram2dcontour\":[{\"type\":\"histogram2dcontour\",\"colorbar\":{\"outlinewidth\":0,\"ticks\":\"\"},\"colorscale\":[[0.0,\"#0d0887\"],[0.1111111111111111,\"#46039f\"],[0.2222222222222222,\"#7201a8\"],[0.3333333333333333,\"#9c179e\"],[0.4444444444444444,\"#bd3786\"],[0.5555555555555556,\"#d8576b\"],[0.6666666666666666,\"#ed7953\"],[0.7777777777777778,\"#fb9f3a\"],[0.8888888888888888,\"#fdca26\"],[1.0,\"#f0f921\"]]}],\"choropleth\":[{\"type\":\"choropleth\",\"colorbar\":{\"outlinewidth\":0,\"ticks\":\"\"}}],\"histogram2d\":[{\"type\":\"histogram2d\",\"colorbar\":{\"outlinewidth\":0,\"ticks\":\"\"},\"colorscale\":[[0.0,\"#0d0887\"],[0.1111111111111111,\"#46039f\"],[0.2222222222222222,\"#7201a8\"],[0.3333333333333333,\"#9c179e\"],[0.4444444444444444,\"#bd3786\"],[0.5555555555555556,\"#d8576b\"],[0.6666666666666666,\"#ed7953\"],[0.7777777777777778,\"#fb9f3a\"],[0.8888888888888888,\"#fdca26\"],[1.0,\"#f0f921\"]]}],\"heatmap\":[{\"type\":\"heatmap\",\"colorbar\":{\"outlinewidth\":0,\"ticks\":\"\"},\"colorscale\":[[0.0,\"#0d0887\"],[0.1111111111111111,\"#46039f\"],[0.2222222222222222,\"#7201a8\"],[0.3333333333333333,\"#9c179e\"],[0.4444444444444444,\"#bd3786\"],[0.5555555555555556,\"#d8576b\"],[0.6666666666666666,\"#ed7953\"],[0.7777777777777778,\"#fb9f3a\"],[0.8888888888888888,\"#fdca26\"],[1.0,\"#f0f921\"]]}],\"heatmapgl\":[{\"type\":\"heatmapgl\",\"colorbar\":{\"outlinewidth\":0,\"ticks\":\"\"},\"colorscale\":[[0.0,\"#0d0887\"],[0.1111111111111111,\"#46039f\"],[0.2222222222222222,\"#7201a8\"],[0.3333333333333333,\"#9c179e\"],[0.4444444444444444,\"#bd3786\"],[0.5555555555555556,\"#d8576b\"],[0.6666666666666666,\"#ed7953\"],[0.7777777777777778,\"#fb9f3a\"],[0.8888888888888888,\"#fdca26\"],[1.0,\"#f0f921\"]]}],\"contourcarpet\":[{\"type\":\"contourcarpet\",\"colorbar\":{\"outlinewidth\":0,\"ticks\":\"\"}}],\"contour\":[{\"type\":\"contour\",\"colorbar\":{\"outlinewidth\":0,\"ticks\":\"\"},\"colorscale\":[[0.0,\"#0d0887\"],[0.1111111111111111,\"#46039f\"],[0.2222222222222222,\"#7201a8\"],[0.3333333333333333,\"#9c179e\"],[0.4444444444444444,\"#bd3786\"],[0.5555555555555556,\"#d8576b\"],[0.6666666666666666,\"#ed7953\"],[0.7777777777777778,\"#fb9f3a\"],[0.8888888888888888,\"#fdca26\"],[1.0,\"#f0f921\"]]}],\"surface\":[{\"type\":\"surface\",\"colorbar\":{\"outlinewidth\":0,\"ticks\":\"\"},\"colorscale\":[[0.0,\"#0d0887\"],[0.1111111111111111,\"#46039f\"],[0.2222222222222222,\"#7201a8\"],[0.3333333333333333,\"#9c179e\"],[0.4444444444444444,\"#bd3786\"],[0.5555555555555556,\"#d8576b\"],[0.6666666666666666,\"#ed7953\"],[0.7777777777777778,\"#fb9f3a\"],[0.8888888888888888,\"#fdca26\"],[1.0,\"#f0f921\"]]}],\"mesh3d\":[{\"type\":\"mesh3d\",\"colorbar\":{\"outlinewidth\":0,\"ticks\":\"\"}}],\"scatter\":[{\"marker\":{\"line\":{\"color\":\"#283442\"}},\"type\":\"scatter\"}],\"parcoords\":[{\"type\":\"parcoords\",\"line\":{\"colorbar\":{\"outlinewidth\":0,\"ticks\":\"\"}}}],\"scatterpolargl\":[{\"type\":\"scatterpolargl\",\"marker\":{\"colorbar\":{\"outlinewidth\":0,\"ticks\":\"\"}}}],\"bar\":[{\"error_x\":{\"color\":\"#f2f5fa\"},\"error_y\":{\"color\":\"#f2f5fa\"},\"marker\":{\"line\":{\"color\":\"rgb(17,17,17)\",\"width\":0.5},\"pattern\":{\"fillmode\":\"overlay\",\"size\":10,\"solidity\":0.2}},\"type\":\"bar\"}],\"scattergeo\":[{\"type\":\"scattergeo\",\"marker\":{\"colorbar\":{\"outlinewidth\":0,\"ticks\":\"\"}}}],\"scatterpolar\":[{\"type\":\"scatterpolar\",\"marker\":{\"colorbar\":{\"outlinewidth\":0,\"ticks\":\"\"}}}],\"histogram\":[{\"marker\":{\"pattern\":{\"fillmode\":\"overlay\",\"size\":10,\"solidity\":0.2}},\"type\":\"histogram\"}],\"scattergl\":[{\"marker\":{\"line\":{\"color\":\"#283442\"}},\"type\":\"scattergl\"}],\"scatter3d\":[{\"type\":\"scatter3d\",\"line\":{\"colorbar\":{\"outlinewidth\":0,\"ticks\":\"\"}},\"marker\":{\"colorbar\":{\"outlinewidth\":0,\"ticks\":\"\"}}}],\"scattermapbox\":[{\"type\":\"scattermapbox\",\"marker\":{\"colorbar\":{\"outlinewidth\":0,\"ticks\":\"\"}}}],\"scatterternary\":[{\"type\":\"scatterternary\",\"marker\":{\"colorbar\":{\"outlinewidth\":0,\"ticks\":\"\"}}}],\"scattercarpet\":[{\"type\":\"scattercarpet\",\"marker\":{\"colorbar\":{\"outlinewidth\":0,\"ticks\":\"\"}}}],\"carpet\":[{\"aaxis\":{\"endlinecolor\":\"#A2B1C6\",\"gridcolor\":\"#506784\",\"linecolor\":\"#506784\",\"minorgridcolor\":\"#506784\",\"startlinecolor\":\"#A2B1C6\"},\"baxis\":{\"endlinecolor\":\"#A2B1C6\",\"gridcolor\":\"#506784\",\"linecolor\":\"#506784\",\"minorgridcolor\":\"#506784\",\"startlinecolor\":\"#A2B1C6\"},\"type\":\"carpet\"}],\"table\":[{\"cells\":{\"fill\":{\"color\":\"#506784\"},\"line\":{\"color\":\"rgb(17,17,17)\"}},\"header\":{\"fill\":{\"color\":\"#2a3f5f\"},\"line\":{\"color\":\"rgb(17,17,17)\"}},\"type\":\"table\"}],\"barpolar\":[{\"marker\":{\"line\":{\"color\":\"rgb(17,17,17)\",\"width\":0.5},\"pattern\":{\"fillmode\":\"overlay\",\"size\":10,\"solidity\":0.2}},\"type\":\"barpolar\"}],\"pie\":[{\"automargin\":true,\"type\":\"pie\"}]},\"layout\":{\"autotypenumbers\":\"strict\",\"colorway\":[\"#636efa\",\"#EF553B\",\"#00cc96\",\"#ab63fa\",\"#FFA15A\",\"#19d3f3\",\"#FF6692\",\"#B6E880\",\"#FF97FF\",\"#FECB52\"],\"font\":{\"color\":\"#f2f5fa\"},\"hovermode\":\"closest\",\"hoverlabel\":{\"align\":\"left\"},\"paper_bgcolor\":\"rgb(17,17,17)\",\"plot_bgcolor\":\"rgb(17,17,17)\",\"polar\":{\"bgcolor\":\"rgb(17,17,17)\",\"angularaxis\":{\"gridcolor\":\"#506784\",\"linecolor\":\"#506784\",\"ticks\":\"\"},\"radialaxis\":{\"gridcolor\":\"#506784\",\"linecolor\":\"#506784\",\"ticks\":\"\"}},\"ternary\":{\"bgcolor\":\"rgb(17,17,17)\",\"aaxis\":{\"gridcolor\":\"#506784\",\"linecolor\":\"#506784\",\"ticks\":\"\"},\"baxis\":{\"gridcolor\":\"#506784\",\"linecolor\":\"#506784\",\"ticks\":\"\"},\"caxis\":{\"gridcolor\":\"#506784\",\"linecolor\":\"#506784\",\"ticks\":\"\"}},\"coloraxis\":{\"colorbar\":{\"outlinewidth\":0,\"ticks\":\"\"}},\"colorscale\":{\"sequential\":[[0.0,\"#0d0887\"],[0.1111111111111111,\"#46039f\"],[0.2222222222222222,\"#7201a8\"],[0.3333333333333333,\"#9c179e\"],[0.4444444444444444,\"#bd3786\"],[0.5555555555555556,\"#d8576b\"],[0.6666666666666666,\"#ed7953\"],[0.7777777777777778,\"#fb9f3a\"],[0.8888888888888888,\"#fdca26\"],[1.0,\"#f0f921\"]],\"sequentialminus\":[[0.0,\"#0d0887\"],[0.1111111111111111,\"#46039f\"],[0.2222222222222222,\"#7201a8\"],[0.3333333333333333,\"#9c179e\"],[0.4444444444444444,\"#bd3786\"],[0.5555555555555556,\"#d8576b\"],[0.6666666666666666,\"#ed7953\"],[0.7777777777777778,\"#fb9f3a\"],[0.8888888888888888,\"#fdca26\"],[1.0,\"#f0f921\"]],\"diverging\":[[0,\"#8e0152\"],[0.1,\"#c51b7d\"],[0.2,\"#de77ae\"],[0.3,\"#f1b6da\"],[0.4,\"#fde0ef\"],[0.5,\"#f7f7f7\"],[0.6,\"#e6f5d0\"],[0.7,\"#b8e186\"],[0.8,\"#7fbc41\"],[0.9,\"#4d9221\"],[1,\"#276419\"]]},\"xaxis\":{\"gridcolor\":\"#283442\",\"linecolor\":\"#506784\",\"ticks\":\"\",\"title\":{\"standoff\":15},\"zerolinecolor\":\"#283442\",\"automargin\":true,\"zerolinewidth\":2},\"yaxis\":{\"gridcolor\":\"#283442\",\"linecolor\":\"#506784\",\"ticks\":\"\",\"title\":{\"standoff\":15},\"zerolinecolor\":\"#283442\",\"automargin\":true,\"zerolinewidth\":2},\"scene\":{\"xaxis\":{\"backgroundcolor\":\"rgb(17,17,17)\",\"gridcolor\":\"#506784\",\"linecolor\":\"#506784\",\"showbackground\":true,\"ticks\":\"\",\"zerolinecolor\":\"#C8D4E3\",\"gridwidth\":2},\"yaxis\":{\"backgroundcolor\":\"rgb(17,17,17)\",\"gridcolor\":\"#506784\",\"linecolor\":\"#506784\",\"showbackground\":true,\"ticks\":\"\",\"zerolinecolor\":\"#C8D4E3\",\"gridwidth\":2},\"zaxis\":{\"backgroundcolor\":\"rgb(17,17,17)\",\"gridcolor\":\"#506784\",\"linecolor\":\"#506784\",\"showbackground\":true,\"ticks\":\"\",\"zerolinecolor\":\"#C8D4E3\",\"gridwidth\":2}},\"shapedefaults\":{\"line\":{\"color\":\"#f2f5fa\"}},\"annotationdefaults\":{\"arrowcolor\":\"#f2f5fa\",\"arrowhead\":0,\"arrowwidth\":1},\"geo\":{\"bgcolor\":\"rgb(17,17,17)\",\"landcolor\":\"rgb(17,17,17)\",\"subunitcolor\":\"#506784\",\"showland\":true,\"showlakes\":true,\"lakecolor\":\"rgb(17,17,17)\"},\"title\":{\"x\":0.05},\"updatemenudefaults\":{\"bgcolor\":\"#506784\",\"borderwidth\":0},\"sliderdefaults\":{\"bgcolor\":\"#C8D4E3\",\"borderwidth\":1,\"bordercolor\":\"rgb(17,17,17)\",\"tickwidth\":0},\"mapbox\":{\"style\":\"dark\"}}},\"geo\":{\"domain\":{\"x\":[0.0,1.0],\"y\":[0.0,1.0]},\"projection\":{\"type\":\"natural earth\"},\"center\":{}},\"legend\":{\"title\":{\"text\":\"pais\"},\"tracegroupgap\":0,\"itemsizing\":\"constant\"},\"margin\":{\"t\":60}},                        {\"responsive\": true}                    ).then(function(){\n                            \nvar gd = document.getElementById('8200f01d-6371-4575-a921-1ee504c098dd');\nvar x = new MutationObserver(function (mutations, observer) {{\n        var display = window.getComputedStyle(gd).display;\n        if (!display || display === 'none') {{\n            console.log([gd, 'removed!']);\n            Plotly.purge(gd);\n            observer.disconnect();\n        }}\n}});\n\n// Listen for the removal of the full notebook cells\nvar notebookContainer = gd.closest('#notebook-container');\nif (notebookContainer) {{\n    x.observe(notebookContainer, {childList: true});\n}}\n\n// Listen for the clearing of the current output cell\nvar outputEl = gd.closest('.output');\nif (outputEl) {{\n    x.observe(outputEl, {childList: true});\n}}\n\n                        })                };                });            </script>        </div>"
     },
     "metadata": {},
     "output_type": "display_data"
    }
   ],
   "source": [
    "#fig.update_layout(mapbox_style='carto-positron')\n",
    "fig_2.show()"
   ],
   "metadata": {
    "collapsed": false,
    "ExecuteTime": {
     "start_time": "2023-04-26T11:33:05.945899Z",
     "end_time": "2023-04-26T11:33:05.964041Z"
    }
   }
  },
  {
   "cell_type": "code",
   "execution_count": 66,
   "outputs": [],
   "source": [],
   "metadata": {
    "collapsed": false,
    "ExecuteTime": {
     "start_time": "2023-04-26T11:33:05.962521Z",
     "end_time": "2023-04-26T11:33:05.966039Z"
    }
   }
  },
  {
   "cell_type": "code",
   "execution_count": 66,
   "outputs": [],
   "source": [],
   "metadata": {
    "collapsed": false,
    "ExecuteTime": {
     "start_time": "2023-04-26T11:33:05.970789Z",
     "end_time": "2023-04-26T11:33:05.973796Z"
    }
   }
  }
 ],
 "metadata": {
  "kernelspec": {
   "display_name": "Python 3",
   "language": "python",
   "name": "python3"
  },
  "language_info": {
   "codemirror_mode": {
    "name": "ipython",
    "version": 2
   },
   "file_extension": ".py",
   "mimetype": "text/x-python",
   "name": "python",
   "nbconvert_exporter": "python",
   "pygments_lexer": "ipython2",
   "version": "2.7.6"
  }
 },
 "nbformat": 4,
 "nbformat_minor": 0
}
