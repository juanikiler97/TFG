{
 "cells": [
  {
   "cell_type": "code",
   "execution_count": 3,
   "outputs": [],
   "source": [
    "import pandas as pd\n",
    "from datetime import datetime"
   ],
   "metadata": {
    "collapsed": false,
    "ExecuteTime": {
     "end_time": "2023-05-05T10:39:17.534728200Z",
     "start_time": "2023-05-05T10:39:17.503472Z"
    }
   }
  },
  {
   "cell_type": "code",
   "execution_count": 9,
   "metadata": {
    "collapsed": true,
    "ExecuteTime": {
     "end_time": "2023-05-05T10:45:22.441438800Z",
     "start_time": "2023-05-05T10:45:22.389751Z"
    }
   },
   "outputs": [
    {
     "data": {
      "text/plain": "                       ID  Fecha_de_creacion_usuario   \n0     1632454841023823874  2012-01-04 17:11:08+00:00  \\\n1     1632454835143360521  2022-04-26 04:09:08+00:00   \n2     1632454826435960832  2015-08-20 23:12:55+00:00   \n3     1632454822300459008  2011-01-31 03:21:31+00:00   \n4     1632454820605972482  2011-05-21 14:06:22+00:00   \n...                   ...                        ...   \n2845  1632448952799834114  2018-05-03 21:12:52+00:00   \n2846  1632448950899712003  2021-01-18 04:57:57+00:00   \n2847  1632448932549738497  2011-06-17 22:26:19+00:00   \n2848  1632448925516042240  2008-11-30 17:35:36+00:00   \n2849  1632448922999193600  2014-05-10 21:20:51+00:00   \n\n       Fecha_creacion_del_tweet  nombre_usuario   \n0     2023-03-05 18:55:38+00:00    ben_burnside  \\\n1     2023-03-05 18:55:36+00:00        cjostein   \n2     2023-03-05 18:55:34+00:00        glyphfix   \n3     2023-03-05 18:55:33+00:00       clyntonK1   \n4     2023-03-05 18:55:33+00:00    LyndonRosser   \n...                         ...             ...   \n2845  2023-03-05 18:32:14+00:00       carp40404   \n2846  2023-03-05 18:32:13+00:00     AnjaJaeger2   \n2847  2023-03-05 18:32:09+00:00    bill_fortune   \n2848  2023-03-05 18:32:07+00:00    raouldukeesq   \n2849  2023-03-05 18:32:07+00:00  SolidarityRnwd   \n\n                                                  texto         localizacion   \n0     RT @CalibreObscura: Only in #Ukraine: A PM M19...                   UK  \\\n1     RT @TruthPuke: #NATO military equipment in the...                 Oslo   \n2     RT @thedailysummary: Russian shelling hits Ukr...                  NaN   \n3     RT @intermarium24: Soldier gets awarded with g...                  NaN   \n4     RT @UAWeapons: #Ukraine: In the East, an aband...    Caerdydd/Hirwaun    \n...                                                 ...                  ...   \n2845  RT @nexta_tv: The war has caused 76.5 billion ...                  NaN   \n2846  RT @PStyle0ne1: Ukraine will receive more than...     Zürich, Schweiz    \n2847  RT @ClearBlueSee: A woman leaves her abusive e...             Scotland   \n2848  RT @GlasnostGone: Russia's killed #Ukraine's \"...                  NaN   \n2849  RT @KramarenkoMari3: Russia began using the ne...  Nottingham, England   \n\n      numero_seguidores  numero_seguidos  numero_retweets  numero_favoritos   \n0                   684               90                9             34299  \\\n1                  1042              207               90             15933   \n2                  1379              430                1             45478   \n3                   520              277               70             80587   \n4                  2340             1717               32            399708   \n...                 ...              ...              ...               ...   \n2845               4832             3251               72             56816   \n2846               2211              984               25             80875   \n2847                160              228               17             20845   \n2848                176               23              161              2229   \n2849               3194             2965               57            170589   \n\n                      menciones          retweet  \n0            ['CalibreObscura']   CalibreObscura  \n1                 ['TruthPuke']        TruthPuke  \n2     ['thedailysummary', 'AP']  thedailysummary  \n3             ['intermarium24']    intermarium24  \n4                 ['UAWeapons']        UAWeapons  \n...                         ...              ...  \n2845               ['nexta_tv']         nexta_tv  \n2846             ['PStyle0ne1']       PStyle0ne1  \n2847           ['ClearBlueSee']     ClearBlueSee  \n2848           ['GlasnostGone']     GlasnostGone  \n2849        ['KramarenkoMari3']  KramarenkoMari3  \n\n[2850 rows x 12 columns]",
      "text/html": "<div>\n<style scoped>\n    .dataframe tbody tr th:only-of-type {\n        vertical-align: middle;\n    }\n\n    .dataframe tbody tr th {\n        vertical-align: top;\n    }\n\n    .dataframe thead th {\n        text-align: right;\n    }\n</style>\n<table border=\"1\" class=\"dataframe\">\n  <thead>\n    <tr style=\"text-align: right;\">\n      <th></th>\n      <th>ID</th>\n      <th>Fecha_de_creacion_usuario</th>\n      <th>Fecha_creacion_del_tweet</th>\n      <th>nombre_usuario</th>\n      <th>texto</th>\n      <th>localizacion</th>\n      <th>numero_seguidores</th>\n      <th>numero_seguidos</th>\n      <th>numero_retweets</th>\n      <th>numero_favoritos</th>\n      <th>menciones</th>\n      <th>retweet</th>\n    </tr>\n  </thead>\n  <tbody>\n    <tr>\n      <th>0</th>\n      <td>1632454841023823874</td>\n      <td>2012-01-04 17:11:08+00:00</td>\n      <td>2023-03-05 18:55:38+00:00</td>\n      <td>ben_burnside</td>\n      <td>RT @CalibreObscura: Only in #Ukraine: A PM M19...</td>\n      <td>UK</td>\n      <td>684</td>\n      <td>90</td>\n      <td>9</td>\n      <td>34299</td>\n      <td>['CalibreObscura']</td>\n      <td>CalibreObscura</td>\n    </tr>\n    <tr>\n      <th>1</th>\n      <td>1632454835143360521</td>\n      <td>2022-04-26 04:09:08+00:00</td>\n      <td>2023-03-05 18:55:36+00:00</td>\n      <td>cjostein</td>\n      <td>RT @TruthPuke: #NATO military equipment in the...</td>\n      <td>Oslo</td>\n      <td>1042</td>\n      <td>207</td>\n      <td>90</td>\n      <td>15933</td>\n      <td>['TruthPuke']</td>\n      <td>TruthPuke</td>\n    </tr>\n    <tr>\n      <th>2</th>\n      <td>1632454826435960832</td>\n      <td>2015-08-20 23:12:55+00:00</td>\n      <td>2023-03-05 18:55:34+00:00</td>\n      <td>glyphfix</td>\n      <td>RT @thedailysummary: Russian shelling hits Ukr...</td>\n      <td>NaN</td>\n      <td>1379</td>\n      <td>430</td>\n      <td>1</td>\n      <td>45478</td>\n      <td>['thedailysummary', 'AP']</td>\n      <td>thedailysummary</td>\n    </tr>\n    <tr>\n      <th>3</th>\n      <td>1632454822300459008</td>\n      <td>2011-01-31 03:21:31+00:00</td>\n      <td>2023-03-05 18:55:33+00:00</td>\n      <td>clyntonK1</td>\n      <td>RT @intermarium24: Soldier gets awarded with g...</td>\n      <td>NaN</td>\n      <td>520</td>\n      <td>277</td>\n      <td>70</td>\n      <td>80587</td>\n      <td>['intermarium24']</td>\n      <td>intermarium24</td>\n    </tr>\n    <tr>\n      <th>4</th>\n      <td>1632454820605972482</td>\n      <td>2011-05-21 14:06:22+00:00</td>\n      <td>2023-03-05 18:55:33+00:00</td>\n      <td>LyndonRosser</td>\n      <td>RT @UAWeapons: #Ukraine: In the East, an aband...</td>\n      <td>Caerdydd/Hirwaun</td>\n      <td>2340</td>\n      <td>1717</td>\n      <td>32</td>\n      <td>399708</td>\n      <td>['UAWeapons']</td>\n      <td>UAWeapons</td>\n    </tr>\n    <tr>\n      <th>...</th>\n      <td>...</td>\n      <td>...</td>\n      <td>...</td>\n      <td>...</td>\n      <td>...</td>\n      <td>...</td>\n      <td>...</td>\n      <td>...</td>\n      <td>...</td>\n      <td>...</td>\n      <td>...</td>\n      <td>...</td>\n    </tr>\n    <tr>\n      <th>2845</th>\n      <td>1632448952799834114</td>\n      <td>2018-05-03 21:12:52+00:00</td>\n      <td>2023-03-05 18:32:14+00:00</td>\n      <td>carp40404</td>\n      <td>RT @nexta_tv: The war has caused 76.5 billion ...</td>\n      <td>NaN</td>\n      <td>4832</td>\n      <td>3251</td>\n      <td>72</td>\n      <td>56816</td>\n      <td>['nexta_tv']</td>\n      <td>nexta_tv</td>\n    </tr>\n    <tr>\n      <th>2846</th>\n      <td>1632448950899712003</td>\n      <td>2021-01-18 04:57:57+00:00</td>\n      <td>2023-03-05 18:32:13+00:00</td>\n      <td>AnjaJaeger2</td>\n      <td>RT @PStyle0ne1: Ukraine will receive more than...</td>\n      <td>Zürich, Schweiz</td>\n      <td>2211</td>\n      <td>984</td>\n      <td>25</td>\n      <td>80875</td>\n      <td>['PStyle0ne1']</td>\n      <td>PStyle0ne1</td>\n    </tr>\n    <tr>\n      <th>2847</th>\n      <td>1632448932549738497</td>\n      <td>2011-06-17 22:26:19+00:00</td>\n      <td>2023-03-05 18:32:09+00:00</td>\n      <td>bill_fortune</td>\n      <td>RT @ClearBlueSee: A woman leaves her abusive e...</td>\n      <td>Scotland</td>\n      <td>160</td>\n      <td>228</td>\n      <td>17</td>\n      <td>20845</td>\n      <td>['ClearBlueSee']</td>\n      <td>ClearBlueSee</td>\n    </tr>\n    <tr>\n      <th>2848</th>\n      <td>1632448925516042240</td>\n      <td>2008-11-30 17:35:36+00:00</td>\n      <td>2023-03-05 18:32:07+00:00</td>\n      <td>raouldukeesq</td>\n      <td>RT @GlasnostGone: Russia's killed #Ukraine's \"...</td>\n      <td>NaN</td>\n      <td>176</td>\n      <td>23</td>\n      <td>161</td>\n      <td>2229</td>\n      <td>['GlasnostGone']</td>\n      <td>GlasnostGone</td>\n    </tr>\n    <tr>\n      <th>2849</th>\n      <td>1632448922999193600</td>\n      <td>2014-05-10 21:20:51+00:00</td>\n      <td>2023-03-05 18:32:07+00:00</td>\n      <td>SolidarityRnwd</td>\n      <td>RT @KramarenkoMari3: Russia began using the ne...</td>\n      <td>Nottingham, England</td>\n      <td>3194</td>\n      <td>2965</td>\n      <td>57</td>\n      <td>170589</td>\n      <td>['KramarenkoMari3']</td>\n      <td>KramarenkoMari3</td>\n    </tr>\n  </tbody>\n</table>\n<p>2850 rows × 12 columns</p>\n</div>"
     },
     "execution_count": 9,
     "metadata": {},
     "output_type": "execute_result"
    }
   ],
   "source": [
    "df_ucraine_trolls = pd.read_csv('dataset_completo_bruto/dataset_completo_bruto_v3.0.csv')\n",
    "df_ucraine_trolls.reset_index(drop=True)"
   ]
  },
  {
   "cell_type": "code",
   "execution_count": 10,
   "outputs": [],
   "source": [
    "df_ucraine_trolls.to_csv(\"data_para_tabla.csv\")"
   ],
   "metadata": {
    "collapsed": false,
    "ExecuteTime": {
     "end_time": "2023-05-05T10:46:22.154584400Z",
     "start_time": "2023-05-05T10:46:22.106669800Z"
    }
   }
  },
  {
   "cell_type": "code",
   "execution_count": 5,
   "outputs": [
    {
     "data": {
      "text/plain": "0      2023-03-05 18:55:38+00:00\n1      2023-03-05 18:55:36+00:00\n2      2023-03-05 18:55:34+00:00\n3      2023-03-05 18:55:33+00:00\n4      2023-03-05 18:55:33+00:00\n                  ...           \n2845   2023-03-05 18:32:14+00:00\n2846   2023-03-05 18:32:13+00:00\n2847   2023-03-05 18:32:09+00:00\n2848   2023-03-05 18:32:07+00:00\n2849   2023-03-05 18:32:07+00:00\nName: Fecha_creacion_del_tweet, Length: 2850, dtype: datetime64[ns, UTC]"
     },
     "execution_count": 5,
     "metadata": {},
     "output_type": "execute_result"
    }
   ],
   "source": [
    "df_ucraine_trolls['Fecha_creacion_del_tweet'] = pd.to_datetime(df_ucraine_trolls['Fecha_creacion_del_tweet'])\n",
    "df_ucraine_trolls['Fecha_creacion_del_tweet']"
   ],
   "metadata": {
    "collapsed": false,
    "ExecuteTime": {
     "end_time": "2023-05-05T10:39:19.007000900Z",
     "start_time": "2023-05-05T10:39:18.959561300Z"
    }
   }
  },
  {
   "cell_type": "markdown",
   "source": [
    "## TRANSFORMACION PARA KPIS"
   ],
   "metadata": {
    "collapsed": false
   }
  },
  {
   "cell_type": "code",
   "execution_count": 8,
   "outputs": [
    {
     "data": {
      "text/plain": "numero_retweets    556353\ndtype: int64"
     },
     "execution_count": 8,
     "metadata": {},
     "output_type": "execute_result"
    }
   ],
   "source": [
    "retweets_list = df_ucraine_trolls['numero_retweets'].tolist()\n",
    "total_retweets = pd.DataFrame({'numero_retweets': retweets_list}).sum()\n",
    "total_retweets"
   ],
   "metadata": {
    "collapsed": false,
    "ExecuteTime": {
     "start_time": "2023-04-26T13:28:27.218069Z",
     "end_time": "2023-04-26T13:28:27.222970Z"
    }
   }
  },
  {
   "cell_type": "code",
   "execution_count": 9,
   "outputs": [],
   "source": [
    "total_retweets.to_json('retweets.json')"
   ],
   "metadata": {
    "collapsed": false,
    "ExecuteTime": {
     "start_time": "2023-04-26T13:28:28.817526Z",
     "end_time": "2023-04-26T13:28:28.824706Z"
    }
   }
  },
  {
   "cell_type": "markdown",
   "source": [
    "## TRANSFORMACION PARA TIME SERIES"
   ],
   "metadata": {
    "collapsed": false
   }
  },
  {
   "cell_type": "code",
   "execution_count": null,
   "outputs": [],
   "source": [],
   "metadata": {
    "collapsed": false
   }
  },
  {
   "cell_type": "code",
   "execution_count": 31,
   "outputs": [
    {
     "data": {
      "text/plain": "      Fecha_creacion_del_tweet   nombre_usuario  numero_retweets mes_y_anio\n0    2023-03-05 18:19:22+00:00        tcevans87               23   03 March\n1    2023-03-05 18:19:24+00:00    MarshWatching               23   03 March\n2    2023-03-05 18:19:24+00:00       juiceobox1             4229   03 March\n3    2023-03-05 18:19:34+00:00        HiHikeep4                0   03 March\n4    2023-03-05 18:19:36+00:00     bearbeardFIN               71   03 March\n...                        ...              ...              ...        ...\n1266 2023-03-05 19:06:33+00:00     YearsStrange               51   03 March\n1267 2023-03-05 19:06:37+00:00     totalplan_hu             4234   03 March\n1268 2023-03-05 19:06:39+00:00  JeanneMReinhart              640   03 March\n1269 2023-03-05 19:06:40+00:00          HewanHS               48   03 March\n1270 2023-03-05 19:06:45+00:00      G__Makowski               25   03 March\n\n[1271 rows x 4 columns]",
      "text/html": "<div>\n<style scoped>\n    .dataframe tbody tr th:only-of-type {\n        vertical-align: middle;\n    }\n\n    .dataframe tbody tr th {\n        vertical-align: top;\n    }\n\n    .dataframe thead th {\n        text-align: right;\n    }\n</style>\n<table border=\"1\" class=\"dataframe\">\n  <thead>\n    <tr style=\"text-align: right;\">\n      <th></th>\n      <th>Fecha_creacion_del_tweet</th>\n      <th>nombre_usuario</th>\n      <th>numero_retweets</th>\n      <th>mes_y_anio</th>\n    </tr>\n  </thead>\n  <tbody>\n    <tr>\n      <th>0</th>\n      <td>2023-03-05 18:19:22+00:00</td>\n      <td>tcevans87</td>\n      <td>23</td>\n      <td>03 March</td>\n    </tr>\n    <tr>\n      <th>1</th>\n      <td>2023-03-05 18:19:24+00:00</td>\n      <td>MarshWatching</td>\n      <td>23</td>\n      <td>03 March</td>\n    </tr>\n    <tr>\n      <th>2</th>\n      <td>2023-03-05 18:19:24+00:00</td>\n      <td>juiceobox1</td>\n      <td>4229</td>\n      <td>03 March</td>\n    </tr>\n    <tr>\n      <th>3</th>\n      <td>2023-03-05 18:19:34+00:00</td>\n      <td>HiHikeep4</td>\n      <td>0</td>\n      <td>03 March</td>\n    </tr>\n    <tr>\n      <th>4</th>\n      <td>2023-03-05 18:19:36+00:00</td>\n      <td>bearbeardFIN</td>\n      <td>71</td>\n      <td>03 March</td>\n    </tr>\n    <tr>\n      <th>...</th>\n      <td>...</td>\n      <td>...</td>\n      <td>...</td>\n      <td>...</td>\n    </tr>\n    <tr>\n      <th>1266</th>\n      <td>2023-03-05 19:06:33+00:00</td>\n      <td>YearsStrange</td>\n      <td>51</td>\n      <td>03 March</td>\n    </tr>\n    <tr>\n      <th>1267</th>\n      <td>2023-03-05 19:06:37+00:00</td>\n      <td>totalplan_hu</td>\n      <td>4234</td>\n      <td>03 March</td>\n    </tr>\n    <tr>\n      <th>1268</th>\n      <td>2023-03-05 19:06:39+00:00</td>\n      <td>JeanneMReinhart</td>\n      <td>640</td>\n      <td>03 March</td>\n    </tr>\n    <tr>\n      <th>1269</th>\n      <td>2023-03-05 19:06:40+00:00</td>\n      <td>HewanHS</td>\n      <td>48</td>\n      <td>03 March</td>\n    </tr>\n    <tr>\n      <th>1270</th>\n      <td>2023-03-05 19:06:45+00:00</td>\n      <td>G__Makowski</td>\n      <td>25</td>\n      <td>03 March</td>\n    </tr>\n  </tbody>\n</table>\n<p>1271 rows × 4 columns</p>\n</div>"
     },
     "execution_count": 31,
     "metadata": {},
     "output_type": "execute_result"
    }
   ],
   "source": [
    "time_series_tweets = df_ucraine_trolls.groupby(['Fecha_creacion_del_tweet', 'nombre_usuario'])['numero_retweets'].sum().reset_index()\n",
    "time_series_tweets = time_series_tweets.rename(columns={'fecha': 'fecha', 'nombre_usuario': 'nombre_usuario', 'retweets': 'numero_retweets'})\n",
    "\n",
    "time_series_tweets['mes_y_anio'] = time_series_tweets['Fecha_creacion_del_tweet'].apply(lambda x: datetime.strftime(x, '%m %B'))\n",
    "time_series_tweets"
   ],
   "metadata": {
    "collapsed": false,
    "ExecuteTime": {
     "start_time": "2023-04-26T14:13:14.341377Z",
     "end_time": "2023-04-26T14:13:14.360480Z"
    }
   }
  },
  {
   "cell_type": "code",
   "execution_count": 34,
   "outputs": [],
   "source": [
    "time_series_tweets.to_csv('time_series_tweets.csv')"
   ],
   "metadata": {
    "collapsed": false,
    "ExecuteTime": {
     "start_time": "2023-04-26T14:13:58.308718Z",
     "end_time": "2023-04-26T14:13:58.333698Z"
    }
   }
  },
  {
   "cell_type": "code",
   "execution_count": 35,
   "outputs": [],
   "source": [
    "time_series_tweets.to_json('time_series_tweets.json')"
   ],
   "metadata": {
    "collapsed": false,
    "ExecuteTime": {
     "start_time": "2023-04-26T14:13:59.995232Z",
     "end_time": "2023-04-26T14:13:59.999333Z"
    }
   }
  },
  {
   "cell_type": "markdown",
   "source": [
    "## TRANSFORMACION PARA GRAFICA DE BARRAS"
   ],
   "metadata": {
    "collapsed": false
   }
  }
 ],
 "metadata": {
  "kernelspec": {
   "display_name": "Python 3",
   "language": "python",
   "name": "python3"
  },
  "language_info": {
   "codemirror_mode": {
    "name": "ipython",
    "version": 2
   },
   "file_extension": ".py",
   "mimetype": "text/x-python",
   "name": "python",
   "nbconvert_exporter": "python",
   "pygments_lexer": "ipython2",
   "version": "2.7.6"
  }
 },
 "nbformat": 4,
 "nbformat_minor": 0
}
