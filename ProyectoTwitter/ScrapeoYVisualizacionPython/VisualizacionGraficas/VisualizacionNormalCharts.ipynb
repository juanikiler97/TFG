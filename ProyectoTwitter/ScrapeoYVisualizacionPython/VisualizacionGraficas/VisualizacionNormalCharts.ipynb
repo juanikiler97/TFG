{
 "cells": [
  {
   "cell_type": "markdown",
   "source": [
    "# VISUALIZACION Y ANALISIS DE TWEETS"
   ],
   "metadata": {
    "collapsed": false
   }
  },
  {
   "cell_type": "markdown",
   "source": [
    "### Aqui se crea diferentes graficos para visualizar los diferentes elementos que tiene nuestro dataset de twitter"
   ],
   "metadata": {
    "collapsed": false
   }
  },
  {
   "cell_type": "markdown",
   "source": [
    "### BAR-CHART VISUALIZATION"
   ],
   "metadata": {
    "collapsed": false
   }
  },
  {
   "cell_type": "markdown",
   "source": [
    "#### Se va a visualizar diferentes tipos de barchart:\n",
    "   ##### - Uno será de cantidad palabras repetidas\n",
    "   ##### - Otro será el cantidad de hastag\n",
    "   ##### - Otro será el de cantidad de tweets por persona"
   ],
   "metadata": {
    "collapsed": false
   }
  },
  {
   "cell_type": "markdown",
   "source": [
    "#### BAR-CHART PALABRAS REPETIDAS"
   ],
   "metadata": {
    "collapsed": false
   }
  },
  {
   "cell_type": "code",
   "execution_count": 1,
   "metadata": {
    "collapsed": true,
    "ExecuteTime": {
     "end_time": "2023-05-07T12:03:33.306379400Z",
     "start_time": "2023-05-07T12:03:13.102513900Z"
    }
   },
   "outputs": [
    {
     "ename": "ModuleNotFoundError",
     "evalue": "No module named 'nltk'",
     "output_type": "error",
     "traceback": [
      "\u001B[1;31m---------------------------------------------------------------------------\u001B[0m",
      "\u001B[1;31mModuleNotFoundError\u001B[0m                       Traceback (most recent call last)",
      "Cell \u001B[1;32mIn[1], line 4\u001B[0m\n\u001B[0;32m      2\u001B[0m \u001B[38;5;28;01mimport\u001B[39;00m \u001B[38;5;21;01mpandas\u001B[39;00m \u001B[38;5;28;01mas\u001B[39;00m \u001B[38;5;21;01mpd\u001B[39;00m\n\u001B[0;32m      3\u001B[0m \u001B[38;5;28;01mimport\u001B[39;00m \u001B[38;5;21;01mplotly\u001B[39;00m\u001B[38;5;21;01m.\u001B[39;00m\u001B[38;5;21;01mexpress\u001B[39;00m \u001B[38;5;28;01mas\u001B[39;00m \u001B[38;5;21;01mpx\u001B[39;00m\n\u001B[1;32m----> 4\u001B[0m \u001B[38;5;28;01mfrom\u001B[39;00m \u001B[38;5;21;01mnltk\u001B[39;00m\u001B[38;5;21;01m.\u001B[39;00m\u001B[38;5;21;01mtokenize\u001B[39;00m \u001B[38;5;28;01mimport\u001B[39;00m word_tokenize\n\u001B[0;32m      5\u001B[0m \u001B[38;5;28;01mimport\u001B[39;00m \u001B[38;5;21;01mnltk\u001B[39;00m\n\u001B[0;32m      6\u001B[0m nltk\u001B[38;5;241m.\u001B[39mdownload(\u001B[38;5;124m'\u001B[39m\u001B[38;5;124mstopwords\u001B[39m\u001B[38;5;124m'\u001B[39m)\n",
      "\u001B[1;31mModuleNotFoundError\u001B[0m: No module named 'nltk'"
     ]
    }
   ],
   "source": [
    "# Importamos las librerias\n",
    "import pandas as pd\n",
    "import plotly.express as px\n",
    "from nltk.tokenize import word_tokenize\n",
    "import nltk\n",
    "nltk.download('stopwords')\n",
    "nltk.download('punkt')\n",
    "from nltk.tokenize import word_tokenize\n",
    "from nltk.corpus import stopwords\n",
    "from collections import Counter\n",
    "import re\n",
    "from geopy.geocoders import Nominatim"
   ]
  },
  {
   "cell_type": "code",
   "execution_count": 2,
   "outputs": [
    {
     "data": {
      "text/plain": "                        id                                               text   \n0      1625928511364923423  RT @alicerauthor: Happy #Humpday! He's a #shif...  \\\n1      1625928501499920398  RT @DuezenTekkal: Ist die Bewegung für #JinJiy...   \n2      1625928498748456969  RT @jensstoltenberg: Good to meet President @A...   \n3      1625928494549958670  RT @DuezenTekkal: Ist die Bewegung für #JinJiy...   \n4      1625928491521671169  @avalaina right now giving a heartbreaking lec...   \n...                    ...                                                ...   \n16102  1625908601570095104  RT @ProfessorBellei: OTAN FAZ REVELAÇÃO ASSOMB...   \n16103  1625908601519845385  RT @TimesAlgebraIND: HUGE - Putin offers India...   \n16104  1625908600882311176  RT @Biz_Ukraine_Mag: CNBC has described the ma...   \n16105  1625908600391577630  RT @nexta_tv: #Lavrov: \"Attempts to isolate #R...   \n16106  1625908600186056729  RT @Maks_NAFO_FELLA: \"The tenth package of san...   \n\n       favorite_count  in_reply_to_status_id  in_reply_to_user_id   \n0                   0                    NaN                  NaN  \\\n1                   0                    NaN                  NaN   \n2                   0                    NaN                  NaN   \n3                   0                    NaN                  NaN   \n4                   0                    NaN           67934675.0   \n...               ...                    ...                  ...   \n16102               0                    NaN                  NaN   \n16103               0                    NaN                  NaN   \n16104               0                    NaN                  NaN   \n16105               0                    NaN                  NaN   \n16106               0                    NaN                  NaN   \n\n      in_reply_to_screen_name coordinates place lang   \n0                         NaN         NaN   NaN   en  \\\n1                         NaN         NaN   NaN   de   \n2                         NaN         NaN   NaN   en   \n3                         NaN         NaN   NaN   de   \n4                    avalaina         NaN   NaN   en   \n...                       ...         ...   ...  ...   \n16102                     NaN         NaN   NaN   pt   \n16103                     NaN         NaN   NaN   en   \n16104                     NaN         NaN   NaN   en   \n16105                     NaN         NaN   NaN   en   \n16106                     NaN         NaN   NaN   en   \n\n                                                entities  ...   \n0      {'hashtags': [{'text': 'Humpday', 'indices': [...  ...  \\\n1      {'hashtags': [{'text': 'JinJiyanAzadi', 'indic...  ...   \n2      {'hashtags': [{'text': 'Poland', 'indices': [7...  ...   \n3      {'hashtags': [{'text': 'JinJiyanAzadi', 'indic...  ...   \n4      {'hashtags': [{'text': 'ukraine', 'indices': [...  ...   \n...                                                  ...  ...   \n16102  {'hashtags': [], 'symbols': [], 'user_mentions...  ...   \n16103  {'hashtags': [], 'symbols': [], 'user_mentions...  ...   \n16104  {'hashtags': [], 'symbols': [], 'user_mentions...  ...   \n16105  {'hashtags': [{'text': 'Lavrov', 'indices': [1...  ...   \n16106  {'hashtags': [], 'symbols': [], 'user_mentions...  ...   \n\n                    user.name                   user.location   \n0                    Joy Wood                             NaN  \\\n1                       Shiva                             NaN   \n2                 Molly v. P.             Berlin, Deutschland   \n3                       Rey.D                             NaN   \n4                      Noreen                             NaN   \n...                       ...                             ...   \n16102          victor marques       Cabo Frio, Rio de Janeiro   \n16103  ❤ God bless everyone 🙏                             NaN   \n16104                   Тю-тю                             NaN   \n16105                   svppb  https://spacekaren.sucks/62axo   \n16106              M McDermid                             NaN   \n\n                                        user.description user.url   \n0      As a working nurse, I have been creating stori...      NaN  \\\n1                                                    NaN      NaN   \n2                                                    NaN      NaN   \n3                                                    NaN      NaN   \n4      Theologian and Philosopher. PhD.\\r\\nPostdoc @ ...      NaN   \n...                                                  ...      ...   \n16102  Cuidado, quem você segue, pode estar Perdido ....      NaN   \n16103                             RT is not Endorsement.      NaN   \n16104                                                NaN      NaN   \n16105                            https://t.co/RL5QV9MFOy      NaN   \n16106                                                NaN      NaN   \n\n      user.followers_count user.friends_count user.listed_count   \n0                    12515              11323               440  \\\n1                      265                267                 0   \n2                      217               1420                 0   \n3                        2                 68                 0   \n4                      176                980                 2   \n...                    ...                ...               ...   \n16102                 5759               6024                 4   \n16103                  194               1701                 6   \n16104                   56                126                 1   \n16105                   11                 84                 1   \n16106                  128                657                 3   \n\n                 user.created_at  user.favourites_count  user.verified  \n0      2015-07-30 22:02:57+00:00                   1335          False  \n1      2022-09-25 10:29:39+00:00                  21602          False  \n2      2019-12-18 12:28:43+00:00                  38252          False  \n3      2022-10-24 21:12:30+00:00                   2361          False  \n4      2020-02-15 11:14:13+00:00                   1196          False  \n...                          ...                    ...            ...  \n16102  2012-04-25 16:30:20+00:00                 232406          False  \n16103  2014-06-17 18:16:22+00:00                 149844          False  \n16104  2016-01-16 20:32:39+00:00                  87993          False  \n16105  2022-02-26 07:20:45+00:00                  22387          False  \n16106  2021-10-17 17:37:15+00:00                  34054          False  \n\n[16107 rows x 23 columns]",
      "text/html": "<div>\n<style scoped>\n    .dataframe tbody tr th:only-of-type {\n        vertical-align: middle;\n    }\n\n    .dataframe tbody tr th {\n        vertical-align: top;\n    }\n\n    .dataframe thead th {\n        text-align: right;\n    }\n</style>\n<table border=\"1\" class=\"dataframe\">\n  <thead>\n    <tr style=\"text-align: right;\">\n      <th></th>\n      <th>id</th>\n      <th>text</th>\n      <th>favorite_count</th>\n      <th>in_reply_to_status_id</th>\n      <th>in_reply_to_user_id</th>\n      <th>in_reply_to_screen_name</th>\n      <th>coordinates</th>\n      <th>place</th>\n      <th>lang</th>\n      <th>entities</th>\n      <th>...</th>\n      <th>user.name</th>\n      <th>user.location</th>\n      <th>user.description</th>\n      <th>user.url</th>\n      <th>user.followers_count</th>\n      <th>user.friends_count</th>\n      <th>user.listed_count</th>\n      <th>user.created_at</th>\n      <th>user.favourites_count</th>\n      <th>user.verified</th>\n    </tr>\n  </thead>\n  <tbody>\n    <tr>\n      <th>0</th>\n      <td>1625928511364923423</td>\n      <td>RT @alicerauthor: Happy #Humpday! He's a #shif...</td>\n      <td>0</td>\n      <td>NaN</td>\n      <td>NaN</td>\n      <td>NaN</td>\n      <td>NaN</td>\n      <td>NaN</td>\n      <td>en</td>\n      <td>{'hashtags': [{'text': 'Humpday', 'indices': [...</td>\n      <td>...</td>\n      <td>Joy Wood</td>\n      <td>NaN</td>\n      <td>As a working nurse, I have been creating stori...</td>\n      <td>NaN</td>\n      <td>12515</td>\n      <td>11323</td>\n      <td>440</td>\n      <td>2015-07-30 22:02:57+00:00</td>\n      <td>1335</td>\n      <td>False</td>\n    </tr>\n    <tr>\n      <th>1</th>\n      <td>1625928501499920398</td>\n      <td>RT @DuezenTekkal: Ist die Bewegung für #JinJiy...</td>\n      <td>0</td>\n      <td>NaN</td>\n      <td>NaN</td>\n      <td>NaN</td>\n      <td>NaN</td>\n      <td>NaN</td>\n      <td>de</td>\n      <td>{'hashtags': [{'text': 'JinJiyanAzadi', 'indic...</td>\n      <td>...</td>\n      <td>Shiva</td>\n      <td>NaN</td>\n      <td>NaN</td>\n      <td>NaN</td>\n      <td>265</td>\n      <td>267</td>\n      <td>0</td>\n      <td>2022-09-25 10:29:39+00:00</td>\n      <td>21602</td>\n      <td>False</td>\n    </tr>\n    <tr>\n      <th>2</th>\n      <td>1625928498748456969</td>\n      <td>RT @jensstoltenberg: Good to meet President @A...</td>\n      <td>0</td>\n      <td>NaN</td>\n      <td>NaN</td>\n      <td>NaN</td>\n      <td>NaN</td>\n      <td>NaN</td>\n      <td>en</td>\n      <td>{'hashtags': [{'text': 'Poland', 'indices': [7...</td>\n      <td>...</td>\n      <td>Molly v. P.</td>\n      <td>Berlin, Deutschland</td>\n      <td>NaN</td>\n      <td>NaN</td>\n      <td>217</td>\n      <td>1420</td>\n      <td>0</td>\n      <td>2019-12-18 12:28:43+00:00</td>\n      <td>38252</td>\n      <td>False</td>\n    </tr>\n    <tr>\n      <th>3</th>\n      <td>1625928494549958670</td>\n      <td>RT @DuezenTekkal: Ist die Bewegung für #JinJiy...</td>\n      <td>0</td>\n      <td>NaN</td>\n      <td>NaN</td>\n      <td>NaN</td>\n      <td>NaN</td>\n      <td>NaN</td>\n      <td>de</td>\n      <td>{'hashtags': [{'text': 'JinJiyanAzadi', 'indic...</td>\n      <td>...</td>\n      <td>Rey.D</td>\n      <td>NaN</td>\n      <td>NaN</td>\n      <td>NaN</td>\n      <td>2</td>\n      <td>68</td>\n      <td>0</td>\n      <td>2022-10-24 21:12:30+00:00</td>\n      <td>2361</td>\n      <td>False</td>\n    </tr>\n    <tr>\n      <th>4</th>\n      <td>1625928491521671169</td>\n      <td>@avalaina right now giving a heartbreaking lec...</td>\n      <td>0</td>\n      <td>NaN</td>\n      <td>67934675.0</td>\n      <td>avalaina</td>\n      <td>NaN</td>\n      <td>NaN</td>\n      <td>en</td>\n      <td>{'hashtags': [{'text': 'ukraine', 'indices': [...</td>\n      <td>...</td>\n      <td>Noreen</td>\n      <td>NaN</td>\n      <td>Theologian and Philosopher. PhD.\\r\\nPostdoc @ ...</td>\n      <td>NaN</td>\n      <td>176</td>\n      <td>980</td>\n      <td>2</td>\n      <td>2020-02-15 11:14:13+00:00</td>\n      <td>1196</td>\n      <td>False</td>\n    </tr>\n    <tr>\n      <th>...</th>\n      <td>...</td>\n      <td>...</td>\n      <td>...</td>\n      <td>...</td>\n      <td>...</td>\n      <td>...</td>\n      <td>...</td>\n      <td>...</td>\n      <td>...</td>\n      <td>...</td>\n      <td>...</td>\n      <td>...</td>\n      <td>...</td>\n      <td>...</td>\n      <td>...</td>\n      <td>...</td>\n      <td>...</td>\n      <td>...</td>\n      <td>...</td>\n      <td>...</td>\n      <td>...</td>\n    </tr>\n    <tr>\n      <th>16102</th>\n      <td>1625908601570095104</td>\n      <td>RT @ProfessorBellei: OTAN FAZ REVELAÇÃO ASSOMB...</td>\n      <td>0</td>\n      <td>NaN</td>\n      <td>NaN</td>\n      <td>NaN</td>\n      <td>NaN</td>\n      <td>NaN</td>\n      <td>pt</td>\n      <td>{'hashtags': [], 'symbols': [], 'user_mentions...</td>\n      <td>...</td>\n      <td>victor marques</td>\n      <td>Cabo Frio, Rio de Janeiro</td>\n      <td>Cuidado, quem você segue, pode estar Perdido ....</td>\n      <td>NaN</td>\n      <td>5759</td>\n      <td>6024</td>\n      <td>4</td>\n      <td>2012-04-25 16:30:20+00:00</td>\n      <td>232406</td>\n      <td>False</td>\n    </tr>\n    <tr>\n      <th>16103</th>\n      <td>1625908601519845385</td>\n      <td>RT @TimesAlgebraIND: HUGE - Putin offers India...</td>\n      <td>0</td>\n      <td>NaN</td>\n      <td>NaN</td>\n      <td>NaN</td>\n      <td>NaN</td>\n      <td>NaN</td>\n      <td>en</td>\n      <td>{'hashtags': [], 'symbols': [], 'user_mentions...</td>\n      <td>...</td>\n      <td>❤ God bless everyone 🙏</td>\n      <td>NaN</td>\n      <td>RT is not Endorsement.</td>\n      <td>NaN</td>\n      <td>194</td>\n      <td>1701</td>\n      <td>6</td>\n      <td>2014-06-17 18:16:22+00:00</td>\n      <td>149844</td>\n      <td>False</td>\n    </tr>\n    <tr>\n      <th>16104</th>\n      <td>1625908600882311176</td>\n      <td>RT @Biz_Ukraine_Mag: CNBC has described the ma...</td>\n      <td>0</td>\n      <td>NaN</td>\n      <td>NaN</td>\n      <td>NaN</td>\n      <td>NaN</td>\n      <td>NaN</td>\n      <td>en</td>\n      <td>{'hashtags': [], 'symbols': [], 'user_mentions...</td>\n      <td>...</td>\n      <td>Тю-тю</td>\n      <td>NaN</td>\n      <td>NaN</td>\n      <td>NaN</td>\n      <td>56</td>\n      <td>126</td>\n      <td>1</td>\n      <td>2016-01-16 20:32:39+00:00</td>\n      <td>87993</td>\n      <td>False</td>\n    </tr>\n    <tr>\n      <th>16105</th>\n      <td>1625908600391577630</td>\n      <td>RT @nexta_tv: #Lavrov: \"Attempts to isolate #R...</td>\n      <td>0</td>\n      <td>NaN</td>\n      <td>NaN</td>\n      <td>NaN</td>\n      <td>NaN</td>\n      <td>NaN</td>\n      <td>en</td>\n      <td>{'hashtags': [{'text': 'Lavrov', 'indices': [1...</td>\n      <td>...</td>\n      <td>svppb</td>\n      <td>https://spacekaren.sucks/62axo</td>\n      <td>https://t.co/RL5QV9MFOy</td>\n      <td>NaN</td>\n      <td>11</td>\n      <td>84</td>\n      <td>1</td>\n      <td>2022-02-26 07:20:45+00:00</td>\n      <td>22387</td>\n      <td>False</td>\n    </tr>\n    <tr>\n      <th>16106</th>\n      <td>1625908600186056729</td>\n      <td>RT @Maks_NAFO_FELLA: \"The tenth package of san...</td>\n      <td>0</td>\n      <td>NaN</td>\n      <td>NaN</td>\n      <td>NaN</td>\n      <td>NaN</td>\n      <td>NaN</td>\n      <td>en</td>\n      <td>{'hashtags': [], 'symbols': [], 'user_mentions...</td>\n      <td>...</td>\n      <td>M McDermid</td>\n      <td>NaN</td>\n      <td>NaN</td>\n      <td>NaN</td>\n      <td>128</td>\n      <td>657</td>\n      <td>3</td>\n      <td>2021-10-17 17:37:15+00:00</td>\n      <td>34054</td>\n      <td>False</td>\n    </tr>\n  </tbody>\n</table>\n<p>16107 rows × 23 columns</p>\n</div>"
     },
     "execution_count": 2,
     "metadata": {},
     "output_type": "execute_result"
    }
   ],
   "source": [
    "df_ucraine_tweets = pd.read_csv('dataset_completo_bruto/datos_tweets_bruto.csv')\n",
    "df_ucraine_tweets"
   ],
   "metadata": {
    "collapsed": false,
    "ExecuteTime": {
     "end_time": "2023-05-07T12:03:35.813346400Z",
     "start_time": "2023-05-07T12:03:35.583585100Z"
    }
   }
  },
  {
   "cell_type": "code",
   "execution_count": 3,
   "outputs": [
    {
     "data": {
      "text/plain": "                        id                                               text   \n0      1625928511364923423  RT @alicerauthor: Happy #Humpday! He's a #shif...  \\\n2      1625928498748456969  RT @jensstoltenberg: Good to meet President @A...   \n4      1625928491521671169  @avalaina right now giving a heartbreaking lec...   \n5      1625928491303567379  RT @intermarium24: 🏴󠁧󠁢󠁳󠁣󠁴󠁿🇬🇧Jonathan Shenkin, ...   \n6      1625928483145744384  RT @HudsonInstitute: .@mfa_russia #SergeyLavro...   \n...                    ...                                                ...   \n16101  1625908602132213761  RT @Sqeaky1149: It’s about bloody time to star...   \n16103  1625908601519845385  RT @TimesAlgebraIND: HUGE - Putin offers India...   \n16104  1625908600882311176  RT @Biz_Ukraine_Mag: CNBC has described the ma...   \n16105  1625908600391577630  RT @nexta_tv: #Lavrov: \"Attempts to isolate #R...   \n16106  1625908600186056729  RT @Maks_NAFO_FELLA: \"The tenth package of san...   \n\n       favorite_count  in_reply_to_status_id  in_reply_to_user_id   \n0                   0                    NaN                  NaN  \\\n2                   0                    NaN                  NaN   \n4                   0                    NaN           67934675.0   \n5                   0                    NaN                  NaN   \n6                   0                    NaN                  NaN   \n...               ...                    ...                  ...   \n16101               0                    NaN                  NaN   \n16103               0                    NaN                  NaN   \n16104               0                    NaN                  NaN   \n16105               0                    NaN                  NaN   \n16106               0                    NaN                  NaN   \n\n      in_reply_to_screen_name coordinates place lang   \n0                         NaN         NaN   NaN   en  \\\n2                         NaN         NaN   NaN   en   \n4                    avalaina         NaN   NaN   en   \n5                         NaN         NaN   NaN   en   \n6                         NaN         NaN   NaN   en   \n...                       ...         ...   ...  ...   \n16101                     NaN         NaN   NaN   en   \n16103                     NaN         NaN   NaN   en   \n16104                     NaN         NaN   NaN   en   \n16105                     NaN         NaN   NaN   en   \n16106                     NaN         NaN   NaN   en   \n\n                                                entities  ...   \n0      {'hashtags': [{'text': 'Humpday', 'indices': [...  ...  \\\n2      {'hashtags': [{'text': 'Poland', 'indices': [7...  ...   \n4      {'hashtags': [{'text': 'ukraine', 'indices': [...  ...   \n5      {'hashtags': [{'text': 'Ukraine', 'indices': [...  ...   \n6      {'hashtags': [{'text': 'SergeyLavrov', 'indice...  ...   \n...                                                  ...  ...   \n16101  {'hashtags': [], 'symbols': [], 'user_mentions...  ...   \n16103  {'hashtags': [], 'symbols': [], 'user_mentions...  ...   \n16104  {'hashtags': [], 'symbols': [], 'user_mentions...  ...   \n16105  {'hashtags': [{'text': 'Lavrov', 'indices': [1...  ...   \n16106  {'hashtags': [], 'symbols': [], 'user_mentions...  ...   \n\n                    user.name                   user.location   \n0                    Joy Wood                             NaN  \\\n2                 Molly v. P.             Berlin, Deutschland   \n4                      Noreen                             NaN   \n5              irene hartmann                         Germany   \n6                       James                             NaN   \n...                       ...                             ...   \n16101          Olga Kosarieva                             NaN   \n16103  ❤ God bless everyone 🙏                             NaN   \n16104                   Тю-тю                             NaN   \n16105                   svppb  https://spacekaren.sucks/62axo   \n16106              M McDermid                             NaN   \n\n                                        user.description user.url   \n0      As a working nurse, I have been creating stori...      NaN  \\\n2                                                    NaN      NaN   \n4      Theologian and Philosopher. PhD.\\r\\nPostdoc @ ...      NaN   \n5      wife, stepmother, grandmother, owner of an Iri...      NaN   \n6                                                    NaN      NaN   \n...                                                  ...      ...   \n16101  Не делайте мене нерві. Боты, адепты рюскага ми...      NaN   \n16103                             RT is not Endorsement.      NaN   \n16104                                                NaN      NaN   \n16105                            https://t.co/RL5QV9MFOy      NaN   \n16106                                                NaN      NaN   \n\n      user.followers_count user.friends_count user.listed_count   \n0                    12515              11323               440  \\\n2                      217               1420                 0   \n4                      176                980                 2   \n5                      104                977                 0   \n6                      247                295                 1   \n...                    ...                ...               ...   \n16101                  240                272                 6   \n16103                  194               1701                 6   \n16104                   56                126                 1   \n16105                   11                 84                 1   \n16106                  128                657                 3   \n\n                 user.created_at  user.favourites_count  user.verified  \n0      2015-07-30 22:02:57+00:00                   1335          False  \n2      2019-12-18 12:28:43+00:00                  38252          False  \n4      2020-02-15 11:14:13+00:00                   1196          False  \n5      2022-11-18 09:21:07+00:00                   5530          False  \n6      2022-08-03 17:55:29+00:00                  29535          False  \n...                          ...                    ...            ...  \n16101  2022-05-03 00:10:19+00:00                  31371          False  \n16103  2014-06-17 18:16:22+00:00                 149844          False  \n16104  2016-01-16 20:32:39+00:00                  87993          False  \n16105  2022-02-26 07:20:45+00:00                  22387          False  \n16106  2021-10-17 17:37:15+00:00                  34054          False  \n\n[11621 rows x 23 columns]",
      "text/html": "<div>\n<style scoped>\n    .dataframe tbody tr th:only-of-type {\n        vertical-align: middle;\n    }\n\n    .dataframe tbody tr th {\n        vertical-align: top;\n    }\n\n    .dataframe thead th {\n        text-align: right;\n    }\n</style>\n<table border=\"1\" class=\"dataframe\">\n  <thead>\n    <tr style=\"text-align: right;\">\n      <th></th>\n      <th>id</th>\n      <th>text</th>\n      <th>favorite_count</th>\n      <th>in_reply_to_status_id</th>\n      <th>in_reply_to_user_id</th>\n      <th>in_reply_to_screen_name</th>\n      <th>coordinates</th>\n      <th>place</th>\n      <th>lang</th>\n      <th>entities</th>\n      <th>...</th>\n      <th>user.name</th>\n      <th>user.location</th>\n      <th>user.description</th>\n      <th>user.url</th>\n      <th>user.followers_count</th>\n      <th>user.friends_count</th>\n      <th>user.listed_count</th>\n      <th>user.created_at</th>\n      <th>user.favourites_count</th>\n      <th>user.verified</th>\n    </tr>\n  </thead>\n  <tbody>\n    <tr>\n      <th>0</th>\n      <td>1625928511364923423</td>\n      <td>RT @alicerauthor: Happy #Humpday! He's a #shif...</td>\n      <td>0</td>\n      <td>NaN</td>\n      <td>NaN</td>\n      <td>NaN</td>\n      <td>NaN</td>\n      <td>NaN</td>\n      <td>en</td>\n      <td>{'hashtags': [{'text': 'Humpday', 'indices': [...</td>\n      <td>...</td>\n      <td>Joy Wood</td>\n      <td>NaN</td>\n      <td>As a working nurse, I have been creating stori...</td>\n      <td>NaN</td>\n      <td>12515</td>\n      <td>11323</td>\n      <td>440</td>\n      <td>2015-07-30 22:02:57+00:00</td>\n      <td>1335</td>\n      <td>False</td>\n    </tr>\n    <tr>\n      <th>2</th>\n      <td>1625928498748456969</td>\n      <td>RT @jensstoltenberg: Good to meet President @A...</td>\n      <td>0</td>\n      <td>NaN</td>\n      <td>NaN</td>\n      <td>NaN</td>\n      <td>NaN</td>\n      <td>NaN</td>\n      <td>en</td>\n      <td>{'hashtags': [{'text': 'Poland', 'indices': [7...</td>\n      <td>...</td>\n      <td>Molly v. P.</td>\n      <td>Berlin, Deutschland</td>\n      <td>NaN</td>\n      <td>NaN</td>\n      <td>217</td>\n      <td>1420</td>\n      <td>0</td>\n      <td>2019-12-18 12:28:43+00:00</td>\n      <td>38252</td>\n      <td>False</td>\n    </tr>\n    <tr>\n      <th>4</th>\n      <td>1625928491521671169</td>\n      <td>@avalaina right now giving a heartbreaking lec...</td>\n      <td>0</td>\n      <td>NaN</td>\n      <td>67934675.0</td>\n      <td>avalaina</td>\n      <td>NaN</td>\n      <td>NaN</td>\n      <td>en</td>\n      <td>{'hashtags': [{'text': 'ukraine', 'indices': [...</td>\n      <td>...</td>\n      <td>Noreen</td>\n      <td>NaN</td>\n      <td>Theologian and Philosopher. PhD.\\r\\nPostdoc @ ...</td>\n      <td>NaN</td>\n      <td>176</td>\n      <td>980</td>\n      <td>2</td>\n      <td>2020-02-15 11:14:13+00:00</td>\n      <td>1196</td>\n      <td>False</td>\n    </tr>\n    <tr>\n      <th>5</th>\n      <td>1625928491303567379</td>\n      <td>RT @intermarium24: 🏴󠁧󠁢󠁳󠁣󠁴󠁿🇬🇧Jonathan Shenkin, ...</td>\n      <td>0</td>\n      <td>NaN</td>\n      <td>NaN</td>\n      <td>NaN</td>\n      <td>NaN</td>\n      <td>NaN</td>\n      <td>en</td>\n      <td>{'hashtags': [{'text': 'Ukraine', 'indices': [...</td>\n      <td>...</td>\n      <td>irene hartmann</td>\n      <td>Germany</td>\n      <td>wife, stepmother, grandmother, owner of an Iri...</td>\n      <td>NaN</td>\n      <td>104</td>\n      <td>977</td>\n      <td>0</td>\n      <td>2022-11-18 09:21:07+00:00</td>\n      <td>5530</td>\n      <td>False</td>\n    </tr>\n    <tr>\n      <th>6</th>\n      <td>1625928483145744384</td>\n      <td>RT @HudsonInstitute: .@mfa_russia #SergeyLavro...</td>\n      <td>0</td>\n      <td>NaN</td>\n      <td>NaN</td>\n      <td>NaN</td>\n      <td>NaN</td>\n      <td>NaN</td>\n      <td>en</td>\n      <td>{'hashtags': [{'text': 'SergeyLavrov', 'indice...</td>\n      <td>...</td>\n      <td>James</td>\n      <td>NaN</td>\n      <td>NaN</td>\n      <td>NaN</td>\n      <td>247</td>\n      <td>295</td>\n      <td>1</td>\n      <td>2022-08-03 17:55:29+00:00</td>\n      <td>29535</td>\n      <td>False</td>\n    </tr>\n    <tr>\n      <th>...</th>\n      <td>...</td>\n      <td>...</td>\n      <td>...</td>\n      <td>...</td>\n      <td>...</td>\n      <td>...</td>\n      <td>...</td>\n      <td>...</td>\n      <td>...</td>\n      <td>...</td>\n      <td>...</td>\n      <td>...</td>\n      <td>...</td>\n      <td>...</td>\n      <td>...</td>\n      <td>...</td>\n      <td>...</td>\n      <td>...</td>\n      <td>...</td>\n      <td>...</td>\n      <td>...</td>\n    </tr>\n    <tr>\n      <th>16101</th>\n      <td>1625908602132213761</td>\n      <td>RT @Sqeaky1149: It’s about bloody time to star...</td>\n      <td>0</td>\n      <td>NaN</td>\n      <td>NaN</td>\n      <td>NaN</td>\n      <td>NaN</td>\n      <td>NaN</td>\n      <td>en</td>\n      <td>{'hashtags': [], 'symbols': [], 'user_mentions...</td>\n      <td>...</td>\n      <td>Olga Kosarieva</td>\n      <td>NaN</td>\n      <td>Не делайте мене нерві. Боты, адепты рюскага ми...</td>\n      <td>NaN</td>\n      <td>240</td>\n      <td>272</td>\n      <td>6</td>\n      <td>2022-05-03 00:10:19+00:00</td>\n      <td>31371</td>\n      <td>False</td>\n    </tr>\n    <tr>\n      <th>16103</th>\n      <td>1625908601519845385</td>\n      <td>RT @TimesAlgebraIND: HUGE - Putin offers India...</td>\n      <td>0</td>\n      <td>NaN</td>\n      <td>NaN</td>\n      <td>NaN</td>\n      <td>NaN</td>\n      <td>NaN</td>\n      <td>en</td>\n      <td>{'hashtags': [], 'symbols': [], 'user_mentions...</td>\n      <td>...</td>\n      <td>❤ God bless everyone 🙏</td>\n      <td>NaN</td>\n      <td>RT is not Endorsement.</td>\n      <td>NaN</td>\n      <td>194</td>\n      <td>1701</td>\n      <td>6</td>\n      <td>2014-06-17 18:16:22+00:00</td>\n      <td>149844</td>\n      <td>False</td>\n    </tr>\n    <tr>\n      <th>16104</th>\n      <td>1625908600882311176</td>\n      <td>RT @Biz_Ukraine_Mag: CNBC has described the ma...</td>\n      <td>0</td>\n      <td>NaN</td>\n      <td>NaN</td>\n      <td>NaN</td>\n      <td>NaN</td>\n      <td>NaN</td>\n      <td>en</td>\n      <td>{'hashtags': [], 'symbols': [], 'user_mentions...</td>\n      <td>...</td>\n      <td>Тю-тю</td>\n      <td>NaN</td>\n      <td>NaN</td>\n      <td>NaN</td>\n      <td>56</td>\n      <td>126</td>\n      <td>1</td>\n      <td>2016-01-16 20:32:39+00:00</td>\n      <td>87993</td>\n      <td>False</td>\n    </tr>\n    <tr>\n      <th>16105</th>\n      <td>1625908600391577630</td>\n      <td>RT @nexta_tv: #Lavrov: \"Attempts to isolate #R...</td>\n      <td>0</td>\n      <td>NaN</td>\n      <td>NaN</td>\n      <td>NaN</td>\n      <td>NaN</td>\n      <td>NaN</td>\n      <td>en</td>\n      <td>{'hashtags': [{'text': 'Lavrov', 'indices': [1...</td>\n      <td>...</td>\n      <td>svppb</td>\n      <td>https://spacekaren.sucks/62axo</td>\n      <td>https://t.co/RL5QV9MFOy</td>\n      <td>NaN</td>\n      <td>11</td>\n      <td>84</td>\n      <td>1</td>\n      <td>2022-02-26 07:20:45+00:00</td>\n      <td>22387</td>\n      <td>False</td>\n    </tr>\n    <tr>\n      <th>16106</th>\n      <td>1625908600186056729</td>\n      <td>RT @Maks_NAFO_FELLA: \"The tenth package of san...</td>\n      <td>0</td>\n      <td>NaN</td>\n      <td>NaN</td>\n      <td>NaN</td>\n      <td>NaN</td>\n      <td>NaN</td>\n      <td>en</td>\n      <td>{'hashtags': [], 'symbols': [], 'user_mentions...</td>\n      <td>...</td>\n      <td>M McDermid</td>\n      <td>NaN</td>\n      <td>NaN</td>\n      <td>NaN</td>\n      <td>128</td>\n      <td>657</td>\n      <td>3</td>\n      <td>2021-10-17 17:37:15+00:00</td>\n      <td>34054</td>\n      <td>False</td>\n    </tr>\n  </tbody>\n</table>\n<p>11621 rows × 23 columns</p>\n</div>"
     },
     "execution_count": 3,
     "metadata": {},
     "output_type": "execute_result"
    }
   ],
   "source": [
    "df_ukraine_dataset_en = df_ucraine_tweets[(df_ucraine_tweets.lang == 'en')]\n",
    "df_ukraine_dataset_en"
   ],
   "metadata": {
    "collapsed": false,
    "ExecuteTime": {
     "end_time": "2023-05-07T12:03:37.959531400Z",
     "start_time": "2023-05-07T12:03:37.936490300Z"
    }
   }
  },
  {
   "cell_type": "code",
   "execution_count": 4,
   "outputs": [
    {
     "data": {
      "text/plain": "                    user.name   \n0                    Joy Wood  \\\n2                 Molly v. P.   \n4                      Noreen   \n5              irene hartmann   \n6                       James   \n...                       ...   \n16101          Olga Kosarieva   \n16103  ❤ God bless everyone 🙏   \n16104                   Тю-тю   \n16105                   svppb   \n16106              M McDermid   \n\n                                                    text  \n0      RT @alicerauthor: Happy #Humpday! He's a #shif...  \n2      RT @jensstoltenberg: Good to meet President @A...  \n4      @avalaina right now giving a heartbreaking lec...  \n5      RT @intermarium24: 🏴󠁧󠁢󠁳󠁣󠁴󠁿🇬🇧Jonathan Shenkin, ...  \n6      RT @HudsonInstitute: .@mfa_russia #SergeyLavro...  \n...                                                  ...  \n16101  RT @Sqeaky1149: It’s about bloody time to star...  \n16103  RT @TimesAlgebraIND: HUGE - Putin offers India...  \n16104  RT @Biz_Ukraine_Mag: CNBC has described the ma...  \n16105  RT @nexta_tv: #Lavrov: \"Attempts to isolate #R...  \n16106  RT @Maks_NAFO_FELLA: \"The tenth package of san...  \n\n[11621 rows x 2 columns]",
      "text/html": "<div>\n<style scoped>\n    .dataframe tbody tr th:only-of-type {\n        vertical-align: middle;\n    }\n\n    .dataframe tbody tr th {\n        vertical-align: top;\n    }\n\n    .dataframe thead th {\n        text-align: right;\n    }\n</style>\n<table border=\"1\" class=\"dataframe\">\n  <thead>\n    <tr style=\"text-align: right;\">\n      <th></th>\n      <th>user.name</th>\n      <th>text</th>\n    </tr>\n  </thead>\n  <tbody>\n    <tr>\n      <th>0</th>\n      <td>Joy Wood</td>\n      <td>RT @alicerauthor: Happy #Humpday! He's a #shif...</td>\n    </tr>\n    <tr>\n      <th>2</th>\n      <td>Molly v. P.</td>\n      <td>RT @jensstoltenberg: Good to meet President @A...</td>\n    </tr>\n    <tr>\n      <th>4</th>\n      <td>Noreen</td>\n      <td>@avalaina right now giving a heartbreaking lec...</td>\n    </tr>\n    <tr>\n      <th>5</th>\n      <td>irene hartmann</td>\n      <td>RT @intermarium24: 🏴󠁧󠁢󠁳󠁣󠁴󠁿🇬🇧Jonathan Shenkin, ...</td>\n    </tr>\n    <tr>\n      <th>6</th>\n      <td>James</td>\n      <td>RT @HudsonInstitute: .@mfa_russia #SergeyLavro...</td>\n    </tr>\n    <tr>\n      <th>...</th>\n      <td>...</td>\n      <td>...</td>\n    </tr>\n    <tr>\n      <th>16101</th>\n      <td>Olga Kosarieva</td>\n      <td>RT @Sqeaky1149: It’s about bloody time to star...</td>\n    </tr>\n    <tr>\n      <th>16103</th>\n      <td>❤ God bless everyone 🙏</td>\n      <td>RT @TimesAlgebraIND: HUGE - Putin offers India...</td>\n    </tr>\n    <tr>\n      <th>16104</th>\n      <td>Тю-тю</td>\n      <td>RT @Biz_Ukraine_Mag: CNBC has described the ma...</td>\n    </tr>\n    <tr>\n      <th>16105</th>\n      <td>svppb</td>\n      <td>RT @nexta_tv: #Lavrov: \"Attempts to isolate #R...</td>\n    </tr>\n    <tr>\n      <th>16106</th>\n      <td>M McDermid</td>\n      <td>RT @Maks_NAFO_FELLA: \"The tenth package of san...</td>\n    </tr>\n  </tbody>\n</table>\n<p>11621 rows × 2 columns</p>\n</div>"
     },
     "execution_count": 4,
     "metadata": {},
     "output_type": "execute_result"
    }
   ],
   "source": [
    "df_ucraine_tweets_filtrado = df_ukraine_dataset_en[['user.name','text']]\n",
    "df_ucraine_tweets_filtrado"
   ],
   "metadata": {
    "collapsed": false,
    "ExecuteTime": {
     "end_time": "2023-05-07T12:03:40.948991500Z",
     "start_time": "2023-05-07T12:03:40.941435100Z"
    }
   }
  },
  {
   "cell_type": "code",
   "execution_count": 5,
   "outputs": [
    {
     "data": {
      "text/plain": "              Palabra  Frecuencia\n0                  RT        8568\n1                 the        6432\n2                  to        4373\n3                  in        3899\n4                  of        3726\n5                   a        3345\n6                  is        3142\n7                 and        2763\n8              Russia        2443\n9                  on        2407\n10           #Ukraine        1793\n11                for        1431\n12            Russian        1333\n13               that        1319\n14           Russia's        1293\n15               with        1255\n16                The        1243\n17                 by        1237\n18               Nord        1140\n19             Stream        1118\n20             attack        1066\n21           European        1061\n22                not        1053\n23                USA        1025\n24         journalist        1017\n25            winning        1008\n26            Wallace         994\n27               Mick         990\n28                 MP         989\n29  @KanekoaTheGreat:         987\n30           condemns         986\n31          pipeline:         986\n32               Sey…         985\n33    \"Pulitzer-Prize         985\n34                war         892\n35          Ukrainian         872\n36            Ukraine         850\n37               this         803\n38                has         797\n39                was         794\n40               will         742\n41                are         733\n42               from         702\n43                 be         669\n44              Trump         662\n45              Putin         657\n46                his         648\n47                  -         646\n48                 US         586\n49                 as         573",
      "text/html": "<div>\n<style scoped>\n    .dataframe tbody tr th:only-of-type {\n        vertical-align: middle;\n    }\n\n    .dataframe tbody tr th {\n        vertical-align: top;\n    }\n\n    .dataframe thead th {\n        text-align: right;\n    }\n</style>\n<table border=\"1\" class=\"dataframe\">\n  <thead>\n    <tr style=\"text-align: right;\">\n      <th></th>\n      <th>Palabra</th>\n      <th>Frecuencia</th>\n    </tr>\n  </thead>\n  <tbody>\n    <tr>\n      <th>0</th>\n      <td>RT</td>\n      <td>8568</td>\n    </tr>\n    <tr>\n      <th>1</th>\n      <td>the</td>\n      <td>6432</td>\n    </tr>\n    <tr>\n      <th>2</th>\n      <td>to</td>\n      <td>4373</td>\n    </tr>\n    <tr>\n      <th>3</th>\n      <td>in</td>\n      <td>3899</td>\n    </tr>\n    <tr>\n      <th>4</th>\n      <td>of</td>\n      <td>3726</td>\n    </tr>\n    <tr>\n      <th>5</th>\n      <td>a</td>\n      <td>3345</td>\n    </tr>\n    <tr>\n      <th>6</th>\n      <td>is</td>\n      <td>3142</td>\n    </tr>\n    <tr>\n      <th>7</th>\n      <td>and</td>\n      <td>2763</td>\n    </tr>\n    <tr>\n      <th>8</th>\n      <td>Russia</td>\n      <td>2443</td>\n    </tr>\n    <tr>\n      <th>9</th>\n      <td>on</td>\n      <td>2407</td>\n    </tr>\n    <tr>\n      <th>10</th>\n      <td>#Ukraine</td>\n      <td>1793</td>\n    </tr>\n    <tr>\n      <th>11</th>\n      <td>for</td>\n      <td>1431</td>\n    </tr>\n    <tr>\n      <th>12</th>\n      <td>Russian</td>\n      <td>1333</td>\n    </tr>\n    <tr>\n      <th>13</th>\n      <td>that</td>\n      <td>1319</td>\n    </tr>\n    <tr>\n      <th>14</th>\n      <td>Russia's</td>\n      <td>1293</td>\n    </tr>\n    <tr>\n      <th>15</th>\n      <td>with</td>\n      <td>1255</td>\n    </tr>\n    <tr>\n      <th>16</th>\n      <td>The</td>\n      <td>1243</td>\n    </tr>\n    <tr>\n      <th>17</th>\n      <td>by</td>\n      <td>1237</td>\n    </tr>\n    <tr>\n      <th>18</th>\n      <td>Nord</td>\n      <td>1140</td>\n    </tr>\n    <tr>\n      <th>19</th>\n      <td>Stream</td>\n      <td>1118</td>\n    </tr>\n    <tr>\n      <th>20</th>\n      <td>attack</td>\n      <td>1066</td>\n    </tr>\n    <tr>\n      <th>21</th>\n      <td>European</td>\n      <td>1061</td>\n    </tr>\n    <tr>\n      <th>22</th>\n      <td>not</td>\n      <td>1053</td>\n    </tr>\n    <tr>\n      <th>23</th>\n      <td>USA</td>\n      <td>1025</td>\n    </tr>\n    <tr>\n      <th>24</th>\n      <td>journalist</td>\n      <td>1017</td>\n    </tr>\n    <tr>\n      <th>25</th>\n      <td>winning</td>\n      <td>1008</td>\n    </tr>\n    <tr>\n      <th>26</th>\n      <td>Wallace</td>\n      <td>994</td>\n    </tr>\n    <tr>\n      <th>27</th>\n      <td>Mick</td>\n      <td>990</td>\n    </tr>\n    <tr>\n      <th>28</th>\n      <td>MP</td>\n      <td>989</td>\n    </tr>\n    <tr>\n      <th>29</th>\n      <td>@KanekoaTheGreat:</td>\n      <td>987</td>\n    </tr>\n    <tr>\n      <th>30</th>\n      <td>condemns</td>\n      <td>986</td>\n    </tr>\n    <tr>\n      <th>31</th>\n      <td>pipeline:</td>\n      <td>986</td>\n    </tr>\n    <tr>\n      <th>32</th>\n      <td>Sey…</td>\n      <td>985</td>\n    </tr>\n    <tr>\n      <th>33</th>\n      <td>\"Pulitzer-Prize</td>\n      <td>985</td>\n    </tr>\n    <tr>\n      <th>34</th>\n      <td>war</td>\n      <td>892</td>\n    </tr>\n    <tr>\n      <th>35</th>\n      <td>Ukrainian</td>\n      <td>872</td>\n    </tr>\n    <tr>\n      <th>36</th>\n      <td>Ukraine</td>\n      <td>850</td>\n    </tr>\n    <tr>\n      <th>37</th>\n      <td>this</td>\n      <td>803</td>\n    </tr>\n    <tr>\n      <th>38</th>\n      <td>has</td>\n      <td>797</td>\n    </tr>\n    <tr>\n      <th>39</th>\n      <td>was</td>\n      <td>794</td>\n    </tr>\n    <tr>\n      <th>40</th>\n      <td>will</td>\n      <td>742</td>\n    </tr>\n    <tr>\n      <th>41</th>\n      <td>are</td>\n      <td>733</td>\n    </tr>\n    <tr>\n      <th>42</th>\n      <td>from</td>\n      <td>702</td>\n    </tr>\n    <tr>\n      <th>43</th>\n      <td>be</td>\n      <td>669</td>\n    </tr>\n    <tr>\n      <th>44</th>\n      <td>Trump</td>\n      <td>662</td>\n    </tr>\n    <tr>\n      <th>45</th>\n      <td>Putin</td>\n      <td>657</td>\n    </tr>\n    <tr>\n      <th>46</th>\n      <td>his</td>\n      <td>648</td>\n    </tr>\n    <tr>\n      <th>47</th>\n      <td>-</td>\n      <td>646</td>\n    </tr>\n    <tr>\n      <th>48</th>\n      <td>US</td>\n      <td>586</td>\n    </tr>\n    <tr>\n      <th>49</th>\n      <td>as</td>\n      <td>573</td>\n    </tr>\n  </tbody>\n</table>\n</div>"
     },
     "execution_count": 5,
     "metadata": {},
     "output_type": "execute_result"
    }
   ],
   "source": [
    "df_ucraine_tweets_filtrado_conteo_palabras = pd.Series(' '.join(df_ucraine_tweets_filtrado.text).split()).value_counts().reset_index()[:50]\n",
    "df_ucraine_tweets_filtrado_conteo_palabras = df_ucraine_tweets_filtrado_conteo_palabras.rename(columns={\"index\": \"Palabra\", 'count': \"Frecuencia\"})\n",
    "df_ucraine_tweets_filtrado_conteo_palabras"
   ],
   "metadata": {
    "collapsed": false,
    "ExecuteTime": {
     "end_time": "2023-05-07T12:03:44.066059900Z",
     "start_time": "2023-05-07T12:03:44.038607500Z"
    }
   }
  },
  {
   "cell_type": "code",
   "execution_count": 41,
   "outputs": [
    {
     "data": {
      "application/vnd.plotly.v1+json": {
       "data": [
        {
         "alignmentgroup": "True",
         "hovertemplate": "Palabra=%{x}<br>Frecuencia=%{marker.color}<extra></extra>",
         "legendgroup": "",
         "marker": {
          "color": [
           8568,
           6432,
           4373,
           3899,
           3726,
           3345,
           3142,
           2763,
           2443,
           2407,
           1793,
           1431,
           1333,
           1319,
           1293,
           1255,
           1243,
           1237,
           1140,
           1118,
           1066,
           1061,
           1053,
           1025,
           1017,
           1008,
           994,
           990,
           989,
           987,
           986,
           986,
           985,
           985,
           892,
           872,
           850,
           803,
           797,
           794,
           742,
           733,
           702,
           669,
           662,
           657,
           648,
           646,
           586,
           573
          ],
          "coloraxis": "coloraxis",
          "pattern": {
           "shape": ""
          }
         },
         "name": "",
         "offsetgroup": "",
         "orientation": "v",
         "showlegend": false,
         "textposition": "auto",
         "x": [
          "RT",
          "the",
          "to",
          "in",
          "of",
          "a",
          "is",
          "and",
          "Russia",
          "on",
          "#Ukraine",
          "for",
          "Russian",
          "that",
          "Russia's",
          "with",
          "The",
          "by",
          "Nord",
          "Stream",
          "attack",
          "European",
          "not",
          "USA",
          "journalist",
          "winning",
          "Wallace",
          "Mick",
          "MP",
          "@KanekoaTheGreat:",
          "condemns",
          "pipeline:",
          "Sey…",
          "\"Pulitzer-Prize",
          "war",
          "Ukrainian",
          "Ukraine",
          "this",
          "has",
          "was",
          "will",
          "are",
          "from",
          "be",
          "Trump",
          "Putin",
          "his",
          "-",
          "US",
          "as"
         ],
         "xaxis": "x",
         "y": [
          8568,
          6432,
          4373,
          3899,
          3726,
          3345,
          3142,
          2763,
          2443,
          2407,
          1793,
          1431,
          1333,
          1319,
          1293,
          1255,
          1243,
          1237,
          1140,
          1118,
          1066,
          1061,
          1053,
          1025,
          1017,
          1008,
          994,
          990,
          989,
          987,
          986,
          986,
          985,
          985,
          892,
          872,
          850,
          803,
          797,
          794,
          742,
          733,
          702,
          669,
          662,
          657,
          648,
          646,
          586,
          573
         ],
         "yaxis": "y",
         "type": "bar"
        }
       ],
       "layout": {
        "template": {
         "data": {
          "histogram2dcontour": [
           {
            "type": "histogram2dcontour",
            "colorbar": {
             "outlinewidth": 0,
             "ticks": ""
            },
            "colorscale": [
             [
              0.0,
              "#0d0887"
             ],
             [
              0.1111111111111111,
              "#46039f"
             ],
             [
              0.2222222222222222,
              "#7201a8"
             ],
             [
              0.3333333333333333,
              "#9c179e"
             ],
             [
              0.4444444444444444,
              "#bd3786"
             ],
             [
              0.5555555555555556,
              "#d8576b"
             ],
             [
              0.6666666666666666,
              "#ed7953"
             ],
             [
              0.7777777777777778,
              "#fb9f3a"
             ],
             [
              0.8888888888888888,
              "#fdca26"
             ],
             [
              1.0,
              "#f0f921"
             ]
            ]
           }
          ],
          "choropleth": [
           {
            "type": "choropleth",
            "colorbar": {
             "outlinewidth": 0,
             "ticks": ""
            }
           }
          ],
          "histogram2d": [
           {
            "type": "histogram2d",
            "colorbar": {
             "outlinewidth": 0,
             "ticks": ""
            },
            "colorscale": [
             [
              0.0,
              "#0d0887"
             ],
             [
              0.1111111111111111,
              "#46039f"
             ],
             [
              0.2222222222222222,
              "#7201a8"
             ],
             [
              0.3333333333333333,
              "#9c179e"
             ],
             [
              0.4444444444444444,
              "#bd3786"
             ],
             [
              0.5555555555555556,
              "#d8576b"
             ],
             [
              0.6666666666666666,
              "#ed7953"
             ],
             [
              0.7777777777777778,
              "#fb9f3a"
             ],
             [
              0.8888888888888888,
              "#fdca26"
             ],
             [
              1.0,
              "#f0f921"
             ]
            ]
           }
          ],
          "heatmap": [
           {
            "type": "heatmap",
            "colorbar": {
             "outlinewidth": 0,
             "ticks": ""
            },
            "colorscale": [
             [
              0.0,
              "#0d0887"
             ],
             [
              0.1111111111111111,
              "#46039f"
             ],
             [
              0.2222222222222222,
              "#7201a8"
             ],
             [
              0.3333333333333333,
              "#9c179e"
             ],
             [
              0.4444444444444444,
              "#bd3786"
             ],
             [
              0.5555555555555556,
              "#d8576b"
             ],
             [
              0.6666666666666666,
              "#ed7953"
             ],
             [
              0.7777777777777778,
              "#fb9f3a"
             ],
             [
              0.8888888888888888,
              "#fdca26"
             ],
             [
              1.0,
              "#f0f921"
             ]
            ]
           }
          ],
          "heatmapgl": [
           {
            "type": "heatmapgl",
            "colorbar": {
             "outlinewidth": 0,
             "ticks": ""
            },
            "colorscale": [
             [
              0.0,
              "#0d0887"
             ],
             [
              0.1111111111111111,
              "#46039f"
             ],
             [
              0.2222222222222222,
              "#7201a8"
             ],
             [
              0.3333333333333333,
              "#9c179e"
             ],
             [
              0.4444444444444444,
              "#bd3786"
             ],
             [
              0.5555555555555556,
              "#d8576b"
             ],
             [
              0.6666666666666666,
              "#ed7953"
             ],
             [
              0.7777777777777778,
              "#fb9f3a"
             ],
             [
              0.8888888888888888,
              "#fdca26"
             ],
             [
              1.0,
              "#f0f921"
             ]
            ]
           }
          ],
          "contourcarpet": [
           {
            "type": "contourcarpet",
            "colorbar": {
             "outlinewidth": 0,
             "ticks": ""
            }
           }
          ],
          "contour": [
           {
            "type": "contour",
            "colorbar": {
             "outlinewidth": 0,
             "ticks": ""
            },
            "colorscale": [
             [
              0.0,
              "#0d0887"
             ],
             [
              0.1111111111111111,
              "#46039f"
             ],
             [
              0.2222222222222222,
              "#7201a8"
             ],
             [
              0.3333333333333333,
              "#9c179e"
             ],
             [
              0.4444444444444444,
              "#bd3786"
             ],
             [
              0.5555555555555556,
              "#d8576b"
             ],
             [
              0.6666666666666666,
              "#ed7953"
             ],
             [
              0.7777777777777778,
              "#fb9f3a"
             ],
             [
              0.8888888888888888,
              "#fdca26"
             ],
             [
              1.0,
              "#f0f921"
             ]
            ]
           }
          ],
          "surface": [
           {
            "type": "surface",
            "colorbar": {
             "outlinewidth": 0,
             "ticks": ""
            },
            "colorscale": [
             [
              0.0,
              "#0d0887"
             ],
             [
              0.1111111111111111,
              "#46039f"
             ],
             [
              0.2222222222222222,
              "#7201a8"
             ],
             [
              0.3333333333333333,
              "#9c179e"
             ],
             [
              0.4444444444444444,
              "#bd3786"
             ],
             [
              0.5555555555555556,
              "#d8576b"
             ],
             [
              0.6666666666666666,
              "#ed7953"
             ],
             [
              0.7777777777777778,
              "#fb9f3a"
             ],
             [
              0.8888888888888888,
              "#fdca26"
             ],
             [
              1.0,
              "#f0f921"
             ]
            ]
           }
          ],
          "mesh3d": [
           {
            "type": "mesh3d",
            "colorbar": {
             "outlinewidth": 0,
             "ticks": ""
            }
           }
          ],
          "scatter": [
           {
            "marker": {
             "line": {
              "color": "#283442"
             }
            },
            "type": "scatter"
           }
          ],
          "parcoords": [
           {
            "type": "parcoords",
            "line": {
             "colorbar": {
              "outlinewidth": 0,
              "ticks": ""
             }
            }
           }
          ],
          "scatterpolargl": [
           {
            "type": "scatterpolargl",
            "marker": {
             "colorbar": {
              "outlinewidth": 0,
              "ticks": ""
             }
            }
           }
          ],
          "bar": [
           {
            "error_x": {
             "color": "#f2f5fa"
            },
            "error_y": {
             "color": "#f2f5fa"
            },
            "marker": {
             "line": {
              "color": "rgb(17,17,17)",
              "width": 0.5
             },
             "pattern": {
              "fillmode": "overlay",
              "size": 10,
              "solidity": 0.2
             }
            },
            "type": "bar"
           }
          ],
          "scattergeo": [
           {
            "type": "scattergeo",
            "marker": {
             "colorbar": {
              "outlinewidth": 0,
              "ticks": ""
             }
            }
           }
          ],
          "scatterpolar": [
           {
            "type": "scatterpolar",
            "marker": {
             "colorbar": {
              "outlinewidth": 0,
              "ticks": ""
             }
            }
           }
          ],
          "histogram": [
           {
            "marker": {
             "pattern": {
              "fillmode": "overlay",
              "size": 10,
              "solidity": 0.2
             }
            },
            "type": "histogram"
           }
          ],
          "scattergl": [
           {
            "marker": {
             "line": {
              "color": "#283442"
             }
            },
            "type": "scattergl"
           }
          ],
          "scatter3d": [
           {
            "type": "scatter3d",
            "line": {
             "colorbar": {
              "outlinewidth": 0,
              "ticks": ""
             }
            },
            "marker": {
             "colorbar": {
              "outlinewidth": 0,
              "ticks": ""
             }
            }
           }
          ],
          "scattermapbox": [
           {
            "type": "scattermapbox",
            "marker": {
             "colorbar": {
              "outlinewidth": 0,
              "ticks": ""
             }
            }
           }
          ],
          "scatterternary": [
           {
            "type": "scatterternary",
            "marker": {
             "colorbar": {
              "outlinewidth": 0,
              "ticks": ""
             }
            }
           }
          ],
          "scattercarpet": [
           {
            "type": "scattercarpet",
            "marker": {
             "colorbar": {
              "outlinewidth": 0,
              "ticks": ""
             }
            }
           }
          ],
          "carpet": [
           {
            "aaxis": {
             "endlinecolor": "#A2B1C6",
             "gridcolor": "#506784",
             "linecolor": "#506784",
             "minorgridcolor": "#506784",
             "startlinecolor": "#A2B1C6"
            },
            "baxis": {
             "endlinecolor": "#A2B1C6",
             "gridcolor": "#506784",
             "linecolor": "#506784",
             "minorgridcolor": "#506784",
             "startlinecolor": "#A2B1C6"
            },
            "type": "carpet"
           }
          ],
          "table": [
           {
            "cells": {
             "fill": {
              "color": "#506784"
             },
             "line": {
              "color": "rgb(17,17,17)"
             }
            },
            "header": {
             "fill": {
              "color": "#2a3f5f"
             },
             "line": {
              "color": "rgb(17,17,17)"
             }
            },
            "type": "table"
           }
          ],
          "barpolar": [
           {
            "marker": {
             "line": {
              "color": "rgb(17,17,17)",
              "width": 0.5
             },
             "pattern": {
              "fillmode": "overlay",
              "size": 10,
              "solidity": 0.2
             }
            },
            "type": "barpolar"
           }
          ],
          "pie": [
           {
            "automargin": true,
            "type": "pie"
           }
          ]
         },
         "layout": {
          "autotypenumbers": "strict",
          "colorway": [
           "#636efa",
           "#EF553B",
           "#00cc96",
           "#ab63fa",
           "#FFA15A",
           "#19d3f3",
           "#FF6692",
           "#B6E880",
           "#FF97FF",
           "#FECB52"
          ],
          "font": {
           "color": "#f2f5fa"
          },
          "hovermode": "closest",
          "hoverlabel": {
           "align": "left"
          },
          "paper_bgcolor": "rgb(17,17,17)",
          "plot_bgcolor": "rgb(17,17,17)",
          "polar": {
           "bgcolor": "rgb(17,17,17)",
           "angularaxis": {
            "gridcolor": "#506784",
            "linecolor": "#506784",
            "ticks": ""
           },
           "radialaxis": {
            "gridcolor": "#506784",
            "linecolor": "#506784",
            "ticks": ""
           }
          },
          "ternary": {
           "bgcolor": "rgb(17,17,17)",
           "aaxis": {
            "gridcolor": "#506784",
            "linecolor": "#506784",
            "ticks": ""
           },
           "baxis": {
            "gridcolor": "#506784",
            "linecolor": "#506784",
            "ticks": ""
           },
           "caxis": {
            "gridcolor": "#506784",
            "linecolor": "#506784",
            "ticks": ""
           }
          },
          "coloraxis": {
           "colorbar": {
            "outlinewidth": 0,
            "ticks": ""
           }
          },
          "colorscale": {
           "sequential": [
            [
             0.0,
             "#0d0887"
            ],
            [
             0.1111111111111111,
             "#46039f"
            ],
            [
             0.2222222222222222,
             "#7201a8"
            ],
            [
             0.3333333333333333,
             "#9c179e"
            ],
            [
             0.4444444444444444,
             "#bd3786"
            ],
            [
             0.5555555555555556,
             "#d8576b"
            ],
            [
             0.6666666666666666,
             "#ed7953"
            ],
            [
             0.7777777777777778,
             "#fb9f3a"
            ],
            [
             0.8888888888888888,
             "#fdca26"
            ],
            [
             1.0,
             "#f0f921"
            ]
           ],
           "sequentialminus": [
            [
             0.0,
             "#0d0887"
            ],
            [
             0.1111111111111111,
             "#46039f"
            ],
            [
             0.2222222222222222,
             "#7201a8"
            ],
            [
             0.3333333333333333,
             "#9c179e"
            ],
            [
             0.4444444444444444,
             "#bd3786"
            ],
            [
             0.5555555555555556,
             "#d8576b"
            ],
            [
             0.6666666666666666,
             "#ed7953"
            ],
            [
             0.7777777777777778,
             "#fb9f3a"
            ],
            [
             0.8888888888888888,
             "#fdca26"
            ],
            [
             1.0,
             "#f0f921"
            ]
           ],
           "diverging": [
            [
             0,
             "#8e0152"
            ],
            [
             0.1,
             "#c51b7d"
            ],
            [
             0.2,
             "#de77ae"
            ],
            [
             0.3,
             "#f1b6da"
            ],
            [
             0.4,
             "#fde0ef"
            ],
            [
             0.5,
             "#f7f7f7"
            ],
            [
             0.6,
             "#e6f5d0"
            ],
            [
             0.7,
             "#b8e186"
            ],
            [
             0.8,
             "#7fbc41"
            ],
            [
             0.9,
             "#4d9221"
            ],
            [
             1,
             "#276419"
            ]
           ]
          },
          "xaxis": {
           "gridcolor": "#283442",
           "linecolor": "#506784",
           "ticks": "",
           "title": {
            "standoff": 15
           },
           "zerolinecolor": "#283442",
           "automargin": true,
           "zerolinewidth": 2
          },
          "yaxis": {
           "gridcolor": "#283442",
           "linecolor": "#506784",
           "ticks": "",
           "title": {
            "standoff": 15
           },
           "zerolinecolor": "#283442",
           "automargin": true,
           "zerolinewidth": 2
          },
          "scene": {
           "xaxis": {
            "backgroundcolor": "rgb(17,17,17)",
            "gridcolor": "#506784",
            "linecolor": "#506784",
            "showbackground": true,
            "ticks": "",
            "zerolinecolor": "#C8D4E3",
            "gridwidth": 2
           },
           "yaxis": {
            "backgroundcolor": "rgb(17,17,17)",
            "gridcolor": "#506784",
            "linecolor": "#506784",
            "showbackground": true,
            "ticks": "",
            "zerolinecolor": "#C8D4E3",
            "gridwidth": 2
           },
           "zaxis": {
            "backgroundcolor": "rgb(17,17,17)",
            "gridcolor": "#506784",
            "linecolor": "#506784",
            "showbackground": true,
            "ticks": "",
            "zerolinecolor": "#C8D4E3",
            "gridwidth": 2
           }
          },
          "shapedefaults": {
           "line": {
            "color": "#f2f5fa"
           }
          },
          "annotationdefaults": {
           "arrowcolor": "#f2f5fa",
           "arrowhead": 0,
           "arrowwidth": 1
          },
          "geo": {
           "bgcolor": "rgb(17,17,17)",
           "landcolor": "rgb(17,17,17)",
           "subunitcolor": "#506784",
           "showland": true,
           "showlakes": true,
           "lakecolor": "rgb(17,17,17)"
          },
          "title": {
           "x": 0.05
          },
          "updatemenudefaults": {
           "bgcolor": "#506784",
           "borderwidth": 0
          },
          "sliderdefaults": {
           "bgcolor": "#C8D4E3",
           "borderwidth": 1,
           "bordercolor": "rgb(17,17,17)",
           "tickwidth": 0
          },
          "mapbox": {
           "style": "dark"
          }
         }
        },
        "xaxis": {
         "anchor": "y",
         "domain": [
          0.0,
          1.0
         ],
         "title": {
          "text": "Palabra"
         }
        },
        "yaxis": {
         "anchor": "x",
         "domain": [
          0.0,
          1.0
         ],
         "title": {
          "text": "Frecuencia"
         }
        },
        "coloraxis": {
         "colorbar": {
          "title": {
           "text": "Frecuencia"
          }
         },
         "colorscale": [
          [
           0.0,
           "#0d0887"
          ],
          [
           0.1111111111111111,
           "#46039f"
          ],
          [
           0.2222222222222222,
           "#7201a8"
          ],
          [
           0.3333333333333333,
           "#9c179e"
          ],
          [
           0.4444444444444444,
           "#bd3786"
          ],
          [
           0.5555555555555556,
           "#d8576b"
          ],
          [
           0.6666666666666666,
           "#ed7953"
          ],
          [
           0.7777777777777778,
           "#fb9f3a"
          ],
          [
           0.8888888888888888,
           "#fdca26"
          ],
          [
           1.0,
           "#f0f921"
          ]
         ]
        },
        "legend": {
         "tracegroupgap": 0
        },
        "margin": {
         "t": 60
        },
        "barmode": "relative",
        "height": 1000
       },
       "config": {
        "plotlyServerURL": "https://plot.ly"
       }
      },
      "text/html": "<div>                            <div id=\"08e46507-b579-4c18-a99c-959cb7b2aec9\" class=\"plotly-graph-div\" style=\"height:1000px; width:100%;\"></div>            <script type=\"text/javascript\">                require([\"plotly\"], function(Plotly) {                    window.PLOTLYENV=window.PLOTLYENV || {};                                    if (document.getElementById(\"08e46507-b579-4c18-a99c-959cb7b2aec9\")) {                    Plotly.newPlot(                        \"08e46507-b579-4c18-a99c-959cb7b2aec9\",                        [{\"alignmentgroup\":\"True\",\"hovertemplate\":\"Palabra=%{x}<br>Frecuencia=%{marker.color}<extra></extra>\",\"legendgroup\":\"\",\"marker\":{\"color\":[8568,6432,4373,3899,3726,3345,3142,2763,2443,2407,1793,1431,1333,1319,1293,1255,1243,1237,1140,1118,1066,1061,1053,1025,1017,1008,994,990,989,987,986,986,985,985,892,872,850,803,797,794,742,733,702,669,662,657,648,646,586,573],\"coloraxis\":\"coloraxis\",\"pattern\":{\"shape\":\"\"}},\"name\":\"\",\"offsetgroup\":\"\",\"orientation\":\"v\",\"showlegend\":false,\"textposition\":\"auto\",\"x\":[\"RT\",\"the\",\"to\",\"in\",\"of\",\"a\",\"is\",\"and\",\"Russia\",\"on\",\"#Ukraine\",\"for\",\"Russian\",\"that\",\"Russia's\",\"with\",\"The\",\"by\",\"Nord\",\"Stream\",\"attack\",\"European\",\"not\",\"USA\",\"journalist\",\"winning\",\"Wallace\",\"Mick\",\"MP\",\"@KanekoaTheGreat:\",\"condemns\",\"pipeline:\",\"Sey\\u2026\",\"\\\"Pulitzer-Prize\",\"war\",\"Ukrainian\",\"Ukraine\",\"this\",\"has\",\"was\",\"will\",\"are\",\"from\",\"be\",\"Trump\",\"Putin\",\"his\",\"-\",\"US\",\"as\"],\"xaxis\":\"x\",\"y\":[8568,6432,4373,3899,3726,3345,3142,2763,2443,2407,1793,1431,1333,1319,1293,1255,1243,1237,1140,1118,1066,1061,1053,1025,1017,1008,994,990,989,987,986,986,985,985,892,872,850,803,797,794,742,733,702,669,662,657,648,646,586,573],\"yaxis\":\"y\",\"type\":\"bar\"}],                        {\"template\":{\"data\":{\"histogram2dcontour\":[{\"type\":\"histogram2dcontour\",\"colorbar\":{\"outlinewidth\":0,\"ticks\":\"\"},\"colorscale\":[[0.0,\"#0d0887\"],[0.1111111111111111,\"#46039f\"],[0.2222222222222222,\"#7201a8\"],[0.3333333333333333,\"#9c179e\"],[0.4444444444444444,\"#bd3786\"],[0.5555555555555556,\"#d8576b\"],[0.6666666666666666,\"#ed7953\"],[0.7777777777777778,\"#fb9f3a\"],[0.8888888888888888,\"#fdca26\"],[1.0,\"#f0f921\"]]}],\"choropleth\":[{\"type\":\"choropleth\",\"colorbar\":{\"outlinewidth\":0,\"ticks\":\"\"}}],\"histogram2d\":[{\"type\":\"histogram2d\",\"colorbar\":{\"outlinewidth\":0,\"ticks\":\"\"},\"colorscale\":[[0.0,\"#0d0887\"],[0.1111111111111111,\"#46039f\"],[0.2222222222222222,\"#7201a8\"],[0.3333333333333333,\"#9c179e\"],[0.4444444444444444,\"#bd3786\"],[0.5555555555555556,\"#d8576b\"],[0.6666666666666666,\"#ed7953\"],[0.7777777777777778,\"#fb9f3a\"],[0.8888888888888888,\"#fdca26\"],[1.0,\"#f0f921\"]]}],\"heatmap\":[{\"type\":\"heatmap\",\"colorbar\":{\"outlinewidth\":0,\"ticks\":\"\"},\"colorscale\":[[0.0,\"#0d0887\"],[0.1111111111111111,\"#46039f\"],[0.2222222222222222,\"#7201a8\"],[0.3333333333333333,\"#9c179e\"],[0.4444444444444444,\"#bd3786\"],[0.5555555555555556,\"#d8576b\"],[0.6666666666666666,\"#ed7953\"],[0.7777777777777778,\"#fb9f3a\"],[0.8888888888888888,\"#fdca26\"],[1.0,\"#f0f921\"]]}],\"heatmapgl\":[{\"type\":\"heatmapgl\",\"colorbar\":{\"outlinewidth\":0,\"ticks\":\"\"},\"colorscale\":[[0.0,\"#0d0887\"],[0.1111111111111111,\"#46039f\"],[0.2222222222222222,\"#7201a8\"],[0.3333333333333333,\"#9c179e\"],[0.4444444444444444,\"#bd3786\"],[0.5555555555555556,\"#d8576b\"],[0.6666666666666666,\"#ed7953\"],[0.7777777777777778,\"#fb9f3a\"],[0.8888888888888888,\"#fdca26\"],[1.0,\"#f0f921\"]]}],\"contourcarpet\":[{\"type\":\"contourcarpet\",\"colorbar\":{\"outlinewidth\":0,\"ticks\":\"\"}}],\"contour\":[{\"type\":\"contour\",\"colorbar\":{\"outlinewidth\":0,\"ticks\":\"\"},\"colorscale\":[[0.0,\"#0d0887\"],[0.1111111111111111,\"#46039f\"],[0.2222222222222222,\"#7201a8\"],[0.3333333333333333,\"#9c179e\"],[0.4444444444444444,\"#bd3786\"],[0.5555555555555556,\"#d8576b\"],[0.6666666666666666,\"#ed7953\"],[0.7777777777777778,\"#fb9f3a\"],[0.8888888888888888,\"#fdca26\"],[1.0,\"#f0f921\"]]}],\"surface\":[{\"type\":\"surface\",\"colorbar\":{\"outlinewidth\":0,\"ticks\":\"\"},\"colorscale\":[[0.0,\"#0d0887\"],[0.1111111111111111,\"#46039f\"],[0.2222222222222222,\"#7201a8\"],[0.3333333333333333,\"#9c179e\"],[0.4444444444444444,\"#bd3786\"],[0.5555555555555556,\"#d8576b\"],[0.6666666666666666,\"#ed7953\"],[0.7777777777777778,\"#fb9f3a\"],[0.8888888888888888,\"#fdca26\"],[1.0,\"#f0f921\"]]}],\"mesh3d\":[{\"type\":\"mesh3d\",\"colorbar\":{\"outlinewidth\":0,\"ticks\":\"\"}}],\"scatter\":[{\"marker\":{\"line\":{\"color\":\"#283442\"}},\"type\":\"scatter\"}],\"parcoords\":[{\"type\":\"parcoords\",\"line\":{\"colorbar\":{\"outlinewidth\":0,\"ticks\":\"\"}}}],\"scatterpolargl\":[{\"type\":\"scatterpolargl\",\"marker\":{\"colorbar\":{\"outlinewidth\":0,\"ticks\":\"\"}}}],\"bar\":[{\"error_x\":{\"color\":\"#f2f5fa\"},\"error_y\":{\"color\":\"#f2f5fa\"},\"marker\":{\"line\":{\"color\":\"rgb(17,17,17)\",\"width\":0.5},\"pattern\":{\"fillmode\":\"overlay\",\"size\":10,\"solidity\":0.2}},\"type\":\"bar\"}],\"scattergeo\":[{\"type\":\"scattergeo\",\"marker\":{\"colorbar\":{\"outlinewidth\":0,\"ticks\":\"\"}}}],\"scatterpolar\":[{\"type\":\"scatterpolar\",\"marker\":{\"colorbar\":{\"outlinewidth\":0,\"ticks\":\"\"}}}],\"histogram\":[{\"marker\":{\"pattern\":{\"fillmode\":\"overlay\",\"size\":10,\"solidity\":0.2}},\"type\":\"histogram\"}],\"scattergl\":[{\"marker\":{\"line\":{\"color\":\"#283442\"}},\"type\":\"scattergl\"}],\"scatter3d\":[{\"type\":\"scatter3d\",\"line\":{\"colorbar\":{\"outlinewidth\":0,\"ticks\":\"\"}},\"marker\":{\"colorbar\":{\"outlinewidth\":0,\"ticks\":\"\"}}}],\"scattermapbox\":[{\"type\":\"scattermapbox\",\"marker\":{\"colorbar\":{\"outlinewidth\":0,\"ticks\":\"\"}}}],\"scatterternary\":[{\"type\":\"scatterternary\",\"marker\":{\"colorbar\":{\"outlinewidth\":0,\"ticks\":\"\"}}}],\"scattercarpet\":[{\"type\":\"scattercarpet\",\"marker\":{\"colorbar\":{\"outlinewidth\":0,\"ticks\":\"\"}}}],\"carpet\":[{\"aaxis\":{\"endlinecolor\":\"#A2B1C6\",\"gridcolor\":\"#506784\",\"linecolor\":\"#506784\",\"minorgridcolor\":\"#506784\",\"startlinecolor\":\"#A2B1C6\"},\"baxis\":{\"endlinecolor\":\"#A2B1C6\",\"gridcolor\":\"#506784\",\"linecolor\":\"#506784\",\"minorgridcolor\":\"#506784\",\"startlinecolor\":\"#A2B1C6\"},\"type\":\"carpet\"}],\"table\":[{\"cells\":{\"fill\":{\"color\":\"#506784\"},\"line\":{\"color\":\"rgb(17,17,17)\"}},\"header\":{\"fill\":{\"color\":\"#2a3f5f\"},\"line\":{\"color\":\"rgb(17,17,17)\"}},\"type\":\"table\"}],\"barpolar\":[{\"marker\":{\"line\":{\"color\":\"rgb(17,17,17)\",\"width\":0.5},\"pattern\":{\"fillmode\":\"overlay\",\"size\":10,\"solidity\":0.2}},\"type\":\"barpolar\"}],\"pie\":[{\"automargin\":true,\"type\":\"pie\"}]},\"layout\":{\"autotypenumbers\":\"strict\",\"colorway\":[\"#636efa\",\"#EF553B\",\"#00cc96\",\"#ab63fa\",\"#FFA15A\",\"#19d3f3\",\"#FF6692\",\"#B6E880\",\"#FF97FF\",\"#FECB52\"],\"font\":{\"color\":\"#f2f5fa\"},\"hovermode\":\"closest\",\"hoverlabel\":{\"align\":\"left\"},\"paper_bgcolor\":\"rgb(17,17,17)\",\"plot_bgcolor\":\"rgb(17,17,17)\",\"polar\":{\"bgcolor\":\"rgb(17,17,17)\",\"angularaxis\":{\"gridcolor\":\"#506784\",\"linecolor\":\"#506784\",\"ticks\":\"\"},\"radialaxis\":{\"gridcolor\":\"#506784\",\"linecolor\":\"#506784\",\"ticks\":\"\"}},\"ternary\":{\"bgcolor\":\"rgb(17,17,17)\",\"aaxis\":{\"gridcolor\":\"#506784\",\"linecolor\":\"#506784\",\"ticks\":\"\"},\"baxis\":{\"gridcolor\":\"#506784\",\"linecolor\":\"#506784\",\"ticks\":\"\"},\"caxis\":{\"gridcolor\":\"#506784\",\"linecolor\":\"#506784\",\"ticks\":\"\"}},\"coloraxis\":{\"colorbar\":{\"outlinewidth\":0,\"ticks\":\"\"}},\"colorscale\":{\"sequential\":[[0.0,\"#0d0887\"],[0.1111111111111111,\"#46039f\"],[0.2222222222222222,\"#7201a8\"],[0.3333333333333333,\"#9c179e\"],[0.4444444444444444,\"#bd3786\"],[0.5555555555555556,\"#d8576b\"],[0.6666666666666666,\"#ed7953\"],[0.7777777777777778,\"#fb9f3a\"],[0.8888888888888888,\"#fdca26\"],[1.0,\"#f0f921\"]],\"sequentialminus\":[[0.0,\"#0d0887\"],[0.1111111111111111,\"#46039f\"],[0.2222222222222222,\"#7201a8\"],[0.3333333333333333,\"#9c179e\"],[0.4444444444444444,\"#bd3786\"],[0.5555555555555556,\"#d8576b\"],[0.6666666666666666,\"#ed7953\"],[0.7777777777777778,\"#fb9f3a\"],[0.8888888888888888,\"#fdca26\"],[1.0,\"#f0f921\"]],\"diverging\":[[0,\"#8e0152\"],[0.1,\"#c51b7d\"],[0.2,\"#de77ae\"],[0.3,\"#f1b6da\"],[0.4,\"#fde0ef\"],[0.5,\"#f7f7f7\"],[0.6,\"#e6f5d0\"],[0.7,\"#b8e186\"],[0.8,\"#7fbc41\"],[0.9,\"#4d9221\"],[1,\"#276419\"]]},\"xaxis\":{\"gridcolor\":\"#283442\",\"linecolor\":\"#506784\",\"ticks\":\"\",\"title\":{\"standoff\":15},\"zerolinecolor\":\"#283442\",\"automargin\":true,\"zerolinewidth\":2},\"yaxis\":{\"gridcolor\":\"#283442\",\"linecolor\":\"#506784\",\"ticks\":\"\",\"title\":{\"standoff\":15},\"zerolinecolor\":\"#283442\",\"automargin\":true,\"zerolinewidth\":2},\"scene\":{\"xaxis\":{\"backgroundcolor\":\"rgb(17,17,17)\",\"gridcolor\":\"#506784\",\"linecolor\":\"#506784\",\"showbackground\":true,\"ticks\":\"\",\"zerolinecolor\":\"#C8D4E3\",\"gridwidth\":2},\"yaxis\":{\"backgroundcolor\":\"rgb(17,17,17)\",\"gridcolor\":\"#506784\",\"linecolor\":\"#506784\",\"showbackground\":true,\"ticks\":\"\",\"zerolinecolor\":\"#C8D4E3\",\"gridwidth\":2},\"zaxis\":{\"backgroundcolor\":\"rgb(17,17,17)\",\"gridcolor\":\"#506784\",\"linecolor\":\"#506784\",\"showbackground\":true,\"ticks\":\"\",\"zerolinecolor\":\"#C8D4E3\",\"gridwidth\":2}},\"shapedefaults\":{\"line\":{\"color\":\"#f2f5fa\"}},\"annotationdefaults\":{\"arrowcolor\":\"#f2f5fa\",\"arrowhead\":0,\"arrowwidth\":1},\"geo\":{\"bgcolor\":\"rgb(17,17,17)\",\"landcolor\":\"rgb(17,17,17)\",\"subunitcolor\":\"#506784\",\"showland\":true,\"showlakes\":true,\"lakecolor\":\"rgb(17,17,17)\"},\"title\":{\"x\":0.05},\"updatemenudefaults\":{\"bgcolor\":\"#506784\",\"borderwidth\":0},\"sliderdefaults\":{\"bgcolor\":\"#C8D4E3\",\"borderwidth\":1,\"bordercolor\":\"rgb(17,17,17)\",\"tickwidth\":0},\"mapbox\":{\"style\":\"dark\"}}},\"xaxis\":{\"anchor\":\"y\",\"domain\":[0.0,1.0],\"title\":{\"text\":\"Palabra\"}},\"yaxis\":{\"anchor\":\"x\",\"domain\":[0.0,1.0],\"title\":{\"text\":\"Frecuencia\"}},\"coloraxis\":{\"colorbar\":{\"title\":{\"text\":\"Frecuencia\"}},\"colorscale\":[[0.0,\"#0d0887\"],[0.1111111111111111,\"#46039f\"],[0.2222222222222222,\"#7201a8\"],[0.3333333333333333,\"#9c179e\"],[0.4444444444444444,\"#bd3786\"],[0.5555555555555556,\"#d8576b\"],[0.6666666666666666,\"#ed7953\"],[0.7777777777777778,\"#fb9f3a\"],[0.8888888888888888,\"#fdca26\"],[1.0,\"#f0f921\"]]},\"legend\":{\"tracegroupgap\":0},\"margin\":{\"t\":60},\"barmode\":\"relative\",\"height\":1000},                        {\"responsive\": true}                    ).then(function(){\n                            \nvar gd = document.getElementById('08e46507-b579-4c18-a99c-959cb7b2aec9');\nvar x = new MutationObserver(function (mutations, observer) {{\n        var display = window.getComputedStyle(gd).display;\n        if (!display || display === 'none') {{\n            console.log([gd, 'removed!']);\n            Plotly.purge(gd);\n            observer.disconnect();\n        }}\n}});\n\n// Listen for the removal of the full notebook cells\nvar notebookContainer = gd.closest('#notebook-container');\nif (notebookContainer) {{\n    x.observe(notebookContainer, {childList: true});\n}}\n\n// Listen for the clearing of the current output cell\nvar outputEl = gd.closest('.output');\nif (outputEl) {{\n    x.observe(outputEl, {childList: true});\n}}\n\n                        })                };                });            </script>        </div>"
     },
     "metadata": {},
     "output_type": "display_data"
    }
   ],
   "source": [
    "# Dibujar un bar chart en plotly la frecuencia de las palabras\n",
    "fig = px.bar(df_ucraine_tweets_filtrado_conteo_palabras, x = 'Palabra', y = 'Frecuencia',color='Frecuencia',height=1000)\n",
    "fig.show()"
   ],
   "metadata": {
    "collapsed": false,
    "ExecuteTime": {
     "start_time": "2023-04-26T11:30:47.695753Z",
     "end_time": "2023-04-26T11:30:47.839855Z"
    }
   }
  },
  {
   "cell_type": "markdown",
   "source": [
    "### Como podemos observar nos sale una gráfica con poca informacion (palabras que no da sentido como 'in' o'-'), asi que se limpiará el dataframe para coger las palabras mas importantes"
   ],
   "metadata": {
    "collapsed": false
   }
  },
  {
   "cell_type": "code",
   "execution_count": 42,
   "outputs": [
    {
     "name": "stderr",
     "output_type": "stream",
     "text": [
      "C:\\Users\\EVEN\\AppData\\Local\\Temp\\ipykernel_9240\\1041852232.py:1: SettingWithCopyWarning:\n",
      "\n",
      "\n",
      "A value is trying to be set on a copy of a slice from a DataFrame.\n",
      "Try using .loc[row_indexer,col_indexer] = value instead\n",
      "\n",
      "See the caveats in the documentation: https://pandas.pydata.org/pandas-docs/stable/user_guide/indexing.html#returning-a-view-versus-a-copy\n",
      "\n"
     ]
    },
    {
     "data": {
      "text/plain": "                    user.name   \n0                    Joy Wood  \\\n2                 Molly v. P.   \n4                      Noreen   \n5              irene hartmann   \n6                       James   \n...                       ...   \n16101          Olga Kosarieva   \n16103  ❤ God bless everyone 🙏   \n16104                   Тю-тю   \n16105                   svppb   \n16106              M McDermid   \n\n                                                    text   \n0      RT @alicerauthor: Happy #Humpday! He's a #shif...  \\\n2      RT @jensstoltenberg: Good to meet President @A...   \n4      @avalaina right now giving a heartbreaking lec...   \n5      RT @intermarium24: 🏴󠁧󠁢󠁳󠁣󠁴󠁿🇬🇧Jonathan Shenkin, ...   \n6      RT @HudsonInstitute: .@mfa_russia #SergeyLavro...   \n...                                                  ...   \n16101  RT @Sqeaky1149: It’s about bloody time to star...   \n16103  RT @TimesAlgebraIND: HUGE - Putin offers India...   \n16104  RT @Biz_Ukraine_Mag: CNBC has described the ma...   \n16105  RT @nexta_tv: #Lavrov: \"Attempts to isolate #R...   \n16106  RT @Maks_NAFO_FELLA: \"The tenth package of san...   \n\n                                             text_edited  \n0      RT @alicerauthor: Happy #Humpday! He's a #shif...  \n2      RT @jensstoltenberg: Good to meet President @A...  \n4      @avalaina right now giving a heartbreaking lec...  \n5      RT @intermarium24: 🏴󠁧󠁢󠁳󠁣󠁴󠁿🇬🇧Jonathan Shenkin, ...  \n6      RT @HudsonInstitute: .@mfa_russia #SergeyLavro...  \n...                                                  ...  \n16101  RT @Sqeaky1149: It’s about bloody time to star...  \n16103  RT @TimesAlgebraIND: HUGE - Putin offers India...  \n16104  RT @Biz_Ukraine_Mag: CNBC has described the ma...  \n16105  RT @nexta_tv: #Lavrov: \"Attempts to isolate #R...  \n16106  RT @Maks_NAFO_FELLA: \"The tenth package of san...  \n\n[11621 rows x 3 columns]",
      "text/html": "<div>\n<style scoped>\n    .dataframe tbody tr th:only-of-type {\n        vertical-align: middle;\n    }\n\n    .dataframe tbody tr th {\n        vertical-align: top;\n    }\n\n    .dataframe thead th {\n        text-align: right;\n    }\n</style>\n<table border=\"1\" class=\"dataframe\">\n  <thead>\n    <tr style=\"text-align: right;\">\n      <th></th>\n      <th>user.name</th>\n      <th>text</th>\n      <th>text_edited</th>\n    </tr>\n  </thead>\n  <tbody>\n    <tr>\n      <th>0</th>\n      <td>Joy Wood</td>\n      <td>RT @alicerauthor: Happy #Humpday! He's a #shif...</td>\n      <td>RT @alicerauthor: Happy #Humpday! He's a #shif...</td>\n    </tr>\n    <tr>\n      <th>2</th>\n      <td>Molly v. P.</td>\n      <td>RT @jensstoltenberg: Good to meet President @A...</td>\n      <td>RT @jensstoltenberg: Good to meet President @A...</td>\n    </tr>\n    <tr>\n      <th>4</th>\n      <td>Noreen</td>\n      <td>@avalaina right now giving a heartbreaking lec...</td>\n      <td>@avalaina right now giving a heartbreaking lec...</td>\n    </tr>\n    <tr>\n      <th>5</th>\n      <td>irene hartmann</td>\n      <td>RT @intermarium24: 🏴󠁧󠁢󠁳󠁣󠁴󠁿🇬🇧Jonathan Shenkin, ...</td>\n      <td>RT @intermarium24: 🏴󠁧󠁢󠁳󠁣󠁴󠁿🇬🇧Jonathan Shenkin, ...</td>\n    </tr>\n    <tr>\n      <th>6</th>\n      <td>James</td>\n      <td>RT @HudsonInstitute: .@mfa_russia #SergeyLavro...</td>\n      <td>RT @HudsonInstitute: .@mfa_russia #SergeyLavro...</td>\n    </tr>\n    <tr>\n      <th>...</th>\n      <td>...</td>\n      <td>...</td>\n      <td>...</td>\n    </tr>\n    <tr>\n      <th>16101</th>\n      <td>Olga Kosarieva</td>\n      <td>RT @Sqeaky1149: It’s about bloody time to star...</td>\n      <td>RT @Sqeaky1149: It’s about bloody time to star...</td>\n    </tr>\n    <tr>\n      <th>16103</th>\n      <td>❤ God bless everyone 🙏</td>\n      <td>RT @TimesAlgebraIND: HUGE - Putin offers India...</td>\n      <td>RT @TimesAlgebraIND: HUGE - Putin offers India...</td>\n    </tr>\n    <tr>\n      <th>16104</th>\n      <td>Тю-тю</td>\n      <td>RT @Biz_Ukraine_Mag: CNBC has described the ma...</td>\n      <td>RT @Biz_Ukraine_Mag: CNBC has described the ma...</td>\n    </tr>\n    <tr>\n      <th>16105</th>\n      <td>svppb</td>\n      <td>RT @nexta_tv: #Lavrov: \"Attempts to isolate #R...</td>\n      <td>RT @nexta_tv: #Lavrov: \"Attempts to isolate #R...</td>\n    </tr>\n    <tr>\n      <th>16106</th>\n      <td>M McDermid</td>\n      <td>RT @Maks_NAFO_FELLA: \"The tenth package of san...</td>\n      <td>RT @Maks_NAFO_FELLA: \"The tenth package of san...</td>\n    </tr>\n  </tbody>\n</table>\n<p>11621 rows × 3 columns</p>\n</div>"
     },
     "execution_count": 42,
     "metadata": {},
     "output_type": "execute_result"
    }
   ],
   "source": [
    "df_ucraine_tweets_filtrado['text_edited'] = df_ucraine_tweets_filtrado['text']\n",
    "df_ucraine_tweets_filtrado"
   ],
   "metadata": {
    "collapsed": false,
    "ExecuteTime": {
     "start_time": "2023-04-26T11:30:47.734507Z",
     "end_time": "2023-04-26T11:30:47.859614Z"
    }
   }
  },
  {
   "cell_type": "code",
   "execution_count": 43,
   "outputs": [
    {
     "name": "stderr",
     "output_type": "stream",
     "text": [
      "C:\\Users\\EVEN\\AppData\\Local\\Temp\\ipykernel_9240\\3508707342.py:1: SettingWithCopyWarning:\n",
      "\n",
      "\n",
      "A value is trying to be set on a copy of a slice from a DataFrame.\n",
      "Try using .loc[row_indexer,col_indexer] = value instead\n",
      "\n",
      "See the caveats in the documentation: https://pandas.pydata.org/pandas-docs/stable/user_guide/indexing.html#returning-a-view-versus-a-copy\n",
      "\n",
      "C:\\Users\\EVEN\\AppData\\Local\\Temp\\ipykernel_9240\\3508707342.py:2: SettingWithCopyWarning:\n",
      "\n",
      "\n",
      "A value is trying to be set on a copy of a slice from a DataFrame.\n",
      "Try using .loc[row_indexer,col_indexer] = value instead\n",
      "\n",
      "See the caveats in the documentation: https://pandas.pydata.org/pandas-docs/stable/user_guide/indexing.html#returning-a-view-versus-a-copy\n",
      "\n",
      "C:\\Users\\EVEN\\AppData\\Local\\Temp\\ipykernel_9240\\3508707342.py:3: SettingWithCopyWarning:\n",
      "\n",
      "\n",
      "A value is trying to be set on a copy of a slice from a DataFrame.\n",
      "Try using .loc[row_indexer,col_indexer] = value instead\n",
      "\n",
      "See the caveats in the documentation: https://pandas.pydata.org/pandas-docs/stable/user_guide/indexing.html#returning-a-view-versus-a-copy\n",
      "\n",
      "C:\\Users\\EVEN\\AppData\\Local\\Temp\\ipykernel_9240\\3508707342.py:4: SettingWithCopyWarning:\n",
      "\n",
      "\n",
      "A value is trying to be set on a copy of a slice from a DataFrame.\n",
      "Try using .loc[row_indexer,col_indexer] = value instead\n",
      "\n",
      "See the caveats in the documentation: https://pandas.pydata.org/pandas-docs/stable/user_guide/indexing.html#returning-a-view-versus-a-copy\n",
      "\n",
      "C:\\Users\\EVEN\\AppData\\Local\\Temp\\ipykernel_9240\\3508707342.py:5: SettingWithCopyWarning:\n",
      "\n",
      "\n",
      "A value is trying to be set on a copy of a slice from a DataFrame.\n",
      "Try using .loc[row_indexer,col_indexer] = value instead\n",
      "\n",
      "See the caveats in the documentation: https://pandas.pydata.org/pandas-docs/stable/user_guide/indexing.html#returning-a-view-versus-a-copy\n",
      "\n"
     ]
    },
    {
     "data": {
      "text/plain": "0         alicerauthor happy humpday hes a shifter merm...\n2         jensstoltenberg good to meet president andrze...\n4        avalaina right now giving a heabreaking lectur...\n5         intermarium jonathan shenkin a scottish hero ...\n6         hudsoninstitute mfarussia sergeylavrov didnt ...\n                               ...                        \n16101     sqeaky its about bloody time to sta evicting ...\n16103     timesalgebraind huge  putin offers india arma...\n16104     bizukrainemag cnbc has described the mass dep...\n16105     nextatv lavrov attempts to isolate russia hav...\n16106     maksnafofella the tenth package of sanctions ...\nName: text_edited, Length: 11621, dtype: object"
     },
     "execution_count": 43,
     "metadata": {},
     "output_type": "execute_result"
    }
   ],
   "source": [
    "df_ucraine_tweets_filtrado['text_edited'] = df_ucraine_tweets_filtrado['text_edited'].str.lower()\n",
    "df_ucraine_tweets_filtrado['text_edited'] = df_ucraine_tweets_filtrado['text_edited'].apply(lambda x: re.sub(r\"[^a-zA-Z0-9\\s]+\", '', x))\n",
    "df_ucraine_tweets_filtrado['text_edited'] = df_ucraine_tweets_filtrado['text_edited'].apply(lambda x: re.sub(r'http\\S+', '', x))\n",
    "df_ucraine_tweets_filtrado['text_edited'] = df_ucraine_tweets_filtrado['text_edited'].apply(lambda x: re.sub(\"\\d+\", '', x))\n",
    "df_ucraine_tweets_filtrado['text_edited'] = df_ucraine_tweets_filtrado['text_edited'].apply(lambda x: re.sub(r\"rt\", '', x))\n",
    "df_ucraine_tweets_filtrado['text_edited']"
   ],
   "metadata": {
    "collapsed": false,
    "ExecuteTime": {
     "start_time": "2023-04-26T11:30:47.744552Z",
     "end_time": "2023-04-26T11:30:47.978656Z"
    }
   }
  },
  {
   "cell_type": "code",
   "execution_count": 44,
   "outputs": [
    {
     "name": "stderr",
     "output_type": "stream",
     "text": [
      "C:\\Users\\EVEN\\AppData\\Local\\Temp\\ipykernel_9240\\2007173263.py:2: SettingWithCopyWarning:\n",
      "\n",
      "\n",
      "A value is trying to be set on a copy of a slice from a DataFrame.\n",
      "Try using .loc[row_indexer,col_indexer] = value instead\n",
      "\n",
      "See the caveats in the documentation: https://pandas.pydata.org/pandas-docs/stable/user_guide/indexing.html#returning-a-view-versus-a-copy\n",
      "\n"
     ]
    },
    {
     "data": {
      "text/plain": "0        alicerauthor happy humpday hes shifter merman ...\n2        jensstoltenberg good meet president andrzejdud...\n4        avalaina right giving heabreaking lecture russ...\n5        intermarium jonathan shenkin scottish hero yea...\n6        hudsoninstitute mfarussia sergeylavrov didnt l...\n                               ...                        \n16101    sqeaky bloody time sta evicting russian citize...\n16103    timesalgebraind huge putin offers india armata...\n16104    bizukrainemag cnbc described mass depoation uk...\n16105    nextatv lavrov attempts isolate russia failed ...\n16106    maksnafofella tenth package sanctions russia i...\nName: text_edited, Length: 11621, dtype: object"
     },
     "execution_count": 44,
     "metadata": {},
     "output_type": "execute_result"
    }
   ],
   "source": [
    "palabras_irrelevantes = stopwords.words('english')\n",
    "df_ucraine_tweets_filtrado['text_edited'] = df_ucraine_tweets_filtrado['text_edited'].apply(lambda x: ' '.join([word for word in x.split() if word not in palabras_irrelevantes]))\n",
    "df_ucraine_tweets_filtrado['text_edited']"
   ],
   "metadata": {
    "collapsed": false,
    "ExecuteTime": {
     "start_time": "2023-04-26T11:30:47.859614Z",
     "end_time": "2023-04-26T11:30:48.167824Z"
    }
   }
  },
  {
   "cell_type": "code",
   "execution_count": 45,
   "outputs": [
    {
     "data": {
      "text/plain": "       Palabra  Frecuencia\n0      ukraine        4264\n1       russia        3722\n2      russias        1685\n3      russian        1617\n4          war        1452\n5          usa        1147\n6         nord        1145\n7       stream        1143\n8       attack        1116\n9     pipeline        1091\n10    european        1070\n11  journalist        1030\n12   ukrainian        1028\n13     winning        1020\n14     wallace        1010",
      "text/html": "<div>\n<style scoped>\n    .dataframe tbody tr th:only-of-type {\n        vertical-align: middle;\n    }\n\n    .dataframe tbody tr th {\n        vertical-align: top;\n    }\n\n    .dataframe thead th {\n        text-align: right;\n    }\n</style>\n<table border=\"1\" class=\"dataframe\">\n  <thead>\n    <tr style=\"text-align: right;\">\n      <th></th>\n      <th>Palabra</th>\n      <th>Frecuencia</th>\n    </tr>\n  </thead>\n  <tbody>\n    <tr>\n      <th>0</th>\n      <td>ukraine</td>\n      <td>4264</td>\n    </tr>\n    <tr>\n      <th>1</th>\n      <td>russia</td>\n      <td>3722</td>\n    </tr>\n    <tr>\n      <th>2</th>\n      <td>russias</td>\n      <td>1685</td>\n    </tr>\n    <tr>\n      <th>3</th>\n      <td>russian</td>\n      <td>1617</td>\n    </tr>\n    <tr>\n      <th>4</th>\n      <td>war</td>\n      <td>1452</td>\n    </tr>\n    <tr>\n      <th>5</th>\n      <td>usa</td>\n      <td>1147</td>\n    </tr>\n    <tr>\n      <th>6</th>\n      <td>nord</td>\n      <td>1145</td>\n    </tr>\n    <tr>\n      <th>7</th>\n      <td>stream</td>\n      <td>1143</td>\n    </tr>\n    <tr>\n      <th>8</th>\n      <td>attack</td>\n      <td>1116</td>\n    </tr>\n    <tr>\n      <th>9</th>\n      <td>pipeline</td>\n      <td>1091</td>\n    </tr>\n    <tr>\n      <th>10</th>\n      <td>european</td>\n      <td>1070</td>\n    </tr>\n    <tr>\n      <th>11</th>\n      <td>journalist</td>\n      <td>1030</td>\n    </tr>\n    <tr>\n      <th>12</th>\n      <td>ukrainian</td>\n      <td>1028</td>\n    </tr>\n    <tr>\n      <th>13</th>\n      <td>winning</td>\n      <td>1020</td>\n    </tr>\n    <tr>\n      <th>14</th>\n      <td>wallace</td>\n      <td>1010</td>\n    </tr>\n  </tbody>\n</table>\n</div>"
     },
     "execution_count": 45,
     "metadata": {},
     "output_type": "execute_result"
    }
   ],
   "source": [
    "df_ucraine_tweets_filtrado_conteo_palabras_stopwords = pd.Series(' '.join(df_ucraine_tweets_filtrado.text_edited).split()).value_counts().reset_index()\n",
    "df_ucraine_tweets_filtrado_conteo_palabras_stopwords = df_ucraine_tweets_filtrado_conteo_palabras_stopwords.rename(columns={\"index\": \"Palabra\", 'count': \"Frecuencia\"})\n",
    "df_ucraine_tweets_filtrado_conteo_palabras_stopwords = df_ucraine_tweets_filtrado_conteo_palabras_stopwords [:15]\n",
    "\n",
    "df_ucraine_tweets_filtrado_conteo_palabras_stopwords"
   ],
   "metadata": {
    "collapsed": false,
    "ExecuteTime": {
     "start_time": "2023-04-26T11:30:48.120263Z",
     "end_time": "2023-04-26T11:30:48.170827Z"
    }
   }
  },
  {
   "cell_type": "code",
   "execution_count": 45,
   "outputs": [],
   "source": [],
   "metadata": {
    "collapsed": false,
    "ExecuteTime": {
     "start_time": "2023-04-26T11:30:48.149884Z",
     "end_time": "2023-04-26T11:30:48.170827Z"
    }
   }
  },
  {
   "cell_type": "code",
   "execution_count": 46,
   "outputs": [
    {
     "data": {
      "application/vnd.plotly.v1+json": {
       "data": [
        {
         "alignmentgroup": "True",
         "hovertemplate": "Palabra en cada Tweet=%{x}<br>Cantidad de palabras=%{marker.color}<extra></extra>",
         "legendgroup": "",
         "marker": {
          "color": [
           4264,
           3722,
           1685,
           1617,
           1452,
           1147,
           1145,
           1143,
           1116,
           1091,
           1070,
           1030,
           1028,
           1020,
           1010
          ],
          "coloraxis": "coloraxis",
          "pattern": {
           "shape": ""
          }
         },
         "name": "",
         "offsetgroup": "",
         "orientation": "v",
         "showlegend": false,
         "textposition": "auto",
         "texttemplate": "%{y:.2d}",
         "x": [
          "ukraine",
          "russia",
          "russias",
          "russian",
          "war",
          "usa",
          "nord",
          "stream",
          "attack",
          "pipeline",
          "european",
          "journalist",
          "ukrainian",
          "winning",
          "wallace"
         ],
         "xaxis": "x",
         "y": [
          4264,
          3722,
          1685,
          1617,
          1452,
          1147,
          1145,
          1143,
          1116,
          1091,
          1070,
          1030,
          1028,
          1020,
          1010
         ],
         "yaxis": "y",
         "type": "bar"
        }
       ],
       "layout": {
        "template": {
         "data": {
          "histogram2dcontour": [
           {
            "type": "histogram2dcontour",
            "colorbar": {
             "outlinewidth": 0,
             "ticks": ""
            },
            "colorscale": [
             [
              0.0,
              "#0d0887"
             ],
             [
              0.1111111111111111,
              "#46039f"
             ],
             [
              0.2222222222222222,
              "#7201a8"
             ],
             [
              0.3333333333333333,
              "#9c179e"
             ],
             [
              0.4444444444444444,
              "#bd3786"
             ],
             [
              0.5555555555555556,
              "#d8576b"
             ],
             [
              0.6666666666666666,
              "#ed7953"
             ],
             [
              0.7777777777777778,
              "#fb9f3a"
             ],
             [
              0.8888888888888888,
              "#fdca26"
             ],
             [
              1.0,
              "#f0f921"
             ]
            ]
           }
          ],
          "choropleth": [
           {
            "type": "choropleth",
            "colorbar": {
             "outlinewidth": 0,
             "ticks": ""
            }
           }
          ],
          "histogram2d": [
           {
            "type": "histogram2d",
            "colorbar": {
             "outlinewidth": 0,
             "ticks": ""
            },
            "colorscale": [
             [
              0.0,
              "#0d0887"
             ],
             [
              0.1111111111111111,
              "#46039f"
             ],
             [
              0.2222222222222222,
              "#7201a8"
             ],
             [
              0.3333333333333333,
              "#9c179e"
             ],
             [
              0.4444444444444444,
              "#bd3786"
             ],
             [
              0.5555555555555556,
              "#d8576b"
             ],
             [
              0.6666666666666666,
              "#ed7953"
             ],
             [
              0.7777777777777778,
              "#fb9f3a"
             ],
             [
              0.8888888888888888,
              "#fdca26"
             ],
             [
              1.0,
              "#f0f921"
             ]
            ]
           }
          ],
          "heatmap": [
           {
            "type": "heatmap",
            "colorbar": {
             "outlinewidth": 0,
             "ticks": ""
            },
            "colorscale": [
             [
              0.0,
              "#0d0887"
             ],
             [
              0.1111111111111111,
              "#46039f"
             ],
             [
              0.2222222222222222,
              "#7201a8"
             ],
             [
              0.3333333333333333,
              "#9c179e"
             ],
             [
              0.4444444444444444,
              "#bd3786"
             ],
             [
              0.5555555555555556,
              "#d8576b"
             ],
             [
              0.6666666666666666,
              "#ed7953"
             ],
             [
              0.7777777777777778,
              "#fb9f3a"
             ],
             [
              0.8888888888888888,
              "#fdca26"
             ],
             [
              1.0,
              "#f0f921"
             ]
            ]
           }
          ],
          "heatmapgl": [
           {
            "type": "heatmapgl",
            "colorbar": {
             "outlinewidth": 0,
             "ticks": ""
            },
            "colorscale": [
             [
              0.0,
              "#0d0887"
             ],
             [
              0.1111111111111111,
              "#46039f"
             ],
             [
              0.2222222222222222,
              "#7201a8"
             ],
             [
              0.3333333333333333,
              "#9c179e"
             ],
             [
              0.4444444444444444,
              "#bd3786"
             ],
             [
              0.5555555555555556,
              "#d8576b"
             ],
             [
              0.6666666666666666,
              "#ed7953"
             ],
             [
              0.7777777777777778,
              "#fb9f3a"
             ],
             [
              0.8888888888888888,
              "#fdca26"
             ],
             [
              1.0,
              "#f0f921"
             ]
            ]
           }
          ],
          "contourcarpet": [
           {
            "type": "contourcarpet",
            "colorbar": {
             "outlinewidth": 0,
             "ticks": ""
            }
           }
          ],
          "contour": [
           {
            "type": "contour",
            "colorbar": {
             "outlinewidth": 0,
             "ticks": ""
            },
            "colorscale": [
             [
              0.0,
              "#0d0887"
             ],
             [
              0.1111111111111111,
              "#46039f"
             ],
             [
              0.2222222222222222,
              "#7201a8"
             ],
             [
              0.3333333333333333,
              "#9c179e"
             ],
             [
              0.4444444444444444,
              "#bd3786"
             ],
             [
              0.5555555555555556,
              "#d8576b"
             ],
             [
              0.6666666666666666,
              "#ed7953"
             ],
             [
              0.7777777777777778,
              "#fb9f3a"
             ],
             [
              0.8888888888888888,
              "#fdca26"
             ],
             [
              1.0,
              "#f0f921"
             ]
            ]
           }
          ],
          "surface": [
           {
            "type": "surface",
            "colorbar": {
             "outlinewidth": 0,
             "ticks": ""
            },
            "colorscale": [
             [
              0.0,
              "#0d0887"
             ],
             [
              0.1111111111111111,
              "#46039f"
             ],
             [
              0.2222222222222222,
              "#7201a8"
             ],
             [
              0.3333333333333333,
              "#9c179e"
             ],
             [
              0.4444444444444444,
              "#bd3786"
             ],
             [
              0.5555555555555556,
              "#d8576b"
             ],
             [
              0.6666666666666666,
              "#ed7953"
             ],
             [
              0.7777777777777778,
              "#fb9f3a"
             ],
             [
              0.8888888888888888,
              "#fdca26"
             ],
             [
              1.0,
              "#f0f921"
             ]
            ]
           }
          ],
          "mesh3d": [
           {
            "type": "mesh3d",
            "colorbar": {
             "outlinewidth": 0,
             "ticks": ""
            }
           }
          ],
          "scatter": [
           {
            "marker": {
             "line": {
              "color": "#283442"
             }
            },
            "type": "scatter"
           }
          ],
          "parcoords": [
           {
            "type": "parcoords",
            "line": {
             "colorbar": {
              "outlinewidth": 0,
              "ticks": ""
             }
            }
           }
          ],
          "scatterpolargl": [
           {
            "type": "scatterpolargl",
            "marker": {
             "colorbar": {
              "outlinewidth": 0,
              "ticks": ""
             }
            }
           }
          ],
          "bar": [
           {
            "error_x": {
             "color": "#f2f5fa"
            },
            "error_y": {
             "color": "#f2f5fa"
            },
            "marker": {
             "line": {
              "color": "rgb(17,17,17)",
              "width": 0.5
             },
             "pattern": {
              "fillmode": "overlay",
              "size": 10,
              "solidity": 0.2
             }
            },
            "type": "bar"
           }
          ],
          "scattergeo": [
           {
            "type": "scattergeo",
            "marker": {
             "colorbar": {
              "outlinewidth": 0,
              "ticks": ""
             }
            }
           }
          ],
          "scatterpolar": [
           {
            "type": "scatterpolar",
            "marker": {
             "colorbar": {
              "outlinewidth": 0,
              "ticks": ""
             }
            }
           }
          ],
          "histogram": [
           {
            "marker": {
             "pattern": {
              "fillmode": "overlay",
              "size": 10,
              "solidity": 0.2
             }
            },
            "type": "histogram"
           }
          ],
          "scattergl": [
           {
            "marker": {
             "line": {
              "color": "#283442"
             }
            },
            "type": "scattergl"
           }
          ],
          "scatter3d": [
           {
            "type": "scatter3d",
            "line": {
             "colorbar": {
              "outlinewidth": 0,
              "ticks": ""
             }
            },
            "marker": {
             "colorbar": {
              "outlinewidth": 0,
              "ticks": ""
             }
            }
           }
          ],
          "scattermapbox": [
           {
            "type": "scattermapbox",
            "marker": {
             "colorbar": {
              "outlinewidth": 0,
              "ticks": ""
             }
            }
           }
          ],
          "scatterternary": [
           {
            "type": "scatterternary",
            "marker": {
             "colorbar": {
              "outlinewidth": 0,
              "ticks": ""
             }
            }
           }
          ],
          "scattercarpet": [
           {
            "type": "scattercarpet",
            "marker": {
             "colorbar": {
              "outlinewidth": 0,
              "ticks": ""
             }
            }
           }
          ],
          "carpet": [
           {
            "aaxis": {
             "endlinecolor": "#A2B1C6",
             "gridcolor": "#506784",
             "linecolor": "#506784",
             "minorgridcolor": "#506784",
             "startlinecolor": "#A2B1C6"
            },
            "baxis": {
             "endlinecolor": "#A2B1C6",
             "gridcolor": "#506784",
             "linecolor": "#506784",
             "minorgridcolor": "#506784",
             "startlinecolor": "#A2B1C6"
            },
            "type": "carpet"
           }
          ],
          "table": [
           {
            "cells": {
             "fill": {
              "color": "#506784"
             },
             "line": {
              "color": "rgb(17,17,17)"
             }
            },
            "header": {
             "fill": {
              "color": "#2a3f5f"
             },
             "line": {
              "color": "rgb(17,17,17)"
             }
            },
            "type": "table"
           }
          ],
          "barpolar": [
           {
            "marker": {
             "line": {
              "color": "rgb(17,17,17)",
              "width": 0.5
             },
             "pattern": {
              "fillmode": "overlay",
              "size": 10,
              "solidity": 0.2
             }
            },
            "type": "barpolar"
           }
          ],
          "pie": [
           {
            "automargin": true,
            "type": "pie"
           }
          ]
         },
         "layout": {
          "autotypenumbers": "strict",
          "colorway": [
           "#636efa",
           "#EF553B",
           "#00cc96",
           "#ab63fa",
           "#FFA15A",
           "#19d3f3",
           "#FF6692",
           "#B6E880",
           "#FF97FF",
           "#FECB52"
          ],
          "font": {
           "color": "#f2f5fa"
          },
          "hovermode": "closest",
          "hoverlabel": {
           "align": "left"
          },
          "paper_bgcolor": "rgb(17,17,17)",
          "plot_bgcolor": "rgb(17,17,17)",
          "polar": {
           "bgcolor": "rgb(17,17,17)",
           "angularaxis": {
            "gridcolor": "#506784",
            "linecolor": "#506784",
            "ticks": ""
           },
           "radialaxis": {
            "gridcolor": "#506784",
            "linecolor": "#506784",
            "ticks": ""
           }
          },
          "ternary": {
           "bgcolor": "rgb(17,17,17)",
           "aaxis": {
            "gridcolor": "#506784",
            "linecolor": "#506784",
            "ticks": ""
           },
           "baxis": {
            "gridcolor": "#506784",
            "linecolor": "#506784",
            "ticks": ""
           },
           "caxis": {
            "gridcolor": "#506784",
            "linecolor": "#506784",
            "ticks": ""
           }
          },
          "coloraxis": {
           "colorbar": {
            "outlinewidth": 0,
            "ticks": ""
           }
          },
          "colorscale": {
           "sequential": [
            [
             0.0,
             "#0d0887"
            ],
            [
             0.1111111111111111,
             "#46039f"
            ],
            [
             0.2222222222222222,
             "#7201a8"
            ],
            [
             0.3333333333333333,
             "#9c179e"
            ],
            [
             0.4444444444444444,
             "#bd3786"
            ],
            [
             0.5555555555555556,
             "#d8576b"
            ],
            [
             0.6666666666666666,
             "#ed7953"
            ],
            [
             0.7777777777777778,
             "#fb9f3a"
            ],
            [
             0.8888888888888888,
             "#fdca26"
            ],
            [
             1.0,
             "#f0f921"
            ]
           ],
           "sequentialminus": [
            [
             0.0,
             "#0d0887"
            ],
            [
             0.1111111111111111,
             "#46039f"
            ],
            [
             0.2222222222222222,
             "#7201a8"
            ],
            [
             0.3333333333333333,
             "#9c179e"
            ],
            [
             0.4444444444444444,
             "#bd3786"
            ],
            [
             0.5555555555555556,
             "#d8576b"
            ],
            [
             0.6666666666666666,
             "#ed7953"
            ],
            [
             0.7777777777777778,
             "#fb9f3a"
            ],
            [
             0.8888888888888888,
             "#fdca26"
            ],
            [
             1.0,
             "#f0f921"
            ]
           ],
           "diverging": [
            [
             0,
             "#8e0152"
            ],
            [
             0.1,
             "#c51b7d"
            ],
            [
             0.2,
             "#de77ae"
            ],
            [
             0.3,
             "#f1b6da"
            ],
            [
             0.4,
             "#fde0ef"
            ],
            [
             0.5,
             "#f7f7f7"
            ],
            [
             0.6,
             "#e6f5d0"
            ],
            [
             0.7,
             "#b8e186"
            ],
            [
             0.8,
             "#7fbc41"
            ],
            [
             0.9,
             "#4d9221"
            ],
            [
             1,
             "#276419"
            ]
           ]
          },
          "xaxis": {
           "gridcolor": "#283442",
           "linecolor": "#506784",
           "ticks": "",
           "title": {
            "standoff": 15
           },
           "zerolinecolor": "#283442",
           "automargin": true,
           "zerolinewidth": 2
          },
          "yaxis": {
           "gridcolor": "#283442",
           "linecolor": "#506784",
           "ticks": "",
           "title": {
            "standoff": 15
           },
           "zerolinecolor": "#283442",
           "automargin": true,
           "zerolinewidth": 2
          },
          "scene": {
           "xaxis": {
            "backgroundcolor": "rgb(17,17,17)",
            "gridcolor": "#506784",
            "linecolor": "#506784",
            "showbackground": true,
            "ticks": "",
            "zerolinecolor": "#C8D4E3",
            "gridwidth": 2
           },
           "yaxis": {
            "backgroundcolor": "rgb(17,17,17)",
            "gridcolor": "#506784",
            "linecolor": "#506784",
            "showbackground": true,
            "ticks": "",
            "zerolinecolor": "#C8D4E3",
            "gridwidth": 2
           },
           "zaxis": {
            "backgroundcolor": "rgb(17,17,17)",
            "gridcolor": "#506784",
            "linecolor": "#506784",
            "showbackground": true,
            "ticks": "",
            "zerolinecolor": "#C8D4E3",
            "gridwidth": 2
           }
          },
          "shapedefaults": {
           "line": {
            "color": "#f2f5fa"
           }
          },
          "annotationdefaults": {
           "arrowcolor": "#f2f5fa",
           "arrowhead": 0,
           "arrowwidth": 1
          },
          "geo": {
           "bgcolor": "rgb(17,17,17)",
           "landcolor": "rgb(17,17,17)",
           "subunitcolor": "#506784",
           "showland": true,
           "showlakes": true,
           "lakecolor": "rgb(17,17,17)"
          },
          "title": {
           "x": 0.05
          },
          "updatemenudefaults": {
           "bgcolor": "#506784",
           "borderwidth": 0
          },
          "sliderdefaults": {
           "bgcolor": "#C8D4E3",
           "borderwidth": 1,
           "bordercolor": "rgb(17,17,17)",
           "tickwidth": 0
          },
          "mapbox": {
           "style": "dark"
          }
         }
        },
        "xaxis": {
         "anchor": "y",
         "domain": [
          0.0,
          1.0
         ],
         "title": {
          "text": "Palabra en cada Tweet"
         }
        },
        "yaxis": {
         "anchor": "x",
         "domain": [
          0.0,
          1.0
         ],
         "title": {
          "text": "Cantidad de palabras"
         }
        },
        "coloraxis": {
         "colorbar": {
          "title": {
           "text": "Cantidad de palabras"
          }
         },
         "colorscale": [
          [
           0.0,
           "#0d0887"
          ],
          [
           0.1111111111111111,
           "#46039f"
          ],
          [
           0.2222222222222222,
           "#7201a8"
          ],
          [
           0.3333333333333333,
           "#9c179e"
          ],
          [
           0.4444444444444444,
           "#bd3786"
          ],
          [
           0.5555555555555556,
           "#d8576b"
          ],
          [
           0.6666666666666666,
           "#ed7953"
          ],
          [
           0.7777777777777778,
           "#fb9f3a"
          ],
          [
           0.8888888888888888,
           "#fdca26"
          ],
          [
           1.0,
           "#f0f921"
          ]
         ]
        },
        "legend": {
         "tracegroupgap": 0
        },
        "title": {
         "text": "Contador de palabras en cada tweet sobre #ukraine"
        },
        "barmode": "relative",
        "height": 500
       },
       "config": {
        "plotlyServerURL": "https://plot.ly"
       }
      },
      "text/html": "<div>                            <div id=\"61640d60-9e78-4f66-9e57-ccae30ed7330\" class=\"plotly-graph-div\" style=\"height:500px; width:100%;\"></div>            <script type=\"text/javascript\">                require([\"plotly\"], function(Plotly) {                    window.PLOTLYENV=window.PLOTLYENV || {};                                    if (document.getElementById(\"61640d60-9e78-4f66-9e57-ccae30ed7330\")) {                    Plotly.newPlot(                        \"61640d60-9e78-4f66-9e57-ccae30ed7330\",                        [{\"alignmentgroup\":\"True\",\"hovertemplate\":\"Palabra en cada Tweet=%{x}<br>Cantidad de palabras=%{marker.color}<extra></extra>\",\"legendgroup\":\"\",\"marker\":{\"color\":[4264,3722,1685,1617,1452,1147,1145,1143,1116,1091,1070,1030,1028,1020,1010],\"coloraxis\":\"coloraxis\",\"pattern\":{\"shape\":\"\"}},\"name\":\"\",\"offsetgroup\":\"\",\"orientation\":\"v\",\"showlegend\":false,\"textposition\":\"auto\",\"texttemplate\":\"%{y:.2d}\",\"x\":[\"ukraine\",\"russia\",\"russias\",\"russian\",\"war\",\"usa\",\"nord\",\"stream\",\"attack\",\"pipeline\",\"european\",\"journalist\",\"ukrainian\",\"winning\",\"wallace\"],\"xaxis\":\"x\",\"y\":[4264,3722,1685,1617,1452,1147,1145,1143,1116,1091,1070,1030,1028,1020,1010],\"yaxis\":\"y\",\"type\":\"bar\"}],                        {\"template\":{\"data\":{\"histogram2dcontour\":[{\"type\":\"histogram2dcontour\",\"colorbar\":{\"outlinewidth\":0,\"ticks\":\"\"},\"colorscale\":[[0.0,\"#0d0887\"],[0.1111111111111111,\"#46039f\"],[0.2222222222222222,\"#7201a8\"],[0.3333333333333333,\"#9c179e\"],[0.4444444444444444,\"#bd3786\"],[0.5555555555555556,\"#d8576b\"],[0.6666666666666666,\"#ed7953\"],[0.7777777777777778,\"#fb9f3a\"],[0.8888888888888888,\"#fdca26\"],[1.0,\"#f0f921\"]]}],\"choropleth\":[{\"type\":\"choropleth\",\"colorbar\":{\"outlinewidth\":0,\"ticks\":\"\"}}],\"histogram2d\":[{\"type\":\"histogram2d\",\"colorbar\":{\"outlinewidth\":0,\"ticks\":\"\"},\"colorscale\":[[0.0,\"#0d0887\"],[0.1111111111111111,\"#46039f\"],[0.2222222222222222,\"#7201a8\"],[0.3333333333333333,\"#9c179e\"],[0.4444444444444444,\"#bd3786\"],[0.5555555555555556,\"#d8576b\"],[0.6666666666666666,\"#ed7953\"],[0.7777777777777778,\"#fb9f3a\"],[0.8888888888888888,\"#fdca26\"],[1.0,\"#f0f921\"]]}],\"heatmap\":[{\"type\":\"heatmap\",\"colorbar\":{\"outlinewidth\":0,\"ticks\":\"\"},\"colorscale\":[[0.0,\"#0d0887\"],[0.1111111111111111,\"#46039f\"],[0.2222222222222222,\"#7201a8\"],[0.3333333333333333,\"#9c179e\"],[0.4444444444444444,\"#bd3786\"],[0.5555555555555556,\"#d8576b\"],[0.6666666666666666,\"#ed7953\"],[0.7777777777777778,\"#fb9f3a\"],[0.8888888888888888,\"#fdca26\"],[1.0,\"#f0f921\"]]}],\"heatmapgl\":[{\"type\":\"heatmapgl\",\"colorbar\":{\"outlinewidth\":0,\"ticks\":\"\"},\"colorscale\":[[0.0,\"#0d0887\"],[0.1111111111111111,\"#46039f\"],[0.2222222222222222,\"#7201a8\"],[0.3333333333333333,\"#9c179e\"],[0.4444444444444444,\"#bd3786\"],[0.5555555555555556,\"#d8576b\"],[0.6666666666666666,\"#ed7953\"],[0.7777777777777778,\"#fb9f3a\"],[0.8888888888888888,\"#fdca26\"],[1.0,\"#f0f921\"]]}],\"contourcarpet\":[{\"type\":\"contourcarpet\",\"colorbar\":{\"outlinewidth\":0,\"ticks\":\"\"}}],\"contour\":[{\"type\":\"contour\",\"colorbar\":{\"outlinewidth\":0,\"ticks\":\"\"},\"colorscale\":[[0.0,\"#0d0887\"],[0.1111111111111111,\"#46039f\"],[0.2222222222222222,\"#7201a8\"],[0.3333333333333333,\"#9c179e\"],[0.4444444444444444,\"#bd3786\"],[0.5555555555555556,\"#d8576b\"],[0.6666666666666666,\"#ed7953\"],[0.7777777777777778,\"#fb9f3a\"],[0.8888888888888888,\"#fdca26\"],[1.0,\"#f0f921\"]]}],\"surface\":[{\"type\":\"surface\",\"colorbar\":{\"outlinewidth\":0,\"ticks\":\"\"},\"colorscale\":[[0.0,\"#0d0887\"],[0.1111111111111111,\"#46039f\"],[0.2222222222222222,\"#7201a8\"],[0.3333333333333333,\"#9c179e\"],[0.4444444444444444,\"#bd3786\"],[0.5555555555555556,\"#d8576b\"],[0.6666666666666666,\"#ed7953\"],[0.7777777777777778,\"#fb9f3a\"],[0.8888888888888888,\"#fdca26\"],[1.0,\"#f0f921\"]]}],\"mesh3d\":[{\"type\":\"mesh3d\",\"colorbar\":{\"outlinewidth\":0,\"ticks\":\"\"}}],\"scatter\":[{\"marker\":{\"line\":{\"color\":\"#283442\"}},\"type\":\"scatter\"}],\"parcoords\":[{\"type\":\"parcoords\",\"line\":{\"colorbar\":{\"outlinewidth\":0,\"ticks\":\"\"}}}],\"scatterpolargl\":[{\"type\":\"scatterpolargl\",\"marker\":{\"colorbar\":{\"outlinewidth\":0,\"ticks\":\"\"}}}],\"bar\":[{\"error_x\":{\"color\":\"#f2f5fa\"},\"error_y\":{\"color\":\"#f2f5fa\"},\"marker\":{\"line\":{\"color\":\"rgb(17,17,17)\",\"width\":0.5},\"pattern\":{\"fillmode\":\"overlay\",\"size\":10,\"solidity\":0.2}},\"type\":\"bar\"}],\"scattergeo\":[{\"type\":\"scattergeo\",\"marker\":{\"colorbar\":{\"outlinewidth\":0,\"ticks\":\"\"}}}],\"scatterpolar\":[{\"type\":\"scatterpolar\",\"marker\":{\"colorbar\":{\"outlinewidth\":0,\"ticks\":\"\"}}}],\"histogram\":[{\"marker\":{\"pattern\":{\"fillmode\":\"overlay\",\"size\":10,\"solidity\":0.2}},\"type\":\"histogram\"}],\"scattergl\":[{\"marker\":{\"line\":{\"color\":\"#283442\"}},\"type\":\"scattergl\"}],\"scatter3d\":[{\"type\":\"scatter3d\",\"line\":{\"colorbar\":{\"outlinewidth\":0,\"ticks\":\"\"}},\"marker\":{\"colorbar\":{\"outlinewidth\":0,\"ticks\":\"\"}}}],\"scattermapbox\":[{\"type\":\"scattermapbox\",\"marker\":{\"colorbar\":{\"outlinewidth\":0,\"ticks\":\"\"}}}],\"scatterternary\":[{\"type\":\"scatterternary\",\"marker\":{\"colorbar\":{\"outlinewidth\":0,\"ticks\":\"\"}}}],\"scattercarpet\":[{\"type\":\"scattercarpet\",\"marker\":{\"colorbar\":{\"outlinewidth\":0,\"ticks\":\"\"}}}],\"carpet\":[{\"aaxis\":{\"endlinecolor\":\"#A2B1C6\",\"gridcolor\":\"#506784\",\"linecolor\":\"#506784\",\"minorgridcolor\":\"#506784\",\"startlinecolor\":\"#A2B1C6\"},\"baxis\":{\"endlinecolor\":\"#A2B1C6\",\"gridcolor\":\"#506784\",\"linecolor\":\"#506784\",\"minorgridcolor\":\"#506784\",\"startlinecolor\":\"#A2B1C6\"},\"type\":\"carpet\"}],\"table\":[{\"cells\":{\"fill\":{\"color\":\"#506784\"},\"line\":{\"color\":\"rgb(17,17,17)\"}},\"header\":{\"fill\":{\"color\":\"#2a3f5f\"},\"line\":{\"color\":\"rgb(17,17,17)\"}},\"type\":\"table\"}],\"barpolar\":[{\"marker\":{\"line\":{\"color\":\"rgb(17,17,17)\",\"width\":0.5},\"pattern\":{\"fillmode\":\"overlay\",\"size\":10,\"solidity\":0.2}},\"type\":\"barpolar\"}],\"pie\":[{\"automargin\":true,\"type\":\"pie\"}]},\"layout\":{\"autotypenumbers\":\"strict\",\"colorway\":[\"#636efa\",\"#EF553B\",\"#00cc96\",\"#ab63fa\",\"#FFA15A\",\"#19d3f3\",\"#FF6692\",\"#B6E880\",\"#FF97FF\",\"#FECB52\"],\"font\":{\"color\":\"#f2f5fa\"},\"hovermode\":\"closest\",\"hoverlabel\":{\"align\":\"left\"},\"paper_bgcolor\":\"rgb(17,17,17)\",\"plot_bgcolor\":\"rgb(17,17,17)\",\"polar\":{\"bgcolor\":\"rgb(17,17,17)\",\"angularaxis\":{\"gridcolor\":\"#506784\",\"linecolor\":\"#506784\",\"ticks\":\"\"},\"radialaxis\":{\"gridcolor\":\"#506784\",\"linecolor\":\"#506784\",\"ticks\":\"\"}},\"ternary\":{\"bgcolor\":\"rgb(17,17,17)\",\"aaxis\":{\"gridcolor\":\"#506784\",\"linecolor\":\"#506784\",\"ticks\":\"\"},\"baxis\":{\"gridcolor\":\"#506784\",\"linecolor\":\"#506784\",\"ticks\":\"\"},\"caxis\":{\"gridcolor\":\"#506784\",\"linecolor\":\"#506784\",\"ticks\":\"\"}},\"coloraxis\":{\"colorbar\":{\"outlinewidth\":0,\"ticks\":\"\"}},\"colorscale\":{\"sequential\":[[0.0,\"#0d0887\"],[0.1111111111111111,\"#46039f\"],[0.2222222222222222,\"#7201a8\"],[0.3333333333333333,\"#9c179e\"],[0.4444444444444444,\"#bd3786\"],[0.5555555555555556,\"#d8576b\"],[0.6666666666666666,\"#ed7953\"],[0.7777777777777778,\"#fb9f3a\"],[0.8888888888888888,\"#fdca26\"],[1.0,\"#f0f921\"]],\"sequentialminus\":[[0.0,\"#0d0887\"],[0.1111111111111111,\"#46039f\"],[0.2222222222222222,\"#7201a8\"],[0.3333333333333333,\"#9c179e\"],[0.4444444444444444,\"#bd3786\"],[0.5555555555555556,\"#d8576b\"],[0.6666666666666666,\"#ed7953\"],[0.7777777777777778,\"#fb9f3a\"],[0.8888888888888888,\"#fdca26\"],[1.0,\"#f0f921\"]],\"diverging\":[[0,\"#8e0152\"],[0.1,\"#c51b7d\"],[0.2,\"#de77ae\"],[0.3,\"#f1b6da\"],[0.4,\"#fde0ef\"],[0.5,\"#f7f7f7\"],[0.6,\"#e6f5d0\"],[0.7,\"#b8e186\"],[0.8,\"#7fbc41\"],[0.9,\"#4d9221\"],[1,\"#276419\"]]},\"xaxis\":{\"gridcolor\":\"#283442\",\"linecolor\":\"#506784\",\"ticks\":\"\",\"title\":{\"standoff\":15},\"zerolinecolor\":\"#283442\",\"automargin\":true,\"zerolinewidth\":2},\"yaxis\":{\"gridcolor\":\"#283442\",\"linecolor\":\"#506784\",\"ticks\":\"\",\"title\":{\"standoff\":15},\"zerolinecolor\":\"#283442\",\"automargin\":true,\"zerolinewidth\":2},\"scene\":{\"xaxis\":{\"backgroundcolor\":\"rgb(17,17,17)\",\"gridcolor\":\"#506784\",\"linecolor\":\"#506784\",\"showbackground\":true,\"ticks\":\"\",\"zerolinecolor\":\"#C8D4E3\",\"gridwidth\":2},\"yaxis\":{\"backgroundcolor\":\"rgb(17,17,17)\",\"gridcolor\":\"#506784\",\"linecolor\":\"#506784\",\"showbackground\":true,\"ticks\":\"\",\"zerolinecolor\":\"#C8D4E3\",\"gridwidth\":2},\"zaxis\":{\"backgroundcolor\":\"rgb(17,17,17)\",\"gridcolor\":\"#506784\",\"linecolor\":\"#506784\",\"showbackground\":true,\"ticks\":\"\",\"zerolinecolor\":\"#C8D4E3\",\"gridwidth\":2}},\"shapedefaults\":{\"line\":{\"color\":\"#f2f5fa\"}},\"annotationdefaults\":{\"arrowcolor\":\"#f2f5fa\",\"arrowhead\":0,\"arrowwidth\":1},\"geo\":{\"bgcolor\":\"rgb(17,17,17)\",\"landcolor\":\"rgb(17,17,17)\",\"subunitcolor\":\"#506784\",\"showland\":true,\"showlakes\":true,\"lakecolor\":\"rgb(17,17,17)\"},\"title\":{\"x\":0.05},\"updatemenudefaults\":{\"bgcolor\":\"#506784\",\"borderwidth\":0},\"sliderdefaults\":{\"bgcolor\":\"#C8D4E3\",\"borderwidth\":1,\"bordercolor\":\"rgb(17,17,17)\",\"tickwidth\":0},\"mapbox\":{\"style\":\"dark\"}}},\"xaxis\":{\"anchor\":\"y\",\"domain\":[0.0,1.0],\"title\":{\"text\":\"Palabra en cada Tweet\"}},\"yaxis\":{\"anchor\":\"x\",\"domain\":[0.0,1.0],\"title\":{\"text\":\"Cantidad de palabras\"}},\"coloraxis\":{\"colorbar\":{\"title\":{\"text\":\"Cantidad de palabras\"}},\"colorscale\":[[0.0,\"#0d0887\"],[0.1111111111111111,\"#46039f\"],[0.2222222222222222,\"#7201a8\"],[0.3333333333333333,\"#9c179e\"],[0.4444444444444444,\"#bd3786\"],[0.5555555555555556,\"#d8576b\"],[0.6666666666666666,\"#ed7953\"],[0.7777777777777778,\"#fb9f3a\"],[0.8888888888888888,\"#fdca26\"],[1.0,\"#f0f921\"]]},\"legend\":{\"tracegroupgap\":0},\"title\":{\"text\":\"Contador de palabras en cada tweet sobre #ukraine\"},\"barmode\":\"relative\",\"height\":500},                        {\"responsive\": true}                    ).then(function(){\n                            \nvar gd = document.getElementById('61640d60-9e78-4f66-9e57-ccae30ed7330');\nvar x = new MutationObserver(function (mutations, observer) {{\n        var display = window.getComputedStyle(gd).display;\n        if (!display || display === 'none') {{\n            console.log([gd, 'removed!']);\n            Plotly.purge(gd);\n            observer.disconnect();\n        }}\n}});\n\n// Listen for the removal of the full notebook cells\nvar notebookContainer = gd.closest('#notebook-container');\nif (notebookContainer) {{\n    x.observe(notebookContainer, {childList: true});\n}}\n\n// Listen for the clearing of the current output cell\nvar outputEl = gd.closest('.output');\nif (outputEl) {{\n    x.observe(outputEl, {childList: true});\n}}\n\n                        })                };                });            </script>        </div>"
     },
     "metadata": {},
     "output_type": "display_data"
    }
   ],
   "source": [
    "# Dibujar un bar chart en plotly la frecuencia de las palabras\n",
    "fig = px.bar(df_ucraine_tweets_filtrado_conteo_palabras_stopwords, x = 'Palabra', y = 'Frecuencia', color='Frecuencia',title='Contador de palabras en cada tweet sobre #ukraine',text_auto='.2d' ,labels={'Frecuencia':'Cantidad de palabras', 'Palabra': 'Palabra en cada Tweet'}, height=500)\n",
    "fig.show()"
   ],
   "metadata": {
    "collapsed": false,
    "ExecuteTime": {
     "start_time": "2023-04-26T11:30:48.154597Z",
     "end_time": "2023-04-26T11:30:48.287618Z"
    }
   }
  },
  {
   "cell_type": "code",
   "execution_count": 47,
   "outputs": [
    {
     "data": {
      "text/plain": "[0        False\n 2        False\n 4        False\n 5        False\n 6        False\n          ...  \n 16101    False\n 16103    False\n 16104    False\n 16105    False\n 16106    False\n Name: text_edited, Length: 11621, dtype: bool]"
     },
     "execution_count": 47,
     "metadata": {},
     "output_type": "execute_result"
    }
   ],
   "source": [
    "df_ucraine_tweets_filtrado_conteo_palabras_usuario = [df_ucraine_tweets_filtrado.text_edited.str.contains('ucraine')]\n",
    "#df_ucraine_tweets_filtrado_conteo_palabras_usuario = df_ucraine_tweets_filtrado_conteo_palabras_usuario.groupby('user.name')['text_edited'].count().reset_index()\n",
    "df_ucraine_tweets_filtrado_conteo_palabras_usuario"
   ],
   "metadata": {
    "collapsed": false,
    "ExecuteTime": {
     "start_time": "2023-04-26T11:30:48.190267Z",
     "end_time": "2023-04-26T11:30:48.287618Z"
    }
   }
  },
  {
   "cell_type": "markdown",
   "source": [
    "### Busqueda por Hastag"
   ],
   "metadata": {
    "collapsed": false
   }
  },
  {
   "cell_type": "code",
   "execution_count": 48,
   "outputs": [
    {
     "name": "stderr",
     "output_type": "stream",
     "text": [
      "C:\\Users\\EVEN\\AppData\\Local\\Temp\\ipykernel_9240\\1340920606.py:1: SettingWithCopyWarning:\n",
      "\n",
      "\n",
      "A value is trying to be set on a copy of a slice from a DataFrame.\n",
      "Try using .loc[row_indexer,col_indexer] = value instead\n",
      "\n",
      "See the caveats in the documentation: https://pandas.pydata.org/pandas-docs/stable/user_guide/indexing.html#returning-a-view-versus-a-copy\n",
      "\n"
     ]
    },
    {
     "data": {
      "text/plain": "                hastags  count\n0              #Ukraine   2837\n1               #Russia    487\n2              #Germany    244\n3     #UkraineRussiaWar    203\n4              #Russian    197\n...                 ...    ...\n1008           #Türkiye      1\n1009        #purchasing      1\n1010           #startup      1\n1011        #investment      1\n1012       #wagnergroup      1\n\n[1013 rows x 2 columns]",
      "text/html": "<div>\n<style scoped>\n    .dataframe tbody tr th:only-of-type {\n        vertical-align: middle;\n    }\n\n    .dataframe tbody tr th {\n        vertical-align: top;\n    }\n\n    .dataframe thead th {\n        text-align: right;\n    }\n</style>\n<table border=\"1\" class=\"dataframe\">\n  <thead>\n    <tr style=\"text-align: right;\">\n      <th></th>\n      <th>hastags</th>\n      <th>count</th>\n    </tr>\n  </thead>\n  <tbody>\n    <tr>\n      <th>0</th>\n      <td>#Ukraine</td>\n      <td>2837</td>\n    </tr>\n    <tr>\n      <th>1</th>\n      <td>#Russia</td>\n      <td>487</td>\n    </tr>\n    <tr>\n      <th>2</th>\n      <td>#Germany</td>\n      <td>244</td>\n    </tr>\n    <tr>\n      <th>3</th>\n      <td>#UkraineRussiaWar</td>\n      <td>203</td>\n    </tr>\n    <tr>\n      <th>4</th>\n      <td>#Russian</td>\n      <td>197</td>\n    </tr>\n    <tr>\n      <th>...</th>\n      <td>...</td>\n      <td>...</td>\n    </tr>\n    <tr>\n      <th>1008</th>\n      <td>#Türkiye</td>\n      <td>1</td>\n    </tr>\n    <tr>\n      <th>1009</th>\n      <td>#purchasing</td>\n      <td>1</td>\n    </tr>\n    <tr>\n      <th>1010</th>\n      <td>#startup</td>\n      <td>1</td>\n    </tr>\n    <tr>\n      <th>1011</th>\n      <td>#investment</td>\n      <td>1</td>\n    </tr>\n    <tr>\n      <th>1012</th>\n      <td>#wagnergroup</td>\n      <td>1</td>\n    </tr>\n  </tbody>\n</table>\n<p>1013 rows × 2 columns</p>\n</div>"
     },
     "execution_count": 48,
     "metadata": {},
     "output_type": "execute_result"
    }
   ],
   "source": [
    "df_ucraine_tweets_filtrado['hastags'] = df_ucraine_tweets_filtrado['text'].str.findall(r'\\#\\w+')\n",
    "df_ucraine_tweets_filtrado_hastags = df_ucraine_tweets_filtrado.explode('hastags')\n",
    "df_ucraine_tweets_filtrado_hastags_contador = df_ucraine_tweets_filtrado_hastags['hastags'].value_counts().reset_index()\n",
    "df_ucraine_tweets_filtrado_hastags_contador"
   ],
   "metadata": {
    "collapsed": false,
    "ExecuteTime": {
     "start_time": "2023-04-26T11:30:48.200950Z",
     "end_time": "2023-04-26T11:30:48.288619Z"
    }
   }
  },
  {
   "cell_type": "code",
   "execution_count": 52,
   "outputs": [
    {
     "data": {
      "text/plain": "               Hastag  Frecuencia\n0            #Ukraine        2837\n1             #Russia         487\n2            #Germany         244\n3   #UkraineRussiaWar         203\n4            #Russian         197\n5               #NATO         192\n6                 #US         149\n7             #Canada         145\n8         #UkraineWar         143\n9            #Donetsk         141\n10         #Ukrainian         114\n11           #Bakhmut         104\n12           #Nigeria         104\n13         #President         101\n14           #America          96",
      "text/html": "<div>\n<style scoped>\n    .dataframe tbody tr th:only-of-type {\n        vertical-align: middle;\n    }\n\n    .dataframe tbody tr th {\n        vertical-align: top;\n    }\n\n    .dataframe thead th {\n        text-align: right;\n    }\n</style>\n<table border=\"1\" class=\"dataframe\">\n  <thead>\n    <tr style=\"text-align: right;\">\n      <th></th>\n      <th>Hastag</th>\n      <th>Frecuencia</th>\n    </tr>\n  </thead>\n  <tbody>\n    <tr>\n      <th>0</th>\n      <td>#Ukraine</td>\n      <td>2837</td>\n    </tr>\n    <tr>\n      <th>1</th>\n      <td>#Russia</td>\n      <td>487</td>\n    </tr>\n    <tr>\n      <th>2</th>\n      <td>#Germany</td>\n      <td>244</td>\n    </tr>\n    <tr>\n      <th>3</th>\n      <td>#UkraineRussiaWar</td>\n      <td>203</td>\n    </tr>\n    <tr>\n      <th>4</th>\n      <td>#Russian</td>\n      <td>197</td>\n    </tr>\n    <tr>\n      <th>5</th>\n      <td>#NATO</td>\n      <td>192</td>\n    </tr>\n    <tr>\n      <th>6</th>\n      <td>#US</td>\n      <td>149</td>\n    </tr>\n    <tr>\n      <th>7</th>\n      <td>#Canada</td>\n      <td>145</td>\n    </tr>\n    <tr>\n      <th>8</th>\n      <td>#UkraineWar</td>\n      <td>143</td>\n    </tr>\n    <tr>\n      <th>9</th>\n      <td>#Donetsk</td>\n      <td>141</td>\n    </tr>\n    <tr>\n      <th>10</th>\n      <td>#Ukrainian</td>\n      <td>114</td>\n    </tr>\n    <tr>\n      <th>11</th>\n      <td>#Bakhmut</td>\n      <td>104</td>\n    </tr>\n    <tr>\n      <th>12</th>\n      <td>#Nigeria</td>\n      <td>104</td>\n    </tr>\n    <tr>\n      <th>13</th>\n      <td>#President</td>\n      <td>101</td>\n    </tr>\n    <tr>\n      <th>14</th>\n      <td>#America</td>\n      <td>96</td>\n    </tr>\n  </tbody>\n</table>\n</div>"
     },
     "execution_count": 52,
     "metadata": {},
     "output_type": "execute_result"
    }
   ],
   "source": [
    "df_ucraine_tweets_filtrado_hastags_contador  = df_ucraine_tweets_filtrado_hastags_contador.rename(columns={\"Frecuencia\": \"Hastag\", \"count\": \"Frecuencia\"})[:15]\n",
    "df_ucraine_tweets_filtrado_hastags_contador"
   ],
   "metadata": {
    "collapsed": false,
    "ExecuteTime": {
     "start_time": "2023-04-26T11:31:16.809794Z",
     "end_time": "2023-04-26T11:31:16.820050Z"
    }
   }
  },
  {
   "cell_type": "code",
   "execution_count": 64,
   "outputs": [],
   "source": [
    "df_ucraine_tweets_filtrado_hastags_contador.to_csv(\"hastag.csv\")"
   ],
   "metadata": {
    "collapsed": false,
    "ExecuteTime": {
     "start_time": "2023-04-26T11:42:29.369866Z",
     "end_time": "2023-04-26T11:42:29.381680Z"
    }
   }
  },
  {
   "cell_type": "code",
   "execution_count": 54,
   "outputs": [
    {
     "data": {
      "application/vnd.plotly.v1+json": {
       "data": [
        {
         "alignmentgroup": "True",
         "hovertemplate": "Hastag=%{x}<br>Frecuencia=%{marker.color}<extra></extra>",
         "legendgroup": "",
         "marker": {
          "color": [
           2837,
           487,
           244,
           203,
           197,
           192,
           149,
           145,
           143,
           141,
           114,
           104,
           104,
           101,
           96
          ],
          "coloraxis": "coloraxis",
          "pattern": {
           "shape": ""
          }
         },
         "name": "",
         "offsetgroup": "",
         "orientation": "v",
         "showlegend": false,
         "textposition": "auto",
         "x": [
          "#Ukraine",
          "#Russia",
          "#Germany",
          "#UkraineRussiaWar",
          "#Russian",
          "#NATO",
          "#US",
          "#Canada",
          "#UkraineWar",
          "#Donetsk",
          "#Ukrainian",
          "#Bakhmut",
          "#Nigeria",
          "#President",
          "#America"
         ],
         "xaxis": "x",
         "y": [
          2837,
          487,
          244,
          203,
          197,
          192,
          149,
          145,
          143,
          141,
          114,
          104,
          104,
          101,
          96
         ],
         "yaxis": "y",
         "type": "bar"
        }
       ],
       "layout": {
        "template": {
         "data": {
          "histogram2dcontour": [
           {
            "type": "histogram2dcontour",
            "colorbar": {
             "outlinewidth": 0,
             "ticks": ""
            },
            "colorscale": [
             [
              0.0,
              "#0d0887"
             ],
             [
              0.1111111111111111,
              "#46039f"
             ],
             [
              0.2222222222222222,
              "#7201a8"
             ],
             [
              0.3333333333333333,
              "#9c179e"
             ],
             [
              0.4444444444444444,
              "#bd3786"
             ],
             [
              0.5555555555555556,
              "#d8576b"
             ],
             [
              0.6666666666666666,
              "#ed7953"
             ],
             [
              0.7777777777777778,
              "#fb9f3a"
             ],
             [
              0.8888888888888888,
              "#fdca26"
             ],
             [
              1.0,
              "#f0f921"
             ]
            ]
           }
          ],
          "choropleth": [
           {
            "type": "choropleth",
            "colorbar": {
             "outlinewidth": 0,
             "ticks": ""
            }
           }
          ],
          "histogram2d": [
           {
            "type": "histogram2d",
            "colorbar": {
             "outlinewidth": 0,
             "ticks": ""
            },
            "colorscale": [
             [
              0.0,
              "#0d0887"
             ],
             [
              0.1111111111111111,
              "#46039f"
             ],
             [
              0.2222222222222222,
              "#7201a8"
             ],
             [
              0.3333333333333333,
              "#9c179e"
             ],
             [
              0.4444444444444444,
              "#bd3786"
             ],
             [
              0.5555555555555556,
              "#d8576b"
             ],
             [
              0.6666666666666666,
              "#ed7953"
             ],
             [
              0.7777777777777778,
              "#fb9f3a"
             ],
             [
              0.8888888888888888,
              "#fdca26"
             ],
             [
              1.0,
              "#f0f921"
             ]
            ]
           }
          ],
          "heatmap": [
           {
            "type": "heatmap",
            "colorbar": {
             "outlinewidth": 0,
             "ticks": ""
            },
            "colorscale": [
             [
              0.0,
              "#0d0887"
             ],
             [
              0.1111111111111111,
              "#46039f"
             ],
             [
              0.2222222222222222,
              "#7201a8"
             ],
             [
              0.3333333333333333,
              "#9c179e"
             ],
             [
              0.4444444444444444,
              "#bd3786"
             ],
             [
              0.5555555555555556,
              "#d8576b"
             ],
             [
              0.6666666666666666,
              "#ed7953"
             ],
             [
              0.7777777777777778,
              "#fb9f3a"
             ],
             [
              0.8888888888888888,
              "#fdca26"
             ],
             [
              1.0,
              "#f0f921"
             ]
            ]
           }
          ],
          "heatmapgl": [
           {
            "type": "heatmapgl",
            "colorbar": {
             "outlinewidth": 0,
             "ticks": ""
            },
            "colorscale": [
             [
              0.0,
              "#0d0887"
             ],
             [
              0.1111111111111111,
              "#46039f"
             ],
             [
              0.2222222222222222,
              "#7201a8"
             ],
             [
              0.3333333333333333,
              "#9c179e"
             ],
             [
              0.4444444444444444,
              "#bd3786"
             ],
             [
              0.5555555555555556,
              "#d8576b"
             ],
             [
              0.6666666666666666,
              "#ed7953"
             ],
             [
              0.7777777777777778,
              "#fb9f3a"
             ],
             [
              0.8888888888888888,
              "#fdca26"
             ],
             [
              1.0,
              "#f0f921"
             ]
            ]
           }
          ],
          "contourcarpet": [
           {
            "type": "contourcarpet",
            "colorbar": {
             "outlinewidth": 0,
             "ticks": ""
            }
           }
          ],
          "contour": [
           {
            "type": "contour",
            "colorbar": {
             "outlinewidth": 0,
             "ticks": ""
            },
            "colorscale": [
             [
              0.0,
              "#0d0887"
             ],
             [
              0.1111111111111111,
              "#46039f"
             ],
             [
              0.2222222222222222,
              "#7201a8"
             ],
             [
              0.3333333333333333,
              "#9c179e"
             ],
             [
              0.4444444444444444,
              "#bd3786"
             ],
             [
              0.5555555555555556,
              "#d8576b"
             ],
             [
              0.6666666666666666,
              "#ed7953"
             ],
             [
              0.7777777777777778,
              "#fb9f3a"
             ],
             [
              0.8888888888888888,
              "#fdca26"
             ],
             [
              1.0,
              "#f0f921"
             ]
            ]
           }
          ],
          "surface": [
           {
            "type": "surface",
            "colorbar": {
             "outlinewidth": 0,
             "ticks": ""
            },
            "colorscale": [
             [
              0.0,
              "#0d0887"
             ],
             [
              0.1111111111111111,
              "#46039f"
             ],
             [
              0.2222222222222222,
              "#7201a8"
             ],
             [
              0.3333333333333333,
              "#9c179e"
             ],
             [
              0.4444444444444444,
              "#bd3786"
             ],
             [
              0.5555555555555556,
              "#d8576b"
             ],
             [
              0.6666666666666666,
              "#ed7953"
             ],
             [
              0.7777777777777778,
              "#fb9f3a"
             ],
             [
              0.8888888888888888,
              "#fdca26"
             ],
             [
              1.0,
              "#f0f921"
             ]
            ]
           }
          ],
          "mesh3d": [
           {
            "type": "mesh3d",
            "colorbar": {
             "outlinewidth": 0,
             "ticks": ""
            }
           }
          ],
          "scatter": [
           {
            "marker": {
             "line": {
              "color": "#283442"
             }
            },
            "type": "scatter"
           }
          ],
          "parcoords": [
           {
            "type": "parcoords",
            "line": {
             "colorbar": {
              "outlinewidth": 0,
              "ticks": ""
             }
            }
           }
          ],
          "scatterpolargl": [
           {
            "type": "scatterpolargl",
            "marker": {
             "colorbar": {
              "outlinewidth": 0,
              "ticks": ""
             }
            }
           }
          ],
          "bar": [
           {
            "error_x": {
             "color": "#f2f5fa"
            },
            "error_y": {
             "color": "#f2f5fa"
            },
            "marker": {
             "line": {
              "color": "rgb(17,17,17)",
              "width": 0.5
             },
             "pattern": {
              "fillmode": "overlay",
              "size": 10,
              "solidity": 0.2
             }
            },
            "type": "bar"
           }
          ],
          "scattergeo": [
           {
            "type": "scattergeo",
            "marker": {
             "colorbar": {
              "outlinewidth": 0,
              "ticks": ""
             }
            }
           }
          ],
          "scatterpolar": [
           {
            "type": "scatterpolar",
            "marker": {
             "colorbar": {
              "outlinewidth": 0,
              "ticks": ""
             }
            }
           }
          ],
          "histogram": [
           {
            "marker": {
             "pattern": {
              "fillmode": "overlay",
              "size": 10,
              "solidity": 0.2
             }
            },
            "type": "histogram"
           }
          ],
          "scattergl": [
           {
            "marker": {
             "line": {
              "color": "#283442"
             }
            },
            "type": "scattergl"
           }
          ],
          "scatter3d": [
           {
            "type": "scatter3d",
            "line": {
             "colorbar": {
              "outlinewidth": 0,
              "ticks": ""
             }
            },
            "marker": {
             "colorbar": {
              "outlinewidth": 0,
              "ticks": ""
             }
            }
           }
          ],
          "scattermapbox": [
           {
            "type": "scattermapbox",
            "marker": {
             "colorbar": {
              "outlinewidth": 0,
              "ticks": ""
             }
            }
           }
          ],
          "scatterternary": [
           {
            "type": "scatterternary",
            "marker": {
             "colorbar": {
              "outlinewidth": 0,
              "ticks": ""
             }
            }
           }
          ],
          "scattercarpet": [
           {
            "type": "scattercarpet",
            "marker": {
             "colorbar": {
              "outlinewidth": 0,
              "ticks": ""
             }
            }
           }
          ],
          "carpet": [
           {
            "aaxis": {
             "endlinecolor": "#A2B1C6",
             "gridcolor": "#506784",
             "linecolor": "#506784",
             "minorgridcolor": "#506784",
             "startlinecolor": "#A2B1C6"
            },
            "baxis": {
             "endlinecolor": "#A2B1C6",
             "gridcolor": "#506784",
             "linecolor": "#506784",
             "minorgridcolor": "#506784",
             "startlinecolor": "#A2B1C6"
            },
            "type": "carpet"
           }
          ],
          "table": [
           {
            "cells": {
             "fill": {
              "color": "#506784"
             },
             "line": {
              "color": "rgb(17,17,17)"
             }
            },
            "header": {
             "fill": {
              "color": "#2a3f5f"
             },
             "line": {
              "color": "rgb(17,17,17)"
             }
            },
            "type": "table"
           }
          ],
          "barpolar": [
           {
            "marker": {
             "line": {
              "color": "rgb(17,17,17)",
              "width": 0.5
             },
             "pattern": {
              "fillmode": "overlay",
              "size": 10,
              "solidity": 0.2
             }
            },
            "type": "barpolar"
           }
          ],
          "pie": [
           {
            "automargin": true,
            "type": "pie"
           }
          ]
         },
         "layout": {
          "autotypenumbers": "strict",
          "colorway": [
           "#636efa",
           "#EF553B",
           "#00cc96",
           "#ab63fa",
           "#FFA15A",
           "#19d3f3",
           "#FF6692",
           "#B6E880",
           "#FF97FF",
           "#FECB52"
          ],
          "font": {
           "color": "#f2f5fa"
          },
          "hovermode": "closest",
          "hoverlabel": {
           "align": "left"
          },
          "paper_bgcolor": "rgb(17,17,17)",
          "plot_bgcolor": "rgb(17,17,17)",
          "polar": {
           "bgcolor": "rgb(17,17,17)",
           "angularaxis": {
            "gridcolor": "#506784",
            "linecolor": "#506784",
            "ticks": ""
           },
           "radialaxis": {
            "gridcolor": "#506784",
            "linecolor": "#506784",
            "ticks": ""
           }
          },
          "ternary": {
           "bgcolor": "rgb(17,17,17)",
           "aaxis": {
            "gridcolor": "#506784",
            "linecolor": "#506784",
            "ticks": ""
           },
           "baxis": {
            "gridcolor": "#506784",
            "linecolor": "#506784",
            "ticks": ""
           },
           "caxis": {
            "gridcolor": "#506784",
            "linecolor": "#506784",
            "ticks": ""
           }
          },
          "coloraxis": {
           "colorbar": {
            "outlinewidth": 0,
            "ticks": ""
           }
          },
          "colorscale": {
           "sequential": [
            [
             0.0,
             "#0d0887"
            ],
            [
             0.1111111111111111,
             "#46039f"
            ],
            [
             0.2222222222222222,
             "#7201a8"
            ],
            [
             0.3333333333333333,
             "#9c179e"
            ],
            [
             0.4444444444444444,
             "#bd3786"
            ],
            [
             0.5555555555555556,
             "#d8576b"
            ],
            [
             0.6666666666666666,
             "#ed7953"
            ],
            [
             0.7777777777777778,
             "#fb9f3a"
            ],
            [
             0.8888888888888888,
             "#fdca26"
            ],
            [
             1.0,
             "#f0f921"
            ]
           ],
           "sequentialminus": [
            [
             0.0,
             "#0d0887"
            ],
            [
             0.1111111111111111,
             "#46039f"
            ],
            [
             0.2222222222222222,
             "#7201a8"
            ],
            [
             0.3333333333333333,
             "#9c179e"
            ],
            [
             0.4444444444444444,
             "#bd3786"
            ],
            [
             0.5555555555555556,
             "#d8576b"
            ],
            [
             0.6666666666666666,
             "#ed7953"
            ],
            [
             0.7777777777777778,
             "#fb9f3a"
            ],
            [
             0.8888888888888888,
             "#fdca26"
            ],
            [
             1.0,
             "#f0f921"
            ]
           ],
           "diverging": [
            [
             0,
             "#8e0152"
            ],
            [
             0.1,
             "#c51b7d"
            ],
            [
             0.2,
             "#de77ae"
            ],
            [
             0.3,
             "#f1b6da"
            ],
            [
             0.4,
             "#fde0ef"
            ],
            [
             0.5,
             "#f7f7f7"
            ],
            [
             0.6,
             "#e6f5d0"
            ],
            [
             0.7,
             "#b8e186"
            ],
            [
             0.8,
             "#7fbc41"
            ],
            [
             0.9,
             "#4d9221"
            ],
            [
             1,
             "#276419"
            ]
           ]
          },
          "xaxis": {
           "gridcolor": "#283442",
           "linecolor": "#506784",
           "ticks": "",
           "title": {
            "standoff": 15
           },
           "zerolinecolor": "#283442",
           "automargin": true,
           "zerolinewidth": 2
          },
          "yaxis": {
           "gridcolor": "#283442",
           "linecolor": "#506784",
           "ticks": "",
           "title": {
            "standoff": 15
           },
           "zerolinecolor": "#283442",
           "automargin": true,
           "zerolinewidth": 2
          },
          "scene": {
           "xaxis": {
            "backgroundcolor": "rgb(17,17,17)",
            "gridcolor": "#506784",
            "linecolor": "#506784",
            "showbackground": true,
            "ticks": "",
            "zerolinecolor": "#C8D4E3",
            "gridwidth": 2
           },
           "yaxis": {
            "backgroundcolor": "rgb(17,17,17)",
            "gridcolor": "#506784",
            "linecolor": "#506784",
            "showbackground": true,
            "ticks": "",
            "zerolinecolor": "#C8D4E3",
            "gridwidth": 2
           },
           "zaxis": {
            "backgroundcolor": "rgb(17,17,17)",
            "gridcolor": "#506784",
            "linecolor": "#506784",
            "showbackground": true,
            "ticks": "",
            "zerolinecolor": "#C8D4E3",
            "gridwidth": 2
           }
          },
          "shapedefaults": {
           "line": {
            "color": "#f2f5fa"
           }
          },
          "annotationdefaults": {
           "arrowcolor": "#f2f5fa",
           "arrowhead": 0,
           "arrowwidth": 1
          },
          "geo": {
           "bgcolor": "rgb(17,17,17)",
           "landcolor": "rgb(17,17,17)",
           "subunitcolor": "#506784",
           "showland": true,
           "showlakes": true,
           "lakecolor": "rgb(17,17,17)"
          },
          "title": {
           "x": 0.05
          },
          "updatemenudefaults": {
           "bgcolor": "#506784",
           "borderwidth": 0
          },
          "sliderdefaults": {
           "bgcolor": "#C8D4E3",
           "borderwidth": 1,
           "bordercolor": "rgb(17,17,17)",
           "tickwidth": 0
          },
          "mapbox": {
           "style": "dark"
          }
         }
        },
        "xaxis": {
         "anchor": "y",
         "domain": [
          0.0,
          1.0
         ],
         "title": {
          "text": "Hastag"
         }
        },
        "yaxis": {
         "anchor": "x",
         "domain": [
          0.0,
          1.0
         ],
         "title": {
          "text": "Frecuencia"
         }
        },
        "coloraxis": {
         "colorbar": {
          "title": {
           "text": "Frecuencia"
          }
         },
         "colorscale": [
          [
           0.0,
           "#0d0887"
          ],
          [
           0.1111111111111111,
           "#46039f"
          ],
          [
           0.2222222222222222,
           "#7201a8"
          ],
          [
           0.3333333333333333,
           "#9c179e"
          ],
          [
           0.4444444444444444,
           "#bd3786"
          ],
          [
           0.5555555555555556,
           "#d8576b"
          ],
          [
           0.6666666666666666,
           "#ed7953"
          ],
          [
           0.7777777777777778,
           "#fb9f3a"
          ],
          [
           0.8888888888888888,
           "#fdca26"
          ],
          [
           1.0,
           "#f0f921"
          ]
         ]
        },
        "legend": {
         "tracegroupgap": 0
        },
        "margin": {
         "t": 60
        },
        "barmode": "relative",
        "height": 500
       },
       "config": {
        "plotlyServerURL": "https://plot.ly"
       }
      },
      "text/html": "<div>                            <div id=\"ae429f28-dcd7-4886-ad84-2c53937a2e49\" class=\"plotly-graph-div\" style=\"height:500px; width:100%;\"></div>            <script type=\"text/javascript\">                require([\"plotly\"], function(Plotly) {                    window.PLOTLYENV=window.PLOTLYENV || {};                                    if (document.getElementById(\"ae429f28-dcd7-4886-ad84-2c53937a2e49\")) {                    Plotly.newPlot(                        \"ae429f28-dcd7-4886-ad84-2c53937a2e49\",                        [{\"alignmentgroup\":\"True\",\"hovertemplate\":\"Hastag=%{x}<br>Frecuencia=%{marker.color}<extra></extra>\",\"legendgroup\":\"\",\"marker\":{\"color\":[2837,487,244,203,197,192,149,145,143,141,114,104,104,101,96],\"coloraxis\":\"coloraxis\",\"pattern\":{\"shape\":\"\"}},\"name\":\"\",\"offsetgroup\":\"\",\"orientation\":\"v\",\"showlegend\":false,\"textposition\":\"auto\",\"x\":[\"#Ukraine\",\"#Russia\",\"#Germany\",\"#UkraineRussiaWar\",\"#Russian\",\"#NATO\",\"#US\",\"#Canada\",\"#UkraineWar\",\"#Donetsk\",\"#Ukrainian\",\"#Bakhmut\",\"#Nigeria\",\"#President\",\"#America\"],\"xaxis\":\"x\",\"y\":[2837,487,244,203,197,192,149,145,143,141,114,104,104,101,96],\"yaxis\":\"y\",\"type\":\"bar\"}],                        {\"template\":{\"data\":{\"histogram2dcontour\":[{\"type\":\"histogram2dcontour\",\"colorbar\":{\"outlinewidth\":0,\"ticks\":\"\"},\"colorscale\":[[0.0,\"#0d0887\"],[0.1111111111111111,\"#46039f\"],[0.2222222222222222,\"#7201a8\"],[0.3333333333333333,\"#9c179e\"],[0.4444444444444444,\"#bd3786\"],[0.5555555555555556,\"#d8576b\"],[0.6666666666666666,\"#ed7953\"],[0.7777777777777778,\"#fb9f3a\"],[0.8888888888888888,\"#fdca26\"],[1.0,\"#f0f921\"]]}],\"choropleth\":[{\"type\":\"choropleth\",\"colorbar\":{\"outlinewidth\":0,\"ticks\":\"\"}}],\"histogram2d\":[{\"type\":\"histogram2d\",\"colorbar\":{\"outlinewidth\":0,\"ticks\":\"\"},\"colorscale\":[[0.0,\"#0d0887\"],[0.1111111111111111,\"#46039f\"],[0.2222222222222222,\"#7201a8\"],[0.3333333333333333,\"#9c179e\"],[0.4444444444444444,\"#bd3786\"],[0.5555555555555556,\"#d8576b\"],[0.6666666666666666,\"#ed7953\"],[0.7777777777777778,\"#fb9f3a\"],[0.8888888888888888,\"#fdca26\"],[1.0,\"#f0f921\"]]}],\"heatmap\":[{\"type\":\"heatmap\",\"colorbar\":{\"outlinewidth\":0,\"ticks\":\"\"},\"colorscale\":[[0.0,\"#0d0887\"],[0.1111111111111111,\"#46039f\"],[0.2222222222222222,\"#7201a8\"],[0.3333333333333333,\"#9c179e\"],[0.4444444444444444,\"#bd3786\"],[0.5555555555555556,\"#d8576b\"],[0.6666666666666666,\"#ed7953\"],[0.7777777777777778,\"#fb9f3a\"],[0.8888888888888888,\"#fdca26\"],[1.0,\"#f0f921\"]]}],\"heatmapgl\":[{\"type\":\"heatmapgl\",\"colorbar\":{\"outlinewidth\":0,\"ticks\":\"\"},\"colorscale\":[[0.0,\"#0d0887\"],[0.1111111111111111,\"#46039f\"],[0.2222222222222222,\"#7201a8\"],[0.3333333333333333,\"#9c179e\"],[0.4444444444444444,\"#bd3786\"],[0.5555555555555556,\"#d8576b\"],[0.6666666666666666,\"#ed7953\"],[0.7777777777777778,\"#fb9f3a\"],[0.8888888888888888,\"#fdca26\"],[1.0,\"#f0f921\"]]}],\"contourcarpet\":[{\"type\":\"contourcarpet\",\"colorbar\":{\"outlinewidth\":0,\"ticks\":\"\"}}],\"contour\":[{\"type\":\"contour\",\"colorbar\":{\"outlinewidth\":0,\"ticks\":\"\"},\"colorscale\":[[0.0,\"#0d0887\"],[0.1111111111111111,\"#46039f\"],[0.2222222222222222,\"#7201a8\"],[0.3333333333333333,\"#9c179e\"],[0.4444444444444444,\"#bd3786\"],[0.5555555555555556,\"#d8576b\"],[0.6666666666666666,\"#ed7953\"],[0.7777777777777778,\"#fb9f3a\"],[0.8888888888888888,\"#fdca26\"],[1.0,\"#f0f921\"]]}],\"surface\":[{\"type\":\"surface\",\"colorbar\":{\"outlinewidth\":0,\"ticks\":\"\"},\"colorscale\":[[0.0,\"#0d0887\"],[0.1111111111111111,\"#46039f\"],[0.2222222222222222,\"#7201a8\"],[0.3333333333333333,\"#9c179e\"],[0.4444444444444444,\"#bd3786\"],[0.5555555555555556,\"#d8576b\"],[0.6666666666666666,\"#ed7953\"],[0.7777777777777778,\"#fb9f3a\"],[0.8888888888888888,\"#fdca26\"],[1.0,\"#f0f921\"]]}],\"mesh3d\":[{\"type\":\"mesh3d\",\"colorbar\":{\"outlinewidth\":0,\"ticks\":\"\"}}],\"scatter\":[{\"marker\":{\"line\":{\"color\":\"#283442\"}},\"type\":\"scatter\"}],\"parcoords\":[{\"type\":\"parcoords\",\"line\":{\"colorbar\":{\"outlinewidth\":0,\"ticks\":\"\"}}}],\"scatterpolargl\":[{\"type\":\"scatterpolargl\",\"marker\":{\"colorbar\":{\"outlinewidth\":0,\"ticks\":\"\"}}}],\"bar\":[{\"error_x\":{\"color\":\"#f2f5fa\"},\"error_y\":{\"color\":\"#f2f5fa\"},\"marker\":{\"line\":{\"color\":\"rgb(17,17,17)\",\"width\":0.5},\"pattern\":{\"fillmode\":\"overlay\",\"size\":10,\"solidity\":0.2}},\"type\":\"bar\"}],\"scattergeo\":[{\"type\":\"scattergeo\",\"marker\":{\"colorbar\":{\"outlinewidth\":0,\"ticks\":\"\"}}}],\"scatterpolar\":[{\"type\":\"scatterpolar\",\"marker\":{\"colorbar\":{\"outlinewidth\":0,\"ticks\":\"\"}}}],\"histogram\":[{\"marker\":{\"pattern\":{\"fillmode\":\"overlay\",\"size\":10,\"solidity\":0.2}},\"type\":\"histogram\"}],\"scattergl\":[{\"marker\":{\"line\":{\"color\":\"#283442\"}},\"type\":\"scattergl\"}],\"scatter3d\":[{\"type\":\"scatter3d\",\"line\":{\"colorbar\":{\"outlinewidth\":0,\"ticks\":\"\"}},\"marker\":{\"colorbar\":{\"outlinewidth\":0,\"ticks\":\"\"}}}],\"scattermapbox\":[{\"type\":\"scattermapbox\",\"marker\":{\"colorbar\":{\"outlinewidth\":0,\"ticks\":\"\"}}}],\"scatterternary\":[{\"type\":\"scatterternary\",\"marker\":{\"colorbar\":{\"outlinewidth\":0,\"ticks\":\"\"}}}],\"scattercarpet\":[{\"type\":\"scattercarpet\",\"marker\":{\"colorbar\":{\"outlinewidth\":0,\"ticks\":\"\"}}}],\"carpet\":[{\"aaxis\":{\"endlinecolor\":\"#A2B1C6\",\"gridcolor\":\"#506784\",\"linecolor\":\"#506784\",\"minorgridcolor\":\"#506784\",\"startlinecolor\":\"#A2B1C6\"},\"baxis\":{\"endlinecolor\":\"#A2B1C6\",\"gridcolor\":\"#506784\",\"linecolor\":\"#506784\",\"minorgridcolor\":\"#506784\",\"startlinecolor\":\"#A2B1C6\"},\"type\":\"carpet\"}],\"table\":[{\"cells\":{\"fill\":{\"color\":\"#506784\"},\"line\":{\"color\":\"rgb(17,17,17)\"}},\"header\":{\"fill\":{\"color\":\"#2a3f5f\"},\"line\":{\"color\":\"rgb(17,17,17)\"}},\"type\":\"table\"}],\"barpolar\":[{\"marker\":{\"line\":{\"color\":\"rgb(17,17,17)\",\"width\":0.5},\"pattern\":{\"fillmode\":\"overlay\",\"size\":10,\"solidity\":0.2}},\"type\":\"barpolar\"}],\"pie\":[{\"automargin\":true,\"type\":\"pie\"}]},\"layout\":{\"autotypenumbers\":\"strict\",\"colorway\":[\"#636efa\",\"#EF553B\",\"#00cc96\",\"#ab63fa\",\"#FFA15A\",\"#19d3f3\",\"#FF6692\",\"#B6E880\",\"#FF97FF\",\"#FECB52\"],\"font\":{\"color\":\"#f2f5fa\"},\"hovermode\":\"closest\",\"hoverlabel\":{\"align\":\"left\"},\"paper_bgcolor\":\"rgb(17,17,17)\",\"plot_bgcolor\":\"rgb(17,17,17)\",\"polar\":{\"bgcolor\":\"rgb(17,17,17)\",\"angularaxis\":{\"gridcolor\":\"#506784\",\"linecolor\":\"#506784\",\"ticks\":\"\"},\"radialaxis\":{\"gridcolor\":\"#506784\",\"linecolor\":\"#506784\",\"ticks\":\"\"}},\"ternary\":{\"bgcolor\":\"rgb(17,17,17)\",\"aaxis\":{\"gridcolor\":\"#506784\",\"linecolor\":\"#506784\",\"ticks\":\"\"},\"baxis\":{\"gridcolor\":\"#506784\",\"linecolor\":\"#506784\",\"ticks\":\"\"},\"caxis\":{\"gridcolor\":\"#506784\",\"linecolor\":\"#506784\",\"ticks\":\"\"}},\"coloraxis\":{\"colorbar\":{\"outlinewidth\":0,\"ticks\":\"\"}},\"colorscale\":{\"sequential\":[[0.0,\"#0d0887\"],[0.1111111111111111,\"#46039f\"],[0.2222222222222222,\"#7201a8\"],[0.3333333333333333,\"#9c179e\"],[0.4444444444444444,\"#bd3786\"],[0.5555555555555556,\"#d8576b\"],[0.6666666666666666,\"#ed7953\"],[0.7777777777777778,\"#fb9f3a\"],[0.8888888888888888,\"#fdca26\"],[1.0,\"#f0f921\"]],\"sequentialminus\":[[0.0,\"#0d0887\"],[0.1111111111111111,\"#46039f\"],[0.2222222222222222,\"#7201a8\"],[0.3333333333333333,\"#9c179e\"],[0.4444444444444444,\"#bd3786\"],[0.5555555555555556,\"#d8576b\"],[0.6666666666666666,\"#ed7953\"],[0.7777777777777778,\"#fb9f3a\"],[0.8888888888888888,\"#fdca26\"],[1.0,\"#f0f921\"]],\"diverging\":[[0,\"#8e0152\"],[0.1,\"#c51b7d\"],[0.2,\"#de77ae\"],[0.3,\"#f1b6da\"],[0.4,\"#fde0ef\"],[0.5,\"#f7f7f7\"],[0.6,\"#e6f5d0\"],[0.7,\"#b8e186\"],[0.8,\"#7fbc41\"],[0.9,\"#4d9221\"],[1,\"#276419\"]]},\"xaxis\":{\"gridcolor\":\"#283442\",\"linecolor\":\"#506784\",\"ticks\":\"\",\"title\":{\"standoff\":15},\"zerolinecolor\":\"#283442\",\"automargin\":true,\"zerolinewidth\":2},\"yaxis\":{\"gridcolor\":\"#283442\",\"linecolor\":\"#506784\",\"ticks\":\"\",\"title\":{\"standoff\":15},\"zerolinecolor\":\"#283442\",\"automargin\":true,\"zerolinewidth\":2},\"scene\":{\"xaxis\":{\"backgroundcolor\":\"rgb(17,17,17)\",\"gridcolor\":\"#506784\",\"linecolor\":\"#506784\",\"showbackground\":true,\"ticks\":\"\",\"zerolinecolor\":\"#C8D4E3\",\"gridwidth\":2},\"yaxis\":{\"backgroundcolor\":\"rgb(17,17,17)\",\"gridcolor\":\"#506784\",\"linecolor\":\"#506784\",\"showbackground\":true,\"ticks\":\"\",\"zerolinecolor\":\"#C8D4E3\",\"gridwidth\":2},\"zaxis\":{\"backgroundcolor\":\"rgb(17,17,17)\",\"gridcolor\":\"#506784\",\"linecolor\":\"#506784\",\"showbackground\":true,\"ticks\":\"\",\"zerolinecolor\":\"#C8D4E3\",\"gridwidth\":2}},\"shapedefaults\":{\"line\":{\"color\":\"#f2f5fa\"}},\"annotationdefaults\":{\"arrowcolor\":\"#f2f5fa\",\"arrowhead\":0,\"arrowwidth\":1},\"geo\":{\"bgcolor\":\"rgb(17,17,17)\",\"landcolor\":\"rgb(17,17,17)\",\"subunitcolor\":\"#506784\",\"showland\":true,\"showlakes\":true,\"lakecolor\":\"rgb(17,17,17)\"},\"title\":{\"x\":0.05},\"updatemenudefaults\":{\"bgcolor\":\"#506784\",\"borderwidth\":0},\"sliderdefaults\":{\"bgcolor\":\"#C8D4E3\",\"borderwidth\":1,\"bordercolor\":\"rgb(17,17,17)\",\"tickwidth\":0},\"mapbox\":{\"style\":\"dark\"}}},\"xaxis\":{\"anchor\":\"y\",\"domain\":[0.0,1.0],\"title\":{\"text\":\"Hastag\"}},\"yaxis\":{\"anchor\":\"x\",\"domain\":[0.0,1.0],\"title\":{\"text\":\"Frecuencia\"}},\"coloraxis\":{\"colorbar\":{\"title\":{\"text\":\"Frecuencia\"}},\"colorscale\":[[0.0,\"#0d0887\"],[0.1111111111111111,\"#46039f\"],[0.2222222222222222,\"#7201a8\"],[0.3333333333333333,\"#9c179e\"],[0.4444444444444444,\"#bd3786\"],[0.5555555555555556,\"#d8576b\"],[0.6666666666666666,\"#ed7953\"],[0.7777777777777778,\"#fb9f3a\"],[0.8888888888888888,\"#fdca26\"],[1.0,\"#f0f921\"]]},\"legend\":{\"tracegroupgap\":0},\"margin\":{\"t\":60},\"barmode\":\"relative\",\"height\":500},                        {\"responsive\": true}                    ).then(function(){\n                            \nvar gd = document.getElementById('ae429f28-dcd7-4886-ad84-2c53937a2e49');\nvar x = new MutationObserver(function (mutations, observer) {{\n        var display = window.getComputedStyle(gd).display;\n        if (!display || display === 'none') {{\n            console.log([gd, 'removed!']);\n            Plotly.purge(gd);\n            observer.disconnect();\n        }}\n}});\n\n// Listen for the removal of the full notebook cells\nvar notebookContainer = gd.closest('#notebook-container');\nif (notebookContainer) {{\n    x.observe(notebookContainer, {childList: true});\n}}\n\n// Listen for the clearing of the current output cell\nvar outputEl = gd.closest('.output');\nif (outputEl) {{\n    x.observe(outputEl, {childList: true});\n}}\n\n                        })                };                });            </script>        </div>"
     },
     "metadata": {},
     "output_type": "display_data"
    }
   ],
   "source": [
    "fig = px.bar(df_ucraine_tweets_filtrado_hastags_contador, x = 'Hastag', y = 'Frecuencia',color='Frecuencia',height=500)\n",
    "fig.show()"
   ],
   "metadata": {
    "collapsed": false,
    "ExecuteTime": {
     "start_time": "2023-04-26T11:31:21.211595Z",
     "end_time": "2023-04-26T11:31:21.310140Z"
    }
   }
  },
  {
   "cell_type": "markdown",
   "source": [
    "### Busqueda por tweet"
   ],
   "metadata": {
    "collapsed": false
   }
  },
  {
   "cell_type": "code",
   "execution_count": 6,
   "outputs": [
    {
     "data": {
      "text/plain": "                 user.name  count\n0            Ukraine Queen     39\n1         Herry Napitupulu     37\n2                  Hi keep     35\n3              tuqonotetez     34\n4                    KK_10     29\n...                    ...    ...\n8574         Shawn Midkiff      1\n8575  Danny Van Vlaanderen      1\n8576       Shailendra Dhar      1\n8577              KStralli      1\n8578                 Тю-тю      1\n\n[8579 rows x 2 columns]",
      "text/html": "<div>\n<style scoped>\n    .dataframe tbody tr th:only-of-type {\n        vertical-align: middle;\n    }\n\n    .dataframe tbody tr th {\n        vertical-align: top;\n    }\n\n    .dataframe thead th {\n        text-align: right;\n    }\n</style>\n<table border=\"1\" class=\"dataframe\">\n  <thead>\n    <tr style=\"text-align: right;\">\n      <th></th>\n      <th>user.name</th>\n      <th>count</th>\n    </tr>\n  </thead>\n  <tbody>\n    <tr>\n      <th>0</th>\n      <td>Ukraine Queen</td>\n      <td>39</td>\n    </tr>\n    <tr>\n      <th>1</th>\n      <td>Herry Napitupulu</td>\n      <td>37</td>\n    </tr>\n    <tr>\n      <th>2</th>\n      <td>Hi keep</td>\n      <td>35</td>\n    </tr>\n    <tr>\n      <th>3</th>\n      <td>tuqonotetez</td>\n      <td>34</td>\n    </tr>\n    <tr>\n      <th>4</th>\n      <td>KK_10</td>\n      <td>29</td>\n    </tr>\n    <tr>\n      <th>...</th>\n      <td>...</td>\n      <td>...</td>\n    </tr>\n    <tr>\n      <th>8574</th>\n      <td>Shawn Midkiff</td>\n      <td>1</td>\n    </tr>\n    <tr>\n      <th>8575</th>\n      <td>Danny Van Vlaanderen</td>\n      <td>1</td>\n    </tr>\n    <tr>\n      <th>8576</th>\n      <td>Shailendra Dhar</td>\n      <td>1</td>\n    </tr>\n    <tr>\n      <th>8577</th>\n      <td>KStralli</td>\n      <td>1</td>\n    </tr>\n    <tr>\n      <th>8578</th>\n      <td>Тю-тю</td>\n      <td>1</td>\n    </tr>\n  </tbody>\n</table>\n<p>8579 rows × 2 columns</p>\n</div>"
     },
     "execution_count": 6,
     "metadata": {},
     "output_type": "execute_result"
    }
   ],
   "source": [
    "df_ucraine_tweets_filtrado_tweets_usuario = df_ucraine_tweets_filtrado['user.name'].value_counts().reset_index()\n",
    "df_ucraine_tweets_filtrado_tweets_usuario"
   ],
   "metadata": {
    "collapsed": false,
    "ExecuteTime": {
     "end_time": "2023-05-07T12:04:05.066188100Z",
     "start_time": "2023-05-07T12:04:05.061527700Z"
    }
   }
  },
  {
   "cell_type": "code",
   "execution_count": 9,
   "outputs": [
    {
     "data": {
      "text/plain": "                                    user.name  user\n0                               Ukraine Queen    39\n1                            Herry Napitupulu    37\n2                                     Hi keep    35\n3                                 tuqonotetez    34\n4                                       KK_10    29\n5                                        News    28\n6                                      Meiisa    25\n7                              caroyln ankrum    18\n8                                       tugas    18\n9                                     Now -UK    17\n10                                         Uk    16\n11                           Вячеслав Волошан    15\n12                             Anna F Beswick    14\n13          Sebastian White #StandWithUkraine    14\n14              🇺🇸JFernandez 🇺🇸🇷🇺 Trump Won!!    13\n15                                        Ben    12\n16                               Ukraine_kyiv    12\n17                            Layden Robinson    12\n18                         Bear, Sam, Jasmine    12\n19                                manchan🇯🇵🇺🇦    12\n20                                Edison Diaz    11\n21  Ліліана.Слава Україні!🇺🇦Glory to Ukraine!    10\n22                                  Nusantara    10\n23                  CDR Riley Katermans 🇳🇱 🇮🇱    10\n24                               Rod Stephens    10",
      "text/html": "<div>\n<style scoped>\n    .dataframe tbody tr th:only-of-type {\n        vertical-align: middle;\n    }\n\n    .dataframe tbody tr th {\n        vertical-align: top;\n    }\n\n    .dataframe thead th {\n        text-align: right;\n    }\n</style>\n<table border=\"1\" class=\"dataframe\">\n  <thead>\n    <tr style=\"text-align: right;\">\n      <th></th>\n      <th>user.name</th>\n      <th>user</th>\n    </tr>\n  </thead>\n  <tbody>\n    <tr>\n      <th>0</th>\n      <td>Ukraine Queen</td>\n      <td>39</td>\n    </tr>\n    <tr>\n      <th>1</th>\n      <td>Herry Napitupulu</td>\n      <td>37</td>\n    </tr>\n    <tr>\n      <th>2</th>\n      <td>Hi keep</td>\n      <td>35</td>\n    </tr>\n    <tr>\n      <th>3</th>\n      <td>tuqonotetez</td>\n      <td>34</td>\n    </tr>\n    <tr>\n      <th>4</th>\n      <td>KK_10</td>\n      <td>29</td>\n    </tr>\n    <tr>\n      <th>5</th>\n      <td>News</td>\n      <td>28</td>\n    </tr>\n    <tr>\n      <th>6</th>\n      <td>Meiisa</td>\n      <td>25</td>\n    </tr>\n    <tr>\n      <th>7</th>\n      <td>caroyln ankrum</td>\n      <td>18</td>\n    </tr>\n    <tr>\n      <th>8</th>\n      <td>tugas</td>\n      <td>18</td>\n    </tr>\n    <tr>\n      <th>9</th>\n      <td>Now -UK</td>\n      <td>17</td>\n    </tr>\n    <tr>\n      <th>10</th>\n      <td>Uk</td>\n      <td>16</td>\n    </tr>\n    <tr>\n      <th>11</th>\n      <td>Вячеслав Волошан</td>\n      <td>15</td>\n    </tr>\n    <tr>\n      <th>12</th>\n      <td>Anna F Beswick</td>\n      <td>14</td>\n    </tr>\n    <tr>\n      <th>13</th>\n      <td>Sebastian White #StandWithUkraine</td>\n      <td>14</td>\n    </tr>\n    <tr>\n      <th>14</th>\n      <td>🇺🇸JFernandez 🇺🇸🇷🇺 Trump Won!!</td>\n      <td>13</td>\n    </tr>\n    <tr>\n      <th>15</th>\n      <td>Ben</td>\n      <td>12</td>\n    </tr>\n    <tr>\n      <th>16</th>\n      <td>Ukraine_kyiv</td>\n      <td>12</td>\n    </tr>\n    <tr>\n      <th>17</th>\n      <td>Layden Robinson</td>\n      <td>12</td>\n    </tr>\n    <tr>\n      <th>18</th>\n      <td>Bear, Sam, Jasmine</td>\n      <td>12</td>\n    </tr>\n    <tr>\n      <th>19</th>\n      <td>manchan🇯🇵🇺🇦</td>\n      <td>12</td>\n    </tr>\n    <tr>\n      <th>20</th>\n      <td>Edison Diaz</td>\n      <td>11</td>\n    </tr>\n    <tr>\n      <th>21</th>\n      <td>Ліліана.Слава Україні!🇺🇦Glory to Ukraine!</td>\n      <td>10</td>\n    </tr>\n    <tr>\n      <th>22</th>\n      <td>Nusantara</td>\n      <td>10</td>\n    </tr>\n    <tr>\n      <th>23</th>\n      <td>CDR Riley Katermans 🇳🇱 🇮🇱</td>\n      <td>10</td>\n    </tr>\n    <tr>\n      <th>24</th>\n      <td>Rod Stephens</td>\n      <td>10</td>\n    </tr>\n  </tbody>\n</table>\n</div>"
     },
     "execution_count": 9,
     "metadata": {},
     "output_type": "execute_result"
    }
   ],
   "source": [
    "df_ucraine_tweets_filtrado_tweets_usuario  = df_ucraine_tweets_filtrado_tweets_usuario.rename(columns={\"Frecuencia\": \"user\", \"count\": \"Frecuencia\"})[:25]\n",
    "df_ucraine_tweets_filtrado_tweets_usuario"
   ],
   "metadata": {
    "collapsed": false,
    "ExecuteTime": {
     "end_time": "2023-05-07T12:04:17.163278500Z",
     "start_time": "2023-05-07T12:04:17.150814Z"
    }
   }
  },
  {
   "cell_type": "code",
   "execution_count": 15,
   "outputs": [],
   "source": [
    "df_ucraine_tweets_filtrado_tweets_usuario.to_csv(\"data_tweets.csv\")"
   ],
   "metadata": {
    "collapsed": false,
    "ExecuteTime": {
     "end_time": "2023-05-07T12:05:48.858140Z",
     "start_time": "2023-05-07T12:05:48.833041500Z"
    }
   }
  },
  {
   "cell_type": "code",
   "execution_count": 13,
   "outputs": [
    {
     "data": {
      "application/vnd.plotly.v1+json": {
       "data": [
        {
         "alignmentgroup": "True",
         "hovertemplate": "user.name=%{x}<br>user=%{marker.color}<extra></extra>",
         "legendgroup": "",
         "marker": {
          "color": [
           39,
           37,
           35,
           34,
           29,
           28,
           25,
           18,
           18,
           17,
           16,
           15,
           14,
           14,
           13,
           12,
           12,
           12,
           12,
           12,
           11,
           10,
           10,
           10,
           10
          ],
          "coloraxis": "coloraxis",
          "pattern": {
           "shape": ""
          }
         },
         "name": "",
         "offsetgroup": "",
         "orientation": "v",
         "showlegend": false,
         "textposition": "auto",
         "x": [
          "Ukraine Queen",
          "Herry Napitupulu",
          "Hi keep",
          "tuqonotetez",
          "KK_10",
          "News",
          "Meiisa",
          "caroyln ankrum",
          "tugas",
          "Now -UK",
          "Uk",
          "Вячеслав Волошан",
          "Anna F Beswick",
          "Sebastian White #StandWithUkraine",
          "🇺🇸JFernandez 🇺🇸🇷🇺 Trump Won!!",
          "Ben",
          "Ukraine_kyiv",
          "Layden Robinson",
          "Bear, Sam, Jasmine",
          "manchan🇯🇵🇺🇦",
          "Edison Diaz",
          "Ліліана.Слава Україні!🇺🇦Glory to Ukraine!",
          "Nusantara",
          "CDR Riley Katermans 🇳🇱 🇮🇱",
          "Rod Stephens"
         ],
         "xaxis": "x",
         "y": [
          39,
          37,
          35,
          34,
          29,
          28,
          25,
          18,
          18,
          17,
          16,
          15,
          14,
          14,
          13,
          12,
          12,
          12,
          12,
          12,
          11,
          10,
          10,
          10,
          10
         ],
         "yaxis": "y",
         "type": "bar"
        }
       ],
       "layout": {
        "template": {
         "data": {
          "histogram2dcontour": [
           {
            "type": "histogram2dcontour",
            "colorbar": {
             "outlinewidth": 0,
             "ticks": ""
            },
            "colorscale": [
             [
              0.0,
              "#0d0887"
             ],
             [
              0.1111111111111111,
              "#46039f"
             ],
             [
              0.2222222222222222,
              "#7201a8"
             ],
             [
              0.3333333333333333,
              "#9c179e"
             ],
             [
              0.4444444444444444,
              "#bd3786"
             ],
             [
              0.5555555555555556,
              "#d8576b"
             ],
             [
              0.6666666666666666,
              "#ed7953"
             ],
             [
              0.7777777777777778,
              "#fb9f3a"
             ],
             [
              0.8888888888888888,
              "#fdca26"
             ],
             [
              1.0,
              "#f0f921"
             ]
            ]
           }
          ],
          "choropleth": [
           {
            "type": "choropleth",
            "colorbar": {
             "outlinewidth": 0,
             "ticks": ""
            }
           }
          ],
          "histogram2d": [
           {
            "type": "histogram2d",
            "colorbar": {
             "outlinewidth": 0,
             "ticks": ""
            },
            "colorscale": [
             [
              0.0,
              "#0d0887"
             ],
             [
              0.1111111111111111,
              "#46039f"
             ],
             [
              0.2222222222222222,
              "#7201a8"
             ],
             [
              0.3333333333333333,
              "#9c179e"
             ],
             [
              0.4444444444444444,
              "#bd3786"
             ],
             [
              0.5555555555555556,
              "#d8576b"
             ],
             [
              0.6666666666666666,
              "#ed7953"
             ],
             [
              0.7777777777777778,
              "#fb9f3a"
             ],
             [
              0.8888888888888888,
              "#fdca26"
             ],
             [
              1.0,
              "#f0f921"
             ]
            ]
           }
          ],
          "heatmap": [
           {
            "type": "heatmap",
            "colorbar": {
             "outlinewidth": 0,
             "ticks": ""
            },
            "colorscale": [
             [
              0.0,
              "#0d0887"
             ],
             [
              0.1111111111111111,
              "#46039f"
             ],
             [
              0.2222222222222222,
              "#7201a8"
             ],
             [
              0.3333333333333333,
              "#9c179e"
             ],
             [
              0.4444444444444444,
              "#bd3786"
             ],
             [
              0.5555555555555556,
              "#d8576b"
             ],
             [
              0.6666666666666666,
              "#ed7953"
             ],
             [
              0.7777777777777778,
              "#fb9f3a"
             ],
             [
              0.8888888888888888,
              "#fdca26"
             ],
             [
              1.0,
              "#f0f921"
             ]
            ]
           }
          ],
          "heatmapgl": [
           {
            "type": "heatmapgl",
            "colorbar": {
             "outlinewidth": 0,
             "ticks": ""
            },
            "colorscale": [
             [
              0.0,
              "#0d0887"
             ],
             [
              0.1111111111111111,
              "#46039f"
             ],
             [
              0.2222222222222222,
              "#7201a8"
             ],
             [
              0.3333333333333333,
              "#9c179e"
             ],
             [
              0.4444444444444444,
              "#bd3786"
             ],
             [
              0.5555555555555556,
              "#d8576b"
             ],
             [
              0.6666666666666666,
              "#ed7953"
             ],
             [
              0.7777777777777778,
              "#fb9f3a"
             ],
             [
              0.8888888888888888,
              "#fdca26"
             ],
             [
              1.0,
              "#f0f921"
             ]
            ]
           }
          ],
          "contourcarpet": [
           {
            "type": "contourcarpet",
            "colorbar": {
             "outlinewidth": 0,
             "ticks": ""
            }
           }
          ],
          "contour": [
           {
            "type": "contour",
            "colorbar": {
             "outlinewidth": 0,
             "ticks": ""
            },
            "colorscale": [
             [
              0.0,
              "#0d0887"
             ],
             [
              0.1111111111111111,
              "#46039f"
             ],
             [
              0.2222222222222222,
              "#7201a8"
             ],
             [
              0.3333333333333333,
              "#9c179e"
             ],
             [
              0.4444444444444444,
              "#bd3786"
             ],
             [
              0.5555555555555556,
              "#d8576b"
             ],
             [
              0.6666666666666666,
              "#ed7953"
             ],
             [
              0.7777777777777778,
              "#fb9f3a"
             ],
             [
              0.8888888888888888,
              "#fdca26"
             ],
             [
              1.0,
              "#f0f921"
             ]
            ]
           }
          ],
          "surface": [
           {
            "type": "surface",
            "colorbar": {
             "outlinewidth": 0,
             "ticks": ""
            },
            "colorscale": [
             [
              0.0,
              "#0d0887"
             ],
             [
              0.1111111111111111,
              "#46039f"
             ],
             [
              0.2222222222222222,
              "#7201a8"
             ],
             [
              0.3333333333333333,
              "#9c179e"
             ],
             [
              0.4444444444444444,
              "#bd3786"
             ],
             [
              0.5555555555555556,
              "#d8576b"
             ],
             [
              0.6666666666666666,
              "#ed7953"
             ],
             [
              0.7777777777777778,
              "#fb9f3a"
             ],
             [
              0.8888888888888888,
              "#fdca26"
             ],
             [
              1.0,
              "#f0f921"
             ]
            ]
           }
          ],
          "mesh3d": [
           {
            "type": "mesh3d",
            "colorbar": {
             "outlinewidth": 0,
             "ticks": ""
            }
           }
          ],
          "scatter": [
           {
            "marker": {
             "line": {
              "color": "#283442"
             }
            },
            "type": "scatter"
           }
          ],
          "parcoords": [
           {
            "type": "parcoords",
            "line": {
             "colorbar": {
              "outlinewidth": 0,
              "ticks": ""
             }
            }
           }
          ],
          "scatterpolargl": [
           {
            "type": "scatterpolargl",
            "marker": {
             "colorbar": {
              "outlinewidth": 0,
              "ticks": ""
             }
            }
           }
          ],
          "bar": [
           {
            "error_x": {
             "color": "#f2f5fa"
            },
            "error_y": {
             "color": "#f2f5fa"
            },
            "marker": {
             "line": {
              "color": "rgb(17,17,17)",
              "width": 0.5
             },
             "pattern": {
              "fillmode": "overlay",
              "size": 10,
              "solidity": 0.2
             }
            },
            "type": "bar"
           }
          ],
          "scattergeo": [
           {
            "type": "scattergeo",
            "marker": {
             "colorbar": {
              "outlinewidth": 0,
              "ticks": ""
             }
            }
           }
          ],
          "scatterpolar": [
           {
            "type": "scatterpolar",
            "marker": {
             "colorbar": {
              "outlinewidth": 0,
              "ticks": ""
             }
            }
           }
          ],
          "histogram": [
           {
            "marker": {
             "pattern": {
              "fillmode": "overlay",
              "size": 10,
              "solidity": 0.2
             }
            },
            "type": "histogram"
           }
          ],
          "scattergl": [
           {
            "marker": {
             "line": {
              "color": "#283442"
             }
            },
            "type": "scattergl"
           }
          ],
          "scatter3d": [
           {
            "type": "scatter3d",
            "line": {
             "colorbar": {
              "outlinewidth": 0,
              "ticks": ""
             }
            },
            "marker": {
             "colorbar": {
              "outlinewidth": 0,
              "ticks": ""
             }
            }
           }
          ],
          "scattermapbox": [
           {
            "type": "scattermapbox",
            "marker": {
             "colorbar": {
              "outlinewidth": 0,
              "ticks": ""
             }
            }
           }
          ],
          "scatterternary": [
           {
            "type": "scatterternary",
            "marker": {
             "colorbar": {
              "outlinewidth": 0,
              "ticks": ""
             }
            }
           }
          ],
          "scattercarpet": [
           {
            "type": "scattercarpet",
            "marker": {
             "colorbar": {
              "outlinewidth": 0,
              "ticks": ""
             }
            }
           }
          ],
          "carpet": [
           {
            "aaxis": {
             "endlinecolor": "#A2B1C6",
             "gridcolor": "#506784",
             "linecolor": "#506784",
             "minorgridcolor": "#506784",
             "startlinecolor": "#A2B1C6"
            },
            "baxis": {
             "endlinecolor": "#A2B1C6",
             "gridcolor": "#506784",
             "linecolor": "#506784",
             "minorgridcolor": "#506784",
             "startlinecolor": "#A2B1C6"
            },
            "type": "carpet"
           }
          ],
          "table": [
           {
            "cells": {
             "fill": {
              "color": "#506784"
             },
             "line": {
              "color": "rgb(17,17,17)"
             }
            },
            "header": {
             "fill": {
              "color": "#2a3f5f"
             },
             "line": {
              "color": "rgb(17,17,17)"
             }
            },
            "type": "table"
           }
          ],
          "barpolar": [
           {
            "marker": {
             "line": {
              "color": "rgb(17,17,17)",
              "width": 0.5
             },
             "pattern": {
              "fillmode": "overlay",
              "size": 10,
              "solidity": 0.2
             }
            },
            "type": "barpolar"
           }
          ],
          "pie": [
           {
            "automargin": true,
            "type": "pie"
           }
          ]
         },
         "layout": {
          "autotypenumbers": "strict",
          "colorway": [
           "#636efa",
           "#EF553B",
           "#00cc96",
           "#ab63fa",
           "#FFA15A",
           "#19d3f3",
           "#FF6692",
           "#B6E880",
           "#FF97FF",
           "#FECB52"
          ],
          "font": {
           "color": "#f2f5fa"
          },
          "hovermode": "closest",
          "hoverlabel": {
           "align": "left"
          },
          "paper_bgcolor": "rgb(17,17,17)",
          "plot_bgcolor": "rgb(17,17,17)",
          "polar": {
           "bgcolor": "rgb(17,17,17)",
           "angularaxis": {
            "gridcolor": "#506784",
            "linecolor": "#506784",
            "ticks": ""
           },
           "radialaxis": {
            "gridcolor": "#506784",
            "linecolor": "#506784",
            "ticks": ""
           }
          },
          "ternary": {
           "bgcolor": "rgb(17,17,17)",
           "aaxis": {
            "gridcolor": "#506784",
            "linecolor": "#506784",
            "ticks": ""
           },
           "baxis": {
            "gridcolor": "#506784",
            "linecolor": "#506784",
            "ticks": ""
           },
           "caxis": {
            "gridcolor": "#506784",
            "linecolor": "#506784",
            "ticks": ""
           }
          },
          "coloraxis": {
           "colorbar": {
            "outlinewidth": 0,
            "ticks": ""
           }
          },
          "colorscale": {
           "sequential": [
            [
             0.0,
             "#0d0887"
            ],
            [
             0.1111111111111111,
             "#46039f"
            ],
            [
             0.2222222222222222,
             "#7201a8"
            ],
            [
             0.3333333333333333,
             "#9c179e"
            ],
            [
             0.4444444444444444,
             "#bd3786"
            ],
            [
             0.5555555555555556,
             "#d8576b"
            ],
            [
             0.6666666666666666,
             "#ed7953"
            ],
            [
             0.7777777777777778,
             "#fb9f3a"
            ],
            [
             0.8888888888888888,
             "#fdca26"
            ],
            [
             1.0,
             "#f0f921"
            ]
           ],
           "sequentialminus": [
            [
             0.0,
             "#0d0887"
            ],
            [
             0.1111111111111111,
             "#46039f"
            ],
            [
             0.2222222222222222,
             "#7201a8"
            ],
            [
             0.3333333333333333,
             "#9c179e"
            ],
            [
             0.4444444444444444,
             "#bd3786"
            ],
            [
             0.5555555555555556,
             "#d8576b"
            ],
            [
             0.6666666666666666,
             "#ed7953"
            ],
            [
             0.7777777777777778,
             "#fb9f3a"
            ],
            [
             0.8888888888888888,
             "#fdca26"
            ],
            [
             1.0,
             "#f0f921"
            ]
           ],
           "diverging": [
            [
             0,
             "#8e0152"
            ],
            [
             0.1,
             "#c51b7d"
            ],
            [
             0.2,
             "#de77ae"
            ],
            [
             0.3,
             "#f1b6da"
            ],
            [
             0.4,
             "#fde0ef"
            ],
            [
             0.5,
             "#f7f7f7"
            ],
            [
             0.6,
             "#e6f5d0"
            ],
            [
             0.7,
             "#b8e186"
            ],
            [
             0.8,
             "#7fbc41"
            ],
            [
             0.9,
             "#4d9221"
            ],
            [
             1,
             "#276419"
            ]
           ]
          },
          "xaxis": {
           "gridcolor": "#283442",
           "linecolor": "#506784",
           "ticks": "",
           "title": {
            "standoff": 15
           },
           "zerolinecolor": "#283442",
           "automargin": true,
           "zerolinewidth": 2
          },
          "yaxis": {
           "gridcolor": "#283442",
           "linecolor": "#506784",
           "ticks": "",
           "title": {
            "standoff": 15
           },
           "zerolinecolor": "#283442",
           "automargin": true,
           "zerolinewidth": 2
          },
          "scene": {
           "xaxis": {
            "backgroundcolor": "rgb(17,17,17)",
            "gridcolor": "#506784",
            "linecolor": "#506784",
            "showbackground": true,
            "ticks": "",
            "zerolinecolor": "#C8D4E3",
            "gridwidth": 2
           },
           "yaxis": {
            "backgroundcolor": "rgb(17,17,17)",
            "gridcolor": "#506784",
            "linecolor": "#506784",
            "showbackground": true,
            "ticks": "",
            "zerolinecolor": "#C8D4E3",
            "gridwidth": 2
           },
           "zaxis": {
            "backgroundcolor": "rgb(17,17,17)",
            "gridcolor": "#506784",
            "linecolor": "#506784",
            "showbackground": true,
            "ticks": "",
            "zerolinecolor": "#C8D4E3",
            "gridwidth": 2
           }
          },
          "shapedefaults": {
           "line": {
            "color": "#f2f5fa"
           }
          },
          "annotationdefaults": {
           "arrowcolor": "#f2f5fa",
           "arrowhead": 0,
           "arrowwidth": 1
          },
          "geo": {
           "bgcolor": "rgb(17,17,17)",
           "landcolor": "rgb(17,17,17)",
           "subunitcolor": "#506784",
           "showland": true,
           "showlakes": true,
           "lakecolor": "rgb(17,17,17)"
          },
          "title": {
           "x": 0.05
          },
          "updatemenudefaults": {
           "bgcolor": "#506784",
           "borderwidth": 0
          },
          "sliderdefaults": {
           "bgcolor": "#C8D4E3",
           "borderwidth": 1,
           "bordercolor": "rgb(17,17,17)",
           "tickwidth": 0
          },
          "mapbox": {
           "style": "dark"
          }
         }
        },
        "xaxis": {
         "anchor": "y",
         "domain": [
          0.0,
          1.0
         ],
         "title": {
          "text": "user.name"
         }
        },
        "yaxis": {
         "anchor": "x",
         "domain": [
          0.0,
          1.0
         ],
         "title": {
          "text": "user"
         }
        },
        "coloraxis": {
         "colorbar": {
          "title": {
           "text": "user"
          }
         },
         "colorscale": [
          [
           0.0,
           "#0d0887"
          ],
          [
           0.1111111111111111,
           "#46039f"
          ],
          [
           0.2222222222222222,
           "#7201a8"
          ],
          [
           0.3333333333333333,
           "#9c179e"
          ],
          [
           0.4444444444444444,
           "#bd3786"
          ],
          [
           0.5555555555555556,
           "#d8576b"
          ],
          [
           0.6666666666666666,
           "#ed7953"
          ],
          [
           0.7777777777777778,
           "#fb9f3a"
          ],
          [
           0.8888888888888888,
           "#fdca26"
          ],
          [
           1.0,
           "#f0f921"
          ]
         ]
        },
        "legend": {
         "tracegroupgap": 0
        },
        "margin": {
         "t": 60
        },
        "barmode": "relative",
        "height": 500
       },
       "config": {
        "plotlyServerURL": "https://plot.ly"
       }
      },
      "text/html": "<div>                            <div id=\"4b25dc5b-d216-4b66-810d-53d227052b01\" class=\"plotly-graph-div\" style=\"height:500px; width:100%;\"></div>            <script type=\"text/javascript\">                require([\"plotly\"], function(Plotly) {                    window.PLOTLYENV=window.PLOTLYENV || {};                                    if (document.getElementById(\"4b25dc5b-d216-4b66-810d-53d227052b01\")) {                    Plotly.newPlot(                        \"4b25dc5b-d216-4b66-810d-53d227052b01\",                        [{\"alignmentgroup\":\"True\",\"hovertemplate\":\"user.name=%{x}<br>user=%{marker.color}<extra></extra>\",\"legendgroup\":\"\",\"marker\":{\"color\":[39,37,35,34,29,28,25,18,18,17,16,15,14,14,13,12,12,12,12,12,11,10,10,10,10],\"coloraxis\":\"coloraxis\",\"pattern\":{\"shape\":\"\"}},\"name\":\"\",\"offsetgroup\":\"\",\"orientation\":\"v\",\"showlegend\":false,\"textposition\":\"auto\",\"x\":[\"Ukraine Queen\",\"Herry Napitupulu\",\"Hi keep\",\"tuqonotetez\",\"KK_10\",\"News\",\"Meiisa\",\"caroyln ankrum\",\"tugas\",\"Now -UK\",\"Uk\",\"\\u0412\\u044f\\u0447\\u0435\\u0441\\u043b\\u0430\\u0432 \\u0412\\u043e\\u043b\\u043e\\u0448\\u0430\\u043d\",\"Anna F Beswick\",\"Sebastian White #StandWithUkraine\",\"\\ud83c\\uddfa\\ud83c\\uddf8JFernandez \\ud83c\\uddfa\\ud83c\\uddf8\\ud83c\\uddf7\\ud83c\\uddfa Trump Won!!\",\"Ben\",\"Ukraine_kyiv\",\"Layden Robinson\",\"Bear, Sam, Jasmine\",\"manchan\\ud83c\\uddef\\ud83c\\uddf5\\ud83c\\uddfa\\ud83c\\udde6\",\"Edison Diaz\",\"\\u041b\\u0456\\u043b\\u0456\\u0430\\u043d\\u0430.\\u0421\\u043b\\u0430\\u0432\\u0430 \\u0423\\u043a\\u0440\\u0430\\u0457\\u043d\\u0456!\\ud83c\\uddfa\\ud83c\\udde6Glory to Ukraine!\",\"Nusantara\",\"CDR Riley Katermans \\ud83c\\uddf3\\ud83c\\uddf1 \\ud83c\\uddee\\ud83c\\uddf1\",\"Rod Stephens\"],\"xaxis\":\"x\",\"y\":[39,37,35,34,29,28,25,18,18,17,16,15,14,14,13,12,12,12,12,12,11,10,10,10,10],\"yaxis\":\"y\",\"type\":\"bar\"}],                        {\"template\":{\"data\":{\"histogram2dcontour\":[{\"type\":\"histogram2dcontour\",\"colorbar\":{\"outlinewidth\":0,\"ticks\":\"\"},\"colorscale\":[[0.0,\"#0d0887\"],[0.1111111111111111,\"#46039f\"],[0.2222222222222222,\"#7201a8\"],[0.3333333333333333,\"#9c179e\"],[0.4444444444444444,\"#bd3786\"],[0.5555555555555556,\"#d8576b\"],[0.6666666666666666,\"#ed7953\"],[0.7777777777777778,\"#fb9f3a\"],[0.8888888888888888,\"#fdca26\"],[1.0,\"#f0f921\"]]}],\"choropleth\":[{\"type\":\"choropleth\",\"colorbar\":{\"outlinewidth\":0,\"ticks\":\"\"}}],\"histogram2d\":[{\"type\":\"histogram2d\",\"colorbar\":{\"outlinewidth\":0,\"ticks\":\"\"},\"colorscale\":[[0.0,\"#0d0887\"],[0.1111111111111111,\"#46039f\"],[0.2222222222222222,\"#7201a8\"],[0.3333333333333333,\"#9c179e\"],[0.4444444444444444,\"#bd3786\"],[0.5555555555555556,\"#d8576b\"],[0.6666666666666666,\"#ed7953\"],[0.7777777777777778,\"#fb9f3a\"],[0.8888888888888888,\"#fdca26\"],[1.0,\"#f0f921\"]]}],\"heatmap\":[{\"type\":\"heatmap\",\"colorbar\":{\"outlinewidth\":0,\"ticks\":\"\"},\"colorscale\":[[0.0,\"#0d0887\"],[0.1111111111111111,\"#46039f\"],[0.2222222222222222,\"#7201a8\"],[0.3333333333333333,\"#9c179e\"],[0.4444444444444444,\"#bd3786\"],[0.5555555555555556,\"#d8576b\"],[0.6666666666666666,\"#ed7953\"],[0.7777777777777778,\"#fb9f3a\"],[0.8888888888888888,\"#fdca26\"],[1.0,\"#f0f921\"]]}],\"heatmapgl\":[{\"type\":\"heatmapgl\",\"colorbar\":{\"outlinewidth\":0,\"ticks\":\"\"},\"colorscale\":[[0.0,\"#0d0887\"],[0.1111111111111111,\"#46039f\"],[0.2222222222222222,\"#7201a8\"],[0.3333333333333333,\"#9c179e\"],[0.4444444444444444,\"#bd3786\"],[0.5555555555555556,\"#d8576b\"],[0.6666666666666666,\"#ed7953\"],[0.7777777777777778,\"#fb9f3a\"],[0.8888888888888888,\"#fdca26\"],[1.0,\"#f0f921\"]]}],\"contourcarpet\":[{\"type\":\"contourcarpet\",\"colorbar\":{\"outlinewidth\":0,\"ticks\":\"\"}}],\"contour\":[{\"type\":\"contour\",\"colorbar\":{\"outlinewidth\":0,\"ticks\":\"\"},\"colorscale\":[[0.0,\"#0d0887\"],[0.1111111111111111,\"#46039f\"],[0.2222222222222222,\"#7201a8\"],[0.3333333333333333,\"#9c179e\"],[0.4444444444444444,\"#bd3786\"],[0.5555555555555556,\"#d8576b\"],[0.6666666666666666,\"#ed7953\"],[0.7777777777777778,\"#fb9f3a\"],[0.8888888888888888,\"#fdca26\"],[1.0,\"#f0f921\"]]}],\"surface\":[{\"type\":\"surface\",\"colorbar\":{\"outlinewidth\":0,\"ticks\":\"\"},\"colorscale\":[[0.0,\"#0d0887\"],[0.1111111111111111,\"#46039f\"],[0.2222222222222222,\"#7201a8\"],[0.3333333333333333,\"#9c179e\"],[0.4444444444444444,\"#bd3786\"],[0.5555555555555556,\"#d8576b\"],[0.6666666666666666,\"#ed7953\"],[0.7777777777777778,\"#fb9f3a\"],[0.8888888888888888,\"#fdca26\"],[1.0,\"#f0f921\"]]}],\"mesh3d\":[{\"type\":\"mesh3d\",\"colorbar\":{\"outlinewidth\":0,\"ticks\":\"\"}}],\"scatter\":[{\"marker\":{\"line\":{\"color\":\"#283442\"}},\"type\":\"scatter\"}],\"parcoords\":[{\"type\":\"parcoords\",\"line\":{\"colorbar\":{\"outlinewidth\":0,\"ticks\":\"\"}}}],\"scatterpolargl\":[{\"type\":\"scatterpolargl\",\"marker\":{\"colorbar\":{\"outlinewidth\":0,\"ticks\":\"\"}}}],\"bar\":[{\"error_x\":{\"color\":\"#f2f5fa\"},\"error_y\":{\"color\":\"#f2f5fa\"},\"marker\":{\"line\":{\"color\":\"rgb(17,17,17)\",\"width\":0.5},\"pattern\":{\"fillmode\":\"overlay\",\"size\":10,\"solidity\":0.2}},\"type\":\"bar\"}],\"scattergeo\":[{\"type\":\"scattergeo\",\"marker\":{\"colorbar\":{\"outlinewidth\":0,\"ticks\":\"\"}}}],\"scatterpolar\":[{\"type\":\"scatterpolar\",\"marker\":{\"colorbar\":{\"outlinewidth\":0,\"ticks\":\"\"}}}],\"histogram\":[{\"marker\":{\"pattern\":{\"fillmode\":\"overlay\",\"size\":10,\"solidity\":0.2}},\"type\":\"histogram\"}],\"scattergl\":[{\"marker\":{\"line\":{\"color\":\"#283442\"}},\"type\":\"scattergl\"}],\"scatter3d\":[{\"type\":\"scatter3d\",\"line\":{\"colorbar\":{\"outlinewidth\":0,\"ticks\":\"\"}},\"marker\":{\"colorbar\":{\"outlinewidth\":0,\"ticks\":\"\"}}}],\"scattermapbox\":[{\"type\":\"scattermapbox\",\"marker\":{\"colorbar\":{\"outlinewidth\":0,\"ticks\":\"\"}}}],\"scatterternary\":[{\"type\":\"scatterternary\",\"marker\":{\"colorbar\":{\"outlinewidth\":0,\"ticks\":\"\"}}}],\"scattercarpet\":[{\"type\":\"scattercarpet\",\"marker\":{\"colorbar\":{\"outlinewidth\":0,\"ticks\":\"\"}}}],\"carpet\":[{\"aaxis\":{\"endlinecolor\":\"#A2B1C6\",\"gridcolor\":\"#506784\",\"linecolor\":\"#506784\",\"minorgridcolor\":\"#506784\",\"startlinecolor\":\"#A2B1C6\"},\"baxis\":{\"endlinecolor\":\"#A2B1C6\",\"gridcolor\":\"#506784\",\"linecolor\":\"#506784\",\"minorgridcolor\":\"#506784\",\"startlinecolor\":\"#A2B1C6\"},\"type\":\"carpet\"}],\"table\":[{\"cells\":{\"fill\":{\"color\":\"#506784\"},\"line\":{\"color\":\"rgb(17,17,17)\"}},\"header\":{\"fill\":{\"color\":\"#2a3f5f\"},\"line\":{\"color\":\"rgb(17,17,17)\"}},\"type\":\"table\"}],\"barpolar\":[{\"marker\":{\"line\":{\"color\":\"rgb(17,17,17)\",\"width\":0.5},\"pattern\":{\"fillmode\":\"overlay\",\"size\":10,\"solidity\":0.2}},\"type\":\"barpolar\"}],\"pie\":[{\"automargin\":true,\"type\":\"pie\"}]},\"layout\":{\"autotypenumbers\":\"strict\",\"colorway\":[\"#636efa\",\"#EF553B\",\"#00cc96\",\"#ab63fa\",\"#FFA15A\",\"#19d3f3\",\"#FF6692\",\"#B6E880\",\"#FF97FF\",\"#FECB52\"],\"font\":{\"color\":\"#f2f5fa\"},\"hovermode\":\"closest\",\"hoverlabel\":{\"align\":\"left\"},\"paper_bgcolor\":\"rgb(17,17,17)\",\"plot_bgcolor\":\"rgb(17,17,17)\",\"polar\":{\"bgcolor\":\"rgb(17,17,17)\",\"angularaxis\":{\"gridcolor\":\"#506784\",\"linecolor\":\"#506784\",\"ticks\":\"\"},\"radialaxis\":{\"gridcolor\":\"#506784\",\"linecolor\":\"#506784\",\"ticks\":\"\"}},\"ternary\":{\"bgcolor\":\"rgb(17,17,17)\",\"aaxis\":{\"gridcolor\":\"#506784\",\"linecolor\":\"#506784\",\"ticks\":\"\"},\"baxis\":{\"gridcolor\":\"#506784\",\"linecolor\":\"#506784\",\"ticks\":\"\"},\"caxis\":{\"gridcolor\":\"#506784\",\"linecolor\":\"#506784\",\"ticks\":\"\"}},\"coloraxis\":{\"colorbar\":{\"outlinewidth\":0,\"ticks\":\"\"}},\"colorscale\":{\"sequential\":[[0.0,\"#0d0887\"],[0.1111111111111111,\"#46039f\"],[0.2222222222222222,\"#7201a8\"],[0.3333333333333333,\"#9c179e\"],[0.4444444444444444,\"#bd3786\"],[0.5555555555555556,\"#d8576b\"],[0.6666666666666666,\"#ed7953\"],[0.7777777777777778,\"#fb9f3a\"],[0.8888888888888888,\"#fdca26\"],[1.0,\"#f0f921\"]],\"sequentialminus\":[[0.0,\"#0d0887\"],[0.1111111111111111,\"#46039f\"],[0.2222222222222222,\"#7201a8\"],[0.3333333333333333,\"#9c179e\"],[0.4444444444444444,\"#bd3786\"],[0.5555555555555556,\"#d8576b\"],[0.6666666666666666,\"#ed7953\"],[0.7777777777777778,\"#fb9f3a\"],[0.8888888888888888,\"#fdca26\"],[1.0,\"#f0f921\"]],\"diverging\":[[0,\"#8e0152\"],[0.1,\"#c51b7d\"],[0.2,\"#de77ae\"],[0.3,\"#f1b6da\"],[0.4,\"#fde0ef\"],[0.5,\"#f7f7f7\"],[0.6,\"#e6f5d0\"],[0.7,\"#b8e186\"],[0.8,\"#7fbc41\"],[0.9,\"#4d9221\"],[1,\"#276419\"]]},\"xaxis\":{\"gridcolor\":\"#283442\",\"linecolor\":\"#506784\",\"ticks\":\"\",\"title\":{\"standoff\":15},\"zerolinecolor\":\"#283442\",\"automargin\":true,\"zerolinewidth\":2},\"yaxis\":{\"gridcolor\":\"#283442\",\"linecolor\":\"#506784\",\"ticks\":\"\",\"title\":{\"standoff\":15},\"zerolinecolor\":\"#283442\",\"automargin\":true,\"zerolinewidth\":2},\"scene\":{\"xaxis\":{\"backgroundcolor\":\"rgb(17,17,17)\",\"gridcolor\":\"#506784\",\"linecolor\":\"#506784\",\"showbackground\":true,\"ticks\":\"\",\"zerolinecolor\":\"#C8D4E3\",\"gridwidth\":2},\"yaxis\":{\"backgroundcolor\":\"rgb(17,17,17)\",\"gridcolor\":\"#506784\",\"linecolor\":\"#506784\",\"showbackground\":true,\"ticks\":\"\",\"zerolinecolor\":\"#C8D4E3\",\"gridwidth\":2},\"zaxis\":{\"backgroundcolor\":\"rgb(17,17,17)\",\"gridcolor\":\"#506784\",\"linecolor\":\"#506784\",\"showbackground\":true,\"ticks\":\"\",\"zerolinecolor\":\"#C8D4E3\",\"gridwidth\":2}},\"shapedefaults\":{\"line\":{\"color\":\"#f2f5fa\"}},\"annotationdefaults\":{\"arrowcolor\":\"#f2f5fa\",\"arrowhead\":0,\"arrowwidth\":1},\"geo\":{\"bgcolor\":\"rgb(17,17,17)\",\"landcolor\":\"rgb(17,17,17)\",\"subunitcolor\":\"#506784\",\"showland\":true,\"showlakes\":true,\"lakecolor\":\"rgb(17,17,17)\"},\"title\":{\"x\":0.05},\"updatemenudefaults\":{\"bgcolor\":\"#506784\",\"borderwidth\":0},\"sliderdefaults\":{\"bgcolor\":\"#C8D4E3\",\"borderwidth\":1,\"bordercolor\":\"rgb(17,17,17)\",\"tickwidth\":0},\"mapbox\":{\"style\":\"dark\"}}},\"xaxis\":{\"anchor\":\"y\",\"domain\":[0.0,1.0],\"title\":{\"text\":\"user.name\"}},\"yaxis\":{\"anchor\":\"x\",\"domain\":[0.0,1.0],\"title\":{\"text\":\"user\"}},\"coloraxis\":{\"colorbar\":{\"title\":{\"text\":\"user\"}},\"colorscale\":[[0.0,\"#0d0887\"],[0.1111111111111111,\"#46039f\"],[0.2222222222222222,\"#7201a8\"],[0.3333333333333333,\"#9c179e\"],[0.4444444444444444,\"#bd3786\"],[0.5555555555555556,\"#d8576b\"],[0.6666666666666666,\"#ed7953\"],[0.7777777777777778,\"#fb9f3a\"],[0.8888888888888888,\"#fdca26\"],[1.0,\"#f0f921\"]]},\"legend\":{\"tracegroupgap\":0},\"margin\":{\"t\":60},\"barmode\":\"relative\",\"height\":500},                        {\"responsive\": true}                    ).then(function(){\n                            \nvar gd = document.getElementById('4b25dc5b-d216-4b66-810d-53d227052b01');\nvar x = new MutationObserver(function (mutations, observer) {{\n        var display = window.getComputedStyle(gd).display;\n        if (!display || display === 'none') {{\n            console.log([gd, 'removed!']);\n            Plotly.purge(gd);\n            observer.disconnect();\n        }}\n}});\n\n// Listen for the removal of the full notebook cells\nvar notebookContainer = gd.closest('#notebook-container');\nif (notebookContainer) {{\n    x.observe(notebookContainer, {childList: true});\n}}\n\n// Listen for the clearing of the current output cell\nvar outputEl = gd.closest('.output');\nif (outputEl) {{\n    x.observe(outputEl, {childList: true});\n}}\n\n                        })                };                });            </script>        </div>"
     },
     "metadata": {},
     "output_type": "display_data"
    }
   ],
   "source": [
    "fig = px.bar(df_ucraine_tweets_filtrado_tweets_usuario, x = 'user.name', y = 'user',color='user',height=500)\n",
    "fig.show()"
   ],
   "metadata": {
    "collapsed": false,
    "ExecuteTime": {
     "end_time": "2023-05-07T12:04:55.474906400Z",
     "start_time": "2023-05-07T12:04:55.452801Z"
    }
   }
  },
  {
   "cell_type": "markdown",
   "source": [],
   "metadata": {
    "collapsed": false
   }
  }
 ],
 "metadata": {
  "kernelspec": {
   "display_name": "Python 3",
   "language": "python",
   "name": "python3"
  },
  "language_info": {
   "codemirror_mode": {
    "name": "ipython",
    "version": 2
   },
   "file_extension": ".py",
   "mimetype": "text/x-python",
   "name": "python",
   "nbconvert_exporter": "python",
   "pygments_lexer": "ipython2",
   "version": "2.7.6"
  }
 },
 "nbformat": 4,
 "nbformat_minor": 0
}
