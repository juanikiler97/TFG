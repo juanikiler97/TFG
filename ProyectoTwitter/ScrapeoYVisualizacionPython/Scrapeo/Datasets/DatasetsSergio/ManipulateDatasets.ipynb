{
 "cells": [
  {
   "cell_type": "code",
   "execution_count": 5,
   "metadata": {
    "collapsed": true,
    "ExecuteTime": {
     "end_time": "2023-05-17T12:26:41.196042200Z",
     "start_time": "2023-05-17T12:26:41.179879800Z"
    }
   },
   "outputs": [],
   "source": [
    "import pandas as pd\n",
    "import plotly.express as px\n",
    "import json"
   ]
  },
  {
   "cell_type": "code",
   "execution_count": 2,
   "outputs": [
    {
     "name": "stderr",
     "output_type": "stream",
     "text": [
      "C:\\Users\\stone\\AppData\\Local\\Temp\\ipykernel_23128\\3209096697.py:9: DtypeWarning: Columns (11) have mixed types. Specify dtype option on import or set low_memory=False.\n",
      "  df_ucraine_trolls_9 = pd.read_csv('ukraine_tweets_World_35000_16_02_21_44.csv')\n",
      "C:\\Users\\stone\\AppData\\Local\\Temp\\ipykernel_23128\\3209096697.py:14: DtypeWarning: Columns (11) have mixed types. Specify dtype option on import or set low_memory=False.\n",
      "  df_ucraine_trolls_14 = pd.read_csv('ukraine_tweets_World_100000_17_02_11_10.csv')\n",
      "C:\\Users\\stone\\AppData\\Local\\Temp\\ipykernel_23128\\3209096697.py:15: DtypeWarning: Columns (11) have mixed types. Specify dtype option on import or set low_memory=False.\n",
      "  df_ucraine_trolls_15 = pd.read_csv('ukraine_tweets_World_100000_19_02_21_26.csv')\n",
      "C:\\Users\\stone\\AppData\\Local\\Temp\\ipykernel_23128\\3209096697.py:16: DtypeWarning: Columns (11) have mixed types. Specify dtype option on import or set low_memory=False.\n",
      "  df_ucraine_trolls_16 = pd.read_csv('Ukraine_tweets_World_100000_20_02_19_30.csv')\n",
      "C:\\Users\\stone\\AppData\\Local\\Temp\\ipykernel_23128\\3209096697.py:17: DtypeWarning: Columns (11) have mixed types. Specify dtype option on import or set low_memory=False.\n",
      "  df_ucraine_trolls_17 = pd.read_csv('ukraine_tweets_World_100000_22_02_10_52.csv')\n",
      "C:\\Users\\stone\\AppData\\Local\\Temp\\ipykernel_23128\\3209096697.py:18: DtypeWarning: Columns (11) have mixed types. Specify dtype option on import or set low_memory=False.\n",
      "  df_ucraine_trolls_18 = pd.read_csv('ukraine_tweets_World_100000_23_02_13_37.csv')\n",
      "C:\\Users\\stone\\AppData\\Local\\Temp\\ipykernel_23128\\3209096697.py:20: DtypeWarning: Columns (11) have mixed types. Specify dtype option on import or set low_memory=False.\n",
      "  df_ucraine_trolls_20 = pd.read_csv('ukraine_tweets_World_150000_16_02_13_01.csv')\n",
      "C:\\Users\\stone\\AppData\\Local\\Temp\\ipykernel_23128\\3209096697.py:23: DtypeWarning: Columns (11) have mixed types. Specify dtype option on import or set low_memory=False.\n",
      "  df_ucraine_trolls_23 = pd.read_csv('ukraine_tweets_World_200000_20_02_11_32.csv')\n",
      "C:\\Users\\stone\\AppData\\Local\\Temp\\ipykernel_23128\\3209096697.py:24: DtypeWarning: Columns (11) have mixed types. Specify dtype option on import or set low_memory=False.\n",
      "  df_ucraine_trolls_24 = pd.read_csv('ukraine_tweets_World_200000_21_02_10_32.csv')\n"
     ]
    }
   ],
   "source": [
    "df_ucraine_trolls = pd.read_csv('ukraine_tweets_Russia_3000_16_02_01_50.csv')\n",
    "df_ucraine_trolls_2 = pd.read_csv('ukraine_tweets_Russia_20000_16_02_23_30.csv')\n",
    "df_ucraine_trolls_3 = pd.read_csv('ukraine_tweets_USA_20000_17_02_00_48.csv')\n",
    "df_ucraine_trolls_4 = pd.read_csv('ukraine_tweets_World_2000_16_02_01_43.csv')\n",
    "df_ucraine_trolls_5 = pd.read_csv('Ukraine_tweets_World_10000_18_02_21_13.csv')\n",
    "df_ucraine_trolls_6 = pd.read_csv('Ukraine_tweets_World_13000_22_02_15_18.csv')\n",
    "df_ucraine_trolls_7 = pd.read_csv('ukraine_tweets_World_15000_19_02_13_04.csv')\n",
    "df_ucraine_trolls_8 = pd.read_csv('ukraine_tweets_World_20000_19_02_17_01.csv')\n",
    "df_ucraine_trolls_9 = pd.read_csv('ukraine_tweets_World_35000_16_02_21_44.csv')\n",
    "df_ucraine_trolls_10 = pd.read_csv('ukraine_tweets_World_40000_16_02_11_29.csv')\n",
    "df_ucraine_trolls_11 = pd.read_csv('ukraine_tweets_World_40000_24_02_10_58.csv')\n",
    "df_ucraine_trolls_12 = pd.read_csv('Ukraine_tweets_World_50000_16_02_19_47.csv')\n",
    "df_ucraine_trolls_13 = pd.read_csv('ukraine_tweets_World_80000_21_02_22_23.csv')\n",
    "df_ucraine_trolls_14 = pd.read_csv('ukraine_tweets_World_100000_17_02_11_10.csv')\n",
    "df_ucraine_trolls_15 = pd.read_csv('ukraine_tweets_World_100000_19_02_21_26.csv')\n",
    "df_ucraine_trolls_16 = pd.read_csv('Ukraine_tweets_World_100000_20_02_19_30.csv')\n",
    "df_ucraine_trolls_17 = pd.read_csv('ukraine_tweets_World_100000_22_02_10_52.csv')\n",
    "df_ucraine_trolls_18 = pd.read_csv('ukraine_tweets_World_100000_23_02_13_37.csv')\n",
    "df_ucraine_trolls_19 = pd.read_csv('ukraine_tweets_World_100000_23_02_19_36.csv')\n",
    "df_ucraine_trolls_20 = pd.read_csv('ukraine_tweets_World_150000_16_02_13_01.csv')\n",
    "df_ucraine_trolls_21 = pd.read_csv('ukraine_tweets_World_160000_18_02_14_33.csv')\n",
    "df_ucraine_trolls_22 = pd.read_csv('ukraine_tweets_World_200000_17_02_19_16.csv')\n",
    "df_ucraine_trolls_23 = pd.read_csv('ukraine_tweets_World_200000_20_02_11_32.csv')\n",
    "df_ucraine_trolls_24 = pd.read_csv('ukraine_tweets_World_200000_21_02_10_32.csv')"
   ],
   "metadata": {
    "collapsed": false,
    "ExecuteTime": {
     "end_time": "2023-05-17T12:23:57.912824700Z",
     "start_time": "2023-05-17T12:23:06.375103700Z"
    }
   }
  },
  {
   "cell_type": "code",
   "execution_count": 3,
   "outputs": [
    {
     "data": {
      "text/plain": "                         id   \n0       1626021138231861251  \\\n1       1626021137057566721   \n2       1626021136885772289   \n3       1626021135635697666   \n4       1626021134813495296   \n...                     ...   \n199995  1627861899843887105   \n199996  1627861899793813504   \n199997  1627861899789623300   \n199998  1627861899584106496   \n199999  1627861899227414528   \n\n                                                     text   \n0       RT @SecBlinken: Ukraine is defending its sover...  \\\n1       @WernerM78779922 Würde auch nicht gesendet wer...   \n2              RT @Michael31909473: I STAND WITH UKRAINE.   \n3       @TweetyLibs @ibagayev @realAaronHermes @elonmu...   \n4       RT @shashj: Some absolutely incredible takes f...   \n...                                                   ...   \n199995  RT @ChanelRion: Million pounds of vinyl chlori...   \n199996  RT @MayraFlores2022: On Presidents Day, Joe Bi...   \n199997  RT @mtgreenee: I’m fed up with our American go...   \n199998  RT @MarioNawfal: 🚨#BREAKING: Dutch Intelligenc...   \n199999  RT @JackPosobiec: Omg Biden had to call Putin ...   \n\n                 tweet_created_at lang   \n0       2023-02-16 00:50:24+00:00   en  \\\n1       2023-02-16 00:50:23+00:00   de   \n2       2023-02-16 00:50:23+00:00   en   \n3       2023-02-16 00:50:23+00:00   en   \n4       2023-02-16 00:50:23+00:00   en   \n...                           ...  ...   \n199995  2023-02-21 02:44:55+00:00   en   \n199996  2023-02-21 02:44:55+00:00   en   \n199997  2023-02-21 02:44:55+00:00   en   \n199998  2023-02-21 02:44:55+00:00   en   \n199999  2023-02-21 02:44:55+00:00   en   \n\n                                                 entities   \n0       {'hashtags': [], 'symbols': [], 'user_mentions...  \\\n1       {'hashtags': [], 'symbols': [], 'user_mentions...   \n2       {'hashtags': [], 'symbols': [], 'user_mentions...   \n3       {'hashtags': [], 'symbols': [], 'user_mentions...   \n4       {'hashtags': [], 'symbols': [], 'user_mentions...   \n...                                                   ...   \n199995  {'hashtags': [], 'symbols': [], 'user_mentions...   \n199996  {'hashtags': [], 'symbols': [], 'user_mentions...   \n199997  {'hashtags': [], 'symbols': [], 'user_mentions...   \n199998  {'hashtags': [{'text': 'BREAKING', 'indices': ...   \n199999  {'hashtags': [], 'symbols': [], 'user_mentions...   \n\n                     source  is_quote_status  truncated   \n0        Twitter for iPhone            False      False  \\\n1           Twitter Web App            False      False   \n2       Twitter for Android            False      False   \n3       Twitter for Android            False       True   \n4       Twitter for Android            False      False   \n...                     ...              ...        ...   \n199995   Twitter for iPhone            False      False   \n199996   Twitter for iPhone            False      False   \n199997   Twitter for iPhone            False      False   \n199998   Twitter for iPhone            False      False   \n199999  Twitter for Android            False      False   \n\n        in_reply_to_status_id  in_reply_to_user_id  ... user.followers_count   \n0                         NaN                  NaN  ...                 2644  \\\n1                1.625999e+18         1.355724e+18  ...                  111   \n2                         NaN                  NaN  ...                 3091   \n3                1.626009e+18         1.518803e+18  ...                    2   \n4                         NaN                  NaN  ...                  555   \n...                       ...                  ...  ...                  ...   \n199995                    NaN                  NaN  ...                   30   \n199996                    NaN                  NaN  ...                   69   \n199997                    NaN                  NaN  ...                  308   \n199998                    NaN                  NaN  ...                17407   \n199999                    NaN                  NaN  ...                  297   \n\n       user.friends_count            user.created_at  user.favourites_count   \n0                    3258  2012-10-04 01:24:23+00:00                 148642  \\\n1                      20  2021-08-17 15:52:23+00:00                  16947   \n2                    4991  2020-06-25 00:52:18+00:00                 138044   \n3                       6  2022-05-01 18:17:29+00:00                      8   \n4                    2687  2010-08-24 16:35:37+00:00                  29918   \n...                   ...                        ...                    ...   \n199995                341  2022-12-01 00:53:00+00:00                   6689   \n199996                480  2022-12-02 23:31:11+00:00                   3673   \n199997                708  2009-03-22 19:52:35+00:00                  16916   \n199998              18779  2010-10-26 02:24:12+00:00                 143970   \n199999                631  2016-11-13 23:44:17+00:00                 370473   \n\n        user.verified                                  profile_image_url   \n0               False  http://pbs.twimg.com/profile_images/1497680038...  \\\n1               False  http://pbs.twimg.com/profile_images/1431915385...   \n2               False  http://pbs.twimg.com/profile_images/1529517958...   \n3               False  http://pbs.twimg.com/profile_images/1520829778...   \n4               False  http://pbs.twimg.com/profile_images/1334878707...   \n...               ...                                                ...   \n199995          False  http://pbs.twimg.com/profile_images/1624796629...   \n199996          False  http://pbs.twimg.com/profile_images/1598822117...   \n199997          False  http://pbs.twimg.com/profile_images/1625531798...   \n199998          False  http://pbs.twimg.com/profile_images/1591128197...   \n199999          False  http://abs.twimg.com/sticky/default_profile_im...   \n\n                             user.profile_image_url_https   \n0       https://pbs.twimg.com/profile_images/149768003...  \\\n1       https://pbs.twimg.com/profile_images/143191538...   \n2       https://pbs.twimg.com/profile_images/152951795...   \n3       https://pbs.twimg.com/profile_images/152082977...   \n4       https://pbs.twimg.com/profile_images/133487870...   \n...                                                   ...   \n199995  https://pbs.twimg.com/profile_images/162479662...   \n199996  https://pbs.twimg.com/profile_images/159882211...   \n199997  https://pbs.twimg.com/profile_images/162553179...   \n199998  https://pbs.twimg.com/profile_images/159112819...   \n199999  https://abs.twimg.com/sticky/default_profile_i...   \n\n                                            user_all_data retweeted  favorited  \n0       {'id': 860645659, 'id_str': '860645659', 'name...       NaN        NaN  \n1       {'id': 1427659541374722059, 'id_str': '1427659...       NaN        NaN  \n2       {'id': 1275954873683472384, 'id_str': '1275954...       NaN        NaN  \n3       {'id': 1520829550208471042, 'id_str': '1520829...       NaN        NaN  \n4       {'id': 182448901, 'id_str': '182448901', 'name...       NaN        NaN  \n...                                                   ...       ...        ...  \n199995  {'id': 1598117772625575936, 'id_str': '1598117...     False      False  \n199996  {'id': 1598821940403503104, 'id_str': '1598821...     False      False  \n199997  {'id': 25868314, 'id_str': '25868314', 'name':...     False      False  \n199998  {'id': 207811112, 'id_str': '207811112', 'name...     False      False  \n199999  {'id': 797948229853806592, 'id_str': '79794822...     False      False  \n\n[1780086 rows x 29 columns]",
      "text/html": "<div>\n<style scoped>\n    .dataframe tbody tr th:only-of-type {\n        vertical-align: middle;\n    }\n\n    .dataframe tbody tr th {\n        vertical-align: top;\n    }\n\n    .dataframe thead th {\n        text-align: right;\n    }\n</style>\n<table border=\"1\" class=\"dataframe\">\n  <thead>\n    <tr style=\"text-align: right;\">\n      <th></th>\n      <th>id</th>\n      <th>text</th>\n      <th>tweet_created_at</th>\n      <th>lang</th>\n      <th>entities</th>\n      <th>source</th>\n      <th>is_quote_status</th>\n      <th>truncated</th>\n      <th>in_reply_to_status_id</th>\n      <th>in_reply_to_user_id</th>\n      <th>...</th>\n      <th>user.followers_count</th>\n      <th>user.friends_count</th>\n      <th>user.created_at</th>\n      <th>user.favourites_count</th>\n      <th>user.verified</th>\n      <th>profile_image_url</th>\n      <th>user.profile_image_url_https</th>\n      <th>user_all_data</th>\n      <th>retweeted</th>\n      <th>favorited</th>\n    </tr>\n  </thead>\n  <tbody>\n    <tr>\n      <th>0</th>\n      <td>1626021138231861251</td>\n      <td>RT @SecBlinken: Ukraine is defending its sover...</td>\n      <td>2023-02-16 00:50:24+00:00</td>\n      <td>en</td>\n      <td>{'hashtags': [], 'symbols': [], 'user_mentions...</td>\n      <td>Twitter for iPhone</td>\n      <td>False</td>\n      <td>False</td>\n      <td>NaN</td>\n      <td>NaN</td>\n      <td>...</td>\n      <td>2644</td>\n      <td>3258</td>\n      <td>2012-10-04 01:24:23+00:00</td>\n      <td>148642</td>\n      <td>False</td>\n      <td>http://pbs.twimg.com/profile_images/1497680038...</td>\n      <td>https://pbs.twimg.com/profile_images/149768003...</td>\n      <td>{'id': 860645659, 'id_str': '860645659', 'name...</td>\n      <td>NaN</td>\n      <td>NaN</td>\n    </tr>\n    <tr>\n      <th>1</th>\n      <td>1626021137057566721</td>\n      <td>@WernerM78779922 Würde auch nicht gesendet wer...</td>\n      <td>2023-02-16 00:50:23+00:00</td>\n      <td>de</td>\n      <td>{'hashtags': [], 'symbols': [], 'user_mentions...</td>\n      <td>Twitter Web App</td>\n      <td>False</td>\n      <td>False</td>\n      <td>1.625999e+18</td>\n      <td>1.355724e+18</td>\n      <td>...</td>\n      <td>111</td>\n      <td>20</td>\n      <td>2021-08-17 15:52:23+00:00</td>\n      <td>16947</td>\n      <td>False</td>\n      <td>http://pbs.twimg.com/profile_images/1431915385...</td>\n      <td>https://pbs.twimg.com/profile_images/143191538...</td>\n      <td>{'id': 1427659541374722059, 'id_str': '1427659...</td>\n      <td>NaN</td>\n      <td>NaN</td>\n    </tr>\n    <tr>\n      <th>2</th>\n      <td>1626021136885772289</td>\n      <td>RT @Michael31909473: I STAND WITH UKRAINE.</td>\n      <td>2023-02-16 00:50:23+00:00</td>\n      <td>en</td>\n      <td>{'hashtags': [], 'symbols': [], 'user_mentions...</td>\n      <td>Twitter for Android</td>\n      <td>False</td>\n      <td>False</td>\n      <td>NaN</td>\n      <td>NaN</td>\n      <td>...</td>\n      <td>3091</td>\n      <td>4991</td>\n      <td>2020-06-25 00:52:18+00:00</td>\n      <td>138044</td>\n      <td>False</td>\n      <td>http://pbs.twimg.com/profile_images/1529517958...</td>\n      <td>https://pbs.twimg.com/profile_images/152951795...</td>\n      <td>{'id': 1275954873683472384, 'id_str': '1275954...</td>\n      <td>NaN</td>\n      <td>NaN</td>\n    </tr>\n    <tr>\n      <th>3</th>\n      <td>1626021135635697666</td>\n      <td>@TweetyLibs @ibagayev @realAaronHermes @elonmu...</td>\n      <td>2023-02-16 00:50:23+00:00</td>\n      <td>en</td>\n      <td>{'hashtags': [], 'symbols': [], 'user_mentions...</td>\n      <td>Twitter for Android</td>\n      <td>False</td>\n      <td>True</td>\n      <td>1.626009e+18</td>\n      <td>1.518803e+18</td>\n      <td>...</td>\n      <td>2</td>\n      <td>6</td>\n      <td>2022-05-01 18:17:29+00:00</td>\n      <td>8</td>\n      <td>False</td>\n      <td>http://pbs.twimg.com/profile_images/1520829778...</td>\n      <td>https://pbs.twimg.com/profile_images/152082977...</td>\n      <td>{'id': 1520829550208471042, 'id_str': '1520829...</td>\n      <td>NaN</td>\n      <td>NaN</td>\n    </tr>\n    <tr>\n      <th>4</th>\n      <td>1626021134813495296</td>\n      <td>RT @shashj: Some absolutely incredible takes f...</td>\n      <td>2023-02-16 00:50:23+00:00</td>\n      <td>en</td>\n      <td>{'hashtags': [], 'symbols': [], 'user_mentions...</td>\n      <td>Twitter for Android</td>\n      <td>False</td>\n      <td>False</td>\n      <td>NaN</td>\n      <td>NaN</td>\n      <td>...</td>\n      <td>555</td>\n      <td>2687</td>\n      <td>2010-08-24 16:35:37+00:00</td>\n      <td>29918</td>\n      <td>False</td>\n      <td>http://pbs.twimg.com/profile_images/1334878707...</td>\n      <td>https://pbs.twimg.com/profile_images/133487870...</td>\n      <td>{'id': 182448901, 'id_str': '182448901', 'name...</td>\n      <td>NaN</td>\n      <td>NaN</td>\n    </tr>\n    <tr>\n      <th>...</th>\n      <td>...</td>\n      <td>...</td>\n      <td>...</td>\n      <td>...</td>\n      <td>...</td>\n      <td>...</td>\n      <td>...</td>\n      <td>...</td>\n      <td>...</td>\n      <td>...</td>\n      <td>...</td>\n      <td>...</td>\n      <td>...</td>\n      <td>...</td>\n      <td>...</td>\n      <td>...</td>\n      <td>...</td>\n      <td>...</td>\n      <td>...</td>\n      <td>...</td>\n      <td>...</td>\n    </tr>\n    <tr>\n      <th>199995</th>\n      <td>1627861899843887105</td>\n      <td>RT @ChanelRion: Million pounds of vinyl chlori...</td>\n      <td>2023-02-21 02:44:55+00:00</td>\n      <td>en</td>\n      <td>{'hashtags': [], 'symbols': [], 'user_mentions...</td>\n      <td>Twitter for iPhone</td>\n      <td>False</td>\n      <td>False</td>\n      <td>NaN</td>\n      <td>NaN</td>\n      <td>...</td>\n      <td>30</td>\n      <td>341</td>\n      <td>2022-12-01 00:53:00+00:00</td>\n      <td>6689</td>\n      <td>False</td>\n      <td>http://pbs.twimg.com/profile_images/1624796629...</td>\n      <td>https://pbs.twimg.com/profile_images/162479662...</td>\n      <td>{'id': 1598117772625575936, 'id_str': '1598117...</td>\n      <td>False</td>\n      <td>False</td>\n    </tr>\n    <tr>\n      <th>199996</th>\n      <td>1627861899793813504</td>\n      <td>RT @MayraFlores2022: On Presidents Day, Joe Bi...</td>\n      <td>2023-02-21 02:44:55+00:00</td>\n      <td>en</td>\n      <td>{'hashtags': [], 'symbols': [], 'user_mentions...</td>\n      <td>Twitter for iPhone</td>\n      <td>False</td>\n      <td>False</td>\n      <td>NaN</td>\n      <td>NaN</td>\n      <td>...</td>\n      <td>69</td>\n      <td>480</td>\n      <td>2022-12-02 23:31:11+00:00</td>\n      <td>3673</td>\n      <td>False</td>\n      <td>http://pbs.twimg.com/profile_images/1598822117...</td>\n      <td>https://pbs.twimg.com/profile_images/159882211...</td>\n      <td>{'id': 1598821940403503104, 'id_str': '1598821...</td>\n      <td>False</td>\n      <td>False</td>\n    </tr>\n    <tr>\n      <th>199997</th>\n      <td>1627861899789623300</td>\n      <td>RT @mtgreenee: I’m fed up with our American go...</td>\n      <td>2023-02-21 02:44:55+00:00</td>\n      <td>en</td>\n      <td>{'hashtags': [], 'symbols': [], 'user_mentions...</td>\n      <td>Twitter for iPhone</td>\n      <td>False</td>\n      <td>False</td>\n      <td>NaN</td>\n      <td>NaN</td>\n      <td>...</td>\n      <td>308</td>\n      <td>708</td>\n      <td>2009-03-22 19:52:35+00:00</td>\n      <td>16916</td>\n      <td>False</td>\n      <td>http://pbs.twimg.com/profile_images/1625531798...</td>\n      <td>https://pbs.twimg.com/profile_images/162553179...</td>\n      <td>{'id': 25868314, 'id_str': '25868314', 'name':...</td>\n      <td>False</td>\n      <td>False</td>\n    </tr>\n    <tr>\n      <th>199998</th>\n      <td>1627861899584106496</td>\n      <td>RT @MarioNawfal: 🚨#BREAKING: Dutch Intelligenc...</td>\n      <td>2023-02-21 02:44:55+00:00</td>\n      <td>en</td>\n      <td>{'hashtags': [{'text': 'BREAKING', 'indices': ...</td>\n      <td>Twitter for iPhone</td>\n      <td>False</td>\n      <td>False</td>\n      <td>NaN</td>\n      <td>NaN</td>\n      <td>...</td>\n      <td>17407</td>\n      <td>18779</td>\n      <td>2010-10-26 02:24:12+00:00</td>\n      <td>143970</td>\n      <td>False</td>\n      <td>http://pbs.twimg.com/profile_images/1591128197...</td>\n      <td>https://pbs.twimg.com/profile_images/159112819...</td>\n      <td>{'id': 207811112, 'id_str': '207811112', 'name...</td>\n      <td>False</td>\n      <td>False</td>\n    </tr>\n    <tr>\n      <th>199999</th>\n      <td>1627861899227414528</td>\n      <td>RT @JackPosobiec: Omg Biden had to call Putin ...</td>\n      <td>2023-02-21 02:44:55+00:00</td>\n      <td>en</td>\n      <td>{'hashtags': [], 'symbols': [], 'user_mentions...</td>\n      <td>Twitter for Android</td>\n      <td>False</td>\n      <td>False</td>\n      <td>NaN</td>\n      <td>NaN</td>\n      <td>...</td>\n      <td>297</td>\n      <td>631</td>\n      <td>2016-11-13 23:44:17+00:00</td>\n      <td>370473</td>\n      <td>False</td>\n      <td>http://abs.twimg.com/sticky/default_profile_im...</td>\n      <td>https://abs.twimg.com/sticky/default_profile_i...</td>\n      <td>{'id': 797948229853806592, 'id_str': '79794822...</td>\n      <td>False</td>\n      <td>False</td>\n    </tr>\n  </tbody>\n</table>\n<p>1780086 rows × 29 columns</p>\n</div>"
     },
     "execution_count": 3,
     "metadata": {},
     "output_type": "execute_result"
    }
   ],
   "source": [
    "data_frames = [df_ucraine_trolls, df_ucraine_trolls_2, df_ucraine_trolls_3, df_ucraine_trolls_4,\n",
    "               df_ucraine_trolls_5, df_ucraine_trolls_6, df_ucraine_trolls_7, df_ucraine_trolls_8,\n",
    "               df_ucraine_trolls_9, df_ucraine_trolls_10, df_ucraine_trolls_11, df_ucraine_trolls_12,\n",
    "               df_ucraine_trolls_13, df_ucraine_trolls_14, df_ucraine_trolls_15, df_ucraine_trolls_16,\n",
    "               df_ucraine_trolls_17, df_ucraine_trolls_18, df_ucraine_trolls_19, df_ucraine_trolls_20,\n",
    "               df_ucraine_trolls_21, df_ucraine_trolls_22, df_ucraine_trolls_23, df_ucraine_trolls_24]\n",
    "combined_df = pd.concat(data_frames)\n",
    "combined_df"
   ],
   "metadata": {
    "collapsed": false,
    "ExecuteTime": {
     "end_time": "2023-05-17T12:24:13.077206100Z",
     "start_time": "2023-05-17T12:24:11.937003Z"
    }
   }
  },
  {
   "cell_type": "code",
   "execution_count": 4,
   "outputs": [],
   "source": [
    "#combined_df.to_csv('DatasetCombinado.csv')"
   ],
   "metadata": {
    "collapsed": false,
    "ExecuteTime": {
     "end_time": "2023-05-17T12:25:43.908154200Z",
     "start_time": "2023-05-17T12:24:39.559415200Z"
    }
   }
  },
  {
   "cell_type": "code",
   "execution_count": 8,
   "outputs": [
    {
     "name": "stderr",
     "output_type": "stream",
     "text": [
      "C:\\Users\\stone\\AppData\\Local\\Temp\\ipykernel_23128\\3400113595.py:7: UserWarning: Converting to PeriodArray/Index representation will drop timezone information.\n",
      "  tweets_por_mes = combined_df.groupby(combined_df['tweet_created_at'].dt.to_period('D')).size().reset_index(name='tweets')\n"
     ]
    },
    {
     "data": {
      "text/plain": "  tweet_created_at  tweets\n0       2023-02-16  321859\n1       2023-02-17  207017\n2       2023-02-18  172427\n3       2023-02-19  144621\n4       2023-02-20  300000\n5       2023-02-21  280717\n6       2023-02-22  113445\n7       2023-02-23  200000\n8       2023-02-24   40000",
      "text/html": "<div>\n<style scoped>\n    .dataframe tbody tr th:only-of-type {\n        vertical-align: middle;\n    }\n\n    .dataframe tbody tr th {\n        vertical-align: top;\n    }\n\n    .dataframe thead th {\n        text-align: right;\n    }\n</style>\n<table border=\"1\" class=\"dataframe\">\n  <thead>\n    <tr style=\"text-align: right;\">\n      <th></th>\n      <th>tweet_created_at</th>\n      <th>tweets</th>\n    </tr>\n  </thead>\n  <tbody>\n    <tr>\n      <th>0</th>\n      <td>2023-02-16</td>\n      <td>321859</td>\n    </tr>\n    <tr>\n      <th>1</th>\n      <td>2023-02-17</td>\n      <td>207017</td>\n    </tr>\n    <tr>\n      <th>2</th>\n      <td>2023-02-18</td>\n      <td>172427</td>\n    </tr>\n    <tr>\n      <th>3</th>\n      <td>2023-02-19</td>\n      <td>144621</td>\n    </tr>\n    <tr>\n      <th>4</th>\n      <td>2023-02-20</td>\n      <td>300000</td>\n    </tr>\n    <tr>\n      <th>5</th>\n      <td>2023-02-21</td>\n      <td>280717</td>\n    </tr>\n    <tr>\n      <th>6</th>\n      <td>2023-02-22</td>\n      <td>113445</td>\n    </tr>\n    <tr>\n      <th>7</th>\n      <td>2023-02-23</td>\n      <td>200000</td>\n    </tr>\n    <tr>\n      <th>8</th>\n      <td>2023-02-24</td>\n      <td>40000</td>\n    </tr>\n  </tbody>\n</table>\n</div>"
     },
     "execution_count": 8,
     "metadata": {},
     "output_type": "execute_result"
    }
   ],
   "source": [
    "# Convertir la columna de fecha a tipo datetime si es necesario\n",
    "\n",
    "# Convertir la columna 'tweet_created_at' a tipo datetime si es necesario\n",
    "combined_df['tweet_created_at'] = pd.to_datetime(combined_df['tweet_created_at'])\n",
    "\n",
    "# Agrupar por año y día y contar el número de tweets por fecha\n",
    "tweets_por_mes = combined_df.groupby(combined_df['tweet_created_at'].dt.to_period('D')).size().reset_index(name='tweets')\n",
    "\n",
    "\n",
    "# Convertir los objetos Period a cadenas de texto\n",
    "tweets_por_mes['tweet_created_at'] = tweets_por_mes['tweet_created_at'].astype(str)\n",
    "\n",
    "tweets_por_mes"
   ],
   "metadata": {
    "collapsed": false,
    "ExecuteTime": {
     "end_time": "2023-05-17T12:28:02.492592600Z",
     "start_time": "2023-05-17T12:28:02.350257300Z"
    }
   }
  },
  {
   "cell_type": "code",
   "execution_count": 9,
   "outputs": [],
   "source": [
    "# Convertir a formato de diccionario\n",
    "data_dict = tweets_por_mes.to_dict(orient='records')\n",
    "\n",
    "# Guardar el diccionario en un archivo JSON\n",
    "with open('tweets_por_mes.json', 'w') as file:\n",
    "    json.dump(data_dict, file)"
   ],
   "metadata": {
    "collapsed": false,
    "ExecuteTime": {
     "end_time": "2023-05-17T12:28:04.727512300Z",
     "start_time": "2023-05-17T12:28:04.720205Z"
    }
   }
  }
 ],
 "metadata": {
  "kernelspec": {
   "display_name": "Python 3",
   "language": "python",
   "name": "python3"
  },
  "language_info": {
   "codemirror_mode": {
    "name": "ipython",
    "version": 2
   },
   "file_extension": ".py",
   "mimetype": "text/x-python",
   "name": "python",
   "nbconvert_exporter": "python",
   "pygments_lexer": "ipython2",
   "version": "2.7.6"
  }
 },
 "nbformat": 4,
 "nbformat_minor": 0
}
