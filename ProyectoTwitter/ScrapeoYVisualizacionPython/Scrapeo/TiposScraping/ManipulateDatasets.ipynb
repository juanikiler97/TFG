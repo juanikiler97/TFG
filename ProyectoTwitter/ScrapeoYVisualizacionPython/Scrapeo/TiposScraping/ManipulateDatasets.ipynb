{
 "cells": [
  {
   "cell_type": "code",
   "execution_count": 1,
   "metadata": {
    "collapsed": true,
    "ExecuteTime": {
     "end_time": "2023-05-28T11:40:34.644938100Z",
     "start_time": "2023-05-28T11:40:34.405868700Z"
    }
   },
   "outputs": [],
   "source": [
    "import pandas as pd"
   ]
  },
  {
   "cell_type": "code",
   "execution_count": 4,
   "outputs": [
    {
     "data": {
      "text/plain": "                      ID Fecha_de_creacion_usuario Fecha_creacion_del_tweet   \n0    1662785983257903105                  20/01/07                 23/05/28  \\\n1    1662785870666006539                  12/06/09                 23/05/28   \n2    1662785759672250369                  09/12/16                 23/05/28   \n3    1662785706463318016                  14/12/21                 23/05/28   \n4    1662785701786578946                  21/08/23                 23/05/28   \n..                   ...                       ...                      ...   \n395  1662773031121330177                  14/05/20                 23/05/28   \n396  1662772967363821568                  20/04/30                 23/05/28   \n397  1662772959793016832                  22/02/26                 23/05/28   \n398  1662772909465559040                  09/04/14                 23/05/28   \n399  1662772808378662913                  20/10/25                 23/05/28   \n\n      nombre_usuario                                              texto   \n0           aria87ka  RT @ElHuffPost: ÚLTIMA HORA: sube tres puntos ...  \\\n1         _infoLibre  🔴 Directo | La participación crece 2,6 puntos ...   \n2       juancmartinc  RT @kkrispin: Desde Venezuela nuestros mejores...   \n3     eduard_nicolau  RT @elmundotoday: ⚡️DIRECTO #28M #eleccionesEM...   \n4    ElPeriodico_Esp  #Elecciones2023 | La participación en la Comun...   \n..               ...                                                ...   \n395          JvAdela  RT @publico_es: ¿Tiene Almeida dos caras? Davi...   \n396        KedrAlmaz  RT @europapress: Pedro Sánchez ejerce su derec...   \n397     gregotrivino  RT @ElHuffPost: Sotomayor: \"La colleja que le ...   \n398              20m  ⭕️#Directo28M | La candidata del PSOE a la Alc...   \n399     Geli26474974  RT @_infoLibre: 🔴 Directo | Jacinto: \"Creemos ...   \n\n                 localizacion  numero_seguidores  numero_seguidos   \n0                         NaN               1851             1048  \\\n1                      Madrid                964           382218   \n2    ÜT: 10.479595,-66.892826                598              182   \n3                         NaN                486              230   \n4                      España                526            44210   \n..                        ...                ...              ...   \n395                       NaN                 70              371   \n396                       NaN                874              210   \n397                       NaN                438              121   \n398                     Spain              51708          1504670   \n399                   Turquia                519              365   \n\n     numero_retweets  numero_tweets  numero_favoritos   \n0                  7          90710            129549  \\\n1                  0         243574             18287   \n2                 99          41739              1335   \n3                281           4937              6781   \n4                  0          57385               294   \n..               ...            ...               ...   \n395              142         173501             37885   \n396               82          20301             55782   \n397               99          14802             48475   \n398                0         626585              7751   \n399                8         106296             90057   \n\n                      menciones       retweet  \n0                ['ElHuffPost']    ElHuffPost  \n1                            []           NaN  \n2    ['kkrispin', 'IdiazAyuso']      kkrispin  \n3              ['elmundotoday']  elmundotoday  \n4                            []           NaN  \n..                          ...           ...  \n395              ['publico_es']    publico_es  \n396             ['europapress']   europapress  \n397              ['ElHuffPost']    ElHuffPost  \n398                          []           NaN  \n399              ['_infoLibre']    _infoLibre  \n\n[400 rows x 13 columns]",
      "text/html": "<div>\n<style scoped>\n    .dataframe tbody tr th:only-of-type {\n        vertical-align: middle;\n    }\n\n    .dataframe tbody tr th {\n        vertical-align: top;\n    }\n\n    .dataframe thead th {\n        text-align: right;\n    }\n</style>\n<table border=\"1\" class=\"dataframe\">\n  <thead>\n    <tr style=\"text-align: right;\">\n      <th></th>\n      <th>ID</th>\n      <th>Fecha_de_creacion_usuario</th>\n      <th>Fecha_creacion_del_tweet</th>\n      <th>nombre_usuario</th>\n      <th>texto</th>\n      <th>localizacion</th>\n      <th>numero_seguidores</th>\n      <th>numero_seguidos</th>\n      <th>numero_retweets</th>\n      <th>numero_tweets</th>\n      <th>numero_favoritos</th>\n      <th>menciones</th>\n      <th>retweet</th>\n    </tr>\n  </thead>\n  <tbody>\n    <tr>\n      <th>0</th>\n      <td>1662785983257903105</td>\n      <td>20/01/07</td>\n      <td>23/05/28</td>\n      <td>aria87ka</td>\n      <td>RT @ElHuffPost: ÚLTIMA HORA: sube tres puntos ...</td>\n      <td>NaN</td>\n      <td>1851</td>\n      <td>1048</td>\n      <td>7</td>\n      <td>90710</td>\n      <td>129549</td>\n      <td>['ElHuffPost']</td>\n      <td>ElHuffPost</td>\n    </tr>\n    <tr>\n      <th>1</th>\n      <td>1662785870666006539</td>\n      <td>12/06/09</td>\n      <td>23/05/28</td>\n      <td>_infoLibre</td>\n      <td>🔴 Directo | La participación crece 2,6 puntos ...</td>\n      <td>Madrid</td>\n      <td>964</td>\n      <td>382218</td>\n      <td>0</td>\n      <td>243574</td>\n      <td>18287</td>\n      <td>[]</td>\n      <td>NaN</td>\n    </tr>\n    <tr>\n      <th>2</th>\n      <td>1662785759672250369</td>\n      <td>09/12/16</td>\n      <td>23/05/28</td>\n      <td>juancmartinc</td>\n      <td>RT @kkrispin: Desde Venezuela nuestros mejores...</td>\n      <td>ÜT: 10.479595,-66.892826</td>\n      <td>598</td>\n      <td>182</td>\n      <td>99</td>\n      <td>41739</td>\n      <td>1335</td>\n      <td>['kkrispin', 'IdiazAyuso']</td>\n      <td>kkrispin</td>\n    </tr>\n    <tr>\n      <th>3</th>\n      <td>1662785706463318016</td>\n      <td>14/12/21</td>\n      <td>23/05/28</td>\n      <td>eduard_nicolau</td>\n      <td>RT @elmundotoday: ⚡️DIRECTO #28M #eleccionesEM...</td>\n      <td>NaN</td>\n      <td>486</td>\n      <td>230</td>\n      <td>281</td>\n      <td>4937</td>\n      <td>6781</td>\n      <td>['elmundotoday']</td>\n      <td>elmundotoday</td>\n    </tr>\n    <tr>\n      <th>4</th>\n      <td>1662785701786578946</td>\n      <td>21/08/23</td>\n      <td>23/05/28</td>\n      <td>ElPeriodico_Esp</td>\n      <td>#Elecciones2023 | La participación en la Comun...</td>\n      <td>España</td>\n      <td>526</td>\n      <td>44210</td>\n      <td>0</td>\n      <td>57385</td>\n      <td>294</td>\n      <td>[]</td>\n      <td>NaN</td>\n    </tr>\n    <tr>\n      <th>...</th>\n      <td>...</td>\n      <td>...</td>\n      <td>...</td>\n      <td>...</td>\n      <td>...</td>\n      <td>...</td>\n      <td>...</td>\n      <td>...</td>\n      <td>...</td>\n      <td>...</td>\n      <td>...</td>\n      <td>...</td>\n      <td>...</td>\n    </tr>\n    <tr>\n      <th>395</th>\n      <td>1662773031121330177</td>\n      <td>14/05/20</td>\n      <td>23/05/28</td>\n      <td>JvAdela</td>\n      <td>RT @publico_es: ¿Tiene Almeida dos caras? Davi...</td>\n      <td>NaN</td>\n      <td>70</td>\n      <td>371</td>\n      <td>142</td>\n      <td>173501</td>\n      <td>37885</td>\n      <td>['publico_es']</td>\n      <td>publico_es</td>\n    </tr>\n    <tr>\n      <th>396</th>\n      <td>1662772967363821568</td>\n      <td>20/04/30</td>\n      <td>23/05/28</td>\n      <td>KedrAlmaz</td>\n      <td>RT @europapress: Pedro Sánchez ejerce su derec...</td>\n      <td>NaN</td>\n      <td>874</td>\n      <td>210</td>\n      <td>82</td>\n      <td>20301</td>\n      <td>55782</td>\n      <td>['europapress']</td>\n      <td>europapress</td>\n    </tr>\n    <tr>\n      <th>397</th>\n      <td>1662772959793016832</td>\n      <td>22/02/26</td>\n      <td>23/05/28</td>\n      <td>gregotrivino</td>\n      <td>RT @ElHuffPost: Sotomayor: \"La colleja que le ...</td>\n      <td>NaN</td>\n      <td>438</td>\n      <td>121</td>\n      <td>99</td>\n      <td>14802</td>\n      <td>48475</td>\n      <td>['ElHuffPost']</td>\n      <td>ElHuffPost</td>\n    </tr>\n    <tr>\n      <th>398</th>\n      <td>1662772909465559040</td>\n      <td>09/04/14</td>\n      <td>23/05/28</td>\n      <td>20m</td>\n      <td>⭕️#Directo28M | La candidata del PSOE a la Alc...</td>\n      <td>Spain</td>\n      <td>51708</td>\n      <td>1504670</td>\n      <td>0</td>\n      <td>626585</td>\n      <td>7751</td>\n      <td>[]</td>\n      <td>NaN</td>\n    </tr>\n    <tr>\n      <th>399</th>\n      <td>1662772808378662913</td>\n      <td>20/10/25</td>\n      <td>23/05/28</td>\n      <td>Geli26474974</td>\n      <td>RT @_infoLibre: 🔴 Directo | Jacinto: \"Creemos ...</td>\n      <td>Turquia</td>\n      <td>519</td>\n      <td>365</td>\n      <td>8</td>\n      <td>106296</td>\n      <td>90057</td>\n      <td>['_infoLibre']</td>\n      <td>_infoLibre</td>\n    </tr>\n  </tbody>\n</table>\n<p>400 rows × 13 columns</p>\n</div>"
     },
     "execution_count": 4,
     "metadata": {},
     "output_type": "execute_result"
    }
   ],
   "source": [
    "df_ucraine_trolls_1 = pd.read_csv('datos_tweets_brutoV6.csv')\n",
    "df_ucraine_trolls_1"
   ],
   "metadata": {
    "collapsed": false,
    "ExecuteTime": {
     "end_time": "2023-05-28T11:41:25.533033900Z",
     "start_time": "2023-05-28T11:41:25.521419900Z"
    }
   }
  },
  {
   "cell_type": "code",
   "execution_count": null,
   "outputs": [],
   "source": [],
   "metadata": {
    "collapsed": false
   }
  }
 ],
 "metadata": {
  "kernelspec": {
   "display_name": "Python 3",
   "language": "python",
   "name": "python3"
  },
  "language_info": {
   "codemirror_mode": {
    "name": "ipython",
    "version": 2
   },
   "file_extension": ".py",
   "mimetype": "text/x-python",
   "name": "python",
   "nbconvert_exporter": "python",
   "pygments_lexer": "ipython2",
   "version": "2.7.6"
  }
 },
 "nbformat": 4,
 "nbformat_minor": 0
}
